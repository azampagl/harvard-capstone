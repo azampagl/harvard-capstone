{
 "cells": [
  {
   "cell_type": "markdown",
   "metadata": {},
   "source": [
    "# Chart Color Exploration"
   ]
  },
  {
   "cell_type": "markdown",
   "metadata": {},
   "source": [
    "This notebook examines colors available in Seaborn/Matplotlib and generates a pastel set for presentation."
   ]
  },
  {
   "cell_type": "markdown",
   "metadata": {},
   "source": [
    "## Setup"
   ]
  },
  {
   "cell_type": "code",
   "execution_count": 6,
   "metadata": {
    "collapsed": true
   },
   "outputs": [],
   "source": [
    "# Libraries.\n",
    "import colorsys\n",
    "import matplotlib, matplotlib.pyplot as plt\n",
    "import seaborn as sns"
   ]
  },
  {
   "cell_type": "code",
   "execution_count": 4,
   "metadata": {
    "collapsed": true
   },
   "outputs": [],
   "source": [
    "# Other configuration.\n",
    "%matplotlib inline"
   ]
  },
  {
   "cell_type": "markdown",
   "metadata": {},
   "source": [
    "## Exploration"
   ]
  },
  {
   "cell_type": "code",
   "execution_count": 5,
   "metadata": {
    "collapsed": false
   },
   "outputs": [
    {
     "data": {
      "image/png": "[encoded data removed]",
      "text/plain": [
       "<matplotlib.figure.Figure at 0x10a3be1d0>"
      ]
     },
     "metadata": {},
     "output_type": "display_data"
    }
   ],
   "source": [
    "# Seaborn pastels.\n",
    "pastel_colors = sns.color_palette(\"pastel\", 6)\n",
    "\n",
    "# Plot defaults.\n",
    "sns.palplot(pastel_colors)"
   ]
  },
  {
   "cell_type": "code",
   "execution_count": 85,
   "metadata": {
    "collapsed": false
   },
   "outputs": [
    {
     "data": {
      "image/png": "[encoded data removed]",
      "text/plain": [
       "<matplotlib.figure.Figure at 0x10a4e5450>"
      ]
     },
     "metadata": {},
     "output_type": "display_data"
    }
   ],
   "source": [
    "# Get yellow.\n",
    "yellow = list(colorsys.rgb_to_hsv(*pastel_colors[-2]))\n",
    "\n",
    "# Transform to orange.\n",
    "orange = yellow\n",
    "orange[0] -= .1\n",
    "orange[1]  = .55\n",
    "orange = colorsys.hsv_to_rgb(*orange)\n",
    "sns.palplot([orange])"
   ]
  },
  {
   "cell_type": "code",
   "execution_count": 94,
   "metadata": {
    "collapsed": false
   },
   "outputs": [
    {
     "data": {
      "image/png": "[encoded data removed]",
      "text/plain": [
       "<matplotlib.figure.Figure at 0x10a4b0e50>"
      ]
     },
     "metadata": {},
     "output_type": "display_data"
    }
   ],
   "source": [
    "# Transform other colors.\n",
    "other_colors = [list(colorsys.rgb_to_hsv(*c)) for c in pastel_colors[:3]]\n",
    "\n",
    "# Fix green.\n",
    "other_colors[1][2] -= .05\n",
    "\n",
    "# Reconvert to RGB\n",
    "other_colors = [colorsys.hsv_to_rgb(c[0],.55,c[2]) for c in other_colors]\n",
    "\n",
    "# Add orange.\n",
    "colors = other_colors[:2]+[orange]+other_colors[-1:]\n",
    "\n",
    "sns.palplot(colors)"
   ]
  },
  {
   "cell_type": "code",
   "execution_count": 98,
   "metadata": {
    "collapsed": false
   },
   "outputs": [
    {
     "name": "stdout",
     "output_type": "stream",
     "text": [
      "{'blue': (0.44999999999999996, 0.7123853211009172, 1.0), 'orange': (1.0, 0.6640217391304348, 0.44999999999999996), 'green': (0.4010294117647058, 0.8911764705882352, 0.5056675479180436), 'red': (1.0, 0.4772277227722773, 0.44999999999999996)}\n"
     ]
    }
   ],
   "source": [
    "# Create a nice dictionary.\n",
    "color_names = ['blue','green','orange','red']\n",
    "color_pairs = dict([(cn,c) for cn,c in zip(color_names,colors)])\n",
    "print color_pairs"
   ]
  }
 ],
 "metadata": {
  "kernelspec": {
   "display_name": "Python 2",
   "language": "python",
   "name": "python2"
  },
  "language_info": {
   "codemirror_mode": {
    "name": "ipython",
    "version": 2
   },
   "file_extension": ".py",
   "mimetype": "text/x-python",
   "name": "python",
   "nbconvert_exporter": "python",
   "pygments_lexer": "ipython2",
   "version": "2.7.6"
  }
 },
 "nbformat": 4,
 "nbformat_minor": 0
}
