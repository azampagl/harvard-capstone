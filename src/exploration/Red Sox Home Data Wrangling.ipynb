{
 "cells": [
  {
   "cell_type": "markdown",
   "metadata": {},
   "source": [
    "##Red Sox Home Games\n",
    "I downloaded the CSV of Red Sox home games by year from the respective [mlb.com](http://boston.redsox.mlb.com/schedule/downloadable.jsp?c_id=bos) links. I processed the datasets from each year into one master csv that contains the date, start time,"
   ]
  },
  {
   "cell_type": "code",
   "execution_count": 32,
   "metadata": {
    "collapsed": true
   },
   "outputs": [],
   "source": [
    "# Libraries.\n",
    "import matplotlib, matplotlib.pyplot as plt\n",
    "import numpy as np\n",
    "import os\n",
    "import pandas as pd\n",
    "import seaborn as sns\n",
    "sns.set_style(\"whitegrid\")\n",
    "sns.set_context(\"paper\")\n",
    "\n",
    "\n",
    "import time\n",
    "import datetime\n",
    "\n",
    "# Setup.\n",
    "% matplotlib inline\n",
    "\n",
    "# Paths.\n",
    "path_data = '../../../data/gatecount_%d/'"
   ]
  },
  {
   "cell_type": "code",
   "execution_count": 6,
   "metadata": {
    "collapsed": false
   },
   "outputs": [
    {
     "data": {
      "text/html": [
       "<div style=\"max-height:1000px;max-width:1500px;overflow:auto;\">\n",
       "<table border=\"1\" class=\"dataframe\">\n",
       "  <thead>\n",
       "    <tr style=\"text-align: right;\">\n",
       "      <th></th>\n",
       "      <th>START_DATE</th>\n",
       "      <th>START_TIME</th>\n",
       "      <th>START_TIME_ET</th>\n",
       "      <th>SUBJECT</th>\n",
       "      <th>LOCATION</th>\n",
       "      <th>DESCRIPTION</th>\n",
       "      <th>END_DATE</th>\n",
       "      <th>END_DATE_ET</th>\n",
       "      <th>END_TIME</th>\n",
       "      <th>END_TIME_ET</th>\n",
       "      <th>REMINDER_OFF</th>\n",
       "      <th>REMINDER_ON</th>\n",
       "      <th>REMINDER_DATE</th>\n",
       "      <th>REMINDER_TIME</th>\n",
       "      <th>REMINDER_TIME_ET</th>\n",
       "      <th>SHOWTIMEAS_FREE</th>\n",
       "      <th>SHOWTIMEAS_BUSY</th>\n",
       "    </tr>\n",
       "  </thead>\n",
       "  <tbody>\n",
       "    <tr>\n",
       "      <th>0</th>\n",
       "      <td> 02/27/14</td>\n",
       "      <td> 01:05 PM</td>\n",
       "      <td> 01:05 PM</td>\n",
       "      <td> Huskies at Red Sox</td>\n",
       "      <td> JetBlue Park</td>\n",
       "      <td>                             Local Radio: WEEI 850</td>\n",
       "      <td> 02/27/14</td>\n",
       "      <td> 02/27/14</td>\n",
       "      <td> 04:05 PM</td>\n",
       "      <td> 04:05 PM</td>\n",
       "      <td> False</td>\n",
       "      <td> True</td>\n",
       "      <td> 02/27/14</td>\n",
       "      <td> 12:05 PM</td>\n",
       "      <td> 12:05 PM</td>\n",
       "      <td> FREE</td>\n",
       "      <td> BUSY</td>\n",
       "    </tr>\n",
       "    <tr>\n",
       "      <th>1</th>\n",
       "      <td> 02/27/14</td>\n",
       "      <td> 03:33 AM</td>\n",
       "      <td> 03:33 AM</td>\n",
       "      <td>  Eagles at Red Sox</td>\n",
       "      <td> JetBlue Park</td>\n",
       "      <td>                             Local Radio: WEEI 850</td>\n",
       "      <td> 02/27/14</td>\n",
       "      <td> 02/27/14</td>\n",
       "      <td> 06:33 AM</td>\n",
       "      <td> 06:33 AM</td>\n",
       "      <td> False</td>\n",
       "      <td> True</td>\n",
       "      <td> 02/27/14</td>\n",
       "      <td> 02:33 AM</td>\n",
       "      <td> 02:33 AM</td>\n",
       "      <td> FREE</td>\n",
       "      <td> BUSY</td>\n",
       "    </tr>\n",
       "    <tr>\n",
       "      <th>2</th>\n",
       "      <td> 02/28/14</td>\n",
       "      <td> 01:05 PM</td>\n",
       "      <td> 01:05 PM</td>\n",
       "      <td>   Twins at Red Sox</td>\n",
       "      <td> JetBlue Park</td>\n",
       "      <td>                                               NaN</td>\n",
       "      <td> 02/28/14</td>\n",
       "      <td> 02/28/14</td>\n",
       "      <td> 04:05 PM</td>\n",
       "      <td> 04:05 PM</td>\n",
       "      <td> False</td>\n",
       "      <td> True</td>\n",
       "      <td> 02/28/14</td>\n",
       "      <td> 12:05 PM</td>\n",
       "      <td> 12:05 PM</td>\n",
       "      <td> FREE</td>\n",
       "      <td> BUSY</td>\n",
       "    </tr>\n",
       "    <tr>\n",
       "      <th>3</th>\n",
       "      <td> 03/02/14</td>\n",
       "      <td> 01:05 PM</td>\n",
       "      <td> 01:05 PM</td>\n",
       "      <td> Orioles at Red Sox</td>\n",
       "      <td> JetBlue Park</td>\n",
       "      <td> Local TV: MLBN -- NESN ----- Local Radio: WEEI...</td>\n",
       "      <td> 03/02/14</td>\n",
       "      <td> 03/02/14</td>\n",
       "      <td> 04:05 PM</td>\n",
       "      <td> 04:05 PM</td>\n",
       "      <td> False</td>\n",
       "      <td> True</td>\n",
       "      <td> 03/02/14</td>\n",
       "      <td> 12:05 PM</td>\n",
       "      <td> 12:05 PM</td>\n",
       "      <td> FREE</td>\n",
       "      <td> BUSY</td>\n",
       "    </tr>\n",
       "    <tr>\n",
       "      <th>4</th>\n",
       "      <td> 03/04/14</td>\n",
       "      <td> 01:05 PM</td>\n",
       "      <td> 01:05 PM</td>\n",
       "      <td>    Rays at Red Sox</td>\n",
       "      <td> JetBlue Park</td>\n",
       "      <td>                                               NaN</td>\n",
       "      <td> 03/04/14</td>\n",
       "      <td> 03/04/14</td>\n",
       "      <td> 04:05 PM</td>\n",
       "      <td> 04:05 PM</td>\n",
       "      <td> False</td>\n",
       "      <td> True</td>\n",
       "      <td> 03/04/14</td>\n",
       "      <td> 12:05 PM</td>\n",
       "      <td> 12:05 PM</td>\n",
       "      <td> FREE</td>\n",
       "      <td> BUSY</td>\n",
       "    </tr>\n",
       "  </tbody>\n",
       "</table>\n",
       "</div>"
      ],
      "text/plain": [
       "  START_DATE START_TIME START_TIME_ET             SUBJECT      LOCATION  \\\n",
       "0   02/27/14   01:05 PM      01:05 PM  Huskies at Red Sox  JetBlue Park   \n",
       "1   02/27/14   03:33 AM      03:33 AM   Eagles at Red Sox  JetBlue Park   \n",
       "2   02/28/14   01:05 PM      01:05 PM    Twins at Red Sox  JetBlue Park   \n",
       "3   03/02/14   01:05 PM      01:05 PM  Orioles at Red Sox  JetBlue Park   \n",
       "4   03/04/14   01:05 PM      01:05 PM     Rays at Red Sox  JetBlue Park   \n",
       "\n",
       "                                         DESCRIPTION  END_DATE END_DATE_ET  \\\n",
       "0                              Local Radio: WEEI 850  02/27/14    02/27/14   \n",
       "1                              Local Radio: WEEI 850  02/27/14    02/27/14   \n",
       "2                                                NaN  02/28/14    02/28/14   \n",
       "3  Local TV: MLBN -- NESN ----- Local Radio: WEEI...  03/02/14    03/02/14   \n",
       "4                                                NaN  03/04/14    03/04/14   \n",
       "\n",
       "   END_TIME END_TIME_ET REMINDER_OFF REMINDER_ON REMINDER_DATE REMINDER_TIME  \\\n",
       "0  04:05 PM    04:05 PM        False        True      02/27/14      12:05 PM   \n",
       "1  06:33 AM    06:33 AM        False        True      02/27/14      02:33 AM   \n",
       "2  04:05 PM    04:05 PM        False        True      02/28/14      12:05 PM   \n",
       "3  04:05 PM    04:05 PM        False        True      03/02/14      12:05 PM   \n",
       "4  04:05 PM    04:05 PM        False        True      03/04/14      12:05 PM   \n",
       "\n",
       "  REMINDER_TIME_ET SHOWTIMEAS_FREE SHOWTIMEAS_BUSY  \n",
       "0         12:05 PM            FREE            BUSY  \n",
       "1         02:33 AM            FREE            BUSY  \n",
       "2         12:05 PM            FREE            BUSY  \n",
       "3         12:05 PM            FREE            BUSY  \n",
       "4         12:05 PM            FREE            BUSY  "
      ]
     },
     "execution_count": 6,
     "metadata": {},
     "output_type": "execute_result"
    }
   ],
   "source": [
    "sox_14=pd.read_csv('../../../events/sox_14.csv')\n",
    "sox_13=pd.read_csv('../../../events/sox_13.csv')\n",
    "sox_12=pd.read_csv('../../../events/sox_12.csv')\n",
    "sox_14.head()"
   ]
  },
  {
   "cell_type": "code",
   "execution_count": 12,
   "metadata": {
    "collapsed": false
   },
   "outputs": [],
   "source": [
    "sox_14['LOCATION'].unique()\n",
    "# DF includes preseason home games at JetBlue park in Florida and the All-star game\n",
    "\n",
    "sox_14=sox_14[sox_14['LOCATION']=='Fenway Park']\n",
    "sox_13=sox_13[sox_13['LOCATION']=='Fenway Park']\n",
    "sox_12=sox_12[sox_12['LOCATION']=='Fenway Park']\n",
    "\n",
    "sox_years=[sox_12,sox_13,sox_14]\n",
    "\n",
    "for year in sox_years:\n",
    "    year=year[['START_DATE','START_TIME','SUBJECT']]"
   ]
  },
  {
   "cell_type": "code",
   "execution_count": 18,
   "metadata": {
    "collapsed": false
   },
   "outputs": [
    {
     "name": "stdout",
     "output_type": "stream",
     "text": [
      "81\n",
      "89\n",
      "81\n"
     ]
    },
    {
     "data": {
      "text/plain": [
       "251"
      ]
     },
     "execution_count": 18,
     "metadata": {},
     "output_type": "execute_result"
    }
   ],
   "source": [
    "sox_12=sox_12[['START_DATE','START_TIME','SUBJECT']]\n",
    "sox_13=sox_13[['START_DATE','START_TIME','SUBJECT']]\n",
    "sox_14=sox_14[['START_DATE','START_TIME','SUBJECT']]\n",
    "\n",
    "sox_master=pd.concat([sox_12,sox_13,sox_14])\n",
    "\n",
    "print len(sox_12)\n",
    "print len(sox_13)\n",
    "print len(sox_14)\n",
    "len(sox_master)\n"
   ]
  },
  {
   "cell_type": "markdown",
   "metadata": {},
   "source": [
    "###Clean the  year"
   ]
  },
  {
   "cell_type": "code",
   "execution_count": 54,
   "metadata": {
    "collapsed": false,
    "scrolled": true
   },
   "outputs": [
    {
     "data": {
      "text/html": [
       "<div style=\"max-height:1000px;max-width:1500px;overflow:auto;\">\n",
       "<table border=\"1\" class=\"dataframe\">\n",
       "  <thead>\n",
       "    <tr style=\"text-align: right;\">\n",
       "      <th></th>\n",
       "      <th>START_DATE</th>\n",
       "      <th>START_TIME</th>\n",
       "      <th>SUBJECT</th>\n",
       "    </tr>\n",
       "  </thead>\n",
       "  <tbody>\n",
       "    <tr>\n",
       "      <th>18</th>\n",
       "      <td> 2012-04-13</td>\n",
       "      <td> 02:05 PM</td>\n",
       "      <td>    Rays at Red Sox</td>\n",
       "    </tr>\n",
       "    <tr>\n",
       "      <th>19</th>\n",
       "      <td> 2012-04-14</td>\n",
       "      <td> 04:05 PM</td>\n",
       "      <td>    Rays at Red Sox</td>\n",
       "    </tr>\n",
       "    <tr>\n",
       "      <th>20</th>\n",
       "      <td> 2012-04-15</td>\n",
       "      <td> 01:35 PM</td>\n",
       "      <td>    Rays at Red Sox</td>\n",
       "    </tr>\n",
       "    <tr>\n",
       "      <th>21</th>\n",
       "      <td> 2012-04-16</td>\n",
       "      <td> 11:05 AM</td>\n",
       "      <td>    Rays at Red Sox</td>\n",
       "    </tr>\n",
       "    <tr>\n",
       "      <th>22</th>\n",
       "      <td> 2012-04-17</td>\n",
       "      <td> 07:10 PM</td>\n",
       "      <td> Rangers at Red Sox</td>\n",
       "    </tr>\n",
       "  </tbody>\n",
       "</table>\n",
       "</div>"
      ],
      "text/plain": [
       "    START_DATE START_TIME             SUBJECT\n",
       "18  2012-04-13   02:05 PM     Rays at Red Sox\n",
       "19  2012-04-14   04:05 PM     Rays at Red Sox\n",
       "20  2012-04-15   01:35 PM     Rays at Red Sox\n",
       "21  2012-04-16   11:05 AM     Rays at Red Sox\n",
       "22  2012-04-17   07:10 PM  Rangers at Red Sox"
      ]
     },
     "execution_count": 54,
     "metadata": {},
     "output_type": "execute_result"
    }
   ],
   "source": [
    "# take date input string in form of d/m/yr put into yr-m-d\n",
    "def conv_year(date_string):\n",
    "    pieces=date_string.split('/')\n",
    "    pieces[2]=str(int(pieces[2])+2000)\n",
    "    return '-'.join([pieces[2],pieces[0],pieces[1]])\n",
    "\n",
    "sox_master['START_DATE']=map(conv_year,sox_master['START_DATE'].values)  \n",
    "\n",
    "sox_master.head()"
   ]
  },
  {
   "cell_type": "code",
   "execution_count": 58,
   "metadata": {
    "collapsed": false
   },
   "outputs": [
    {
     "data": {
      "text/html": [
       "<div style=\"max-height:1000px;max-width:1500px;overflow:auto;\">\n",
       "<table border=\"1\" class=\"dataframe\">\n",
       "  <thead>\n",
       "    <tr style=\"text-align: right;\">\n",
       "      <th></th>\n",
       "      <th>START_DATE</th>\n",
       "      <th>START_TIME</th>\n",
       "      <th>SUBJECT</th>\n",
       "    </tr>\n",
       "  </thead>\n",
       "  <tbody>\n",
       "    <tr>\n",
       "      <th>18</th>\n",
       "      <td>2012-04-13</td>\n",
       "      <td> 02:05 PM</td>\n",
       "      <td>    Rays at Red Sox</td>\n",
       "    </tr>\n",
       "    <tr>\n",
       "      <th>19</th>\n",
       "      <td>2012-04-14</td>\n",
       "      <td> 04:05 PM</td>\n",
       "      <td>    Rays at Red Sox</td>\n",
       "    </tr>\n",
       "    <tr>\n",
       "      <th>20</th>\n",
       "      <td>2012-04-15</td>\n",
       "      <td> 01:35 PM</td>\n",
       "      <td>    Rays at Red Sox</td>\n",
       "    </tr>\n",
       "    <tr>\n",
       "      <th>21</th>\n",
       "      <td>2012-04-16</td>\n",
       "      <td> 11:05 AM</td>\n",
       "      <td>    Rays at Red Sox</td>\n",
       "    </tr>\n",
       "    <tr>\n",
       "      <th>22</th>\n",
       "      <td>2012-04-17</td>\n",
       "      <td> 07:10 PM</td>\n",
       "      <td> Rangers at Red Sox</td>\n",
       "    </tr>\n",
       "  </tbody>\n",
       "</table>\n",
       "</div>"
      ],
      "text/plain": [
       "   START_DATE START_TIME             SUBJECT\n",
       "18 2012-04-13   02:05 PM     Rays at Red Sox\n",
       "19 2012-04-14   04:05 PM     Rays at Red Sox\n",
       "20 2012-04-15   01:35 PM     Rays at Red Sox\n",
       "21 2012-04-16   11:05 AM     Rays at Red Sox\n",
       "22 2012-04-17   07:10 PM  Rangers at Red Sox"
      ]
     },
     "execution_count": 58,
     "metadata": {},
     "output_type": "execute_result"
    }
   ],
   "source": [
    "sox_master['START_DATE']=pd.to_datetime(sox_master['START_DATE'])\n",
    "\n",
    "sox_master.head()"
   ]
  },
  {
   "cell_type": "markdown",
   "metadata": {},
   "source": [
    "##Game Times\n",
    "\n",
    "For now, deciding to keep the START_TIME in its current format. Will be used moreso to group days with games that started at the same time. In order to carry out analysis, may have to manually input time-window of interest surrounding the game based on which start time we're considering."
   ]
  },
  {
   "cell_type": "markdown",
   "metadata": {},
   "source": [
    "###Opponents\n",
    "\n",
    "Red Sox are playing in each game so I just want to keep the column with the opponent team names. It may be of interest to look at Yankees games in particular."
   ]
  },
  {
   "cell_type": "code",
   "execution_count": 70,
   "metadata": {
    "collapsed": false
   },
   "outputs": [
    {
     "data": {
      "text/plain": [
       "'Blue Jays'"
      ]
     },
     "execution_count": 70,
     "metadata": {},
     "output_type": "execute_result"
    }
   ],
   "source": [
    "' '.join(sox_master['SUBJECT'].values[40].split(' ')[:-3])"
   ]
  },
  {
   "cell_type": "code",
   "execution_count": 73,
   "metadata": {
    "collapsed": false
   },
   "outputs": [],
   "source": [
    "opponent=lambda x: ' '.join(x.split(' ')[:-3])\n",
    "\n",
    "sox_master['OPPONENT']=map(opponent,sox_master['SUBJECT'].values) \n",
    "\n",
    "sox_master=sox_master[['START_DATE','START_TIME','OPPONENT']]"
   ]
  },
  {
   "cell_type": "code",
   "execution_count": 75,
   "metadata": {
    "collapsed": false
   },
   "outputs": [],
   "source": [
    "sox_master.to_csv('../../../events/sox_master.csv')"
   ]
  }
 ],
 "metadata": {
  "kernelspec": {
   "display_name": "Python 2",
   "language": "python",
   "name": "python2"
  },
  "language_info": {
   "codemirror_mode": {
    "name": "ipython",
    "version": 2
   },
   "file_extension": ".py",
   "mimetype": "text/x-python",
   "name": "python",
   "nbconvert_exporter": "python",
   "pygments_lexer": "ipython2",
   "version": "2.7.7"
  }
 },
 "nbformat": 4,
 "nbformat_minor": 0
}
