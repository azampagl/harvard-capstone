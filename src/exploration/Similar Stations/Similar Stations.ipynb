{
 "cells": [
  {
   "cell_type": "markdown",
   "metadata": {},
   "source": [
    "#Similar Stations\n",
    "\n",
    "This notebook contains the similarity matrices for each line and for all stations created in the 'Comparing Stations' notebook in the src/exploration directory. I figured this could be a good central source to reference similar stations as opposed to scrolling through the whole notebook that created the visuals."
   ]
  },
  {
   "cell_type": "markdown",
   "metadata": {},
   "source": [
    "##Finding Similar Stations\n",
    "\n",
    "### Examples of Dissimilar Stations\n",
    "\n",
    "![red_dissim](dissim_stations.png)\n",
    "\n",
    "\n",
    "### Similarity Matrix for Red Line, no ordering \n",
    "![unordered_mat](red_line_unordered.png)\n",
    "\n",
    "### PCA for Red Line Stations\n",
    "![red_pca](red_pca.png)\n",
    "\n",
    "###Projections onto first two components\n",
    "![pca_proj](red_pca_project.png)\n",
    "\n",
    "###Clustering k=3\n",
    "![red_cluster](red_cluster.png)\n",
    "\n"
   ]
  },
  {
   "cell_type": "markdown",
   "metadata": {},
   "source": [
    "##Red Line"
   ]
  },
  {
   "cell_type": "markdown",
   "metadata": {},
   "source": [
    "![red lines](red.png)"
   ]
  },
  {
   "cell_type": "markdown",
   "metadata": {},
   "source": [
    "##Green Line\n",
    "\n",
    "![green](green.png)\n",
    "\n",
    "##Blue Line\n",
    "![blue](blue.png)\n",
    "\n",
    "##Orange Line\n",
    "![orange](orange.png)\n",
    "\n",
    "##All Stations\n",
    "![all](all_stations.png)"
   ]
  },
  {
   "cell_type": "markdown",
   "metadata": {},
   "source": [
    "##Groupings\n",
    "\n",
    "![groups](group_text.png)\n",
    "\n",
    "![group_box](group_boxplot.png)"
   ]
  },
  {
   "cell_type": "markdown",
   "metadata": {},
   "source": [
    "### Ratio of AM Rush Hour Volume to PM Rush Hour Volume\n",
    "\n",
    "AM Rush hour: 6:30 am - 9:30 am\n",
    "\n",
    "PM Rush hour: 4:30 pm - 7:30 pm\n",
    "\n",
    "![am_pm_line](am_pm_line.png)\n",
    "\n",
    "![am_pm_grouping](am_pm_grouping.png)\n",
    "\n",
    "The coloring of AM/PM ratios by the grouping derived above further supports the claim that stations who are similarly distanced from city hall are similar in terms of ridership patterns (regardless of the magnitude of entries). The groups are pretty cleanly separated by this ratio. Thinking back to PCA for the stations, 2 principal components was often enough to account for 90% of the variation in the dataset. I believe that at least one of the two principal components is a linear combination of some AM/PM rush hour entries."
   ]
  }
 ],
 "metadata": {
  "kernelspec": {
   "display_name": "Python 2",
   "language": "python",
   "name": "python2"
  },
  "language_info": {
   "codemirror_mode": {
    "name": "ipython",
    "version": 2
   },
   "file_extension": ".py",
   "mimetype": "text/x-python",
   "name": "python",
   "nbconvert_exporter": "python",
   "pygments_lexer": "ipython2",
   "version": "2.7.7"
  }
 },
 "nbformat": 4,
 "nbformat_minor": 0
}
