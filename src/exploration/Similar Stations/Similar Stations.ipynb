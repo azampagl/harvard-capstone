{
 "cells": [
  {
   "cell_type": "markdown",
   "metadata": {},
   "source": [
    "#Similar Stations\n",
    "\n",
    "This notebook contains the similarity matrices for each line and for all stations created in the 'Comparing Stations' notebook in the src/exploration directory. I figured this could be a good central source to reference similar stations as opposed to scrolling through the whole notebook that created the visuals."
   ]
  },
  {
   "cell_type": "markdown",
   "metadata": {},
   "source": [
    "##Red Line"
   ]
  },
  {
   "cell_type": "markdown",
   "metadata": {},
   "source": [
    "![red lines](red.png)"
   ]
  },
  {
   "cell_type": "markdown",
   "metadata": {},
   "source": [
    "##Green Line\n",
    "\n",
    "![green](green.png)\n",
    "\n",
    "##Blue Line\n",
    "![blue](blue.png)\n",
    "\n",
    "##Orange Line\n",
    "![orange](orange.png)\n",
    "\n",
    "##All Stations\n",
    "![all](all_stations.png)"
   ]
  },
  {
   "cell_type": "markdown",
   "metadata": {},
   "source": [
    "##Groupings\n",
    "\n",
    "![groups](group_text.png)\n",
    "\n",
    "![group_box](group_boxplot.png)"
   ]
  }
 ],
 "metadata": {
  "kernelspec": {
   "display_name": "Python 2",
   "language": "python",
   "name": "python2"
  },
  "language_info": {
   "codemirror_mode": {
    "name": "ipython",
    "version": 2
   },
   "file_extension": ".py",
   "mimetype": "text/x-python",
   "name": "python",
   "nbconvert_exporter": "python",
   "pygments_lexer": "ipython2",
   "version": "2.7.7"
  }
 },
 "nbformat": 4,
 "nbformat_minor": 0
}
