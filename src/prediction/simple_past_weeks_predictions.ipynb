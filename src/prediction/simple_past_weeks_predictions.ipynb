{
 "metadata": {
  "name": "",
  "signature": "sha256:b33c41f005896ef775a7f514ddddf8ab52bcd97fcab8eca1df7b05bc0bbae5a7"
 },
 "nbformat": 3,
 "nbformat_minor": 0,
 "worksheets": [
  {
   "cells": [
    {
     "cell_type": "heading",
     "level": 1,
     "metadata": {},
     "source": [
      "Simple Projection Model"
     ]
    },
    {
     "cell_type": "markdown",
     "metadata": {},
     "source": [
      "This document evalutes performance on using recent same-day-of-week figures for each station to predict future entries."
     ]
    },
    {
     "cell_type": "heading",
     "level": 2,
     "metadata": {},
     "source": [
      "Setup"
     ]
    },
    {
     "cell_type": "code",
     "collapsed": false,
     "input": [
      "### Libraries\n",
      "\n",
      "# Regular libraries.\n",
      "import matplotlib, matplotlib.pyplot as plt\n",
      "import numpy as np\n",
      "import pandas as pd\n",
      "import seaborn\n",
      "import sklearn, sklearn.metrics\n",
      "\n",
      "# Custom libraries.\n",
      "import date"
     ],
     "language": "python",
     "metadata": {},
     "outputs": []
    },
    {
     "cell_type": "code",
     "collapsed": false,
     "input": [
      "### Settings\n",
      "\n",
      "# Setting for previous weeks to bring forward.\n",
      "weeks_to_calculate = 20\n",
      "\n",
      "# Prefixes for useful columns.\n",
      "previous_weeks_entries_col_prefix = 'entries_past_weeks_'\n",
      "previous_weeks_prediction_col_prefix = 'entries_predicted_w_'\n",
      "\n",
      "# Matplotlib.\n",
      "% matplotlib inline"
     ],
     "language": "python",
     "metadata": {},
     "outputs": []
    },
    {
     "cell_type": "heading",
     "level": 2,
     "metadata": {},
     "source": [
      "Data"
     ]
    },
    {
     "cell_type": "markdown",
     "metadata": {},
     "source": [
      "Load data and restrict to the date, location, and entries."
     ]
    },
    {
     "cell_type": "code",
     "collapsed": false,
     "input": [
      "# Import gatecount data.\n",
      "def get_data():\n",
      "    return pd.DataFrame.from_csv(\"../../../data/gatecounts-weather.csv\").reset_index()\n",
      "gatecount = date.init(get_data())\n",
      "\n",
      "# Restrict to the columns we need for our simple prediction and sum entries.\n",
      "gatecount = gatecount[['locationid','entries','service_day']].groupby(['locationid','service_day']).agg(np.sum).reset_index()\n",
      "\n",
      "# Turn service day into a datetime.\n",
      "gatecount.service_day = pd.to_datetime(gatecount.service_day)"
     ],
     "language": "python",
     "metadata": {},
     "outputs": []
    },
    {
     "cell_type": "code",
     "collapsed": false,
     "input": [
      "gatecount.head()"
     ],
     "language": "python",
     "metadata": {},
     "outputs": []
    },
    {
     "cell_type": "heading",
     "level": 2,
     "metadata": {},
     "source": [
      "Pulled-Forward Entries"
     ]
    },
    {
     "cell_type": "code",
     "collapsed": false,
     "input": [
      "# For testing purposes.\n",
      "# gatecount = gatecount_pristine.copy()"
     ],
     "language": "python",
     "metadata": {},
     "outputs": []
    },
    {
     "cell_type": "code",
     "collapsed": false,
     "input": [
      "# Copy existing gatecount data for pull-forward calculations.\n",
      "gatecount_weeks_forward = gatecount[gatecount.columns[:3]].copy()\n",
      "old_week_col = 'entries'\n",
      "# Traverse above range.\n",
      "for weeks in xrange(1,weeks_to_calculate+1):\n",
      "    # Update day for latest weekly data.\n",
      "    gatecount_weeks_forward.service_day = gatecount_weeks_forward.service_day + np.timedelta64(7,'D')\n",
      "    # Rename entries column.\n",
      "    new_week_col = previous_weeks_entries_col_prefix+str(weeks)\n",
      "    gatecount_weeks_forward.rename(columns={old_week_col:new_week_col}, inplace=True)\n",
      "    # Merge to gatecount.\n",
      "    gatecount = gatecount.merge(gatecount_weeks_forward, how='left', on=['locationid','service_day'])\n",
      "    # Prepare for next run.\n",
      "    old_week_col = new_week_col"
     ],
     "language": "python",
     "metadata": {},
     "outputs": []
    },
    {
     "cell_type": "code",
     "collapsed": false,
     "input": [
      "# Convert sums to running averages. Store in a new DF; useful for evaluation.\n",
      "gatecount_predictions = gatecount.copy()\n",
      "# We need to start at the end in order to not inadvertently sum together averages from early steps.\n",
      "for weeks in reversed(range(weeks_to_calculate)):\n",
      "    # Get the minimum day that should have data for these weeks.\n",
      "    min_service_day = np.datetime64('2013-01-01')+np.timedelta64(7*(weeks+1),'D')\n",
      "    # Get means over period in question and replace the existing count.\n",
      "    gatecount_predictions.ix[gatecount_predictions.service_day>=min_service_day,3+weeks] = gatecount_predictions.ix[gatecount_predictions.service_day>=min_service_day,3:(3+weeks+1)].mean(axis=1)"
     ],
     "language": "python",
     "metadata": {},
     "outputs": []
    },
    {
     "cell_type": "code",
     "collapsed": false,
     "input": [
      "# Rename columns to show that we now have predictions.\n",
      "new_col_names = dict([(c,previous_weeks_prediction_col_prefix+str(i-2)) for i, c in enumerate(gatecount_predictions.columns) if c.startswith(previous_weeks_entries_col_prefix)])\n",
      "gatecount_predictions.rename(columns=new_col_names, inplace=True)"
     ],
     "language": "python",
     "metadata": {},
     "outputs": []
    },
    {
     "cell_type": "heading",
     "level": 2,
     "metadata": {},
     "source": [
      "Evaluate"
     ]
    },
    {
     "cell_type": "markdown",
     "metadata": {},
     "source": [
      "Now we have predictions. Let's evaluate them."
     ]
    },
    {
     "cell_type": "heading",
     "level": 3,
     "metadata": {},
     "source": [
      "Aggregate Evaluations"
     ]
    },
    {
     "cell_type": "heading",
     "level": 4,
     "metadata": {},
     "source": [
      "Simple Metrics"
     ]
    },
    {
     "cell_type": "code",
     "collapsed": false,
     "input": [
      "# Container for R^2 scores.\n",
      "agg_scores = pd.DataFrame(columns=['Weeks','R^2','MSE','MAE'])\n",
      "for w in xrange(1,weeks_to_calculate+1):\n",
      "    # Find indices that are not null.\n",
      "    non_null_indices = gatecount_predictions[previous_weeks_prediction_col_prefix+str(w)].notnull()\n",
      "    # Calculate R^2 Score.\n",
      "    agg_scores = agg_scores.append([{\n",
      "        'Weeks': w,\n",
      "        'R^2': sklearn.metrics.r2_score(\n",
      "            gatecount_predictions.ix[non_null_indices, 'entries'],\n",
      "            gatecount_predictions.ix[non_null_indices, previous_weeks_prediction_col_prefix+str(w)]\n",
      "        ),\n",
      "        'MSE': sklearn.metrics.mean_squared_error(\n",
      "            gatecount_predictions.ix[non_null_indices, 'entries'],\n",
      "            gatecount_predictions.ix[non_null_indices, previous_weeks_prediction_col_prefix+str(w)]\n",
      "        ),\n",
      "        'MAE': sklearn.metrics.mean_absolute_error(\n",
      "            gatecount_predictions.ix[non_null_indices, 'entries'],\n",
      "            gatecount_predictions.ix[non_null_indices, previous_weeks_prediction_col_prefix+str(w)]\n",
      "        )\n",
      "    }])"
     ],
     "language": "python",
     "metadata": {},
     "outputs": []
    },
    {
     "cell_type": "code",
     "collapsed": false,
     "input": [
      "# Plot history for various metrics.\n",
      "\n",
      "# R^2.\n",
      "plt.figure(figsize=(12,8))\n",
      "plt.plot(agg_scores['Weeks'], agg_scores['R^2'])\n",
      "plt.ylim((0,1)); plt.xlim((0,weeks_to_calculate+1))\n",
      "plt.xticks(range(1,weeks_to_calculate+1))\n",
      "plt.title('$R^2$ by Weeks in Prediction', fontsize='x-large')\n",
      "plt.xlabel('Weeks Used in Prediction', fontsize='x-large')\n",
      "plt.ylabel('$R^2$', fontsize='x-large')\n",
      "plt.show()\n",
      "\n",
      "# MSE.\n",
      "plt.figure(figsize=(12,8))\n",
      "plt.plot(agg_scores['Weeks'], agg_scores['MAE'])\n",
      "plt.ylim((0,1000)); plt.xlim((0,weeks_to_calculate+1))\n",
      "plt.xticks(range(1,weeks_to_calculate+1))\n",
      "plt.title('MAE by Weeks in Prediction', fontsize='x-large')\n",
      "plt.xlabel('Weeks Used in Prediction', fontsize='x-large')\n",
      "plt.ylabel('Mean Absolute Error', fontsize='x-large')\n",
      "plt.show()"
     ],
     "language": "python",
     "metadata": {},
     "outputs": [
      {
       "metadata": {},
       "output_type": "display_data",
       "png": "[encoded data removed]",
       "text": [
        "<matplotlib.figure.Figure at 0x116943990>"
       ]
      },
      {
       "metadata": {},
       "output_type": "display_data",
       "png": "[encoded data removed]",
       "text": [
        "<matplotlib.figure.Figure at 0x11695c610>"
       ]
      }
     ],
     "prompt_number": 373
    }
   ],
   "metadata": {}
  }
 ]
}