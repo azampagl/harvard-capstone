{
 "metadata": {
  "name": "",
  "signature": "sha256:0c6ab9bbc14c3a048a31c7fae6516d2b3ddfea2a0ad6c190973f2989e0ffff81"
 },
 "nbformat": 3,
 "nbformat_minor": 0,
 "worksheets": [
  {
   "cells": [
    {
     "cell_type": "heading",
     "level": 1,
     "metadata": {},
     "source": [
      "Basic Data Import for Prediction"
     ]
    },
    {
     "cell_type": "markdown",
     "metadata": {},
     "source": [
      "This script will generate a simple dataset of entries by T station. It's a good starting point for predictive analysis."
     ]
    },
    {
     "cell_type": "heading",
     "level": 2,
     "metadata": {},
     "source": [
      "Setup & Configuration"
     ]
    },
    {
     "cell_type": "code",
     "collapsed": false,
     "input": [
      "# Libraries.\n",
      "import matplotlib, matplotlib.pyplot as plt\n",
      "import numpy as np\n",
      "import pandas as pd\n",
      "import seaborn as sns\n",
      "import sklearn, sklearn.linear_model\n",
      "\n",
      "# Display settings.\n",
      "%matplotlib inline"
     ],
     "language": "python",
     "metadata": {},
     "outputs": []
    },
    {
     "cell_type": "code",
     "collapsed": false,
     "input": [
      "# Paths.\n",
      "\n",
      "path_gatecount = '../../../../data/gatecount_aggregate.csv'\n",
      "path_weather = '../../../../data/weather/weather_clean.csv'\n",
      "path_weather_normals = '../../../data/weather/boston_daily_normals.csv'\n",
      "path_locations = '../../../../data/Stations.csv'"
     ],
     "language": "python",
     "metadata": {},
     "outputs": []
    },
    {
     "cell_type": "heading",
     "level": 2,
     "metadata": {},
     "source": [
      "Data"
     ]
    },
    {
     "cell_type": "markdown",
     "metadata": {},
     "source": [
      "This section reads ridership and weather data. Ridership data is aggregated by service date. Models will therefore be accurate in that sense (vs. calendar date)."
     ]
    },
    {
     "cell_type": "code",
     "collapsed": false,
     "input": [
      "# Read entries.\n",
      "gatecount = pd.read_csv(path_gatecount)\n",
      "# Remove columns that we don't need.\n",
      "gatecount = gatecount[['locationid','entries','service_day']]\n",
      "# Ensure service day is a datetime.\n",
      "gatecount.service_day = pd.to_datetime(gatecount.service_day)"
     ],
     "language": "python",
     "metadata": {},
     "outputs": []
    },
    {
     "cell_type": "code",
     "collapsed": false,
     "input": [
      "gatecount.head()"
     ],
     "language": "python",
     "metadata": {},
     "outputs": []
    },
    {
     "cell_type": "code",
     "collapsed": false,
     "input": [
      "# Read weather.\n",
      "weather = pd.read_csv(path_weather)\n",
      "# Convert date column to datetime.\n",
      "weather.date = pd.to_datetime(weather.date)"
     ],
     "language": "python",
     "metadata": {},
     "outputs": []
    },
    {
     "cell_type": "code",
     "collapsed": false,
     "input": [
      "weather.head()"
     ],
     "language": "python",
     "metadata": {},
     "outputs": []
    },
    {
     "cell_type": "code",
     "collapsed": false,
     "input": [
      "# Read weather normals.\n",
      "weather_normals = pd.read_csv(path_weather_normals)\n",
      "weather_normals = weather_normals[['MoDy','MaxT','SnwG']]\n",
      "weather_normals.columns = ['month_day','temp_max_norm','snow_on_ground_norm']"
     ],
     "language": "python",
     "metadata": {},
     "outputs": []
    },
    {
     "cell_type": "code",
     "collapsed": false,
     "input": [
      "weather_normals.head()"
     ],
     "language": "python",
     "metadata": {},
     "outputs": []
    },
    {
     "cell_type": "code",
     "collapsed": false,
     "input": [
      "# Read stations.\n",
      "locations = pd.read_csv(path_locations)\n",
      "# Reduce to columns that we know we need.\n",
      "locations = locations[['stationid','name']]\n",
      "locations.columns = ['locationid','station_name']"
     ],
     "language": "python",
     "metadata": {},
     "outputs": []
    },
    {
     "cell_type": "code",
     "collapsed": false,
     "input": [
      "locations.head()"
     ],
     "language": "python",
     "metadata": {},
     "outputs": []
    },
    {
     "cell_type": "heading",
     "level": 2,
     "metadata": {},
     "source": [
      "Data Engineering"
     ]
    },
    {
     "cell_type": "heading",
     "level": 3,
     "metadata": {},
     "source": [
      "Merge Data"
     ]
    },
    {
     "cell_type": "code",
     "collapsed": false,
     "input": [
      "# Aggregate daily entries to the day level.\n",
      "daily_entries = gatecount.groupby(['service_day','locationid']).agg(np.sum).reset_index(drop=False)"
     ],
     "language": "python",
     "metadata": {},
     "outputs": []
    },
    {
     "cell_type": "code",
     "collapsed": false,
     "input": [
      "# Perform merge.\n",
      "daily_entries = daily_entries.merge(locations,on='locationid').merge(weather,left_on='service_day',right_on='date')"
     ],
     "language": "python",
     "metadata": {},
     "outputs": []
    },
    {
     "cell_type": "code",
     "collapsed": false,
     "input": [
      "# Must generate synthetic years for normals merge.\n",
      "weather_normals_by_year = None\n",
      "for y in xrange(2014,2015+1):\n",
      "    weather_normals_y = weather_normals.copy()\n",
      "    if y % 4 != 0:\n",
      "        weather_normals_y = weather_normals_y.loc[weather_normals_y.month_day != '2/29',:]\n",
      "    weather_normals_y.month_day = pd.to_datetime(pd.date_range('1/1/%d'%y, periods=(365 if y % 4 != 0 else 366), freq='D'))\n",
      "    if weather_normals_by_year is None:\n",
      "        weather_normals_by_year = weather_normals_y\n",
      "    else:\n",
      "        weather_normals_by_year = pd.concat([weather_normals_by_year, weather_normals_y])"
     ],
     "language": "python",
     "metadata": {},
     "outputs": []
    },
    {
     "cell_type": "code",
     "collapsed": false,
     "input": [
      "# Merge normals.\n",
      "daily_entries = daily_entries.merge(weather_normals_by_year,left_on='service_day',right_on='month_day')"
     ],
     "language": "python",
     "metadata": {},
     "outputs": []
    },
    {
     "cell_type": "code",
     "collapsed": false,
     "input": [
      "print daily_entries.columns\n",
      "daily_entries.head()"
     ],
     "language": "python",
     "metadata": {},
     "outputs": []
    },
    {
     "cell_type": "heading",
     "level": 3,
     "metadata": {},
     "source": [
      "Feature Engineering"
     ]
    },
    {
     "cell_type": "code",
     "collapsed": false,
     "input": [
      "# TODO"
     ],
     "language": "python",
     "metadata": {},
     "outputs": []
    }
   ],
   "metadata": {}
  }
 ]
}