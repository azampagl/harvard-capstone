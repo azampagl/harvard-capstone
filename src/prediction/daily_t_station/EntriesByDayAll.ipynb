{
 "cells": [
  {
   "cell_type": "markdown",
   "metadata": {},
   "source": [
    "# Predicting Entries by Day with Snow #\n",
    "\n",
    "In this notebook we demonstrate the ability to improve entry prediction on the MBTA by adding a \"snow\" feature to our model."
   ]
  },
  {
   "cell_type": "markdown",
   "metadata": {},
   "source": [
    "## Setup ##"
   ]
  },
  {
   "cell_type": "code",
   "execution_count": 1,
   "metadata": {
    "collapsed": false
   },
   "outputs": [],
   "source": [
    "import sys\n",
    "import numpy as np\n",
    "import pandas as pd\n",
    "import seaborn as sb\n",
    "import matplotlib, matplotlib.pyplot as plt\n",
    "\n",
    "from sklearn import cross_validation\n",
    "from sklearn import grid_search\n",
    "\n",
    "from sklearn import linear_model\n",
    "\n",
    "from sklearn.metrics import mean_squared_error\n",
    "\n",
    "% matplotlib inline"
   ]
  },
  {
   "cell_type": "markdown",
   "metadata": {},
   "source": [
    "## Import Data ##\n",
    "Import the MBTA daily csv file which contains the entries per day for each station. This data set has also removed typical holidays to the reduce the amount of known outliers."
   ]
  },
  {
   "cell_type": "code",
   "execution_count": 36,
   "metadata": {
    "collapsed": false
   },
   "outputs": [
    {
     "data": {
      "text/html": [
       "<div style=\"max-height:1000px;max-width:1500px;overflow:auto;\">\n",
       "<table border=\"1\" class=\"dataframe\">\n",
       "  <thead>\n",
       "    <tr style=\"text-align: right;\">\n",
       "      <th></th>\n",
       "      <th>locationid</th>\n",
       "      <th>service_day</th>\n",
       "      <th>entries</th>\n",
       "      <th>name</th>\n",
       "      <th>line_1</th>\n",
       "      <th>line_2</th>\n",
       "      <th>lat</th>\n",
       "      <th>lon</th>\n",
       "      <th>service_datetime</th>\n",
       "      <th>fog</th>\n",
       "      <th>...</th>\n",
       "      <th>rain_fall_predict</th>\n",
       "      <th>snow_predict</th>\n",
       "      <th>snow_fall_predict</th>\n",
       "      <th>snow_accum</th>\n",
       "      <th>snow_accum_predict</th>\n",
       "      <th>dist_to_center</th>\n",
       "      <th>date</th>\n",
       "      <th>bruins_game</th>\n",
       "      <th>celtics_game</th>\n",
       "      <th>sox_game</th>\n",
       "    </tr>\n",
       "  </thead>\n",
       "  <tbody>\n",
       "    <tr>\n",
       "      <th>0</th>\n",
       "      <td> 1002</td>\n",
       "      <td> 2013-01-02 00:00:00</td>\n",
       "      <td> 5134</td>\n",
       "      <td> Andrew Square</td>\n",
       "      <td> Red</td>\n",
       "      <td> NaN</td>\n",
       "      <td> 42.329550</td>\n",
       "      <td>-71.056960</td>\n",
       "      <td> 2013-01-02 04:45:00</td>\n",
       "      <td> 0</td>\n",
       "      <td>...</td>\n",
       "      <td> 0</td>\n",
       "      <td> 0</td>\n",
       "      <td> 0</td>\n",
       "      <td> 0</td>\n",
       "      <td> 0</td>\n",
       "      <td>  3.404767</td>\n",
       "      <td> 2013-01-02 00:00:00</td>\n",
       "      <td> 0</td>\n",
       "      <td> 1</td>\n",
       "      <td> 0</td>\n",
       "    </tr>\n",
       "    <tr>\n",
       "      <th>1</th>\n",
       "      <td> 1004</td>\n",
       "      <td> 2013-01-02 00:00:00</td>\n",
       "      <td> 4891</td>\n",
       "      <td>    JFK/U Mass</td>\n",
       "      <td> Red</td>\n",
       "      <td> NaN</td>\n",
       "      <td> 42.321438</td>\n",
       "      <td>-71.052393</td>\n",
       "      <td> 2013-01-02 04:45:00</td>\n",
       "      <td> 0</td>\n",
       "      <td>...</td>\n",
       "      <td> 0</td>\n",
       "      <td> 0</td>\n",
       "      <td> 0</td>\n",
       "      <td> 0</td>\n",
       "      <td> 0</td>\n",
       "      <td>  4.328881</td>\n",
       "      <td> 2013-01-02 00:00:00</td>\n",
       "      <td> 0</td>\n",
       "      <td> 1</td>\n",
       "      <td> 0</td>\n",
       "    </tr>\n",
       "    <tr>\n",
       "      <th>2</th>\n",
       "      <td> 1005</td>\n",
       "      <td> 2013-01-02 00:00:00</td>\n",
       "      <td> 5879</td>\n",
       "      <td>  North Quincy</td>\n",
       "      <td> Red</td>\n",
       "      <td> NaN</td>\n",
       "      <td> 42.274816</td>\n",
       "      <td>-71.029176</td>\n",
       "      <td> 2013-01-02 04:45:00</td>\n",
       "      <td> 0</td>\n",
       "      <td>...</td>\n",
       "      <td> 0</td>\n",
       "      <td> 0</td>\n",
       "      <td> 0</td>\n",
       "      <td> 0</td>\n",
       "      <td> 0</td>\n",
       "      <td>  9.777437</td>\n",
       "      <td> 2013-01-02 00:00:00</td>\n",
       "      <td> 0</td>\n",
       "      <td> 1</td>\n",
       "      <td> 0</td>\n",
       "    </tr>\n",
       "    <tr>\n",
       "      <th>3</th>\n",
       "      <td> 1006</td>\n",
       "      <td> 2013-01-02 00:00:00</td>\n",
       "      <td> 3901</td>\n",
       "      <td>     Wollaston</td>\n",
       "      <td> Red</td>\n",
       "      <td> NaN</td>\n",
       "      <td> 42.265615</td>\n",
       "      <td>-71.019402</td>\n",
       "      <td> 2013-01-02 03:45:00</td>\n",
       "      <td> 0</td>\n",
       "      <td>...</td>\n",
       "      <td> 0</td>\n",
       "      <td> 0</td>\n",
       "      <td> 0</td>\n",
       "      <td> 0</td>\n",
       "      <td> 0</td>\n",
       "      <td> 10.976943</td>\n",
       "      <td> 2013-01-02 00:00:00</td>\n",
       "      <td> 0</td>\n",
       "      <td> 1</td>\n",
       "      <td> 0</td>\n",
       "    </tr>\n",
       "    <tr>\n",
       "      <th>4</th>\n",
       "      <td> 1007</td>\n",
       "      <td> 2013-01-02 00:00:00</td>\n",
       "      <td> 7092</td>\n",
       "      <td> Quincy Center</td>\n",
       "      <td> Red</td>\n",
       "      <td> NaN</td>\n",
       "      <td> 42.250879</td>\n",
       "      <td>-71.004798</td>\n",
       "      <td> 2013-01-02 05:00:00</td>\n",
       "      <td> 0</td>\n",
       "      <td>...</td>\n",
       "      <td> 0</td>\n",
       "      <td> 0</td>\n",
       "      <td> 0</td>\n",
       "      <td> 0</td>\n",
       "      <td> 0</td>\n",
       "      <td> 12.909591</td>\n",
       "      <td> 2013-01-02 00:00:00</td>\n",
       "      <td> 0</td>\n",
       "      <td> 1</td>\n",
       "      <td> 0</td>\n",
       "    </tr>\n",
       "  </tbody>\n",
       "</table>\n",
       "<p>5 rows × 51 columns</p>\n",
       "</div>"
      ],
      "text/plain": [
       "   locationid          service_day  entries           name line_1 line_2  \\\n",
       "0        1002  2013-01-02 00:00:00     5134  Andrew Square    Red    NaN   \n",
       "1        1004  2013-01-02 00:00:00     4891     JFK/U Mass    Red    NaN   \n",
       "2        1005  2013-01-02 00:00:00     5879   North Quincy    Red    NaN   \n",
       "3        1006  2013-01-02 00:00:00     3901      Wollaston    Red    NaN   \n",
       "4        1007  2013-01-02 00:00:00     7092  Quincy Center    Red    NaN   \n",
       "\n",
       "         lat        lon     service_datetime  fog ...   rain_fall_predict  \\\n",
       "0  42.329550 -71.056960  2013-01-02 04:45:00    0 ...                   0   \n",
       "1  42.321438 -71.052393  2013-01-02 04:45:00    0 ...                   0   \n",
       "2  42.274816 -71.029176  2013-01-02 04:45:00    0 ...                   0   \n",
       "3  42.265615 -71.019402  2013-01-02 03:45:00    0 ...                   0   \n",
       "4  42.250879 -71.004798  2013-01-02 05:00:00    0 ...                   0   \n",
       "\n",
       "   snow_predict  snow_fall_predict  snow_accum  snow_accum_predict  \\\n",
       "0             0                  0           0                   0   \n",
       "1             0                  0           0                   0   \n",
       "2             0                  0           0                   0   \n",
       "3             0                  0           0                   0   \n",
       "4             0                  0           0                   0   \n",
       "\n",
       "   dist_to_center                 date  bruins_game  celtics_game  sox_game  \n",
       "0        3.404767  2013-01-02 00:00:00            0             1         0  \n",
       "1        4.328881  2013-01-02 00:00:00            0             1         0  \n",
       "2        9.777437  2013-01-02 00:00:00            0             1         0  \n",
       "3       10.976943  2013-01-02 00:00:00            0             1         0  \n",
       "4       12.909591  2013-01-02 00:00:00            0             1         0  \n",
       "\n",
       "[5 rows x 51 columns]"
      ]
     },
     "execution_count": 36,
     "metadata": {},
     "output_type": "execute_result"
    }
   ],
   "source": [
    "data = pd.read_csv(\"../../../../data/mbta_daily_noholidays_games.csv\", low_memory=False)\n",
    "data.head()"
   ]
  },
  {
   "cell_type": "markdown",
   "metadata": {},
   "source": [
    "## Filter Weekdays ##\n",
    "Filter the data so we are only predicting weekdays. Weekends have a pattern of their own, so we're going to ignore them for this module."
   ]
  },
  {
   "cell_type": "code",
   "execution_count": 37,
   "metadata": {
    "collapsed": false
   },
   "outputs": [
    {
     "data": {
      "text/html": [
       "<div style=\"max-height:1000px;max-width:1500px;overflow:auto;\">\n",
       "<table border=\"1\" class=\"dataframe\">\n",
       "  <thead>\n",
       "    <tr style=\"text-align: right;\">\n",
       "      <th></th>\n",
       "      <th>locationid</th>\n",
       "      <th>service_day</th>\n",
       "      <th>entries</th>\n",
       "      <th>name</th>\n",
       "      <th>line_1</th>\n",
       "      <th>line_2</th>\n",
       "      <th>lat</th>\n",
       "      <th>lon</th>\n",
       "      <th>service_datetime</th>\n",
       "      <th>fog</th>\n",
       "      <th>...</th>\n",
       "      <th>rain_fall_predict</th>\n",
       "      <th>snow_predict</th>\n",
       "      <th>snow_fall_predict</th>\n",
       "      <th>snow_accum</th>\n",
       "      <th>snow_accum_predict</th>\n",
       "      <th>dist_to_center</th>\n",
       "      <th>date</th>\n",
       "      <th>bruins_game</th>\n",
       "      <th>celtics_game</th>\n",
       "      <th>sox_game</th>\n",
       "    </tr>\n",
       "  </thead>\n",
       "  <tbody>\n",
       "    <tr>\n",
       "      <th>0</th>\n",
       "      <td> 1002</td>\n",
       "      <td> 2013-01-02 00:00:00</td>\n",
       "      <td> 5134</td>\n",
       "      <td> Andrew Square</td>\n",
       "      <td> Red</td>\n",
       "      <td> NaN</td>\n",
       "      <td> 42.329550</td>\n",
       "      <td>-71.056960</td>\n",
       "      <td> 2013-01-02 04:45:00</td>\n",
       "      <td> 0</td>\n",
       "      <td>...</td>\n",
       "      <td> 0</td>\n",
       "      <td> 0</td>\n",
       "      <td> 0</td>\n",
       "      <td> 0</td>\n",
       "      <td> 0</td>\n",
       "      <td>  3.404767</td>\n",
       "      <td> 2013-01-02 00:00:00</td>\n",
       "      <td> 0</td>\n",
       "      <td> 1</td>\n",
       "      <td> 0</td>\n",
       "    </tr>\n",
       "    <tr>\n",
       "      <th>1</th>\n",
       "      <td> 1004</td>\n",
       "      <td> 2013-01-02 00:00:00</td>\n",
       "      <td> 4891</td>\n",
       "      <td>    JFK/U Mass</td>\n",
       "      <td> Red</td>\n",
       "      <td> NaN</td>\n",
       "      <td> 42.321438</td>\n",
       "      <td>-71.052393</td>\n",
       "      <td> 2013-01-02 04:45:00</td>\n",
       "      <td> 0</td>\n",
       "      <td>...</td>\n",
       "      <td> 0</td>\n",
       "      <td> 0</td>\n",
       "      <td> 0</td>\n",
       "      <td> 0</td>\n",
       "      <td> 0</td>\n",
       "      <td>  4.328881</td>\n",
       "      <td> 2013-01-02 00:00:00</td>\n",
       "      <td> 0</td>\n",
       "      <td> 1</td>\n",
       "      <td> 0</td>\n",
       "    </tr>\n",
       "    <tr>\n",
       "      <th>2</th>\n",
       "      <td> 1005</td>\n",
       "      <td> 2013-01-02 00:00:00</td>\n",
       "      <td> 5879</td>\n",
       "      <td>  North Quincy</td>\n",
       "      <td> Red</td>\n",
       "      <td> NaN</td>\n",
       "      <td> 42.274816</td>\n",
       "      <td>-71.029176</td>\n",
       "      <td> 2013-01-02 04:45:00</td>\n",
       "      <td> 0</td>\n",
       "      <td>...</td>\n",
       "      <td> 0</td>\n",
       "      <td> 0</td>\n",
       "      <td> 0</td>\n",
       "      <td> 0</td>\n",
       "      <td> 0</td>\n",
       "      <td>  9.777437</td>\n",
       "      <td> 2013-01-02 00:00:00</td>\n",
       "      <td> 0</td>\n",
       "      <td> 1</td>\n",
       "      <td> 0</td>\n",
       "    </tr>\n",
       "    <tr>\n",
       "      <th>3</th>\n",
       "      <td> 1006</td>\n",
       "      <td> 2013-01-02 00:00:00</td>\n",
       "      <td> 3901</td>\n",
       "      <td>     Wollaston</td>\n",
       "      <td> Red</td>\n",
       "      <td> NaN</td>\n",
       "      <td> 42.265615</td>\n",
       "      <td>-71.019402</td>\n",
       "      <td> 2013-01-02 03:45:00</td>\n",
       "      <td> 0</td>\n",
       "      <td>...</td>\n",
       "      <td> 0</td>\n",
       "      <td> 0</td>\n",
       "      <td> 0</td>\n",
       "      <td> 0</td>\n",
       "      <td> 0</td>\n",
       "      <td> 10.976943</td>\n",
       "      <td> 2013-01-02 00:00:00</td>\n",
       "      <td> 0</td>\n",
       "      <td> 1</td>\n",
       "      <td> 0</td>\n",
       "    </tr>\n",
       "    <tr>\n",
       "      <th>4</th>\n",
       "      <td> 1007</td>\n",
       "      <td> 2013-01-02 00:00:00</td>\n",
       "      <td> 7092</td>\n",
       "      <td> Quincy Center</td>\n",
       "      <td> Red</td>\n",
       "      <td> NaN</td>\n",
       "      <td> 42.250879</td>\n",
       "      <td>-71.004798</td>\n",
       "      <td> 2013-01-02 05:00:00</td>\n",
       "      <td> 0</td>\n",
       "      <td>...</td>\n",
       "      <td> 0</td>\n",
       "      <td> 0</td>\n",
       "      <td> 0</td>\n",
       "      <td> 0</td>\n",
       "      <td> 0</td>\n",
       "      <td> 12.909591</td>\n",
       "      <td> 2013-01-02 00:00:00</td>\n",
       "      <td> 0</td>\n",
       "      <td> 1</td>\n",
       "      <td> 0</td>\n",
       "    </tr>\n",
       "  </tbody>\n",
       "</table>\n",
       "<p>5 rows × 51 columns</p>\n",
       "</div>"
      ],
      "text/plain": [
       "   locationid          service_day  entries           name line_1 line_2  \\\n",
       "0        1002  2013-01-02 00:00:00     5134  Andrew Square    Red    NaN   \n",
       "1        1004  2013-01-02 00:00:00     4891     JFK/U Mass    Red    NaN   \n",
       "2        1005  2013-01-02 00:00:00     5879   North Quincy    Red    NaN   \n",
       "3        1006  2013-01-02 00:00:00     3901      Wollaston    Red    NaN   \n",
       "4        1007  2013-01-02 00:00:00     7092  Quincy Center    Red    NaN   \n",
       "\n",
       "         lat        lon     service_datetime  fog ...   rain_fall_predict  \\\n",
       "0  42.329550 -71.056960  2013-01-02 04:45:00    0 ...                   0   \n",
       "1  42.321438 -71.052393  2013-01-02 04:45:00    0 ...                   0   \n",
       "2  42.274816 -71.029176  2013-01-02 04:45:00    0 ...                   0   \n",
       "3  42.265615 -71.019402  2013-01-02 03:45:00    0 ...                   0   \n",
       "4  42.250879 -71.004798  2013-01-02 05:00:00    0 ...                   0   \n",
       "\n",
       "   snow_predict  snow_fall_predict  snow_accum  snow_accum_predict  \\\n",
       "0             0                  0           0                   0   \n",
       "1             0                  0           0                   0   \n",
       "2             0                  0           0                   0   \n",
       "3             0                  0           0                   0   \n",
       "4             0                  0           0                   0   \n",
       "\n",
       "   dist_to_center                 date  bruins_game  celtics_game  sox_game  \n",
       "0        3.404767  2013-01-02 00:00:00            0             1         0  \n",
       "1        4.328881  2013-01-02 00:00:00            0             1         0  \n",
       "2        9.777437  2013-01-02 00:00:00            0             1         0  \n",
       "3       10.976943  2013-01-02 00:00:00            0             1         0  \n",
       "4       12.909591  2013-01-02 00:00:00            0             1         0  \n",
       "\n",
       "[5 rows x 51 columns]"
      ]
     },
     "execution_count": 37,
     "metadata": {},
     "output_type": "execute_result"
    }
   ],
   "source": [
    "data = data[(pd.DatetimeIndex(data['service_day']).weekday != 5) & (pd.DatetimeIndex(data['service_day']).weekday != 6)]\n",
    "data.head()"
   ]
  },
  {
   "cell_type": "markdown",
   "metadata": {},
   "source": [
    "## Prediction Methods ##\n",
    "Define some helper methods we will be using for the analysis."
   ]
  },
  {
   "cell_type": "code",
   "execution_count": 79,
   "metadata": {
    "collapsed": false
   },
   "outputs": [],
   "source": [
    "\"\"\"\n",
    "Generates a prediction model for a given station with desired features.\n",
    "\n",
    "This will return the best model based on 10 fold cross-validation with an 80/20 train/test split.\n",
    "\n",
    "In addition, this will return the mean absolute error for all the entries in the test set.\n",
    "\n",
    "Key arguments:\n",
    "\n",
    "  station    -- The station to train on.\n",
    "  cols       -- The columns in the station data frame that are considered features.\n",
    "  predictor  -- The predictor to use (sklearn predictor)\n",
    "  parameters -- The parameters for the preductor.\n",
    "  state      -- The random state to use for the train/test split.\n",
    "\n",
    "\"\"\"\n",
    "def predict(station, features, predictor, parameters, rstate):\n",
    "    # Copy the station so we don't manipulate the original.\n",
    "    station = station.copy()\n",
    "    \n",
    "    # Get the columns of the dataframe.\n",
    "    all_cols = list(station.columns)\n",
    "    \n",
    "    # Determine the indices of the columns.\n",
    "    y_col_indices = [0] + list(np.where([col == 'entries' for col in all_cols])[0] + 1)\n",
    "    x_col_indices = [0] + list(np.where([col in features for col in all_cols])[0] + 1)\n",
    "    \n",
    "    # Make sure none of the predictor fields are null.\n",
    "    for col in features:\n",
    "        station = station[pd.notnull(station[col])]\n",
    "    \n",
    "    # Remove any entries where no one was there (probably closed) or the entries appears to be\n",
    "    #  extremely low (less than 1% of the mean).\n",
    "    # We assume that any entries with less than 1% of the normal entries is having serious issues.\n",
    "    min_entries = np.mean(station['entries']) * .005\n",
    "    station = station[station['entries'] > min_entries]\n",
    "    \n",
    "    # Reset the station indices, we have to reset twice so the matrix values gets the index column.\n",
    "    station = station.reset_index()\n",
    "    station.drop('index', axis=1, inplace=True)\n",
    "    station = station.reset_index()\n",
    "    \n",
    "    # Get the dataframe as a matrix where the first column is the index.\n",
    "    matrix = station.values\n",
    "    \n",
    "    # Slice so the y only contains 2 column (index, entries)\n",
    "    #  and the x is a matrix that contains the index and all the predictors.\n",
    "    y = matrix[:,y_col_indices]\n",
    "    x = matrix[:,x_col_indices]\n",
    "    \n",
    "    # Split the data set into a train and test.\n",
    "    x_train, x_test, y_train, y_test = cross_validation.train_test_split(x, y, test_size=0.3, random_state=rstate)\n",
    "    \n",
    "    # Convert the train and test sets into a format sklean fit() expects.\n",
    "    x_train_fit = np.matrix(x_train[:,1:], dtype=np.float32)\n",
    "    y_train_fit = np.array([v[0] for v in y_train[:,1:]], dtype=np.uint16)\n",
    "    \n",
    "    x_test_fit = np.matrix(x_test[:,1:], dtype=np.float32)\n",
    "    y_test_fit = np.array([v[0] for v in y_test[:,1:]], dtype=np.uint16)\n",
    "    \n",
    "    # Train using a grid search based on the parameters provided.\n",
    "    clf = grid_search.GridSearchCV(predictor, parameters, scoring='mean_squared_error', cv=10)\n",
    "    clf.fit(x_train_fit, y_train_fit)\n",
    "    \n",
    "    # Determine what the best model was.\n",
    "    model = clf.best_estimator_\n",
    "    \n",
    "    # Predict using the test set.\n",
    "    y_pred_fit = model.predict(x_test_fit)\n",
    "    \n",
    "    # Determine the percent errors.\n",
    "    errors = np.abs(y_pred_fit - y_test_fit) / y_test_fit\n",
    "    \n",
    "    return model, np.mean(errors)"
   ]
  },
  {
   "cell_type": "code",
   "execution_count": 80,
   "metadata": {
    "collapsed": false
   },
   "outputs": [],
   "source": [
    "\"\"\"\n",
    "Tests a station multiple times by running the prediction method with a different\n",
    "random state.\n",
    "\n",
    "Key arguments:\n",
    "\n",
    "  station   -- The station to test for.\n",
    "  cols      -- The columns in station to use as features.\n",
    "  test_sets -- The number of times to run predict (also the number of randomly generated test sets).\n",
    "\"\"\"\n",
    "def test_features(station, cols, predictor, parameters, test_sets = 50):\n",
    "    errors = np.empty(test_sets)\n",
    "    \n",
    "    if (predictor == None):\n",
    "        print(\"Why am i here\")\n",
    "        predictor = linear_model.LinearRegression()\n",
    "        parameters = {}\n",
    "    \n",
    "    for rstate in xrange(test_sets):\n",
    "        model, error = predict(station, cols, predictor, parameters, rstate)\n",
    "        errors[rstate] = error\n",
    "    \n",
    "    return np.mean(errors)"
   ]
  },
  {
   "cell_type": "markdown",
   "metadata": {},
   "source": [
    "## Run Test ##\n",
    "We define a method that will test all the stations using two feature sets: one is considered the baseline (day of the week and entries from last week) while the other feature set is the baseline, plus the snow features. The hope is that with the addition of the snow features, we can reduce the average percent error of the test sets."
   ]
  },
  {
   "cell_type": "code",
   "execution_count": 81,
   "metadata": {
    "collapsed": false
   },
   "outputs": [],
   "source": [
    "\"\"\"\n",
    "Tests all stations with baseline features and baseline + snow features.\n",
    "\n",
    "Returns a DataFrame with the percent error of the baseline feature set and the mean percent error of the baseline\n",
    "feature set + snow features.\n",
    "\"\"\"\n",
    "def test_all_stations(base_features, extended_features, predictor = None, parameters = None):\n",
    "    results = pd.DataFrame()\n",
    "    \n",
    "    # Test the feature sets for every single station.\n",
    "    for locationid in np.unique(data['locationid']):\n",
    "        result = pd.Series()\n",
    "        result['locationid'] = int(locationid)\n",
    "        \n",
    "        # Get a particular station.\n",
    "        station = data[data['locationid'] == result['locationid']]\n",
    "        \n",
    "        # Get the station name.\n",
    "        result['name'] = station[\"name\"].iloc[0]\n",
    "        \n",
    "        result['base_error'] = test_features(station, base_features, predictor, parameters)\n",
    "        result['extended_error'] = test_features(station, extended_features, predictor, parameters)\n",
    "        \n",
    "        # Save the result where the first item in the tuple is the error for the base feature set and\n",
    "        #  the second part of the tuple is the error for the base feature set + the snow fall feature.\n",
    "        results = results.append(result, ignore_index=True)\n",
    "    \n",
    "    return results"
   ]
  },
  {
   "cell_type": "markdown",
   "metadata": {},
   "source": [
    "## Results ##\n",
    "Lets print out a few results for anlysis."
   ]
  },
  {
   "cell_type": "code",
   "execution_count": 41,
   "metadata": {
    "collapsed": false
   },
   "outputs": [
    {
     "name": "stdout",
     "output_type": "stream",
     "text": [
      "0.269181924004\n",
      "0.223902560054\n"
     ]
    },
    {
     "data": {
      "text/html": [
       "<div style=\"max-height:1000px;max-width:1500px;overflow:auto;\">\n",
       "<table border=\"1\" class=\"dataframe\">\n",
       "  <thead>\n",
       "    <tr style=\"text-align: right;\">\n",
       "      <th></th>\n",
       "      <th>base_error</th>\n",
       "      <th>extended_error</th>\n",
       "      <th>locationid</th>\n",
       "      <th>name</th>\n",
       "    </tr>\n",
       "  </thead>\n",
       "  <tbody>\n",
       "    <tr>\n",
       "      <th>0</th>\n",
       "      <td> 0.124358</td>\n",
       "      <td> 0.113608</td>\n",
       "      <td> 1002</td>\n",
       "      <td> Andrew Square</td>\n",
       "    </tr>\n",
       "    <tr>\n",
       "      <th>1</th>\n",
       "      <td> 0.588291</td>\n",
       "      <td> 0.430969</td>\n",
       "      <td> 1004</td>\n",
       "      <td>    JFK/U Mass</td>\n",
       "    </tr>\n",
       "    <tr>\n",
       "      <th>2</th>\n",
       "      <td> 0.179725</td>\n",
       "      <td> 0.163585</td>\n",
       "      <td> 1005</td>\n",
       "      <td>  North Quincy</td>\n",
       "    </tr>\n",
       "    <tr>\n",
       "      <th>3</th>\n",
       "      <td> 0.178812</td>\n",
       "      <td> 0.160401</td>\n",
       "      <td> 1006</td>\n",
       "      <td>     Wollaston</td>\n",
       "    </tr>\n",
       "    <tr>\n",
       "      <th>4</th>\n",
       "      <td> 0.510546</td>\n",
       "      <td> 0.393626</td>\n",
       "      <td> 1007</td>\n",
       "      <td> Quincy Center</td>\n",
       "    </tr>\n",
       "  </tbody>\n",
       "</table>\n",
       "</div>"
      ],
      "text/plain": [
       "   base_error  extended_error  locationid           name\n",
       "0    0.124358        0.113608        1002  Andrew Square\n",
       "1    0.588291        0.430969        1004     JFK/U Mass\n",
       "2    0.179725        0.163585        1005   North Quincy\n",
       "3    0.178812        0.160401        1006      Wollaston\n",
       "4    0.510546        0.393626        1007  Quincy Center"
      ]
     },
     "execution_count": 41,
     "metadata": {},
     "output_type": "execute_result"
    }
   ],
   "source": [
    "# Create the two feature sets to compare.\n",
    "base_features = ['entries_weeks_ago_1']\n",
    "extended_features = ['entries_weeks_ago_1', 'entries_weeks_ago_2']\n",
    "results = test_all_stations(base_features, extended_features)\n",
    "                     \n",
    "print(str(np.mean(results['base_error'])))\n",
    "print(str(np.mean(results['extended_error'])))\n",
    "                     \n",
    "results.head()"
   ]
  },
  {
   "cell_type": "code",
   "execution_count": 42,
   "metadata": {
    "collapsed": false
   },
   "outputs": [
    {
     "name": "stdout",
     "output_type": "stream",
     "text": [
      "0.269181924004\n",
      "0.236379483171\n"
     ]
    },
    {
     "data": {
      "text/html": [
       "<div style=\"max-height:1000px;max-width:1500px;overflow:auto;\">\n",
       "<table border=\"1\" class=\"dataframe\">\n",
       "  <thead>\n",
       "    <tr style=\"text-align: right;\">\n",
       "      <th></th>\n",
       "      <th>base_error</th>\n",
       "      <th>extended_error</th>\n",
       "      <th>locationid</th>\n",
       "      <th>name</th>\n",
       "    </tr>\n",
       "  </thead>\n",
       "  <tbody>\n",
       "    <tr>\n",
       "      <th>0</th>\n",
       "      <td> 0.124358</td>\n",
       "      <td> 0.116908</td>\n",
       "      <td> 1002</td>\n",
       "      <td> Andrew Square</td>\n",
       "    </tr>\n",
       "    <tr>\n",
       "      <th>1</th>\n",
       "      <td> 0.588291</td>\n",
       "      <td> 0.476624</td>\n",
       "      <td> 1004</td>\n",
       "      <td>    JFK/U Mass</td>\n",
       "    </tr>\n",
       "    <tr>\n",
       "      <th>2</th>\n",
       "      <td> 0.179725</td>\n",
       "      <td> 0.162958</td>\n",
       "      <td> 1005</td>\n",
       "      <td>  North Quincy</td>\n",
       "    </tr>\n",
       "    <tr>\n",
       "      <th>3</th>\n",
       "      <td> 0.178812</td>\n",
       "      <td> 0.167233</td>\n",
       "      <td> 1006</td>\n",
       "      <td>     Wollaston</td>\n",
       "    </tr>\n",
       "    <tr>\n",
       "      <th>4</th>\n",
       "      <td> 0.510546</td>\n",
       "      <td> 0.431541</td>\n",
       "      <td> 1007</td>\n",
       "      <td> Quincy Center</td>\n",
       "    </tr>\n",
       "  </tbody>\n",
       "</table>\n",
       "</div>"
      ],
      "text/plain": [
       "   base_error  extended_error  locationid           name\n",
       "0    0.124358        0.116908        1002  Andrew Square\n",
       "1    0.588291        0.476624        1004     JFK/U Mass\n",
       "2    0.179725        0.162958        1005   North Quincy\n",
       "3    0.178812        0.167233        1006      Wollaston\n",
       "4    0.510546        0.431541        1007  Quincy Center"
      ]
     },
     "execution_count": 42,
     "metadata": {},
     "output_type": "execute_result"
    }
   ],
   "source": [
    "# Create the two feature sets to compare.\n",
    "base_features = ['entries_weeks_ago_1']\n",
    "extended_features = ['entries_weeks_ago_1', 'entries_weeks_ago_2', 'entries_weeks_ago_3']\n",
    "results = test_all_stations(base_features, extended_features)\n",
    "                     \n",
    "print(str(np.mean(results['base_error'])))\n",
    "print(str(np.mean(results['extended_error'])))\n",
    "                     \n",
    "results.head()"
   ]
  },
  {
   "cell_type": "code",
   "execution_count": 43,
   "metadata": {
    "collapsed": false
   },
   "outputs": [
    {
     "name": "stdout",
     "output_type": "stream",
     "text": [
      "0.269181924004\n",
      "0.264698748367\n"
     ]
    },
    {
     "data": {
      "text/html": [
       "<div style=\"max-height:1000px;max-width:1500px;overflow:auto;\">\n",
       "<table border=\"1\" class=\"dataframe\">\n",
       "  <thead>\n",
       "    <tr style=\"text-align: right;\">\n",
       "      <th></th>\n",
       "      <th>base_error</th>\n",
       "      <th>extended_error</th>\n",
       "      <th>locationid</th>\n",
       "      <th>name</th>\n",
       "    </tr>\n",
       "  </thead>\n",
       "  <tbody>\n",
       "    <tr>\n",
       "      <th>0</th>\n",
       "      <td> 0.124358</td>\n",
       "      <td> 0.120067</td>\n",
       "      <td> 1002</td>\n",
       "      <td> Andrew Square</td>\n",
       "    </tr>\n",
       "    <tr>\n",
       "      <th>1</th>\n",
       "      <td> 0.588291</td>\n",
       "      <td> 0.609283</td>\n",
       "      <td> 1004</td>\n",
       "      <td>    JFK/U Mass</td>\n",
       "    </tr>\n",
       "    <tr>\n",
       "      <th>2</th>\n",
       "      <td> 0.179725</td>\n",
       "      <td> 0.177594</td>\n",
       "      <td> 1005</td>\n",
       "      <td>  North Quincy</td>\n",
       "    </tr>\n",
       "    <tr>\n",
       "      <th>3</th>\n",
       "      <td> 0.178812</td>\n",
       "      <td> 0.175455</td>\n",
       "      <td> 1006</td>\n",
       "      <td>     Wollaston</td>\n",
       "    </tr>\n",
       "    <tr>\n",
       "      <th>4</th>\n",
       "      <td> 0.510546</td>\n",
       "      <td> 0.491074</td>\n",
       "      <td> 1007</td>\n",
       "      <td> Quincy Center</td>\n",
       "    </tr>\n",
       "  </tbody>\n",
       "</table>\n",
       "</div>"
      ],
      "text/plain": [
       "   base_error  extended_error  locationid           name\n",
       "0    0.124358        0.120067        1002  Andrew Square\n",
       "1    0.588291        0.609283        1004     JFK/U Mass\n",
       "2    0.179725        0.177594        1005   North Quincy\n",
       "3    0.178812        0.175455        1006      Wollaston\n",
       "4    0.510546        0.491074        1007  Quincy Center"
      ]
     },
     "execution_count": 43,
     "metadata": {},
     "output_type": "execute_result"
    }
   ],
   "source": [
    "# Create the two feature sets to compare.\n",
    "base_features = ['entries_weeks_ago_1']\n",
    "extended_features = ['entries_weeks_ago_1', 'month_1', 'month_2', 'month_3', 'month_4', 'month_5', 'month_6', 'month_7', 'month_8', 'month_9', 'month_10', 'month_11', 'month_12']\n",
    "results = test_all_stations(base_features, extended_features)\n",
    "                     \n",
    "print(str(np.mean(results['base_error'])))\n",
    "print(str(np.mean(results['extended_error'])))\n",
    "                     \n",
    "results.head()"
   ]
  },
  {
   "cell_type": "code",
   "execution_count": 44,
   "metadata": {
    "collapsed": false
   },
   "outputs": [
    {
     "name": "stdout",
     "output_type": "stream",
     "text": [
      "0.269181924004\n",
      "0.268650658513\n"
     ]
    },
    {
     "data": {
      "text/html": [
       "<div style=\"max-height:1000px;max-width:1500px;overflow:auto;\">\n",
       "<table border=\"1\" class=\"dataframe\">\n",
       "  <thead>\n",
       "    <tr style=\"text-align: right;\">\n",
       "      <th></th>\n",
       "      <th>base_error</th>\n",
       "      <th>extended_error</th>\n",
       "      <th>locationid</th>\n",
       "      <th>name</th>\n",
       "    </tr>\n",
       "  </thead>\n",
       "  <tbody>\n",
       "    <tr>\n",
       "      <th>0</th>\n",
       "      <td> 0.124358</td>\n",
       "      <td> 0.124341</td>\n",
       "      <td> 1002</td>\n",
       "      <td> Andrew Square</td>\n",
       "    </tr>\n",
       "    <tr>\n",
       "      <th>1</th>\n",
       "      <td> 0.588291</td>\n",
       "      <td> 0.596270</td>\n",
       "      <td> 1004</td>\n",
       "      <td>    JFK/U Mass</td>\n",
       "    </tr>\n",
       "    <tr>\n",
       "      <th>2</th>\n",
       "      <td> 0.179725</td>\n",
       "      <td> 0.175695</td>\n",
       "      <td> 1005</td>\n",
       "      <td>  North Quincy</td>\n",
       "    </tr>\n",
       "    <tr>\n",
       "      <th>3</th>\n",
       "      <td> 0.178812</td>\n",
       "      <td> 0.178238</td>\n",
       "      <td> 1006</td>\n",
       "      <td>     Wollaston</td>\n",
       "    </tr>\n",
       "    <tr>\n",
       "      <th>4</th>\n",
       "      <td> 0.510546</td>\n",
       "      <td> 0.519649</td>\n",
       "      <td> 1007</td>\n",
       "      <td> Quincy Center</td>\n",
       "    </tr>\n",
       "  </tbody>\n",
       "</table>\n",
       "</div>"
      ],
      "text/plain": [
       "   base_error  extended_error  locationid           name\n",
       "0    0.124358        0.124341        1002  Andrew Square\n",
       "1    0.588291        0.596270        1004     JFK/U Mass\n",
       "2    0.179725        0.175695        1005   North Quincy\n",
       "3    0.178812        0.178238        1006      Wollaston\n",
       "4    0.510546        0.519649        1007  Quincy Center"
      ]
     },
     "execution_count": 44,
     "metadata": {},
     "output_type": "execute_result"
    }
   ],
   "source": [
    "# Create the two feature sets to compare.\n",
    "base_features = ['entries_weeks_ago_1']\n",
    "extended_features = ['entries_weeks_ago_1', 'day_of_week_0', 'day_of_week_1', 'day_of_week_2', 'day_of_week_3', 'day_of_week_4']\n",
    "results = test_all_stations(base_features, extended_features)\n",
    "                     \n",
    "print(str(np.mean(results['base_error'])))\n",
    "print(str(np.mean(results['extended_error'])))\n",
    "                     \n",
    "results.head()"
   ]
  },
  {
   "cell_type": "code",
   "execution_count": 45,
   "metadata": {
    "collapsed": false
   },
   "outputs": [
    {
     "name": "stdout",
     "output_type": "stream",
     "text": [
      "0.269181924004\n",
      "0.268650658513\n"
     ]
    },
    {
     "data": {
      "text/html": [
       "<div style=\"max-height:1000px;max-width:1500px;overflow:auto;\">\n",
       "<table border=\"1\" class=\"dataframe\">\n",
       "  <thead>\n",
       "    <tr style=\"text-align: right;\">\n",
       "      <th></th>\n",
       "      <th>base_error</th>\n",
       "      <th>extended_error</th>\n",
       "      <th>locationid</th>\n",
       "      <th>name</th>\n",
       "    </tr>\n",
       "  </thead>\n",
       "  <tbody>\n",
       "    <tr>\n",
       "      <th>0</th>\n",
       "      <td> 0.124358</td>\n",
       "      <td> 0.124341</td>\n",
       "      <td> 1002</td>\n",
       "      <td> Andrew Square</td>\n",
       "    </tr>\n",
       "    <tr>\n",
       "      <th>1</th>\n",
       "      <td> 0.588291</td>\n",
       "      <td> 0.596270</td>\n",
       "      <td> 1004</td>\n",
       "      <td>    JFK/U Mass</td>\n",
       "    </tr>\n",
       "    <tr>\n",
       "      <th>2</th>\n",
       "      <td> 0.179725</td>\n",
       "      <td> 0.175695</td>\n",
       "      <td> 1005</td>\n",
       "      <td>  North Quincy</td>\n",
       "    </tr>\n",
       "    <tr>\n",
       "      <th>3</th>\n",
       "      <td> 0.178812</td>\n",
       "      <td> 0.178238</td>\n",
       "      <td> 1006</td>\n",
       "      <td>     Wollaston</td>\n",
       "    </tr>\n",
       "    <tr>\n",
       "      <th>4</th>\n",
       "      <td> 0.510546</td>\n",
       "      <td> 0.519649</td>\n",
       "      <td> 1007</td>\n",
       "      <td> Quincy Center</td>\n",
       "    </tr>\n",
       "  </tbody>\n",
       "</table>\n",
       "</div>"
      ],
      "text/plain": [
       "   base_error  extended_error  locationid           name\n",
       "0    0.124358        0.124341        1002  Andrew Square\n",
       "1    0.588291        0.596270        1004     JFK/U Mass\n",
       "2    0.179725        0.175695        1005   North Quincy\n",
       "3    0.178812        0.178238        1006      Wollaston\n",
       "4    0.510546        0.519649        1007  Quincy Center"
      ]
     },
     "execution_count": 45,
     "metadata": {},
     "output_type": "execute_result"
    }
   ],
   "source": [
    "# Create the two feature sets to compare.\n",
    "base_features = ['entries_weeks_ago_1']\n",
    "extended_features = ['entries_weeks_ago_1', 'day_of_week_0', 'day_of_week_1', 'day_of_week_2', 'day_of_week_3', 'day_of_week_4']\n",
    "results = test_all_stations(base_features, extended_features)\n",
    "                     \n",
    "print(str(np.mean(results['base_error'])))\n",
    "print(str(np.mean(results['extended_error'])))\n",
    "                     \n",
    "results.head()"
   ]
  },
  {
   "cell_type": "code",
   "execution_count": 46,
   "metadata": {
    "collapsed": false
   },
   "outputs": [
    {
     "name": "stdout",
     "output_type": "stream",
     "text": [
      "0.269181924004\n",
      "0.253837452493\n"
     ]
    },
    {
     "data": {
      "text/html": [
       "<div style=\"max-height:1000px;max-width:1500px;overflow:auto;\">\n",
       "<table border=\"1\" class=\"dataframe\">\n",
       "  <thead>\n",
       "    <tr style=\"text-align: right;\">\n",
       "      <th></th>\n",
       "      <th>base_error</th>\n",
       "      <th>extended_error</th>\n",
       "      <th>locationid</th>\n",
       "      <th>name</th>\n",
       "    </tr>\n",
       "  </thead>\n",
       "  <tbody>\n",
       "    <tr>\n",
       "      <th>0</th>\n",
       "      <td> 0.124358</td>\n",
       "      <td> 0.117124</td>\n",
       "      <td> 1002</td>\n",
       "      <td> Andrew Square</td>\n",
       "    </tr>\n",
       "    <tr>\n",
       "      <th>1</th>\n",
       "      <td> 0.588291</td>\n",
       "      <td> 0.566258</td>\n",
       "      <td> 1004</td>\n",
       "      <td>    JFK/U Mass</td>\n",
       "    </tr>\n",
       "    <tr>\n",
       "      <th>2</th>\n",
       "      <td> 0.179725</td>\n",
       "      <td> 0.157033</td>\n",
       "      <td> 1005</td>\n",
       "      <td>  North Quincy</td>\n",
       "    </tr>\n",
       "    <tr>\n",
       "      <th>3</th>\n",
       "      <td> 0.178812</td>\n",
       "      <td> 0.154579</td>\n",
       "      <td> 1006</td>\n",
       "      <td>     Wollaston</td>\n",
       "    </tr>\n",
       "    <tr>\n",
       "      <th>4</th>\n",
       "      <td> 0.510546</td>\n",
       "      <td> 0.472958</td>\n",
       "      <td> 1007</td>\n",
       "      <td> Quincy Center</td>\n",
       "    </tr>\n",
       "  </tbody>\n",
       "</table>\n",
       "</div>"
      ],
      "text/plain": [
       "   base_error  extended_error  locationid           name\n",
       "0    0.124358        0.117124        1002  Andrew Square\n",
       "1    0.588291        0.566258        1004     JFK/U Mass\n",
       "2    0.179725        0.157033        1005   North Quincy\n",
       "3    0.178812        0.154579        1006      Wollaston\n",
       "4    0.510546        0.472958        1007  Quincy Center"
      ]
     },
     "execution_count": 46,
     "metadata": {},
     "output_type": "execute_result"
    }
   ],
   "source": [
    "# Create the two feature sets to compare.\n",
    "base_features = ['entries_weeks_ago_1']\n",
    "extended_features = ['entries_weeks_ago_1', 'snow_fall']\n",
    "results = test_all_stations(base_features, extended_features)\n",
    "                     \n",
    "print(str(np.mean(results['base_error'])))\n",
    "print(str(np.mean(results['extended_error'])))\n",
    "                     \n",
    "results.head()"
   ]
  },
  {
   "cell_type": "code",
   "execution_count": 47,
   "metadata": {
    "collapsed": false
   },
   "outputs": [
    {
     "name": "stdout",
     "output_type": "stream",
     "text": [
      "0.269181924004\n",
      "0.242485524164\n"
     ]
    },
    {
     "data": {
      "text/html": [
       "<div style=\"max-height:1000px;max-width:1500px;overflow:auto;\">\n",
       "<table border=\"1\" class=\"dataframe\">\n",
       "  <thead>\n",
       "    <tr style=\"text-align: right;\">\n",
       "      <th></th>\n",
       "      <th>base_error</th>\n",
       "      <th>extended_error</th>\n",
       "      <th>locationid</th>\n",
       "      <th>name</th>\n",
       "    </tr>\n",
       "  </thead>\n",
       "  <tbody>\n",
       "    <tr>\n",
       "      <th>0</th>\n",
       "      <td> 0.124358</td>\n",
       "      <td> 0.116839</td>\n",
       "      <td> 1002</td>\n",
       "      <td> Andrew Square</td>\n",
       "    </tr>\n",
       "    <tr>\n",
       "      <th>1</th>\n",
       "      <td> 0.588291</td>\n",
       "      <td> 0.523743</td>\n",
       "      <td> 1004</td>\n",
       "      <td>    JFK/U Mass</td>\n",
       "    </tr>\n",
       "    <tr>\n",
       "      <th>2</th>\n",
       "      <td> 0.179725</td>\n",
       "      <td> 0.153432</td>\n",
       "      <td> 1005</td>\n",
       "      <td>  North Quincy</td>\n",
       "    </tr>\n",
       "    <tr>\n",
       "      <th>3</th>\n",
       "      <td> 0.178812</td>\n",
       "      <td> 0.149568</td>\n",
       "      <td> 1006</td>\n",
       "      <td>     Wollaston</td>\n",
       "    </tr>\n",
       "    <tr>\n",
       "      <th>4</th>\n",
       "      <td> 0.510546</td>\n",
       "      <td> 0.358396</td>\n",
       "      <td> 1007</td>\n",
       "      <td> Quincy Center</td>\n",
       "    </tr>\n",
       "  </tbody>\n",
       "</table>\n",
       "</div>"
      ],
      "text/plain": [
       "   base_error  extended_error  locationid           name\n",
       "0    0.124358        0.116839        1002  Andrew Square\n",
       "1    0.588291        0.523743        1004     JFK/U Mass\n",
       "2    0.179725        0.153432        1005   North Quincy\n",
       "3    0.178812        0.149568        1006      Wollaston\n",
       "4    0.510546        0.358396        1007  Quincy Center"
      ]
     },
     "execution_count": 47,
     "metadata": {},
     "output_type": "execute_result"
    }
   ],
   "source": [
    "# Create the two feature sets to compare.\n",
    "base_features = ['entries_weeks_ago_1']\n",
    "extended_features = ['entries_weeks_ago_1', 'snow_fall', 'snow_accum']\n",
    "results = test_all_stations(base_features, extended_features)\n",
    "                     \n",
    "print(str(np.mean(results['base_error'])))\n",
    "print(str(np.mean(results['extended_error'])))\n",
    "                     \n",
    "results.head()"
   ]
  },
  {
   "cell_type": "code",
   "execution_count": 48,
   "metadata": {
    "collapsed": false
   },
   "outputs": [
    {
     "name": "stdout",
     "output_type": "stream",
     "text": [
      "0.269181924004\n",
      "0.268025250155\n"
     ]
    },
    {
     "data": {
      "text/html": [
       "<div style=\"max-height:1000px;max-width:1500px;overflow:auto;\">\n",
       "<table border=\"1\" class=\"dataframe\">\n",
       "  <thead>\n",
       "    <tr style=\"text-align: right;\">\n",
       "      <th></th>\n",
       "      <th>base_error</th>\n",
       "      <th>extended_error</th>\n",
       "      <th>locationid</th>\n",
       "      <th>name</th>\n",
       "    </tr>\n",
       "  </thead>\n",
       "  <tbody>\n",
       "    <tr>\n",
       "      <th>0</th>\n",
       "      <td> 0.124358</td>\n",
       "      <td> 0.123542</td>\n",
       "      <td> 1002</td>\n",
       "      <td> Andrew Square</td>\n",
       "    </tr>\n",
       "    <tr>\n",
       "      <th>1</th>\n",
       "      <td> 0.588291</td>\n",
       "      <td> 0.583673</td>\n",
       "      <td> 1004</td>\n",
       "      <td>    JFK/U Mass</td>\n",
       "    </tr>\n",
       "    <tr>\n",
       "      <th>2</th>\n",
       "      <td> 0.179725</td>\n",
       "      <td> 0.177900</td>\n",
       "      <td> 1005</td>\n",
       "      <td>  North Quincy</td>\n",
       "    </tr>\n",
       "    <tr>\n",
       "      <th>3</th>\n",
       "      <td> 0.178812</td>\n",
       "      <td> 0.176206</td>\n",
       "      <td> 1006</td>\n",
       "      <td>     Wollaston</td>\n",
       "    </tr>\n",
       "    <tr>\n",
       "      <th>4</th>\n",
       "      <td> 0.510546</td>\n",
       "      <td> 0.506502</td>\n",
       "      <td> 1007</td>\n",
       "      <td> Quincy Center</td>\n",
       "    </tr>\n",
       "  </tbody>\n",
       "</table>\n",
       "</div>"
      ],
      "text/plain": [
       "   base_error  extended_error  locationid           name\n",
       "0    0.124358        0.123542        1002  Andrew Square\n",
       "1    0.588291        0.583673        1004     JFK/U Mass\n",
       "2    0.179725        0.177900        1005   North Quincy\n",
       "3    0.178812        0.176206        1006      Wollaston\n",
       "4    0.510546        0.506502        1007  Quincy Center"
      ]
     },
     "execution_count": 48,
     "metadata": {},
     "output_type": "execute_result"
    }
   ],
   "source": [
    "# Create the two feature sets to compare.\n",
    "base_features = ['entries_weeks_ago_1']\n",
    "extended_features = ['entries_weeks_ago_1', 'rain_fall']\n",
    "results = test_all_stations(base_features, extended_features)\n",
    "                     \n",
    "print(str(np.mean(results['base_error'])))\n",
    "print(str(np.mean(results['extended_error'])))\n",
    "                     \n",
    "results.head()"
   ]
  },
  {
   "cell_type": "code",
   "execution_count": 49,
   "metadata": {
    "collapsed": false
   },
   "outputs": [
    {
     "name": "stdout",
     "output_type": "stream",
     "text": [
      "0.269181924004\n",
      "0.269461967123\n"
     ]
    },
    {
     "data": {
      "text/html": [
       "<div style=\"max-height:1000px;max-width:1500px;overflow:auto;\">\n",
       "<table border=\"1\" class=\"dataframe\">\n",
       "  <thead>\n",
       "    <tr style=\"text-align: right;\">\n",
       "      <th></th>\n",
       "      <th>base_error</th>\n",
       "      <th>extended_error</th>\n",
       "      <th>locationid</th>\n",
       "      <th>name</th>\n",
       "    </tr>\n",
       "  </thead>\n",
       "  <tbody>\n",
       "    <tr>\n",
       "      <th>0</th>\n",
       "      <td> 0.124358</td>\n",
       "      <td> 0.124608</td>\n",
       "      <td> 1002</td>\n",
       "      <td> Andrew Square</td>\n",
       "    </tr>\n",
       "    <tr>\n",
       "      <th>1</th>\n",
       "      <td> 0.588291</td>\n",
       "      <td> 0.588969</td>\n",
       "      <td> 1004</td>\n",
       "      <td>    JFK/U Mass</td>\n",
       "    </tr>\n",
       "    <tr>\n",
       "      <th>2</th>\n",
       "      <td> 0.179725</td>\n",
       "      <td> 0.180144</td>\n",
       "      <td> 1005</td>\n",
       "      <td>  North Quincy</td>\n",
       "    </tr>\n",
       "    <tr>\n",
       "      <th>3</th>\n",
       "      <td> 0.178812</td>\n",
       "      <td> 0.178870</td>\n",
       "      <td> 1006</td>\n",
       "      <td>     Wollaston</td>\n",
       "    </tr>\n",
       "    <tr>\n",
       "      <th>4</th>\n",
       "      <td> 0.510546</td>\n",
       "      <td> 0.511201</td>\n",
       "      <td> 1007</td>\n",
       "      <td> Quincy Center</td>\n",
       "    </tr>\n",
       "  </tbody>\n",
       "</table>\n",
       "</div>"
      ],
      "text/plain": [
       "   base_error  extended_error  locationid           name\n",
       "0    0.124358        0.124608        1002  Andrew Square\n",
       "1    0.588291        0.588969        1004     JFK/U Mass\n",
       "2    0.179725        0.180144        1005   North Quincy\n",
       "3    0.178812        0.178870        1006      Wollaston\n",
       "4    0.510546        0.511201        1007  Quincy Center"
      ]
     },
     "execution_count": 49,
     "metadata": {},
     "output_type": "execute_result"
    }
   ],
   "source": [
    "# Create the two feature sets to compare.\n",
    "base_features = ['entries_weeks_ago_1']\n",
    "extended_features = ['entries_weeks_ago_1', 'rain']\n",
    "results = test_all_stations(base_features, extended_features)\n",
    "                     \n",
    "print(str(np.mean(results['base_error'])))\n",
    "print(str(np.mean(results['extended_error'])))\n",
    "                     \n",
    "results.head()"
   ]
  },
  {
   "cell_type": "code",
   "execution_count": 50,
   "metadata": {
    "collapsed": false
   },
   "outputs": [
    {
     "name": "stdout",
     "output_type": "stream",
     "text": [
      "0.269181924004\n",
      "0.266342899745\n"
     ]
    },
    {
     "data": {
      "text/html": [
       "<div style=\"max-height:1000px;max-width:1500px;overflow:auto;\">\n",
       "<table border=\"1\" class=\"dataframe\">\n",
       "  <thead>\n",
       "    <tr style=\"text-align: right;\">\n",
       "      <th></th>\n",
       "      <th>base_error</th>\n",
       "      <th>extended_error</th>\n",
       "      <th>locationid</th>\n",
       "      <th>name</th>\n",
       "    </tr>\n",
       "  </thead>\n",
       "  <tbody>\n",
       "    <tr>\n",
       "      <th>0</th>\n",
       "      <td> 0.124358</td>\n",
       "      <td> 0.126568</td>\n",
       "      <td> 1002</td>\n",
       "      <td> Andrew Square</td>\n",
       "    </tr>\n",
       "    <tr>\n",
       "      <th>1</th>\n",
       "      <td> 0.588291</td>\n",
       "      <td> 0.585338</td>\n",
       "      <td> 1004</td>\n",
       "      <td>    JFK/U Mass</td>\n",
       "    </tr>\n",
       "    <tr>\n",
       "      <th>2</th>\n",
       "      <td> 0.179725</td>\n",
       "      <td> 0.181005</td>\n",
       "      <td> 1005</td>\n",
       "      <td>  North Quincy</td>\n",
       "    </tr>\n",
       "    <tr>\n",
       "      <th>3</th>\n",
       "      <td> 0.178812</td>\n",
       "      <td> 0.178736</td>\n",
       "      <td> 1006</td>\n",
       "      <td>     Wollaston</td>\n",
       "    </tr>\n",
       "    <tr>\n",
       "      <th>4</th>\n",
       "      <td> 0.510546</td>\n",
       "      <td> 0.502756</td>\n",
       "      <td> 1007</td>\n",
       "      <td> Quincy Center</td>\n",
       "    </tr>\n",
       "  </tbody>\n",
       "</table>\n",
       "</div>"
      ],
      "text/plain": [
       "   base_error  extended_error  locationid           name\n",
       "0    0.124358        0.126568        1002  Andrew Square\n",
       "1    0.588291        0.585338        1004     JFK/U Mass\n",
       "2    0.179725        0.181005        1005   North Quincy\n",
       "3    0.178812        0.178736        1006      Wollaston\n",
       "4    0.510546        0.502756        1007  Quincy Center"
      ]
     },
     "execution_count": 50,
     "metadata": {},
     "output_type": "execute_result"
    }
   ],
   "source": [
    "# Create the two feature sets to compare.\n",
    "base_features = ['entries_weeks_ago_1']\n",
    "extended_features = ['entries_weeks_ago_1', 'temp_mean']\n",
    "results = test_all_stations(base_features, extended_features)\n",
    "                     \n",
    "print(str(np.mean(results['base_error'])))\n",
    "print(str(np.mean(results['extended_error'])))\n",
    "                     \n",
    "results.head()"
   ]
  },
  {
   "cell_type": "code",
   "execution_count": 51,
   "metadata": {
    "collapsed": false
   },
   "outputs": [
    {
     "name": "stdout",
     "output_type": "stream",
     "text": [
      "0.269181924004\n",
      "0.266285460861\n"
     ]
    },
    {
     "data": {
      "text/html": [
       "<div style=\"max-height:1000px;max-width:1500px;overflow:auto;\">\n",
       "<table border=\"1\" class=\"dataframe\">\n",
       "  <thead>\n",
       "    <tr style=\"text-align: right;\">\n",
       "      <th></th>\n",
       "      <th>base_error</th>\n",
       "      <th>extended_error</th>\n",
       "      <th>locationid</th>\n",
       "      <th>name</th>\n",
       "    </tr>\n",
       "  </thead>\n",
       "  <tbody>\n",
       "    <tr>\n",
       "      <th>0</th>\n",
       "      <td> 0.124358</td>\n",
       "      <td> 0.126653</td>\n",
       "      <td> 1002</td>\n",
       "      <td> Andrew Square</td>\n",
       "    </tr>\n",
       "    <tr>\n",
       "      <th>1</th>\n",
       "      <td> 0.588291</td>\n",
       "      <td> 0.585826</td>\n",
       "      <td> 1004</td>\n",
       "      <td>    JFK/U Mass</td>\n",
       "    </tr>\n",
       "    <tr>\n",
       "      <th>2</th>\n",
       "      <td> 0.179725</td>\n",
       "      <td> 0.180732</td>\n",
       "      <td> 1005</td>\n",
       "      <td>  North Quincy</td>\n",
       "    </tr>\n",
       "    <tr>\n",
       "      <th>3</th>\n",
       "      <td> 0.178812</td>\n",
       "      <td> 0.178703</td>\n",
       "      <td> 1006</td>\n",
       "      <td>     Wollaston</td>\n",
       "    </tr>\n",
       "    <tr>\n",
       "      <th>4</th>\n",
       "      <td> 0.510546</td>\n",
       "      <td> 0.502366</td>\n",
       "      <td> 1007</td>\n",
       "      <td> Quincy Center</td>\n",
       "    </tr>\n",
       "  </tbody>\n",
       "</table>\n",
       "</div>"
      ],
      "text/plain": [
       "   base_error  extended_error  locationid           name\n",
       "0    0.124358        0.126653        1002  Andrew Square\n",
       "1    0.588291        0.585826        1004     JFK/U Mass\n",
       "2    0.179725        0.180732        1005   North Quincy\n",
       "3    0.178812        0.178703        1006      Wollaston\n",
       "4    0.510546        0.502366        1007  Quincy Center"
      ]
     },
     "execution_count": 51,
     "metadata": {},
     "output_type": "execute_result"
    }
   ],
   "source": [
    "# Create the two feature sets to compare.\n",
    "base_features = ['entries_weeks_ago_1']\n",
    "extended_features = ['entries_weeks_ago_1', 'temp_min']\n",
    "results = test_all_stations(base_features, extended_features)\n",
    "                     \n",
    "print(str(np.mean(results['base_error'])))\n",
    "print(str(np.mean(results['extended_error'])))\n",
    "                     \n",
    "results.head()"
   ]
  },
  {
   "cell_type": "code",
   "execution_count": 52,
   "metadata": {
    "collapsed": false
   },
   "outputs": [
    {
     "name": "stdout",
     "output_type": "stream",
     "text": [
      "0.269181924004\n",
      "0.266606974131\n"
     ]
    },
    {
     "data": {
      "text/html": [
       "<div style=\"max-height:1000px;max-width:1500px;overflow:auto;\">\n",
       "<table border=\"1\" class=\"dataframe\">\n",
       "  <thead>\n",
       "    <tr style=\"text-align: right;\">\n",
       "      <th></th>\n",
       "      <th>base_error</th>\n",
       "      <th>extended_error</th>\n",
       "      <th>locationid</th>\n",
       "      <th>name</th>\n",
       "    </tr>\n",
       "  </thead>\n",
       "  <tbody>\n",
       "    <tr>\n",
       "      <th>0</th>\n",
       "      <td> 0.124358</td>\n",
       "      <td> 0.126429</td>\n",
       "      <td> 1002</td>\n",
       "      <td> Andrew Square</td>\n",
       "    </tr>\n",
       "    <tr>\n",
       "      <th>1</th>\n",
       "      <td> 0.588291</td>\n",
       "      <td> 0.585093</td>\n",
       "      <td> 1004</td>\n",
       "      <td>    JFK/U Mass</td>\n",
       "    </tr>\n",
       "    <tr>\n",
       "      <th>2</th>\n",
       "      <td> 0.179725</td>\n",
       "      <td> 0.181160</td>\n",
       "      <td> 1005</td>\n",
       "      <td>  North Quincy</td>\n",
       "    </tr>\n",
       "    <tr>\n",
       "      <th>3</th>\n",
       "      <td> 0.178812</td>\n",
       "      <td> 0.178827</td>\n",
       "      <td> 1006</td>\n",
       "      <td>     Wollaston</td>\n",
       "    </tr>\n",
       "    <tr>\n",
       "      <th>4</th>\n",
       "      <td> 0.510546</td>\n",
       "      <td> 0.503628</td>\n",
       "      <td> 1007</td>\n",
       "      <td> Quincy Center</td>\n",
       "    </tr>\n",
       "  </tbody>\n",
       "</table>\n",
       "</div>"
      ],
      "text/plain": [
       "   base_error  extended_error  locationid           name\n",
       "0    0.124358        0.126429        1002  Andrew Square\n",
       "1    0.588291        0.585093        1004     JFK/U Mass\n",
       "2    0.179725        0.181160        1005   North Quincy\n",
       "3    0.178812        0.178827        1006      Wollaston\n",
       "4    0.510546        0.503628        1007  Quincy Center"
      ]
     },
     "execution_count": 52,
     "metadata": {},
     "output_type": "execute_result"
    }
   ],
   "source": [
    "# Create the two feature sets to compare.\n",
    "base_features = ['entries_weeks_ago_1']\n",
    "extended_features = ['entries_weeks_ago_1', 'temp_max']\n",
    "results = test_all_stations(base_features, extended_features)\n",
    "                     \n",
    "print(str(np.mean(results['base_error'])))\n",
    "print(str(np.mean(results['extended_error'])))\n",
    "                     \n",
    "results.head()"
   ]
  },
  {
   "cell_type": "code",
   "execution_count": 53,
   "metadata": {
    "collapsed": false
   },
   "outputs": [
    {
     "name": "stdout",
     "output_type": "stream",
     "text": [
      "0.269181924004\n",
      "0.269181923934\n"
     ]
    },
    {
     "data": {
      "text/html": [
       "<div style=\"max-height:1000px;max-width:1500px;overflow:auto;\">\n",
       "<table border=\"1\" class=\"dataframe\">\n",
       "  <thead>\n",
       "    <tr style=\"text-align: right;\">\n",
       "      <th></th>\n",
       "      <th>base_error</th>\n",
       "      <th>extended_error</th>\n",
       "      <th>locationid</th>\n",
       "      <th>name</th>\n",
       "    </tr>\n",
       "  </thead>\n",
       "  <tbody>\n",
       "    <tr>\n",
       "      <th>0</th>\n",
       "      <td> 0.124358</td>\n",
       "      <td> 0.124358</td>\n",
       "      <td> 1002</td>\n",
       "      <td> Andrew Square</td>\n",
       "    </tr>\n",
       "    <tr>\n",
       "      <th>1</th>\n",
       "      <td> 0.588291</td>\n",
       "      <td> 0.588291</td>\n",
       "      <td> 1004</td>\n",
       "      <td>    JFK/U Mass</td>\n",
       "    </tr>\n",
       "    <tr>\n",
       "      <th>2</th>\n",
       "      <td> 0.179725</td>\n",
       "      <td> 0.179725</td>\n",
       "      <td> 1005</td>\n",
       "      <td>  North Quincy</td>\n",
       "    </tr>\n",
       "    <tr>\n",
       "      <th>3</th>\n",
       "      <td> 0.178812</td>\n",
       "      <td> 0.178812</td>\n",
       "      <td> 1006</td>\n",
       "      <td>     Wollaston</td>\n",
       "    </tr>\n",
       "    <tr>\n",
       "      <th>4</th>\n",
       "      <td> 0.510546</td>\n",
       "      <td> 0.510546</td>\n",
       "      <td> 1007</td>\n",
       "      <td> Quincy Center</td>\n",
       "    </tr>\n",
       "  </tbody>\n",
       "</table>\n",
       "</div>"
      ],
      "text/plain": [
       "   base_error  extended_error  locationid           name\n",
       "0    0.124358        0.124358        1002  Andrew Square\n",
       "1    0.588291        0.588291        1004     JFK/U Mass\n",
       "2    0.179725        0.179725        1005   North Quincy\n",
       "3    0.178812        0.178812        1006      Wollaston\n",
       "4    0.510546        0.510546        1007  Quincy Center"
      ]
     },
     "execution_count": 53,
     "metadata": {},
     "output_type": "execute_result"
    }
   ],
   "source": [
    "# Create the two feature sets to compare.\n",
    "base_features = ['entries_weeks_ago_1']\n",
    "extended_features = ['entries_weeks_ago_1', 'dist_to_center']\n",
    "results = test_all_stations(base_features, extended_features)\n",
    "                     \n",
    "print(str(np.mean(results['base_error'])))\n",
    "print(str(np.mean(results['extended_error'])))\n",
    "                     \n",
    "results.head()"
   ]
  },
  {
   "cell_type": "code",
   "execution_count": 54,
   "metadata": {
    "collapsed": false
   },
   "outputs": [
    {
     "name": "stdout",
     "output_type": "stream",
     "text": [
      "0.269181924004\n",
      "0.208476176623\n"
     ]
    },
    {
     "data": {
      "text/html": [
       "<div style=\"max-height:1000px;max-width:1500px;overflow:auto;\">\n",
       "<table border=\"1\" class=\"dataframe\">\n",
       "  <thead>\n",
       "    <tr style=\"text-align: right;\">\n",
       "      <th></th>\n",
       "      <th>base_error</th>\n",
       "      <th>extended_error</th>\n",
       "      <th>locationid</th>\n",
       "      <th>name</th>\n",
       "    </tr>\n",
       "  </thead>\n",
       "  <tbody>\n",
       "    <tr>\n",
       "      <th>0</th>\n",
       "      <td> 0.124358</td>\n",
       "      <td> 0.099722</td>\n",
       "      <td> 1002</td>\n",
       "      <td> Andrew Square</td>\n",
       "    </tr>\n",
       "    <tr>\n",
       "      <th>1</th>\n",
       "      <td> 0.588291</td>\n",
       "      <td> 0.455485</td>\n",
       "      <td> 1004</td>\n",
       "      <td>    JFK/U Mass</td>\n",
       "    </tr>\n",
       "    <tr>\n",
       "      <th>2</th>\n",
       "      <td> 0.179725</td>\n",
       "      <td> 0.129603</td>\n",
       "      <td> 1005</td>\n",
       "      <td>  North Quincy</td>\n",
       "    </tr>\n",
       "    <tr>\n",
       "      <th>3</th>\n",
       "      <td> 0.178812</td>\n",
       "      <td> 0.132038</td>\n",
       "      <td> 1006</td>\n",
       "      <td>     Wollaston</td>\n",
       "    </tr>\n",
       "    <tr>\n",
       "      <th>4</th>\n",
       "      <td> 0.510546</td>\n",
       "      <td> 0.326075</td>\n",
       "      <td> 1007</td>\n",
       "      <td> Quincy Center</td>\n",
       "    </tr>\n",
       "  </tbody>\n",
       "</table>\n",
       "</div>"
      ],
      "text/plain": [
       "   base_error  extended_error  locationid           name\n",
       "0    0.124358        0.099722        1002  Andrew Square\n",
       "1    0.588291        0.455485        1004     JFK/U Mass\n",
       "2    0.179725        0.129603        1005   North Quincy\n",
       "3    0.178812        0.132038        1006      Wollaston\n",
       "4    0.510546        0.326075        1007  Quincy Center"
      ]
     },
     "execution_count": 54,
     "metadata": {},
     "output_type": "execute_result"
    }
   ],
   "source": [
    "# Create the two feature sets to compare.\n",
    "base_features = ['entries_weeks_ago_1']\n",
    "extended_features = ['entries_weeks_ago_1', 'entries_weeks_ago_2', 'entries_weeks_ago_3', 'day_of_week_0', 'day_of_week_1', 'day_of_week_2', 'day_of_week_3', 'day_of_week_4', 'month_1', 'month_2', 'month_3', 'month_4', 'month_5', 'month_6', 'month_7', 'month_8', 'month_9', 'month_10', 'month_11', 'month_12', 'snow_fall', 'snow_accum', 'rain_fall', 'temp_mean']\n",
    "results = test_all_stations(base_features, extended_features)\n",
    "                     \n",
    "print(str(np.mean(results['base_error'])))\n",
    "print(str(np.mean(results['extended_error'])))\n",
    "                     \n",
    "results.head()"
   ]
  },
  {
   "cell_type": "code",
   "execution_count": 60,
   "metadata": {
    "collapsed": false
   },
   "outputs": [
    {
     "name": "stdout",
     "output_type": "stream",
     "text": [
      "0.269181924004\n",
      "0.200715592655\n"
     ]
    },
    {
     "data": {
      "text/html": [
       "<div style=\"max-height:1000px;max-width:1500px;overflow:auto;\">\n",
       "<table border=\"1\" class=\"dataframe\">\n",
       "  <thead>\n",
       "    <tr style=\"text-align: right;\">\n",
       "      <th></th>\n",
       "      <th>base_error</th>\n",
       "      <th>extended_error</th>\n",
       "      <th>locationid</th>\n",
       "      <th>name</th>\n",
       "    </tr>\n",
       "  </thead>\n",
       "  <tbody>\n",
       "    <tr>\n",
       "      <th>0</th>\n",
       "      <td> 0.124358</td>\n",
       "      <td> 0.105311</td>\n",
       "      <td> 1002</td>\n",
       "      <td> Andrew Square</td>\n",
       "    </tr>\n",
       "    <tr>\n",
       "      <th>1</th>\n",
       "      <td> 0.588291</td>\n",
       "      <td> 0.394218</td>\n",
       "      <td> 1004</td>\n",
       "      <td>    JFK/U Mass</td>\n",
       "    </tr>\n",
       "    <tr>\n",
       "      <th>2</th>\n",
       "      <td> 0.179725</td>\n",
       "      <td> 0.133903</td>\n",
       "      <td> 1005</td>\n",
       "      <td>  North Quincy</td>\n",
       "    </tr>\n",
       "    <tr>\n",
       "      <th>3</th>\n",
       "      <td> 0.178812</td>\n",
       "      <td> 0.128499</td>\n",
       "      <td> 1006</td>\n",
       "      <td>     Wollaston</td>\n",
       "    </tr>\n",
       "    <tr>\n",
       "      <th>4</th>\n",
       "      <td> 0.510546</td>\n",
       "      <td> 0.273338</td>\n",
       "      <td> 1007</td>\n",
       "      <td> Quincy Center</td>\n",
       "    </tr>\n",
       "  </tbody>\n",
       "</table>\n",
       "</div>"
      ],
      "text/plain": [
       "   base_error  extended_error  locationid           name\n",
       "0    0.124358        0.105311        1002  Andrew Square\n",
       "1    0.588291        0.394218        1004     JFK/U Mass\n",
       "2    0.179725        0.133903        1005   North Quincy\n",
       "3    0.178812        0.128499        1006      Wollaston\n",
       "4    0.510546        0.273338        1007  Quincy Center"
      ]
     },
     "execution_count": 60,
     "metadata": {},
     "output_type": "execute_result"
    }
   ],
   "source": [
    "# Create the two feature sets to compare.\n",
    "base_features = ['entries_weeks_ago_1']\n",
    "extended_features = ['entries_weeks_ago_1', 'entries_weeks_ago_2', 'snow_fall', 'snow_accum']\n",
    "results = test_all_stations(base_features, extended_features)\n",
    "                     \n",
    "print(str(np.mean(results['base_error'])))\n",
    "print(str(np.mean(results['extended_error'])))\n",
    "                     \n",
    "results.head()"
   ]
  },
  {
   "cell_type": "code",
   "execution_count": 64,
   "metadata": {
    "collapsed": false
   },
   "outputs": [
    {
     "name": "stdout",
     "output_type": "stream",
     "text": [
      "0.269181924004\n",
      "0.244569752437\n"
     ]
    },
    {
     "data": {
      "text/html": [
       "<div style=\"max-height:1000px;max-width:1500px;overflow:auto;\">\n",
       "<table border=\"1\" class=\"dataframe\">\n",
       "  <thead>\n",
       "    <tr style=\"text-align: right;\">\n",
       "      <th></th>\n",
       "      <th>base_error</th>\n",
       "      <th>extended_error</th>\n",
       "      <th>locationid</th>\n",
       "      <th>name</th>\n",
       "    </tr>\n",
       "  </thead>\n",
       "  <tbody>\n",
       "    <tr>\n",
       "      <th>0</th>\n",
       "      <td> 0.124358</td>\n",
       "      <td> 0.070594</td>\n",
       "      <td> 1002</td>\n",
       "      <td> Andrew Square</td>\n",
       "    </tr>\n",
       "    <tr>\n",
       "      <th>1</th>\n",
       "      <td> 0.588291</td>\n",
       "      <td> 0.735401</td>\n",
       "      <td> 1004</td>\n",
       "      <td>    JFK/U Mass</td>\n",
       "    </tr>\n",
       "    <tr>\n",
       "      <th>2</th>\n",
       "      <td> 0.179725</td>\n",
       "      <td> 0.098902</td>\n",
       "      <td> 1005</td>\n",
       "      <td>  North Quincy</td>\n",
       "    </tr>\n",
       "    <tr>\n",
       "      <th>3</th>\n",
       "      <td> 0.178812</td>\n",
       "      <td> 0.080312</td>\n",
       "      <td> 1006</td>\n",
       "      <td>     Wollaston</td>\n",
       "    </tr>\n",
       "    <tr>\n",
       "      <th>4</th>\n",
       "      <td> 0.510546</td>\n",
       "      <td> 0.636786</td>\n",
       "      <td> 1007</td>\n",
       "      <td> Quincy Center</td>\n",
       "    </tr>\n",
       "  </tbody>\n",
       "</table>\n",
       "</div>"
      ],
      "text/plain": [
       "   base_error  extended_error  locationid           name\n",
       "0    0.124358        0.070594        1002  Andrew Square\n",
       "1    0.588291        0.735401        1004     JFK/U Mass\n",
       "2    0.179725        0.098902        1005   North Quincy\n",
       "3    0.178812        0.080312        1006      Wollaston\n",
       "4    0.510546        0.636786        1007  Quincy Center"
      ]
     },
     "execution_count": 64,
     "metadata": {},
     "output_type": "execute_result"
    }
   ],
   "source": [
    "# Create the two feature sets to compare.\n",
    "base_features = ['entries_weeks_ago_1']\n",
    "extended_features = ['entries_weeks_ago_1', 'bruins_game', 'celtics_game', 'sox_game']\n",
    "results = test_all_stations(base_features, extended_features)\n",
    "                     \n",
    "print(str(np.mean(results['base_error'])))\n",
    "print(str(np.mean(results['extended_error'])))\n",
    "                     \n",
    "results.head()"
   ]
  },
  {
   "cell_type": "code",
   "execution_count": 71,
   "metadata": {
    "collapsed": false
   },
   "outputs": [
    {
     "name": "stdout",
     "output_type": "stream",
     "text": [
      "0.269181924004\n",
      "0.209331960565\n",
      "Empty DataFrame\n",
      "Columns: [base_error, extended_error, locationid, name]\n",
      "Index: []\n",
      "    base_error  extended_error  locationid           name\n",
      "44    0.293684        0.107497        1075  North Station\n"
     ]
    },
    {
     "data": {
      "text/html": [
       "<div style=\"max-height:1000px;max-width:1500px;overflow:auto;\">\n",
       "<table border=\"1\" class=\"dataframe\">\n",
       "  <thead>\n",
       "    <tr style=\"text-align: right;\">\n",
       "      <th></th>\n",
       "      <th>base_error</th>\n",
       "      <th>extended_error</th>\n",
       "      <th>locationid</th>\n",
       "      <th>name</th>\n",
       "    </tr>\n",
       "  </thead>\n",
       "  <tbody>\n",
       "    <tr>\n",
       "      <th>0</th>\n",
       "      <td> 0.124358</td>\n",
       "      <td> 0.073593</td>\n",
       "      <td> 1002</td>\n",
       "      <td> Andrew Square</td>\n",
       "    </tr>\n",
       "    <tr>\n",
       "      <th>1</th>\n",
       "      <td> 0.588291</td>\n",
       "      <td> 0.640626</td>\n",
       "      <td> 1004</td>\n",
       "      <td>    JFK/U Mass</td>\n",
       "    </tr>\n",
       "    <tr>\n",
       "      <th>2</th>\n",
       "      <td> 0.179725</td>\n",
       "      <td> 0.100632</td>\n",
       "      <td> 1005</td>\n",
       "      <td>  North Quincy</td>\n",
       "    </tr>\n",
       "    <tr>\n",
       "      <th>3</th>\n",
       "      <td> 0.178812</td>\n",
       "      <td> 0.079654</td>\n",
       "      <td> 1006</td>\n",
       "      <td>     Wollaston</td>\n",
       "    </tr>\n",
       "    <tr>\n",
       "      <th>4</th>\n",
       "      <td> 0.510546</td>\n",
       "      <td> 0.416216</td>\n",
       "      <td> 1007</td>\n",
       "      <td> Quincy Center</td>\n",
       "    </tr>\n",
       "  </tbody>\n",
       "</table>\n",
       "</div>"
      ],
      "text/plain": [
       "   base_error  extended_error  locationid           name\n",
       "0    0.124358        0.073593        1002  Andrew Square\n",
       "1    0.588291        0.640626        1004     JFK/U Mass\n",
       "2    0.179725        0.100632        1005   North Quincy\n",
       "3    0.178812        0.079654        1006      Wollaston\n",
       "4    0.510546        0.416216        1007  Quincy Center"
      ]
     },
     "execution_count": 71,
     "metadata": {},
     "output_type": "execute_result"
    }
   ],
   "source": [
    "# Create the two feature sets to compare.\n",
    "base_features = ['entries_weeks_ago_1']\n",
    "extended_features = ['entries_weeks_ago_1', 'entries_weeks_ago_2', 'snow_fall', 'snow_accum', 'bruins_game', 'celtics_game', 'sox_game']\n",
    "results = test_all_stations(base_features, extended_features)\n",
    "                     \n",
    "print(str(np.mean(results['base_error'])))\n",
    "print(str(np.mean(results['extended_error'])))\n",
    "\n",
    "print(results[results['name'] == 'Kenmore Square'])\n",
    "print(results[results['name'] == 'North Station'])\n",
    "                     \n",
    "results.head()"
   ]
  },
  {
   "cell_type": "code",
   "execution_count": 73,
   "metadata": {
    "collapsed": false
   },
   "outputs": [
    {
     "name": "stdout",
     "output_type": "stream",
     "text": [
      "    base_error  extended_error  locationid            name\n",
      "36    0.232543        0.094826        1059  Kenmore Square\n",
      "    base_error  extended_error  locationid           name\n",
      "44    0.293684        0.107497        1075  North Station\n",
      "    base_error  extended_error  locationid   name\n",
      "34    0.148464        0.105812        1057  Hynes\n",
      "    base_error  extended_error  locationid       name\n",
      "57    0.452121        0.416532        1101  Riverside\n"
     ]
    },
    {
     "data": {
      "text/html": [
       "<div style=\"max-height:1000px;max-width:1500px;overflow:auto;\">\n",
       "<table border=\"1\" class=\"dataframe\">\n",
       "  <thead>\n",
       "    <tr style=\"text-align: right;\">\n",
       "      <th></th>\n",
       "      <th>base_error</th>\n",
       "      <th>extended_error</th>\n",
       "      <th>locationid</th>\n",
       "      <th>name</th>\n",
       "    </tr>\n",
       "  </thead>\n",
       "  <tbody>\n",
       "    <tr>\n",
       "      <th>0</th>\n",
       "      <td> 0.124358</td>\n",
       "      <td> 0.073593</td>\n",
       "      <td> 1002</td>\n",
       "      <td> Andrew Square</td>\n",
       "    </tr>\n",
       "    <tr>\n",
       "      <th>1</th>\n",
       "      <td> 0.588291</td>\n",
       "      <td> 0.640626</td>\n",
       "      <td> 1004</td>\n",
       "      <td>    JFK/U Mass</td>\n",
       "    </tr>\n",
       "    <tr>\n",
       "      <th>2</th>\n",
       "      <td> 0.179725</td>\n",
       "      <td> 0.100632</td>\n",
       "      <td> 1005</td>\n",
       "      <td>  North Quincy</td>\n",
       "    </tr>\n",
       "    <tr>\n",
       "      <th>3</th>\n",
       "      <td> 0.178812</td>\n",
       "      <td> 0.079654</td>\n",
       "      <td> 1006</td>\n",
       "      <td>     Wollaston</td>\n",
       "    </tr>\n",
       "    <tr>\n",
       "      <th>4</th>\n",
       "      <td> 0.510546</td>\n",
       "      <td> 0.416216</td>\n",
       "      <td> 1007</td>\n",
       "      <td> Quincy Center</td>\n",
       "    </tr>\n",
       "  </tbody>\n",
       "</table>\n",
       "</div>"
      ],
      "text/plain": [
       "   base_error  extended_error  locationid           name\n",
       "0    0.124358        0.073593        1002  Andrew Square\n",
       "1    0.588291        0.640626        1004     JFK/U Mass\n",
       "2    0.179725        0.100632        1005   North Quincy\n",
       "3    0.178812        0.079654        1006      Wollaston\n",
       "4    0.510546        0.416216        1007  Quincy Center"
      ]
     },
     "execution_count": 73,
     "metadata": {},
     "output_type": "execute_result"
    }
   ],
   "source": [
    "print(results[results['name'] == 'Kenmore Square'])\n",
    "print(results[results['name'] == 'North Station'])\n",
    "print(results[results['name'] == 'Hynes'])\n",
    "print(results[results['name'] == 'Riverside'])\n",
    "                     \n",
    "results.head()"
   ]
  },
  {
   "cell_type": "code",
   "execution_count": 70,
   "metadata": {
    "collapsed": false
   },
   "outputs": [
    {
     "name": "stdout",
     "output_type": "stream",
     "text": [
      "0.269181924004\n",
      "0.239382345964\n"
     ]
    },
    {
     "data": {
      "text/html": [
       "<div style=\"max-height:1000px;max-width:1500px;overflow:auto;\">\n",
       "<table border=\"1\" class=\"dataframe\">\n",
       "  <thead>\n",
       "    <tr style=\"text-align: right;\">\n",
       "      <th></th>\n",
       "      <th>base_error</th>\n",
       "      <th>extended_error</th>\n",
       "      <th>locationid</th>\n",
       "      <th>name</th>\n",
       "    </tr>\n",
       "  </thead>\n",
       "  <tbody>\n",
       "    <tr>\n",
       "      <th>0</th>\n",
       "      <td> 0.124358</td>\n",
       "      <td> 0.069249</td>\n",
       "      <td> 1002</td>\n",
       "      <td> Andrew Square</td>\n",
       "    </tr>\n",
       "    <tr>\n",
       "      <th>1</th>\n",
       "      <td> 0.588291</td>\n",
       "      <td> 0.847039</td>\n",
       "      <td> 1004</td>\n",
       "      <td>    JFK/U Mass</td>\n",
       "    </tr>\n",
       "    <tr>\n",
       "      <th>2</th>\n",
       "      <td> 0.179725</td>\n",
       "      <td> 0.097737</td>\n",
       "      <td> 1005</td>\n",
       "      <td>  North Quincy</td>\n",
       "    </tr>\n",
       "    <tr>\n",
       "      <th>3</th>\n",
       "      <td> 0.178812</td>\n",
       "      <td> 0.078102</td>\n",
       "      <td> 1006</td>\n",
       "      <td>     Wollaston</td>\n",
       "    </tr>\n",
       "    <tr>\n",
       "      <th>4</th>\n",
       "      <td> 0.510546</td>\n",
       "      <td> 0.536380</td>\n",
       "      <td> 1007</td>\n",
       "      <td> Quincy Center</td>\n",
       "    </tr>\n",
       "  </tbody>\n",
       "</table>\n",
       "</div>"
      ],
      "text/plain": [
       "   base_error  extended_error  locationid           name\n",
       "0    0.124358        0.069249        1002  Andrew Square\n",
       "1    0.588291        0.847039        1004     JFK/U Mass\n",
       "2    0.179725        0.097737        1005   North Quincy\n",
       "3    0.178812        0.078102        1006      Wollaston\n",
       "4    0.510546        0.536380        1007  Quincy Center"
      ]
     },
     "execution_count": 70,
     "metadata": {},
     "output_type": "execute_result"
    }
   ],
   "source": [
    "# Create the two feature sets to compare.\n",
    "base_features = ['entries_weeks_ago_1']\n",
    "extended_features = ['entries_weeks_ago_1', 'snow_fall', 'snow_accum', 'bruins_game', 'celtics_game', 'sox_game']\n",
    "results = test_all_stations(base_features, extended_features)\n",
    "                     \n",
    "print(str(np.mean(results['base_error'])))\n",
    "print(str(np.mean(results['extended_error'])))\n",
    "                     \n",
    "results.head()"
   ]
  },
  {
   "cell_type": "code",
   "execution_count": 67,
   "metadata": {
    "collapsed": false
   },
   "outputs": [
    {
     "name": "stdout",
     "output_type": "stream",
     "text": [
      "0.269181924004\n",
      "0.213089793004\n"
     ]
    },
    {
     "data": {
      "text/html": [
       "<div style=\"max-height:1000px;max-width:1500px;overflow:auto;\">\n",
       "<table border=\"1\" class=\"dataframe\">\n",
       "  <thead>\n",
       "    <tr style=\"text-align: right;\">\n",
       "      <th></th>\n",
       "      <th>base_error</th>\n",
       "      <th>extended_error</th>\n",
       "      <th>locationid</th>\n",
       "      <th>name</th>\n",
       "    </tr>\n",
       "  </thead>\n",
       "  <tbody>\n",
       "    <tr>\n",
       "      <th>0</th>\n",
       "      <td> 0.124358</td>\n",
       "      <td> 0.073966</td>\n",
       "      <td> 1002</td>\n",
       "      <td> Andrew Square</td>\n",
       "    </tr>\n",
       "    <tr>\n",
       "      <th>1</th>\n",
       "      <td> 0.588291</td>\n",
       "      <td> 0.662617</td>\n",
       "      <td> 1004</td>\n",
       "      <td>    JFK/U Mass</td>\n",
       "    </tr>\n",
       "    <tr>\n",
       "      <th>2</th>\n",
       "      <td> 0.179725</td>\n",
       "      <td> 0.099171</td>\n",
       "      <td> 1005</td>\n",
       "      <td>  North Quincy</td>\n",
       "    </tr>\n",
       "    <tr>\n",
       "      <th>3</th>\n",
       "      <td> 0.178812</td>\n",
       "      <td> 0.078519</td>\n",
       "      <td> 1006</td>\n",
       "      <td>     Wollaston</td>\n",
       "    </tr>\n",
       "    <tr>\n",
       "      <th>4</th>\n",
       "      <td> 0.510546</td>\n",
       "      <td> 0.430612</td>\n",
       "      <td> 1007</td>\n",
       "      <td> Quincy Center</td>\n",
       "    </tr>\n",
       "  </tbody>\n",
       "</table>\n",
       "</div>"
      ],
      "text/plain": [
       "   base_error  extended_error  locationid           name\n",
       "0    0.124358        0.073966        1002  Andrew Square\n",
       "1    0.588291        0.662617        1004     JFK/U Mass\n",
       "2    0.179725        0.099171        1005   North Quincy\n",
       "3    0.178812        0.078519        1006      Wollaston\n",
       "4    0.510546        0.430612        1007  Quincy Center"
      ]
     },
     "execution_count": 67,
     "metadata": {},
     "output_type": "execute_result"
    }
   ],
   "source": [
    "# Create the two feature sets to compare.\n",
    "base_features = ['entries_weeks_ago_1']\n",
    "extended_features = ['entries_weeks_ago_1', 'entries_weeks_ago_2', 'snow_fall', 'snow_accum', 'sox_game']\n",
    "results = test_all_stations(base_features, extended_features)\n",
    "                     \n",
    "print(str(np.mean(results['base_error'])))\n",
    "print(str(np.mean(results['extended_error'])))\n",
    "                     \n",
    "results.head()"
   ]
  },
  {
   "cell_type": "code",
   "execution_count": 68,
   "metadata": {
    "collapsed": false
   },
   "outputs": [
    {
     "name": "stdout",
     "output_type": "stream",
     "text": [
      "0.269181924004\n",
      "0.210420933251\n"
     ]
    },
    {
     "data": {
      "text/html": [
       "<div style=\"max-height:1000px;max-width:1500px;overflow:auto;\">\n",
       "<table border=\"1\" class=\"dataframe\">\n",
       "  <thead>\n",
       "    <tr style=\"text-align: right;\">\n",
       "      <th></th>\n",
       "      <th>base_error</th>\n",
       "      <th>extended_error</th>\n",
       "      <th>locationid</th>\n",
       "      <th>name</th>\n",
       "    </tr>\n",
       "  </thead>\n",
       "  <tbody>\n",
       "    <tr>\n",
       "      <th>0</th>\n",
       "      <td> 0.124358</td>\n",
       "      <td> 0.073684</td>\n",
       "      <td> 1002</td>\n",
       "      <td> Andrew Square</td>\n",
       "    </tr>\n",
       "    <tr>\n",
       "      <th>1</th>\n",
       "      <td> 0.588291</td>\n",
       "      <td> 0.661682</td>\n",
       "      <td> 1004</td>\n",
       "      <td>    JFK/U Mass</td>\n",
       "    </tr>\n",
       "    <tr>\n",
       "      <th>2</th>\n",
       "      <td> 0.179725</td>\n",
       "      <td> 0.099648</td>\n",
       "      <td> 1005</td>\n",
       "      <td>  North Quincy</td>\n",
       "    </tr>\n",
       "    <tr>\n",
       "      <th>3</th>\n",
       "      <td> 0.178812</td>\n",
       "      <td> 0.079105</td>\n",
       "      <td> 1006</td>\n",
       "      <td>     Wollaston</td>\n",
       "    </tr>\n",
       "    <tr>\n",
       "      <th>4</th>\n",
       "      <td> 0.510546</td>\n",
       "      <td> 0.411369</td>\n",
       "      <td> 1007</td>\n",
       "      <td> Quincy Center</td>\n",
       "    </tr>\n",
       "  </tbody>\n",
       "</table>\n",
       "</div>"
      ],
      "text/plain": [
       "   base_error  extended_error  locationid           name\n",
       "0    0.124358        0.073684        1002  Andrew Square\n",
       "1    0.588291        0.661682        1004     JFK/U Mass\n",
       "2    0.179725        0.099648        1005   North Quincy\n",
       "3    0.178812        0.079105        1006      Wollaston\n",
       "4    0.510546        0.411369        1007  Quincy Center"
      ]
     },
     "execution_count": 68,
     "metadata": {},
     "output_type": "execute_result"
    }
   ],
   "source": [
    "# Create the two feature sets to compare.\n",
    "base_features = ['entries_weeks_ago_1']\n",
    "extended_features = ['entries_weeks_ago_1', 'entries_weeks_ago_2', 'snow_fall', 'snow_accum', 'bruins_game']\n",
    "results = test_all_stations(base_features, extended_features)\n",
    "                     \n",
    "print(str(np.mean(results['base_error'])))\n",
    "print(str(np.mean(results['extended_error'])))\n",
    "                     \n",
    "results.head()"
   ]
  },
  {
   "cell_type": "code",
   "execution_count": 69,
   "metadata": {
    "collapsed": false
   },
   "outputs": [
    {
     "name": "stdout",
     "output_type": "stream",
     "text": [
      "0.269181924004\n",
      "0.20876681897\n"
     ]
    },
    {
     "data": {
      "text/html": [
       "<div style=\"max-height:1000px;max-width:1500px;overflow:auto;\">\n",
       "<table border=\"1\" class=\"dataframe\">\n",
       "  <thead>\n",
       "    <tr style=\"text-align: right;\">\n",
       "      <th></th>\n",
       "      <th>base_error</th>\n",
       "      <th>extended_error</th>\n",
       "      <th>locationid</th>\n",
       "      <th>name</th>\n",
       "    </tr>\n",
       "  </thead>\n",
       "  <tbody>\n",
       "    <tr>\n",
       "      <th>0</th>\n",
       "      <td> 0.124358</td>\n",
       "      <td> 0.072933</td>\n",
       "      <td> 1002</td>\n",
       "      <td> Andrew Square</td>\n",
       "    </tr>\n",
       "    <tr>\n",
       "      <th>1</th>\n",
       "      <td> 0.588291</td>\n",
       "      <td> 0.640273</td>\n",
       "      <td> 1004</td>\n",
       "      <td>    JFK/U Mass</td>\n",
       "    </tr>\n",
       "    <tr>\n",
       "      <th>2</th>\n",
       "      <td> 0.179725</td>\n",
       "      <td> 0.099331</td>\n",
       "      <td> 1005</td>\n",
       "      <td>  North Quincy</td>\n",
       "    </tr>\n",
       "    <tr>\n",
       "      <th>3</th>\n",
       "      <td> 0.178812</td>\n",
       "      <td> 0.078683</td>\n",
       "      <td> 1006</td>\n",
       "      <td>     Wollaston</td>\n",
       "    </tr>\n",
       "    <tr>\n",
       "      <th>4</th>\n",
       "      <td> 0.510546</td>\n",
       "      <td> 0.408343</td>\n",
       "      <td> 1007</td>\n",
       "      <td> Quincy Center</td>\n",
       "    </tr>\n",
       "  </tbody>\n",
       "</table>\n",
       "</div>"
      ],
      "text/plain": [
       "   base_error  extended_error  locationid           name\n",
       "0    0.124358        0.072933        1002  Andrew Square\n",
       "1    0.588291        0.640273        1004     JFK/U Mass\n",
       "2    0.179725        0.099331        1005   North Quincy\n",
       "3    0.178812        0.078683        1006      Wollaston\n",
       "4    0.510546        0.408343        1007  Quincy Center"
      ]
     },
     "execution_count": 69,
     "metadata": {},
     "output_type": "execute_result"
    }
   ],
   "source": [
    "# Create the two feature sets to compare.\n",
    "base_features = ['entries_weeks_ago_1']\n",
    "extended_features = ['entries_weeks_ago_1', 'entries_weeks_ago_2', 'snow_fall', 'snow_accum', 'celtics_game']\n",
    "results = test_all_stations(base_features, extended_features)\n",
    "                     \n",
    "print(str(np.mean(results['base_error'])))\n",
    "print(str(np.mean(results['extended_error'])))\n",
    "                     \n",
    "results.head()"
   ]
  },
  {
   "cell_type": "code",
   "execution_count": 61,
   "metadata": {
    "collapsed": false
   },
   "outputs": [
    {
     "name": "stdout",
     "output_type": "stream",
     "text": [
      "0.135865629697\n",
      "41\n",
      "0.650793650794\n"
     ]
    },
    {
     "data": {
      "text/html": [
       "<div style=\"max-height:1000px;max-width:1500px;overflow:auto;\">\n",
       "<table border=\"1\" class=\"dataframe\">\n",
       "  <thead>\n",
       "    <tr style=\"text-align: right;\">\n",
       "      <th></th>\n",
       "      <th>base_error</th>\n",
       "      <th>extended_error</th>\n",
       "      <th>locationid</th>\n",
       "      <th>name</th>\n",
       "    </tr>\n",
       "  </thead>\n",
       "  <tbody>\n",
       "    <tr>\n",
       "      <th>0</th>\n",
       "      <td> 0.124358</td>\n",
       "      <td> 0.105311</td>\n",
       "      <td> 1002</td>\n",
       "      <td> Andrew Square</td>\n",
       "    </tr>\n",
       "    <tr>\n",
       "      <th>2</th>\n",
       "      <td> 0.179725</td>\n",
       "      <td> 0.133903</td>\n",
       "      <td> 1005</td>\n",
       "      <td>  North Quincy</td>\n",
       "    </tr>\n",
       "    <tr>\n",
       "      <th>3</th>\n",
       "      <td> 0.178812</td>\n",
       "      <td> 0.128499</td>\n",
       "      <td> 1006</td>\n",
       "      <td>     Wollaston</td>\n",
       "    </tr>\n",
       "    <tr>\n",
       "      <th>6</th>\n",
       "      <td> 0.098316</td>\n",
       "      <td> 0.082028</td>\n",
       "      <td> 1010</td>\n",
       "      <td>      Maverick</td>\n",
       "    </tr>\n",
       "    <tr>\n",
       "      <th>7</th>\n",
       "      <td> 0.322867</td>\n",
       "      <td> 0.171018</td>\n",
       "      <td> 1011</td>\n",
       "      <td>       Airport</td>\n",
       "    </tr>\n",
       "  </tbody>\n",
       "</table>\n",
       "</div>"
      ],
      "text/plain": [
       "   base_error  extended_error  locationid           name\n",
       "0    0.124358        0.105311        1002  Andrew Square\n",
       "2    0.179725        0.133903        1005   North Quincy\n",
       "3    0.178812        0.128499        1006      Wollaston\n",
       "6    0.098316        0.082028        1010       Maverick\n",
       "7    0.322867        0.171018        1011        Airport"
      ]
     },
     "execution_count": 61,
     "metadata": {},
     "output_type": "execute_result"
    }
   ],
   "source": [
    "subresults = results[results['extended_error'] < .2]\n",
    "print(str(np.mean(subresults['extended_error'])))\n",
    "\n",
    "print(len(subresults))\n",
    "print(len(subresults) / float(len(results)))\n",
    "\n",
    "subresults.head()"
   ]
  },
  {
   "cell_type": "code",
   "execution_count": 62,
   "metadata": {
    "collapsed": false
   },
   "outputs": [
    {
     "name": "stdout",
     "output_type": "stream",
     "text": [
      "0.321572341803\n",
      "22\n",
      "0.349206349206\n"
     ]
    },
    {
     "data": {
      "text/html": [
       "<div style=\"max-height:1000px;max-width:1500px;overflow:auto;\">\n",
       "<table border=\"1\" class=\"dataframe\">\n",
       "  <thead>\n",
       "    <tr style=\"text-align: right;\">\n",
       "      <th></th>\n",
       "      <th>base_error</th>\n",
       "      <th>extended_error</th>\n",
       "      <th>locationid</th>\n",
       "      <th>name</th>\n",
       "    </tr>\n",
       "  </thead>\n",
       "  <tbody>\n",
       "    <tr>\n",
       "      <th>1 </th>\n",
       "      <td> 0.588291</td>\n",
       "      <td> 0.394218</td>\n",
       "      <td> 1004</td>\n",
       "      <td>    JFK/U Mass</td>\n",
       "    </tr>\n",
       "    <tr>\n",
       "      <th>4 </th>\n",
       "      <td> 0.510546</td>\n",
       "      <td> 0.273338</td>\n",
       "      <td> 1007</td>\n",
       "      <td> Quincy Center</td>\n",
       "    </tr>\n",
       "    <tr>\n",
       "      <th>5 </th>\n",
       "      <td> 0.294523</td>\n",
       "      <td> 0.212904</td>\n",
       "      <td> 1009</td>\n",
       "      <td> South Station</td>\n",
       "    </tr>\n",
       "    <tr>\n",
       "      <th>12</th>\n",
       "      <td> 0.502344</td>\n",
       "      <td> 0.279325</td>\n",
       "      <td> 1016</td>\n",
       "      <td>     Beachmont</td>\n",
       "    </tr>\n",
       "    <tr>\n",
       "      <th>14</th>\n",
       "      <td> 0.448367</td>\n",
       "      <td> 0.244466</td>\n",
       "      <td> 1018</td>\n",
       "      <td>    Wonderland</td>\n",
       "    </tr>\n",
       "  </tbody>\n",
       "</table>\n",
       "</div>"
      ],
      "text/plain": [
       "    base_error  extended_error  locationid           name\n",
       "1     0.588291        0.394218        1004     JFK/U Mass\n",
       "4     0.510546        0.273338        1007  Quincy Center\n",
       "5     0.294523        0.212904        1009  South Station\n",
       "12    0.502344        0.279325        1016      Beachmont\n",
       "14    0.448367        0.244466        1018     Wonderland"
      ]
     },
     "execution_count": 62,
     "metadata": {},
     "output_type": "execute_result"
    }
   ],
   "source": [
    "subresults = results[results['extended_error'] > .2]\n",
    "print(str(np.mean(subresults['extended_error'])))\n",
    "\n",
    "print(len(subresults))\n",
    "print(len(subresults) / float(len(results)))\n",
    "\n",
    "subresults.head()"
   ]
  },
  {
   "cell_type": "code",
   "execution_count": 63,
   "metadata": {
    "collapsed": false
   },
   "outputs": [
    {
     "name": "stdout",
     "output_type": "stream",
     "text": [
      "0.587483042644\n",
      "1\n",
      "0.015873015873\n"
     ]
    },
    {
     "data": {
      "text/html": [
       "<div style=\"max-height:1000px;max-width:1500px;overflow:auto;\">\n",
       "<table border=\"1\" class=\"dataframe\">\n",
       "  <thead>\n",
       "    <tr style=\"text-align: right;\">\n",
       "      <th></th>\n",
       "      <th>base_error</th>\n",
       "      <th>extended_error</th>\n",
       "      <th>locationid</th>\n",
       "      <th>name</th>\n",
       "    </tr>\n",
       "  </thead>\n",
       "  <tbody>\n",
       "    <tr>\n",
       "      <th>15</th>\n",
       "      <td> 0.782504</td>\n",
       "      <td> 0.587483</td>\n",
       "      <td> 1019</td>\n",
       "      <td> Bowdoin</td>\n",
       "    </tr>\n",
       "  </tbody>\n",
       "</table>\n",
       "</div>"
      ],
      "text/plain": [
       "    base_error  extended_error  locationid     name\n",
       "15    0.782504        0.587483        1019  Bowdoin"
      ]
     },
     "execution_count": 63,
     "metadata": {},
     "output_type": "execute_result"
    }
   ],
   "source": [
    "subresults = results[results['extended_error'] > .5]\n",
    "print(str(np.mean(subresults['extended_error'])))\n",
    "\n",
    "print(len(subresults))\n",
    "print(len(subresults) / float(len(results)))\n",
    "\n",
    "subresults.head()"
   ]
  },
  {
   "cell_type": "code",
   "execution_count": 83,
   "metadata": {
    "collapsed": false
   },
   "outputs": [
    {
     "name": "stdout",
     "output_type": "stream",
     "text": [
      "0.269181924069\n",
      "0.200673440707\n"
     ]
    },
    {
     "data": {
      "text/html": [
       "<div style=\"max-height:1000px;max-width:1500px;overflow:auto;\">\n",
       "<table border=\"1\" class=\"dataframe\">\n",
       "  <thead>\n",
       "    <tr style=\"text-align: right;\">\n",
       "      <th></th>\n",
       "      <th>base_error</th>\n",
       "      <th>extended_error</th>\n",
       "      <th>locationid</th>\n",
       "      <th>name</th>\n",
       "    </tr>\n",
       "  </thead>\n",
       "  <tbody>\n",
       "    <tr>\n",
       "      <th>0</th>\n",
       "      <td> 0.124358</td>\n",
       "      <td> 0.105314</td>\n",
       "      <td> 1002</td>\n",
       "      <td> Andrew Square</td>\n",
       "    </tr>\n",
       "    <tr>\n",
       "      <th>1</th>\n",
       "      <td> 0.588291</td>\n",
       "      <td> 0.393799</td>\n",
       "      <td> 1004</td>\n",
       "      <td>    JFK/U Mass</td>\n",
       "    </tr>\n",
       "    <tr>\n",
       "      <th>2</th>\n",
       "      <td> 0.179725</td>\n",
       "      <td> 0.133917</td>\n",
       "      <td> 1005</td>\n",
       "      <td>  North Quincy</td>\n",
       "    </tr>\n",
       "    <tr>\n",
       "      <th>3</th>\n",
       "      <td> 0.178812</td>\n",
       "      <td> 0.128515</td>\n",
       "      <td> 1006</td>\n",
       "      <td>     Wollaston</td>\n",
       "    </tr>\n",
       "    <tr>\n",
       "      <th>4</th>\n",
       "      <td> 0.510546</td>\n",
       "      <td> 0.273401</td>\n",
       "      <td> 1007</td>\n",
       "      <td> Quincy Center</td>\n",
       "    </tr>\n",
       "  </tbody>\n",
       "</table>\n",
       "</div>"
      ],
      "text/plain": [
       "   base_error  extended_error  locationid           name\n",
       "0    0.124358        0.105314        1002  Andrew Square\n",
       "1    0.588291        0.393799        1004     JFK/U Mass\n",
       "2    0.179725        0.133917        1005   North Quincy\n",
       "3    0.178812        0.128515        1006      Wollaston\n",
       "4    0.510546        0.273401        1007  Quincy Center"
      ]
     },
     "execution_count": 83,
     "metadata": {},
     "output_type": "execute_result"
    }
   ],
   "source": [
    "predictor = linear_model.Ridge()\n",
    "parameters = {\"alpha\": [.1, .2, .3, .4, .5, .6, .7, .8, .9, 1.0, 1.1, 1.2, 1.3, 1.4, 1.5]}\n",
    "\n",
    "# Create the two feature sets to compare.\n",
    "base_features = ['entries_weeks_ago_1']\n",
    "extended_features = ['entries_weeks_ago_1', 'entries_weeks_ago_2', 'snow_fall', 'snow_accum']\n",
    "results = test_all_stations(base_features, extended_features, predictor=predictor, parameters=parameters)\n",
    "                     \n",
    "print(str(np.mean(results['base_error'])))\n",
    "print(str(np.mean(results['extended_error'])))\n",
    "                     \n",
    "results.head()"
   ]
  },
  {
   "cell_type": "markdown",
   "metadata": {},
   "source": [
    "Just from a quick analysis we can visually see a reduction in error for the extended feature set (baseline + snow features)."
   ]
  },
  {
   "cell_type": "code",
   "execution_count": 2,
   "metadata": {
    "collapsed": false
   },
   "outputs": [
    {
     "ename": "NameError",
     "evalue": "name 'sub_results' is not defined",
     "output_type": "error",
     "traceback": [
      "\u001b[0;31m---------------------------------------------------------------------------\u001b[0m",
      "\u001b[0;31mNameError\u001b[0m                                 Traceback (most recent call last)",
      "\u001b[0;32m<ipython-input-2-85f78074394e>\u001b[0m in \u001b[0;36m<module>\u001b[0;34m()\u001b[0m\n\u001b[0;32m----> 1\u001b[0;31m \u001b[0mn\u001b[0m \u001b[0;34m=\u001b[0m \u001b[0mlen\u001b[0m\u001b[0;34m(\u001b[0m\u001b[0msub_results\u001b[0m\u001b[0;34m)\u001b[0m\u001b[0;34m\u001b[0m\u001b[0m\n\u001b[0m\u001b[1;32m      2\u001b[0m \u001b[0;34m\u001b[0m\u001b[0m\n\u001b[1;32m      3\u001b[0m \u001b[0mnames\u001b[0m \u001b[0;34m=\u001b[0m \u001b[0msub_results\u001b[0m\u001b[0;34m[\u001b[0m\u001b[0;34m'name'\u001b[0m\u001b[0;34m]\u001b[0m\u001b[0;34m.\u001b[0m\u001b[0mvalues\u001b[0m\u001b[0;34m\u001b[0m\u001b[0m\n\u001b[1;32m      4\u001b[0m \u001b[0mbase_errors\u001b[0m \u001b[0;34m=\u001b[0m \u001b[0msub_results\u001b[0m\u001b[0;34m[\u001b[0m\u001b[0;34m'base_error'\u001b[0m\u001b[0;34m]\u001b[0m\u001b[0;34m.\u001b[0m\u001b[0mvalues\u001b[0m\u001b[0;34m\u001b[0m\u001b[0m\n\u001b[1;32m      5\u001b[0m \u001b[0msnow_errors\u001b[0m \u001b[0;34m=\u001b[0m \u001b[0msub_results\u001b[0m\u001b[0;34m[\u001b[0m\u001b[0;34m'extended_error'\u001b[0m\u001b[0;34m]\u001b[0m\u001b[0;34m.\u001b[0m\u001b[0mvalues\u001b[0m\u001b[0;34m\u001b[0m\u001b[0m\n",
      "\u001b[0;31mNameError\u001b[0m: name 'sub_results' is not defined"
     ]
    }
   ],
   "source": [
    "n = len(sub_results)\n",
    "\n",
    "names = sub_results['name'].values\n",
    "base_errors = sub_results['base_error'].values\n",
    "snow_errors = sub_results['extended_error'].values\n",
    "\n",
    "ind = np.arange(n)\n",
    "width = .35\n",
    "\n",
    "fig, ax = plt.subplots(figsize=(12, 6))\n",
    "rects1 = ax.bar(ind, base_errors, width, color='gray')\n",
    "rects2 = ax.bar(ind+width, snow_errors, width, color='blue')\n",
    "\n",
    "# add some text for labels, title and axes ticks\n",
    "ax.set_title('Scores by group and gender')\n",
    "ax.set_xlabel('Station')\n",
    "ax.set_ylabel('Mean Percent Error')\n",
    "\n",
    "ax.set_xticks(ind+width)\n",
    "ax.set_xticklabels( names )\n",
    "\n",
    "ax.legend( (rects1[0], rects2[0]), ('Base', 'Snow') )\n",
    "\n",
    "plt.show()"
   ]
  },
  {
   "cell_type": "markdown",
   "metadata": {},
   "source": [
    "In all cases, we see a reduction in the percent error. Two cases, however, stand out: Braintree and Downtown Crossing. Both will need additional analysis, but that is outside the scope of this notebook."
   ]
  },
  {
   "cell_type": "markdown",
   "metadata": {},
   "source": [
    "## Conclusion ##\n",
    "\n",
    "By adding snow features to a baseline feature set we were able to improve our predictive models. This tells us that snow certainly has an affect on ridership and can be useful for helping the MBTA predict ridership on a daily basis."
   ]
  }
 ],
 "metadata": {
  "kernelspec": {
   "display_name": "Python 2",
   "language": "python",
   "name": "python2"
  },
  "language_info": {
   "codemirror_mode": {
    "name": "ipython",
    "version": 2
   },
   "file_extension": ".py",
   "mimetype": "text/x-python",
   "name": "python",
   "nbconvert_exporter": "python",
   "pygments_lexer": "ipython2",
   "version": "2.7.9"
  }
 },
 "nbformat": 4,
 "nbformat_minor": 0
}
