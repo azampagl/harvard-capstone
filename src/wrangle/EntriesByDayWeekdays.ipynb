{
 "cells": [
  {
   "cell_type": "markdown",
   "metadata": {},
   "source": [
    "# Filter MBTA Weekends/Weekdays #"
   ]
  },
  {
   "cell_type": "markdown",
   "metadata": {},
   "source": [
    "## Setup ##"
   ]
  },
  {
   "cell_type": "code",
   "execution_count": 1,
   "metadata": {
    "collapsed": false
   },
   "outputs": [],
   "source": [
    "import sys\n",
    "import datetime\n",
    "import numpy as np\n",
    "import pandas as pd"
   ]
  },
  {
   "cell_type": "markdown",
   "metadata": {},
   "source": [
    "## Import Data ##"
   ]
  },
  {
   "cell_type": "code",
   "execution_count": 2,
   "metadata": {
    "collapsed": false
   },
   "outputs": [
    {
     "data": {
      "text/html": [
       "<div style=\"max-height:1000px;max-width:1500px;overflow:auto;\">\n",
       "<table border=\"1\" class=\"dataframe\">\n",
       "  <thead>\n",
       "    <tr style=\"text-align: right;\">\n",
       "      <th></th>\n",
       "      <th>locationid</th>\n",
       "      <th>service_day</th>\n",
       "      <th>entries</th>\n",
       "      <th>name</th>\n",
       "      <th>line_1</th>\n",
       "      <th>line_2</th>\n",
       "      <th>lat</th>\n",
       "      <th>lon</th>\n",
       "      <th>service_datetime</th>\n",
       "      <th>fog</th>\n",
       "      <th>...</th>\n",
       "      <th>snow_fall_predict</th>\n",
       "      <th>snow_accum</th>\n",
       "      <th>snow_accum_predict</th>\n",
       "      <th>dist_to_center</th>\n",
       "      <th>entries_weeks_ago_1</th>\n",
       "      <th>entries_weeks_ago_2</th>\n",
       "      <th>entries_weeks_ago_3</th>\n",
       "      <th>bruins_game</th>\n",
       "      <th>celtics_game</th>\n",
       "      <th>sox_game</th>\n",
       "    </tr>\n",
       "  </thead>\n",
       "  <tbody>\n",
       "    <tr>\n",
       "      <th>0</th>\n",
       "      <td> 1002</td>\n",
       "      <td> 2013-01-03 00:00:00</td>\n",
       "      <td> 5733</td>\n",
       "      <td> Andrew Square</td>\n",
       "      <td> Red</td>\n",
       "      <td> NaN</td>\n",
       "      <td> 42.329550</td>\n",
       "      <td>-71.056960</td>\n",
       "      <td> 2013-01-03 05:00:00</td>\n",
       "      <td> 0</td>\n",
       "      <td>...</td>\n",
       "      <td> 0</td>\n",
       "      <td> 0</td>\n",
       "      <td> 0</td>\n",
       "      <td>  3.404767</td>\n",
       "      <td>NaN</td>\n",
       "      <td>NaN</td>\n",
       "      <td>NaN</td>\n",
       "      <td> 0</td>\n",
       "      <td> 0</td>\n",
       "      <td> 0</td>\n",
       "    </tr>\n",
       "    <tr>\n",
       "      <th>1</th>\n",
       "      <td> 1004</td>\n",
       "      <td> 2013-01-03 00:00:00</td>\n",
       "      <td> 5842</td>\n",
       "      <td>    JFK/U Mass</td>\n",
       "      <td> Red</td>\n",
       "      <td> NaN</td>\n",
       "      <td> 42.321438</td>\n",
       "      <td>-71.052393</td>\n",
       "      <td> 2013-01-03 04:45:00</td>\n",
       "      <td> 0</td>\n",
       "      <td>...</td>\n",
       "      <td> 0</td>\n",
       "      <td> 0</td>\n",
       "      <td> 0</td>\n",
       "      <td>  4.328881</td>\n",
       "      <td>NaN</td>\n",
       "      <td>NaN</td>\n",
       "      <td>NaN</td>\n",
       "      <td> 0</td>\n",
       "      <td> 0</td>\n",
       "      <td> 0</td>\n",
       "    </tr>\n",
       "    <tr>\n",
       "      <th>2</th>\n",
       "      <td> 1005</td>\n",
       "      <td> 2013-01-03 00:00:00</td>\n",
       "      <td> 6139</td>\n",
       "      <td>  North Quincy</td>\n",
       "      <td> Red</td>\n",
       "      <td> NaN</td>\n",
       "      <td> 42.274816</td>\n",
       "      <td>-71.029176</td>\n",
       "      <td> 2013-01-03 03:15:00</td>\n",
       "      <td> 0</td>\n",
       "      <td>...</td>\n",
       "      <td> 0</td>\n",
       "      <td> 0</td>\n",
       "      <td> 0</td>\n",
       "      <td>  9.777437</td>\n",
       "      <td>NaN</td>\n",
       "      <td>NaN</td>\n",
       "      <td>NaN</td>\n",
       "      <td> 0</td>\n",
       "      <td> 0</td>\n",
       "      <td> 0</td>\n",
       "    </tr>\n",
       "    <tr>\n",
       "      <th>3</th>\n",
       "      <td> 1006</td>\n",
       "      <td> 2013-01-03 00:00:00</td>\n",
       "      <td> 4028</td>\n",
       "      <td>     Wollaston</td>\n",
       "      <td> Red</td>\n",
       "      <td> NaN</td>\n",
       "      <td> 42.265615</td>\n",
       "      <td>-71.019402</td>\n",
       "      <td> 2013-01-03 05:00:00</td>\n",
       "      <td> 0</td>\n",
       "      <td>...</td>\n",
       "      <td> 0</td>\n",
       "      <td> 0</td>\n",
       "      <td> 0</td>\n",
       "      <td> 10.976943</td>\n",
       "      <td>NaN</td>\n",
       "      <td>NaN</td>\n",
       "      <td>NaN</td>\n",
       "      <td> 0</td>\n",
       "      <td> 0</td>\n",
       "      <td> 0</td>\n",
       "    </tr>\n",
       "    <tr>\n",
       "      <th>4</th>\n",
       "      <td> 1007</td>\n",
       "      <td> 2013-01-03 00:00:00</td>\n",
       "      <td> 7331</td>\n",
       "      <td> Quincy Center</td>\n",
       "      <td> Red</td>\n",
       "      <td> NaN</td>\n",
       "      <td> 42.250879</td>\n",
       "      <td>-71.004798</td>\n",
       "      <td> 2013-01-03 04:30:00</td>\n",
       "      <td> 0</td>\n",
       "      <td>...</td>\n",
       "      <td> 0</td>\n",
       "      <td> 0</td>\n",
       "      <td> 0</td>\n",
       "      <td> 12.909591</td>\n",
       "      <td>NaN</td>\n",
       "      <td>NaN</td>\n",
       "      <td>NaN</td>\n",
       "      <td> 0</td>\n",
       "      <td> 0</td>\n",
       "      <td> 0</td>\n",
       "    </tr>\n",
       "  </tbody>\n",
       "</table>\n",
       "<p>5 rows × 50 columns</p>\n",
       "</div>"
      ],
      "text/plain": [
       "   locationid          service_day  entries           name line_1 line_2  \\\n",
       "0        1002  2013-01-03 00:00:00     5733  Andrew Square    Red    NaN   \n",
       "1        1004  2013-01-03 00:00:00     5842     JFK/U Mass    Red    NaN   \n",
       "2        1005  2013-01-03 00:00:00     6139   North Quincy    Red    NaN   \n",
       "3        1006  2013-01-03 00:00:00     4028      Wollaston    Red    NaN   \n",
       "4        1007  2013-01-03 00:00:00     7331  Quincy Center    Red    NaN   \n",
       "\n",
       "         lat        lon     service_datetime  fog ...   snow_fall_predict  \\\n",
       "0  42.329550 -71.056960  2013-01-03 05:00:00    0 ...                   0   \n",
       "1  42.321438 -71.052393  2013-01-03 04:45:00    0 ...                   0   \n",
       "2  42.274816 -71.029176  2013-01-03 03:15:00    0 ...                   0   \n",
       "3  42.265615 -71.019402  2013-01-03 05:00:00    0 ...                   0   \n",
       "4  42.250879 -71.004798  2013-01-03 04:30:00    0 ...                   0   \n",
       "\n",
       "   snow_accum  snow_accum_predict  dist_to_center  entries_weeks_ago_1  \\\n",
       "0           0                   0        3.404767                  NaN   \n",
       "1           0                   0        4.328881                  NaN   \n",
       "2           0                   0        9.777437                  NaN   \n",
       "3           0                   0       10.976943                  NaN   \n",
       "4           0                   0       12.909591                  NaN   \n",
       "\n",
       "   entries_weeks_ago_2  entries_weeks_ago_3  bruins_game  celtics_game  \\\n",
       "0                  NaN                  NaN            0             0   \n",
       "1                  NaN                  NaN            0             0   \n",
       "2                  NaN                  NaN            0             0   \n",
       "3                  NaN                  NaN            0             0   \n",
       "4                  NaN                  NaN            0             0   \n",
       "\n",
       "   sox_game  \n",
       "0         0  \n",
       "1         0  \n",
       "2         0  \n",
       "3         0  \n",
       "4         0  \n",
       "\n",
       "[5 rows x 50 columns]"
      ]
     },
     "execution_count": 2,
     "metadata": {},
     "output_type": "execute_result"
    }
   ],
   "source": [
    "data = pd.read_csv(\"../../../data/mbta_daily_weather_games_noholidays.csv\", low_memory=False)\n",
    "data.head()"
   ]
  },
  {
   "cell_type": "code",
   "execution_count": 3,
   "metadata": {
    "collapsed": false
   },
   "outputs": [],
   "source": [
    "data[(pd.DatetimeIndex(data['service_day']).weekday != 5) & (pd.DatetimeIndex(data['service_day']).weekday != 6)].to_csv(\"../../../data/mbta_daily_weather_games_noholidays_weekdays.csv\", index=False)"
   ]
  },
  {
   "cell_type": "code",
   "execution_count": 5,
   "metadata": {
    "collapsed": true
   },
   "outputs": [],
   "source": [
    "data[(pd.DatetimeIndex(data['service_day']).weekday == 5) | (pd.DatetimeIndex(data['service_day']).weekday == 6)].to_csv(\"../../../data/mbta_daily_weather_games_noholidays_weekends.csv\", index=False)"
   ]
  }
 ],
 "metadata": {
  "kernelspec": {
   "display_name": "Python 2",
   "language": "python",
   "name": "python2"
  },
  "language_info": {
   "codemirror_mode": {
    "name": "ipython",
    "version": 2
   },
   "file_extension": ".py",
   "mimetype": "text/x-python",
   "name": "python",
   "nbconvert_exporter": "python",
   "pygments_lexer": "ipython2",
   "version": "2.7.9"
  }
 },
 "nbformat": 4,
 "nbformat_minor": 0
}
