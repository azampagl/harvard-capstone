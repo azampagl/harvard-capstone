{
 "metadata": {
  "name": "",
  "signature": "sha256:7a9e53bb552a84afa61d03a674134dc2a48e5317e1858402be51212115264f97"
 },
 "nbformat": 3,
 "nbformat_minor": 0,
 "worksheets": [
  {
   "cells": [
    {
     "cell_type": "heading",
     "level": 1,
     "metadata": {},
     "source": [
      "NCDC Snow Data Scraping"
     ]
    },
    {
     "cell_type": "markdown",
     "metadata": {},
     "source": [
      "This script scrapes the NCDC's [Snowfall & Snow Depth](http://www.ncdc.noaa.gov/snow-and-ice/daily-snow/) data, retrieving daily records for Boston.\n",
      "\n",
      "For faithfulness to the source, this script will not correct missing data entries (\"-9999.000\"). Downstream processes should clean them. Zeros may be an appropriate choice. Depending on the exact date in question, other sources or daily averages might work too."
     ]
    },
    {
     "cell_type": "heading",
     "level": 3,
     "metadata": {},
     "source": [
      "Setup & Configuration"
     ]
    },
    {
     "cell_type": "code",
     "collapsed": false,
     "input": [
      "### Libraries\n",
      "\n",
      "import pandas as pd\n",
      "import requests\n",
      "import time\n",
      "\n",
      "### General Settings\n",
      "\n",
      "# Data URL. Can use % syntax to insert month and year into this string.\n",
      "ncdc_data_url = 'http://www1.ncdc.noaa.gov/pub/data/snowmonitoring/fema/%02d-%04d-dlysnfl.txt'\n",
      "\n",
      "# Output folder.\n",
      "output_dir = '../../../data/weather/ncdc_snowfall/'\n",
      "\n",
      "# Should wait several seconds between requests in order to avoid errors.\n",
      "wait_secs = 5"
     ],
     "language": "python",
     "metadata": {},
     "outputs": [],
     "prompt_number": 1
    },
    {
     "cell_type": "code",
     "collapsed": false,
     "input": [
      "### Run-Specific Settings\n",
      "\n",
      "# Starting year and month.\n",
      "start_year = 2014\n",
      "start_month = 1\n",
      "\n",
      "# Ending year and month.\n",
      "end_year = 2015\n",
      "end_month = 2"
     ],
     "language": "python",
     "metadata": {},
     "outputs": [],
     "prompt_number": 2
    },
    {
     "cell_type": "heading",
     "level": 3,
     "metadata": {},
     "source": [
      "Retrieve Data"
     ]
    },
    {
     "cell_type": "code",
     "collapsed": false,
     "input": [
      "# Loop over years and months.\n",
      "for y in xrange(start_year,end_year+1):\n",
      "    month_range_start = start_month if y == start_year else 1\n",
      "    for m in xrange(start_month,13):\n",
      "        # Break if we've reached the end.\n",
      "        if y == end_year and m > end_month:\n",
      "            break\n",
      "        \n",
      "        # Actually get data.\n",
      "        data_request = requests.get(ncdc_data_url % (m,y))\n",
      "        \n",
      "        # Proceed if our request returned status 200. Otherwise there was a problem.\n",
      "        if data_request.status_code == 200:\n",
      "            # Get raw text and find the Boston line with a simple text search.\n",
      "            lines = data_request.text.splitlines()\n",
      "            boston_line = next(l for l in lines if ('MA BOSTON' in l))\n",
      "            # Make array and remove irrelevant data at the start of each entry.\n",
      "            boston_entries = boston_line.split()\n",
      "            boston_entries = boston_entries[boston_entries.index('SUFFOLK')+2:]\n",
      "            # Generate day-snowfall pairs. Convert to data frame and write out.\n",
      "            tuples = [[u'%04d-%02d-%02d' % (y,m,i+1), s] for i, s in enumerate(boston_entries)]\n",
      "            snowfall_df = pd.DataFrame(tuples, columns=['date','snowfall'])\n",
      "            snowfall_df.to_csv('%s%04d%02d.csv' % (output_dir,y,m), delimiter=',', index=False)\n",
      "            # Final status update.\n",
      "            print 'Retrieved data for %04d-%02d.' % (y,m)\n",
      "        else:\n",
      "            print 'Problem getting data for %04d-%02d.' % (y,m)\n",
      "            print 'Encountered status code %d. Message: %s' % (data_request.status_code,data_request.message)\n",
      "        \n",
      "        # Sleep until next run.\n",
      "        time.sleep(wait_secs)"
     ],
     "language": "python",
     "metadata": {},
     "outputs": [
      {
       "output_type": "stream",
       "stream": "stdout",
       "text": [
        "Retrieved data for 2014-01.\n",
        "Retrieved data for 2014-02."
       ]
      },
      {
       "output_type": "stream",
       "stream": "stdout",
       "text": [
        "\n",
        "Retrieved data for 2014-03."
       ]
      },
      {
       "output_type": "stream",
       "stream": "stdout",
       "text": [
        "\n",
        "Retrieved data for 2014-04."
       ]
      },
      {
       "output_type": "stream",
       "stream": "stdout",
       "text": [
        "\n",
        "Retrieved data for 2014-05."
       ]
      },
      {
       "output_type": "stream",
       "stream": "stdout",
       "text": [
        "\n",
        "Retrieved data for 2014-06."
       ]
      },
      {
       "output_type": "stream",
       "stream": "stdout",
       "text": [
        "\n",
        "Retrieved data for 2014-07."
       ]
      },
      {
       "output_type": "stream",
       "stream": "stdout",
       "text": [
        "\n",
        "Retrieved data for 2014-08."
       ]
      },
      {
       "output_type": "stream",
       "stream": "stdout",
       "text": [
        "\n",
        "Retrieved data for 2014-09."
       ]
      },
      {
       "output_type": "stream",
       "stream": "stdout",
       "text": [
        "\n",
        "Retrieved data for 2014-10."
       ]
      },
      {
       "output_type": "stream",
       "stream": "stdout",
       "text": [
        "\n",
        "Retrieved data for 2014-11."
       ]
      },
      {
       "output_type": "stream",
       "stream": "stdout",
       "text": [
        "\n",
        "Retrieved data for 2014-12."
       ]
      },
      {
       "output_type": "stream",
       "stream": "stdout",
       "text": [
        "\n",
        "Retrieved data for 2015-01."
       ]
      },
      {
       "output_type": "stream",
       "stream": "stdout",
       "text": [
        "\n",
        "Retrieved data for 2015-02."
       ]
      },
      {
       "output_type": "stream",
       "stream": "stdout",
       "text": [
        "\n"
       ]
      }
     ],
     "prompt_number": 4
    }
   ],
   "metadata": {}
  }
 ]
}