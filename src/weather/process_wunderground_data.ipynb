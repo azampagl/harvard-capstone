{
 "metadata": {
  "name": "",
  "signature": "sha256:b08089c06fc3d7a552244490e7e9c0764e032ac583f8a038b7a2427fb4e0c323"
 },
 "nbformat": 3,
 "nbformat_minor": 0,
 "worksheets": [
  {
   "cells": [
    {
     "cell_type": "heading",
     "level": 1,
     "metadata": {},
     "source": [
      "Weather Underground Data: Process"
     ]
    },
    {
     "cell_type": "markdown",
     "metadata": {},
     "source": [
      "This script processes Weather Underground data into a tabular format suitable for easy joining to other data. It currently only extracts contents from the \"dailysummary\" field, but we could consider more sophisticated feature engineering from the \"observations\" members if there's a case for doing so.\n",
      "\n",
      "Note that there are some oddities in this data. Some precipitation and snowfall records show a \"T\" value for some reason. Spot checking weather records in the web interface for historical data, it looks like those are pretty clear days, so \"T\" values can be zeroed out. We'll do so here."
     ]
    },
    {
     "cell_type": "heading",
     "level": 3,
     "metadata": {},
     "source": [
      "Setup & Configuration"
     ]
    },
    {
     "cell_type": "code",
     "collapsed": false,
     "input": [
      "### Libraries\n",
      "\n",
      "import datetime as dt\n",
      "import json\n",
      "import os\n",
      "import pandas as pd\n",
      "\n",
      "### General Settings\n",
      "\n",
      "# WU data.\n",
      "wu_dir = '../../../data/weather/wunderground/'\n",
      "\n",
      "# Output file.\n",
      "output_file = '../../../data/weather/wunderground_daily_weather.csv'\n",
      "\n",
      "### Feature Settings\n",
      "\n",
      "# List of features to grab from the dailysummary field for each day.\n",
      "daily_summary_features = [\n",
      "    'fog', 'hail', 'rain', 'snow',\n",
      "    'mintempi', 'mintempm',\n",
      "    'maxtempi', 'maxtempm',\n",
      "    'meantempi', 'meantempm',\n",
      "    'precipi', 'precipm',\n",
      "    'snowfalli', 'snowfallm',\n",
      "    'meanwindspdi', 'meanwindspdm',\n",
      "    'minvisi', 'minvism',\n",
      "    'maxvisi', 'maxvism',\n",
      "    'meanvisi', 'meanvism'\n",
      "]"
     ],
     "language": "python",
     "metadata": {},
     "outputs": [],
     "prompt_number": 13
    },
    {
     "cell_type": "heading",
     "level": 3,
     "metadata": {},
     "source": [
      "Execution"
     ]
    },
    {
     "cell_type": "code",
     "collapsed": false,
     "input": [
      "# Read all data into memory.\n",
      "# We could process it progressively but for easy iteration, let's try holding everything in memory.\n",
      "raw_data = {}\n",
      "wu_files = os.listdir(wu_dir)\n",
      "for f in wu_files:\n",
      "    file_date = dt.datetime.strptime(f,'%Y%m%d.json').date()\n",
      "    raw_data[file_date] = json.load(open(wu_dir+f))"
     ],
     "language": "python",
     "metadata": {},
     "outputs": [],
     "prompt_number": 14
    },
    {
     "cell_type": "code",
     "collapsed": false,
     "input": [
      "# Simple text cleaning function\n",
      "# Right now only replaces \"T\" values with 0.0.\n",
      "def clean_val(val):\n",
      "    if val == 'T':\n",
      "        return 0.0\n",
      "    return val\n",
      "\n",
      "# Function to extract useful information from each day of data.\n",
      "# Returns a dictionary of fields.\n",
      "def daily_features(obs):\n",
      "    # Container for features.\n",
      "    features = {}\n",
      "    # Get daily summary.\n",
      "    daily_summary = obs['history']['dailysummary'][0]\n",
      "    \n",
      "    # Set up features container with all daily summary features.\n",
      "    # Any further features should be appended to the dict after this point.\n",
      "    features = dict([(f,clean_val(daily_summary[f])) for f in daily_summary_features])\n",
      "    \n",
      "    # Return\n",
      "    return features"
     ],
     "language": "python",
     "metadata": {},
     "outputs": [],
     "prompt_number": 15
    },
    {
     "cell_type": "code",
     "collapsed": false,
     "input": [
      "# Construct summarized dataset.\n",
      "summarized_data = dict([(k,daily_features(v)) for k,v in raw_data.iteritems()])\n",
      "\n",
      "# Create data frame from dict.\n",
      "wunderground_df = pd.DataFrame(summarized_data).T\n",
      "# Clean up column order, index.\n",
      "wunderground_df = wunderground_df[daily_summary_features]\n",
      "wunderground_df.reset_index(inplace=True, drop=False)\n",
      "wunderground_df.rename(columns={'index':'date'}, inplace=True)\n",
      "# Save.\n",
      "wunderground_df.to_csv(output_file, delimiter=',', index=False)"
     ],
     "language": "python",
     "metadata": {},
     "outputs": [],
     "prompt_number": 16
    }
   ],
   "metadata": {}
  }
 ]
}