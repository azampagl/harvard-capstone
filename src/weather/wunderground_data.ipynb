{
 "metadata": {
  "name": "",
  "signature": "sha256:f0b72f1cff71c65a09dd9111c13c9b8aa6c63c847850296e614c602bc0840cdf"
 },
 "nbformat": 3,
 "nbformat_minor": 0,
 "worksheets": [
  {
   "cells": [
    {
     "cell_type": "heading",
     "level": 1,
     "metadata": {},
     "source": [
      "Weather Underground API Retrieval"
     ]
    },
    {
     "cell_type": "markdown",
     "metadata": {},
     "source": [
      "This script retrieves daily weather statistics for Boston using the [Weather Underground History API](http://www.wunderground.com/weather/api/d/docs?d=data/history&MR=1).\n",
      "\n",
      "Note that this script will not run properly without a saved API key, which is not to be checked into Github. See `config_file` variable below for exact path."
     ]
    },
    {
     "cell_type": "heading",
     "level": 3,
     "metadata": {},
     "source": [
      "Setup & Configuration"
     ]
    },
    {
     "cell_type": "code",
     "collapsed": false,
     "input": [
      "### Libraries\n",
      "\n",
      "import datetime as dt\n",
      "# import json # Helpful for development and debugging.\n",
      "# import numpy as np\n",
      "import pandas as pd\n",
      "import requests\n",
      "import time\n",
      "\n",
      "### General Settings\n",
      "\n",
      "# Weather Underground api url. Can use % syntax to insert key and date into this string.\n",
      "api_url = 'http://api.wunderground.com/api/%s/history_%s/q/MA/Boston.json'\n",
      "\n",
      "# Configuration file. Includes key.\n",
      "config_file = '../../../config/wunderground.json'\n",
      "# Read key.\n",
      "#wu_config = json.load(open(config_file))\n",
      "wu_key = '968d851c673646da'\n",
      "\n",
      "# Output folder.\n",
      "output_dir = '../../../data/weather/wunderground/'\n",
      "\n",
      "# The base WUnderground key only allows 10 requests per minute.\n",
      "# Wait several seconds between calls to ensure that we don't run afoul of this limit.\n",
      "wait_secs = 7\n",
      "\n",
      "### Useful Objects\n",
      "\n",
      "# Time delta for increment.\n",
      "one_day = dt.timedelta(1)"
     ],
     "language": "python",
     "metadata": {},
     "outputs": [],
     "prompt_number": 2
    },
    {
     "cell_type": "code",
     "collapsed": false,
     "input": [
      "### Run-Specific Settings\n",
      "\n",
      "# Starting day.\n",
      "start_date = dt.date(2015, 1, 1)\n",
      "\n",
      "# Ending day.\n",
      "end_date   = dt.date(2015, 2, 12)"
     ],
     "language": "python",
     "metadata": {},
     "outputs": [],
     "prompt_number": 3
    },
    {
     "cell_type": "heading",
     "level": 3,
     "metadata": {},
     "source": [
      "Retrieve Data"
     ]
    },
    {
     "cell_type": "code",
     "collapsed": false,
     "input": [
      "# Go day-by-day and request daily data from WU.\n",
      "d = start_date\n",
      "while d <= end_date:\n",
      "    # Update the user if we're starting a month.\n",
      "    if (d.day == 1):\n",
      "        print 'Starting month: %04d-%02d' % (d.year,d.month)\n",
      "    \n",
      "    # Make a request to the API.\n",
      "    # This sometimes seems to hang and has to be killed manually. Might want to add error catching if this becomes a problem.\n",
      "    api_date = d.strftime('%Y%m%d')\n",
      "    wu_request = requests.get(api_url % (wu_key, api_date))\n",
      "    \n",
      "    # Proceed if our request returned status 200. Otherwise there was a problem.\n",
      "    if wu_request.status_code == 200:\n",
      "        with open(output_dir+api_date+'.json','w') as out_file:\n",
      "            out_file.write(wu_request.text)\n",
      "    else:\n",
      "        print 'Problem getting data for %s.' % d.strftime('%Y-%m-%d')\n",
      "        print 'Encountered status code %d. Message: %s' % (wu_request.status_code,wu_request.message)\n",
      "        print 'Exiting.'\n",
      "        break\n",
      "    \n",
      "    # Advance the date and sleep to avoid API limits.\n",
      "    d = d + one_day\n",
      "    time.sleep(wait_secs)"
     ],
     "language": "python",
     "metadata": {},
     "outputs": [
      {
       "output_type": "stream",
       "stream": "stdout",
       "text": [
        "Starting month: 2015-01\n",
        "Starting month: 2015-02"
       ]
      },
      {
       "output_type": "stream",
       "stream": "stdout",
       "text": [
        "\n"
       ]
      }
     ],
     "prompt_number": 4
    }
   ],
   "metadata": {}
  }
 ]
}