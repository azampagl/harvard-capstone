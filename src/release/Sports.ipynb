{
 "cells": [
  {
   "cell_type": "markdown",
   "metadata": {},
   "source": [
    "# Sports & MBTA Ridership"
   ]
  },
  {
   "cell_type": "markdown",
   "metadata": {},
   "source": [
    "## Motivation"
   ]
  },
  {
   "cell_type": "markdown",
   "metadata": {},
   "source": [
    "Major public events like concerts and sporting events often cause sudden spikes in demand for transportation services, both before they start and after they end. Transportation demand often increases across the system, perhaps with characteristic patterns along different lines and at specific stations. Postgame entries spike at stations in the immediate vicinity of the venue as people exit. We measure this effect in terms of “lift”—T entries in excess of those expected at a particular weekday/time around the same time of year."
   ]
  },
  {
   "cell_type": "markdown",
   "metadata": {},
   "source": [
    "---"
   ]
  },
  {
   "cell_type": "markdown",
   "metadata": {},
   "source": [
    "## Methodology"
   ]
  },
  {
   "cell_type": "markdown",
   "metadata": {},
   "source": [
    "To begin to understand these effects, we focus our analysis on Boston Bruins, Celtics, and Red Sox games. Only home games were considered. Game day traffic is compared to same-weekday and -time traffic on game-less days (e.g., Sunday evening Celtics games are compared to in-season Sunday evenings). We excluded several days from both the set of game days and game-less days, including holidays and service interruptions. Our reasoning: we are seeking the effect of games on traffic, and should not consider days with unique traffic patterns that we are reasonably sure have no link to a game.\n",
    "\n",
    "Note that some stations service more than one line. When that happens, we allocate pregame lift to the line that services the particular team's venue. For example, Government Center lies along the Green and Blue Lines. But only the Green Line services Fenway Park and TD Garden, so all lift is allocated to those lines. This rule is applied for all analysis below."
   ]
  },
  {
   "cell_type": "markdown",
   "metadata": {},
   "source": [
    "### Data"
   ]
  },
  {
   "cell_type": "markdown",
   "metadata": {},
   "source": [
    "We obtained sports schedules by manually retrieving them from [espn.com](http://www.espn.com/) and [redsox.com](http://www.redsox.com/). Time frames for each team’s schedule matches the MBTA data that we have available—they start in early 2013 and run until early 2015 (while the Bruins and Celtics seasons were both ongoing). This constitutes two entire seasons for the Red Sox, and three full or partial seasons for the others."
   ]
  },
  {
   "cell_type": "markdown",
   "metadata": {},
   "source": [
    "---"
   ]
  },
  {
   "cell_type": "markdown",
   "metadata": {},
   "source": [
    "## Pregame Demand Lift"
   ]
  },
  {
   "cell_type": "markdown",
   "metadata": {},
   "source": [
    "### Lift by Line"
   ]
  },
  {
   "cell_type": "markdown",
   "metadata": {},
   "source": [
    "As Boston sports fans live throughout urban Boston and the metropolitan area more generally, we analyzed entry lift throughout the system before games to gauge the effect of sporting events on ridership demand. Line-by-line trends for each team appear below."
   ]
  },
  {
   "cell_type": "markdown",
   "metadata": {},
   "source": [
    "![Pregame lift by line, time for the Boston Bruins](Sports_Images/pregame_lift_time_line_bruins.png)\n",
    "![Pregame lift by line, time for the Boston Celtics](Sports_Images/pregame_lift_time_line_celtics.png)\n",
    "![Pregame lift by line, time for the Boston Red Sox](Sports_Images/pregame_lift_time_line_sox.png)"
   ]
  },
  {
   "cell_type": "markdown",
   "metadata": {},
   "source": [
    "Each team shows a long “ramp-up” starting several hours before game time and peaking around one hour before start. The Bruins and Celtics show comparable lift among non-Blue routes; Red Sox fans show a distinct preference for the Green Line, followed by the Red and Orange.  The Blue Line shows little lift relative to the others, particularly before Celtics games, where Blue Line lift appears negative at times where other lines are reaching their peaks. To illustrate this, aggregate pregame ridership lift by line appears below:"
   ]
  },
  {
   "cell_type": "markdown",
   "metadata": {},
   "source": [
    "![Aggregate pregame lift by line for the Boston Bruins](Sports_Images/pregame_lift_agg_line_bruins.png)\n",
    "![Aggregate pregame lift by line for the Boston Celtics](Sports_Images/pregame_lift_agg_line_celtics.png)\n",
    "![Aggregate pregame lift by line for the Boston Red Sox](Sports_Images/pregame_lift_agg_line_sox.png)"
   ]
  },
  {
   "cell_type": "markdown",
   "metadata": {},
   "source": [
    "### Lift by Station"
   ]
  },
  {
   "cell_type": "markdown",
   "metadata": {},
   "source": [
    "Turning our attention to specific stations: all teams show a mixture of lift at both inner-city stations and those farther out. The top 15 stations for each team appear below, along with notes about any observable patterns. Each table shows the station's primary line, a group that indicates its position in metro Boston, and the pregame lift for that station/team."
   ]
  },
  {
   "cell_type": "markdown",
   "metadata": {},
   "source": [
    "#### Bruins"
   ]
  },
  {
   "cell_type": "markdown",
   "metadata": {},
   "source": [
    "<table style=\"width: 67%\">\n",
    "<thead> <caption>Bruins: Top Stations by Pregame Lift</caption> <tr><th>Station</th><th>Line</th><th>Group</th><th>Lift</th></tr></thead>\n",
    "<tr> <th>Sullivan Square</th> <td> <span style=\"color: orange\">Orange</span> </td> <td>Outer</td> <td>372</td>\n",
    "</tr>\n",
    "<tr> <th>JFK/U Mass</th> <td> <span style=\"color: red\">Red</span> </td> <td>Core</td> <td>346</td>\n",
    "</tr>\n",
    "<tr> <th>Wellington </th> <td> <span style=\"color: orange\">Orange</span> </td> <td>Outer</td> <td>305</td>\n",
    "</tr>\n",
    "<tr> <th>Copley Square</th> <td> <span style=\"color: green\">Green</span> </td> <td>Core</td> <td>293</td>\n",
    "</tr>\n",
    "<tr> <th>Oak Grove</th> <td> <span style=\"color: orange\">Orange</span> </td> <td>Outer</td> <td>293</td>\n",
    "</tr>\n",
    "<tr> <th>Back Bay</th> <td> <span style=\"color: orange\">Orange</span> </td> <td>Core</td> <td>271</td>\n",
    "</tr>\n",
    "<tr> <th>Kenmore Square</th> <td> <span style=\"color: green\">Green</span> </td> <td>Core</td> <td>263</td>\n",
    "</tr>\n",
    "<tr> <th>Government Center</th> <td> <span style=\"color: green\">Green</span> </td> <td>Core</td> <td>261</td>\n",
    "</tr>\n",
    "<tr> <th>Harvard</th> <td> <span style=\"color: red\">Red</span> </td> <td>Core</td> <td>257</td>\n",
    "</tr>\n",
    "<tr> <th>Riverside</th> <td> <span style=\"color: green\">Green</span> </td> <td>Outer</td> <td>242</td>\n",
    "</tr>\n",
    "<tr> <th>Alewife</th> <td> <span style=\"color: red\">Red</span> </td> <td>Outer</td> <td>217</td>\n",
    "</tr>\n",
    "<tr> <th>Arlington</th> <td> <span style=\"color: green\">Green</span> </td> <td>Core</td> <td>211</td>\n",
    "</tr>\n",
    "<tr> <th>Quincy Adams</th> <td> <span style=\"color: red\">Red</span> </td> <td>Outer</td> <td>207</td>\n",
    "</tr>\n",
    "<tr> <th>Braintree</th> <td> <span style=\"color: red\">Red</span> </td> <td>Outer</td> <td>185</td>\n",
    "</tr>\n",
    "<tr> <th>Downtown Crossing</th> <td> <span style=\"color: orange\">Orange</span> </td> <td>Core</td> <td>182</td>\n",
    "</tr>\n",
    "</table>"
   ]
  },
  {
   "cell_type": "markdown",
   "metadata": {},
   "source": [
    "TODO NOTES"
   ]
  },
  {
   "cell_type": "markdown",
   "metadata": {},
   "source": [
    "#### Celtics"
   ]
  },
  {
   "cell_type": "markdown",
   "metadata": {},
   "source": [
    "<table style=\"width: 67%\">\n",
    "<thead> <caption>Celtics: Top Stations by Pregame Lift</caption> <tr><th>Station</th><th>Line</th><th>Group</th><th>Lift</th></tr></thead>\n",
    "<tr> <th>Back Bay</th> <td> <span style=\"color: orange\">Orange</span> </td> <td>Core</td> <td>438</td>\n",
    "</tr>\n",
    "<tr> <th>Ruggles</th> <td> <span style=\"color: orange\">Orange</span> </td> <td>Core</td> <td>428</td>\n",
    "</tr>\n",
    "<tr> <th>Downtown Crossing</th> <td> <span style=\"color: orange\">Orange</span> </td> <td>Core</td> <td>397</td>\n",
    "</tr>\n",
    "<tr> <th>Sullivan Square</th> <td> <span style=\"color: orange\">Orange</span> </td> <td>Outer</td> <td>375</td>\n",
    "</tr>\n",
    "<tr> <th>Copley Square</th> <td> <span style=\"color: green\">Green</span> </td> <td>Core</td> <td>357</td>\n",
    "</tr>\n",
    "<tr> <th>Kenmore Square</th> <td> <span style=\"color: green\">Green</span> </td> <td>Core</td> <td>329</td>\n",
    "</tr>\n",
    "<tr> <th>JFK/U Mass</th> <td> <span style=\"color: red\">Red</span> </td> <td>Core</td> <td>279</td>\n",
    "</tr>\n",
    "<tr> <th>Boylston</th> <td> <span style=\"color: green\">Green</span> </td> <td>Core</td> <td>278</td>\n",
    "</tr>\n",
    "<tr> <th>Hynes</th> <td> <span style=\"color: green\">Green</span> </td> <td>Core</td> <td>262</td>\n",
    "</tr>\n",
    "<tr> <th>Kendall Square</th> <td> <span style=\"color: red\">Red</span> </td> <td>Core</td> <td>249</td>\n",
    "</tr>\n",
    "<tr> <th>Forest Hills</th> <td> <span style=\"color: orange\">Orange</span> </td> <td>Outer</td> <td>248</td>\n",
    "</tr>\n",
    "<tr> <th>Community College</th> <td> <span style=\"color: orange\">Orange</span> </td> <td>Core</td> <td>235</td>\n",
    "</tr>\n",
    "<tr> <th>Arlington</th> <td> <span style=\"color: green\">Green</span> </td> <td>Core</td> <td>200</td>\n",
    "</tr>\n",
    "<tr> <th>Wellington </th> <td> <span style=\"color: orange\">Orange</span> </td> <td>Outer</td> <td>196</td>\n",
    "</tr>\n",
    "<tr> <th>Central Square</th> <td> <span style=\"color: red\">Red</span> </td> <td>Transitional</td> <td>186</td>\n",
    "</tr>\n",
    "</table>"
   ]
  },
  {
   "cell_type": "markdown",
   "metadata": {},
   "source": [
    "TODO NOTES"
   ]
  },
  {
   "cell_type": "markdown",
   "metadata": {},
   "source": [
    "#### Red Sox"
   ]
  },
  {
   "cell_type": "markdown",
   "metadata": {},
   "source": [
    "<table style=\"width: 67%\">\n",
    "<thead> <caption>Red Sox: Top Stations by Pregame Lift</caption> <tr><th>Station</th><th>Line</th><th>Group</th><th>Lift</th></tr></thead>\n",
    "<tr> <th>Riverside</th> <td> <span style=\"color: green\">Green</span> </td> <td>Outer</td> <td>844</td>\n",
    "</tr>\n",
    "<tr> <th>Government Center</th> <td> <span style=\"color: green\">Green</span> </td> <td>Core</td> <td>777</td>\n",
    "</tr>\n",
    "<tr> <th>North Station</th> <td> <span style=\"color: green\">Green</span> </td> <td>Core</td> <td>457</td>\n",
    "</tr>\n",
    "<tr> <th>Park Street</th> <td> <span style=\"color: green\">Green</span> </td> <td>Core</td> <td>431</td>\n",
    "</tr>\n",
    "<tr> <th>Alewife</th> <td> <span style=\"color: red\">Red</span> </td> <td>Outer</td> <td>410</td>\n",
    "</tr>\n",
    "<tr> <th>Copley Square</th> <td> <span style=\"color: green\">Green</span> </td> <td>Core</td> <td>386</td>\n",
    "</tr>\n",
    "<tr> <th>Haymarket</th> <td> <span style=\"color: green\">Green</span> </td> <td>Core</td> <td>379</td>\n",
    "</tr>\n",
    "<tr> <th>Quincy Adams</th> <td> <span style=\"color: red\">Red</span> </td> <td>Outer</td> <td>325</td>\n",
    "</tr>\n",
    "<tr> <th>Harvard</th> <td> <span style=\"color: red\">Red</span> </td> <td>Core</td> <td>289</td>\n",
    "</tr>\n",
    "<tr> <th>Arlington</th> <td> <span style=\"color: green\">Green</span> </td> <td>Core</td> <td>268</td>\n",
    "</tr>\n",
    "<tr> <th>Braintree</th> <td> <span style=\"color: red\">Red</span> </td> <td>Outer</td> <td>261</td>\n",
    "</tr>\n",
    "<tr> <th>Oak Grove</th> <td> <span style=\"color: orange\">Orange</span> </td> <td>Outer</td> <td>257</td>\n",
    "</tr>\n",
    "<tr> <th>Sullivan Square</th> <td> <span style=\"color: orange\">Orange</span> </td> <td>Outer</td> <td>234</td>\n",
    "</tr>\n",
    "<tr> <th>Wellington </th> <td> <span style=\"color: orange\">Orange</span> </td> <td>Outer</td> <td>234</td>\n",
    "</tr>\n",
    "<tr> <th>Wonderland</th> <td> <span style=\"color: blue\">Blue</span> </td> <td>Outer</td> <td>202</td>\n",
    "</tr>\n",
    "</table>"
   ]
  },
  {
   "cell_type": "markdown",
   "metadata": {},
   "source": [
    "TODO NOTES"
   ]
  },
  {
   "cell_type": "markdown",
   "metadata": {},
   "source": [
    "Each sport displays several characteristic patterns. Before Bruins games, several northern Orange Line stations (Sullivan, Wellington, and Oak Grove) show significant entry lift. Celtics games show similar patterns, but with the biggest spikes further south along the Orange Line (at Back Bay and Ruggles). Many Bruins fans also commute from either end of the Red Line (at Alewife, Braintree, and Quincy Adams), while Celtics fans are more likely to come in from Forest Hills. Interestingly, both \n",
    "\n",
    "teams also show significant lift at JFK/UMass along the Red Line—an effect that Red Sox games do not show.\n",
    "In addition to inner-city demand spikes, Red Sox fans show a pronounced pattern of commuting from the far reaches of the T system for games. Riverside and Alewife (the ends of the Red and Green Line “D” routes) are among the most popular pregame stations; Oak Grove, Sullivan Square, Quincy Adams, Braintree, and Wonderland (outlying stations along the Orange, Red, and Blue Lines) also appear among the most-trafficked stations. In this regard, the Red Sox show the most distinctly “suburban” traffic pattern of the three teams; the Celtics show the least."
   ]
  },
  {
   "cell_type": "markdown",
   "metadata": {},
   "source": [
    "---"
   ]
  },
  {
   "cell_type": "markdown",
   "metadata": {},
   "source": [
    "## Postgame Demand Lift"
   ]
  },
  {
   "cell_type": "markdown",
   "metadata": {},
   "source": [
    "Postgame entry lift follows a pattern completely distinct from pregame lift, featuring a large swell in entries around each sporting venue, rather than an aggregate increase in entries across the entire system. Postgame spikes naturally affect the rest of the system—people enter stations to go to others, after all—but we can only observe effects at entry points.\n",
    "\n",
    "For the Bruins and Celtics, we analyzed entry lift at North Station (nearest to TD Garden); Red Sox entries are focused on Kenmore Square and Hynes.  Figure 11 shows postgame lift (from game start until several hours after end) at these stations. Typical game length roughly corresponds to the peak for each team: basketball/hockey games last (on average) just over two hours; baseball games, slightly more than three.\n",
    "\n",
    "TODO\n",
    "\n",
    "As we see, the Bruins/Celtics show a characteristically different pattern from the Red Sox. In the former case, fans appear to immediately exit games (which we theorize to be of relatively uniform time length) and board public transportation. TD Garden holds relatively few fans, but post-game peak lift is larger than any time following a typical Red Sox game.\n",
    "\n",
    "The Red Sox show a much different pattern: lift around Fenway Park gradually increases starting late in the game, and fans continue to enter the T long after the game ends. This pattern holds for individual games, suggesting that it is not an artifact of increased variance in game length; rather, many people both leave a typical baseball game early and remain in the neighborhood longer.\n",
    "\n",
    "Intuitively, much of the observed postgame lift is likely return traffic to the same key stations that we identify for pregame traffic. It is difficult to rigorously analyze transfers and station exits with the data that we have available. It should simply be noted that although postgame entries spike at the observed stations, ridership increases across the system (with the possible exception of the Blue Line for certain sports/games)."
   ]
  },
  {
   "cell_type": "markdown",
   "metadata": {},
   "source": [
    "## Conclusion"
   ]
  },
  {
   "cell_type": "markdown",
   "metadata": {},
   "source": []
  }
 ],
 "metadata": {
  "kernelspec": {
   "display_name": "Python 2",
   "language": "python",
   "name": "python2"
  },
  "language_info": {
   "codemirror_mode": {
    "name": "ipython",
    "version": 2
   },
   "file_extension": ".py",
   "mimetype": "text/x-python",
   "name": "python",
   "nbconvert_exporter": "python",
   "pygments_lexer": "ipython2",
   "version": "2.7.6"
  }
 },
 "nbformat": 4,
 "nbformat_minor": 0
}
