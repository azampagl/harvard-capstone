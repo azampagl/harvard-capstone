{
 "cells": [
  {
   "cell_type": "markdown",
   "metadata": {},
   "source": [
    "# Red Sox Game Analysis"
   ]
  },
  {
   "cell_type": "markdown",
   "metadata": {},
   "source": [
    "This file examines post-game entries at Kenmore station in comparison to expectations."
   ]
  },
  {
   "cell_type": "markdown",
   "metadata": {},
   "source": [
    "## Setup    "
   ]
  },
  {
   "cell_type": "code",
   "execution_count": 1,
   "metadata": {
    "collapsed": false
   },
   "outputs": [],
   "source": [
    "# Libraries.\n",
    "import matplotlib, matplotlib.pyplot as plt\n",
    "import pandas as pd\n",
    "import seaborn as sns\n",
    "\n",
    "# Feature libraries.\n",
    "from features import date"
   ]
  },
  {
   "cell_type": "code",
   "execution_count": 2,
   "metadata": {
    "collapsed": false
   },
   "outputs": [],
   "source": [
    "# Package settings.\n",
    "%matplotlib inline"
   ]
  },
  {
   "cell_type": "markdown",
   "metadata": {},
   "source": [
    "## Data"
   ]
  },
  {
   "cell_type": "code",
   "execution_count": 81,
   "metadata": {
    "collapsed": false
   },
   "outputs": [],
   "source": [
    "# Read Red Sox home games.\n",
    "sox = pd.DataFrame.from_csv(\"../../../data/sox_master.csv\").reset_index(drop=True)\n",
    "\n",
    "# Drop 0s from start date.\n",
    "sox.START_DATE = sox.START_DATE.str.extract('(\\d+-\\d+-\\d+)')\n",
    "# Column for start datetime.\n",
    "sox['game_datetime'] = pd.to_datetime(sox.START_DATE + ' ' + sox.START_TIME)\n",
    "\n",
    "# Add a \"rounded\" game time to make grouping easier.\n",
    "sox['game_time_rounded'] = sox.START_TIME.str.replace(':[012][05] ',':00 ').str.replace(':[345][05] ',':30 ')\n",
    "sox['game_datetime_rounded'] = pd.to_datetime(sox.START_DATE + ' ' + sox.game_time_rounded)\n",
    "\n",
    "# Turn start date into a date.\n",
    "sox.START_DATE = pd.to_datetime(sox.START_DATE)\n",
    "\n",
    "# Rename other columns to make joining easy.\n",
    "sox.rename(columns={'START_DATE':'game_date', 'START_TIME':'game_time', 'OPPONENT':'opponent'}, inplace=True)"
   ]
  },
  {
   "cell_type": "code",
   "execution_count": null,
   "metadata": {
    "collapsed": true
   },
   "outputs": [],
   "source": [
    "sox.head()"
   ]
  },
  {
   "cell_type": "code",
   "execution_count": 41,
   "metadata": {
    "collapsed": false
   },
   "outputs": [],
   "source": [
    "# Import gatecount data.\n",
    "def get_data():\n",
    "    return pd.DataFrame.from_csv(\"../../../data/mbta.csv\").reset_index()\n",
    "gatecount = date.init(get_data())\n",
    "\n",
    "# Restrict to Kenmore and the columns that we need.\n",
    "kenmore = gatecount.ix[gatecount.locationid==1059,['service_day','service_datetime','entries']].reset_index(drop=True)\n",
    "\n",
    "# Turn days/dates into datetimes.\n",
    "kenmore.service_day = pd.to_datetime(kenmore.service_day)\n",
    "kenmore.service_datetime = pd.to_datetime(kenmore.service_datetime)\n",
    "\n",
    "# Add day of week.\n",
    "kenmore = date.add_day_of_week(kenmore.copy())"
   ]
  },
  {
   "cell_type": "code",
   "execution_count": null,
   "metadata": {
    "collapsed": true
   },
   "outputs": [],
   "source": [
    "kenmore.head()"
   ]
  },
  {
   "cell_type": "markdown",
   "metadata": {},
   "source": [
    "## Game Exploration "
   ]
  },
  {
   "cell_type": "markdown",
   "metadata": {},
   "source": [
    "Let's figure out when games happen."
   ]
  },
  {
   "cell_type": "code",
   "execution_count": 84,
   "metadata": {
    "collapsed": false
   },
   "outputs": [],
   "source": [
    "# Copy DF for this analysis.\n",
    "sox_only = sox.copy()\n",
    "# Add weekday.\n",
    "sox_only['day_of_week'] = pd.DatetimeIndex(sox_only.game_date).weekday"
   ]
  },
  {
   "cell_type": "markdown",
   "metadata": {},
   "source": [
    "When do games occur during the week? **Monday is 0.**"
   ]
  },
  {
   "cell_type": "code",
   "execution_count": 85,
   "metadata": {
    "collapsed": false
   },
   "outputs": [
    {
     "data": {
      "text/html": [
       "<div style=\"max-height:1000px;max-width:1500px;overflow:auto;\">\n",
       "<table border=\"1\" class=\"dataframe\">\n",
       "  <thead>\n",
       "    <tr style=\"text-align: right;\">\n",
       "      <th></th>\n",
       "      <th>games</th>\n",
       "    </tr>\n",
       "    <tr>\n",
       "      <th>day_of_week</th>\n",
       "      <th></th>\n",
       "    </tr>\n",
       "  </thead>\n",
       "  <tbody>\n",
       "    <tr>\n",
       "      <th>0</th>\n",
       "      <td> 25</td>\n",
       "    </tr>\n",
       "    <tr>\n",
       "      <th>1</th>\n",
       "      <td> 38</td>\n",
       "    </tr>\n",
       "    <tr>\n",
       "      <th>2</th>\n",
       "      <td> 38</td>\n",
       "    </tr>\n",
       "    <tr>\n",
       "      <th>3</th>\n",
       "      <td> 29</td>\n",
       "    </tr>\n",
       "    <tr>\n",
       "      <th>4</th>\n",
       "      <td> 36</td>\n",
       "    </tr>\n",
       "    <tr>\n",
       "      <th>5</th>\n",
       "      <td> 45</td>\n",
       "    </tr>\n",
       "    <tr>\n",
       "      <th>6</th>\n",
       "      <td> 40</td>\n",
       "    </tr>\n",
       "  </tbody>\n",
       "</table>\n",
       "</div>"
      ],
      "text/plain": [
       "             games\n",
       "day_of_week       \n",
       "0               25\n",
       "1               38\n",
       "2               38\n",
       "3               29\n",
       "4               36\n",
       "5               45\n",
       "6               40"
      ]
     },
     "execution_count": 85,
     "metadata": {},
     "output_type": "execute_result"
    }
   ],
   "source": [
    "games_by_dow = sox_only.groupby(['day_of_week']).agg({'game_time':len})\n",
    "games_by_dow.columns = ['games']\n",
    "games_by_dow"
   ]
  },
  {
   "cell_type": "markdown",
   "metadata": {},
   "source": [
    "Answer: pretty consistently throughout the week. Slightly more on weekends, Tuesday, and Wednesday."
   ]
  },
  {
   "cell_type": "markdown",
   "metadata": {},
   "source": [
    "What about during the day?"
   ]
  },
  {
   "cell_type": "code",
   "execution_count": 90,
   "metadata": {
    "collapsed": false
   },
   "outputs": [
    {
     "data": {
      "text/html": [
       "<div style=\"max-height:1000px;max-width:1500px;overflow:auto;\">\n",
       "<table border=\"1\" class=\"dataframe\">\n",
       "  <thead>\n",
       "    <tr style=\"text-align: right;\">\n",
       "      <th></th>\n",
       "      <th>games</th>\n",
       "    </tr>\n",
       "    <tr>\n",
       "      <th>game_time</th>\n",
       "      <th></th>\n",
       "    </tr>\n",
       "  </thead>\n",
       "  <tbody>\n",
       "    <tr>\n",
       "      <th>11:05 AM</th>\n",
       "      <td>   3</td>\n",
       "    </tr>\n",
       "    <tr>\n",
       "      <th>12:35 PM</th>\n",
       "      <td>   1</td>\n",
       "    </tr>\n",
       "    <tr>\n",
       "      <th>01:05 PM</th>\n",
       "      <td>   7</td>\n",
       "    </tr>\n",
       "    <tr>\n",
       "      <th>01:10 PM</th>\n",
       "      <td>   3</td>\n",
       "    </tr>\n",
       "    <tr>\n",
       "      <th>01:35 PM</th>\n",
       "      <td>  44</td>\n",
       "    </tr>\n",
       "    <tr>\n",
       "      <th>02:05 PM</th>\n",
       "      <td>   3</td>\n",
       "    </tr>\n",
       "    <tr>\n",
       "      <th>03:00 PM</th>\n",
       "      <td>   1</td>\n",
       "    </tr>\n",
       "    <tr>\n",
       "      <th>03:05 PM</th>\n",
       "      <td>   1</td>\n",
       "    </tr>\n",
       "    <tr>\n",
       "      <th>04:05 PM</th>\n",
       "      <td>  14</td>\n",
       "    </tr>\n",
       "    <tr>\n",
       "      <th>05:30 PM</th>\n",
       "      <td>   1</td>\n",
       "    </tr>\n",
       "    <tr>\n",
       "      <th>06:10 PM</th>\n",
       "      <td>   2</td>\n",
       "    </tr>\n",
       "    <tr>\n",
       "      <th>06:35 PM</th>\n",
       "      <td>   3</td>\n",
       "    </tr>\n",
       "    <tr>\n",
       "      <th>07:00 PM</th>\n",
       "      <td>   1</td>\n",
       "    </tr>\n",
       "    <tr>\n",
       "      <th>07:05 PM</th>\n",
       "      <td>   1</td>\n",
       "    </tr>\n",
       "    <tr>\n",
       "      <th>07:10 PM</th>\n",
       "      <td> 147</td>\n",
       "    </tr>\n",
       "    <tr>\n",
       "      <th>07:15 PM</th>\n",
       "      <td>   6</td>\n",
       "    </tr>\n",
       "    <tr>\n",
       "      <th>07:30 PM</th>\n",
       "      <td>   3</td>\n",
       "    </tr>\n",
       "    <tr>\n",
       "      <th>08:00 PM</th>\n",
       "      <td>   4</td>\n",
       "    </tr>\n",
       "    <tr>\n",
       "      <th>08:05 PM</th>\n",
       "      <td>   6</td>\n",
       "    </tr>\n",
       "  </tbody>\n",
       "</table>\n",
       "</div>"
      ],
      "text/plain": [
       "           games\n",
       "game_time       \n",
       "11:05 AM       3\n",
       "12:35 PM       1\n",
       "01:05 PM       7\n",
       "01:10 PM       3\n",
       "01:35 PM      44\n",
       "02:05 PM       3\n",
       "03:00 PM       1\n",
       "03:05 PM       1\n",
       "04:05 PM      14\n",
       "05:30 PM       1\n",
       "06:10 PM       2\n",
       "06:35 PM       3\n",
       "07:00 PM       1\n",
       "07:05 PM       1\n",
       "07:10 PM     147\n",
       "07:15 PM       6\n",
       "07:30 PM       3\n",
       "08:00 PM       4\n",
       "08:05 PM       6"
      ]
     },
     "execution_count": 90,
     "metadata": {},
     "output_type": "execute_result"
    }
   ],
   "source": [
    "# Group and aggregate by time.\n",
    "games_by_time = sox_only.groupby(['game_time']).agg({'opponent':len})\n",
    "games_by_time.columns = ['games']\n",
    "# Sort and handle am/pm oddness.\n",
    "games_by_time.sort(inplace=True)\n",
    "games_by_time = games_by_time.ix[-2:,:].append(games_by_time.ix[:-2,:]) \n",
    "games_by_time"
   ]
  },
  {
   "cell_type": "code",
   "execution_count": 91,
   "metadata": {
    "collapsed": false
   },
   "outputs": [
    {
     "data": {
      "text/html": [
       "<div style=\"max-height:1000px;max-width:1500px;overflow:auto;\">\n",
       "<table border=\"1\" class=\"dataframe\">\n",
       "  <thead>\n",
       "    <tr style=\"text-align: right;\">\n",
       "      <th></th>\n",
       "      <th>games</th>\n",
       "    </tr>\n",
       "    <tr>\n",
       "      <th>game_time_rounded</th>\n",
       "      <th></th>\n",
       "    </tr>\n",
       "  </thead>\n",
       "  <tbody>\n",
       "    <tr>\n",
       "      <th>11:00 AM</th>\n",
       "      <td>   3</td>\n",
       "    </tr>\n",
       "    <tr>\n",
       "      <th>12:30 PM</th>\n",
       "      <td>   1</td>\n",
       "    </tr>\n",
       "    <tr>\n",
       "      <th>01:00 PM</th>\n",
       "      <td>  10</td>\n",
       "    </tr>\n",
       "    <tr>\n",
       "      <th>01:30 PM</th>\n",
       "      <td>  44</td>\n",
       "    </tr>\n",
       "    <tr>\n",
       "      <th>02:00 PM</th>\n",
       "      <td>   3</td>\n",
       "    </tr>\n",
       "    <tr>\n",
       "      <th>03:00 PM</th>\n",
       "      <td>   2</td>\n",
       "    </tr>\n",
       "    <tr>\n",
       "      <th>04:00 PM</th>\n",
       "      <td>  14</td>\n",
       "    </tr>\n",
       "    <tr>\n",
       "      <th>05:30 PM</th>\n",
       "      <td>   1</td>\n",
       "    </tr>\n",
       "    <tr>\n",
       "      <th>06:00 PM</th>\n",
       "      <td>   2</td>\n",
       "    </tr>\n",
       "    <tr>\n",
       "      <th>06:30 PM</th>\n",
       "      <td>   3</td>\n",
       "    </tr>\n",
       "    <tr>\n",
       "      <th>07:00 PM</th>\n",
       "      <td> 155</td>\n",
       "    </tr>\n",
       "    <tr>\n",
       "      <th>07:30 PM</th>\n",
       "      <td>   3</td>\n",
       "    </tr>\n",
       "    <tr>\n",
       "      <th>08:00 PM</th>\n",
       "      <td>  10</td>\n",
       "    </tr>\n",
       "  </tbody>\n",
       "</table>\n",
       "</div>"
      ],
      "text/plain": [
       "                   games\n",
       "game_time_rounded       \n",
       "11:00 AM               3\n",
       "12:30 PM               1\n",
       "01:00 PM              10\n",
       "01:30 PM              44\n",
       "02:00 PM               3\n",
       "03:00 PM               2\n",
       "04:00 PM              14\n",
       "05:30 PM               1\n",
       "06:00 PM               2\n",
       "06:30 PM               3\n",
       "07:00 PM             155\n",
       "07:30 PM               3\n",
       "08:00 PM              10"
      ]
     },
     "execution_count": 91,
     "metadata": {},
     "output_type": "execute_result"
    }
   ],
   "source": [
    "# Group and aggregate by rounded time.\n",
    "games_by_time_rounded = sox_only.groupby(['game_time_rounded']).agg({'opponent':len})\n",
    "games_by_time_rounded.columns = ['games']\n",
    "# Sort and handle am/pm oddness.\n",
    "games_by_time_rounded.sort(inplace=True)\n",
    "games_by_time_rounded = games_by_time_rounded.ix[-2:,:].append(games_by_time_rounded.ix[:-2,:]) \n",
    "games_by_time_rounded"
   ]
  },
  {
   "cell_type": "markdown",
   "metadata": {},
   "source": [
    "Now both. Use rounded time to cut down on volume."
   ]
  },
  {
   "cell_type": "code",
   "execution_count": 94,
   "metadata": {
    "collapsed": false
   },
   "outputs": [
    {
     "data": {
      "text/html": [
       "<div style=\"max-height:1000px;max-width:1500px;overflow:auto;\">\n",
       "<table border=\"1\" class=\"dataframe\">\n",
       "  <thead>\n",
       "    <tr style=\"text-align: right;\">\n",
       "      <th></th>\n",
       "      <th></th>\n",
       "      <th>games</th>\n",
       "    </tr>\n",
       "    <tr>\n",
       "      <th>day_of_week</th>\n",
       "      <th>game_time_rounded</th>\n",
       "      <th></th>\n",
       "    </tr>\n",
       "  </thead>\n",
       "  <tbody>\n",
       "    <tr>\n",
       "      <th rowspan=\"6\" valign=\"top\">0</th>\n",
       "      <th>01:30 PM</th>\n",
       "      <td>  3</td>\n",
       "    </tr>\n",
       "    <tr>\n",
       "      <th>02:00 PM</th>\n",
       "      <td>  1</td>\n",
       "    </tr>\n",
       "    <tr>\n",
       "      <th>06:00 PM</th>\n",
       "      <td>  1</td>\n",
       "    </tr>\n",
       "    <tr>\n",
       "      <th>06:30 PM</th>\n",
       "      <td>  1</td>\n",
       "    </tr>\n",
       "    <tr>\n",
       "      <th>07:00 PM</th>\n",
       "      <td> 16</td>\n",
       "    </tr>\n",
       "    <tr>\n",
       "      <th>11:00 AM</th>\n",
       "      <td>  3</td>\n",
       "    </tr>\n",
       "    <tr>\n",
       "      <th rowspan=\"6\" valign=\"top\">1</th>\n",
       "      <th>01:00 PM</th>\n",
       "      <td>  1</td>\n",
       "    </tr>\n",
       "    <tr>\n",
       "      <th>04:00 PM</th>\n",
       "      <td>  1</td>\n",
       "    </tr>\n",
       "    <tr>\n",
       "      <th>06:00 PM</th>\n",
       "      <td>  1</td>\n",
       "    </tr>\n",
       "    <tr>\n",
       "      <th>06:30 PM</th>\n",
       "      <td>  1</td>\n",
       "    </tr>\n",
       "    <tr>\n",
       "      <th>07:00 PM</th>\n",
       "      <td> 33</td>\n",
       "    </tr>\n",
       "    <tr>\n",
       "      <th>08:00 PM</th>\n",
       "      <td>  1</td>\n",
       "    </tr>\n",
       "    <tr>\n",
       "      <th rowspan=\"4\" valign=\"top\">2</th>\n",
       "      <th>01:30 PM</th>\n",
       "      <td>  4</td>\n",
       "    </tr>\n",
       "    <tr>\n",
       "      <th>04:00 PM</th>\n",
       "      <td>  3</td>\n",
       "    </tr>\n",
       "    <tr>\n",
       "      <th>07:00 PM</th>\n",
       "      <td> 29</td>\n",
       "    </tr>\n",
       "    <tr>\n",
       "      <th>07:30 PM</th>\n",
       "      <td>  2</td>\n",
       "    </tr>\n",
       "    <tr>\n",
       "      <th rowspan=\"6\" valign=\"top\">3</th>\n",
       "      <th>01:00 PM</th>\n",
       "      <td>  1</td>\n",
       "    </tr>\n",
       "    <tr>\n",
       "      <th>01:30 PM</th>\n",
       "      <td>  1</td>\n",
       "    </tr>\n",
       "    <tr>\n",
       "      <th>04:00 PM</th>\n",
       "      <td>  2</td>\n",
       "    </tr>\n",
       "    <tr>\n",
       "      <th>06:30 PM</th>\n",
       "      <td>  1</td>\n",
       "    </tr>\n",
       "    <tr>\n",
       "      <th>07:00 PM</th>\n",
       "      <td> 23</td>\n",
       "    </tr>\n",
       "    <tr>\n",
       "      <th>07:30 PM</th>\n",
       "      <td>  1</td>\n",
       "    </tr>\n",
       "    <tr>\n",
       "      <th rowspan=\"3\" valign=\"top\">4</th>\n",
       "      <th>02:00 PM</th>\n",
       "      <td>  2</td>\n",
       "    </tr>\n",
       "    <tr>\n",
       "      <th>03:00 PM</th>\n",
       "      <td>  2</td>\n",
       "    </tr>\n",
       "    <tr>\n",
       "      <th>07:00 PM</th>\n",
       "      <td> 32</td>\n",
       "    </tr>\n",
       "    <tr>\n",
       "      <th rowspan=\"7\" valign=\"top\">5</th>\n",
       "      <th>01:00 PM</th>\n",
       "      <td>  8</td>\n",
       "    </tr>\n",
       "    <tr>\n",
       "      <th>01:30 PM</th>\n",
       "      <td>  5</td>\n",
       "    </tr>\n",
       "    <tr>\n",
       "      <th>04:00 PM</th>\n",
       "      <td>  8</td>\n",
       "    </tr>\n",
       "    <tr>\n",
       "      <th>05:30 PM</th>\n",
       "      <td>  1</td>\n",
       "    </tr>\n",
       "    <tr>\n",
       "      <th>07:00 PM</th>\n",
       "      <td> 20</td>\n",
       "    </tr>\n",
       "    <tr>\n",
       "      <th>08:00 PM</th>\n",
       "      <td>  2</td>\n",
       "    </tr>\n",
       "    <tr>\n",
       "      <th>12:30 PM</th>\n",
       "      <td>  1</td>\n",
       "    </tr>\n",
       "    <tr>\n",
       "      <th rowspan=\"3\" valign=\"top\">6</th>\n",
       "      <th>01:30 PM</th>\n",
       "      <td> 31</td>\n",
       "    </tr>\n",
       "    <tr>\n",
       "      <th>07:00 PM</th>\n",
       "      <td>  2</td>\n",
       "    </tr>\n",
       "    <tr>\n",
       "      <th>08:00 PM</th>\n",
       "      <td>  7</td>\n",
       "    </tr>\n",
       "  </tbody>\n",
       "</table>\n",
       "</div>"
      ],
      "text/plain": [
       "                               games\n",
       "day_of_week game_time_rounded       \n",
       "0           01:30 PM               3\n",
       "            02:00 PM               1\n",
       "            06:00 PM               1\n",
       "            06:30 PM               1\n",
       "            07:00 PM              16\n",
       "            11:00 AM               3\n",
       "1           01:00 PM               1\n",
       "            04:00 PM               1\n",
       "            06:00 PM               1\n",
       "            06:30 PM               1\n",
       "            07:00 PM              33\n",
       "            08:00 PM               1\n",
       "2           01:30 PM               4\n",
       "            04:00 PM               3\n",
       "            07:00 PM              29\n",
       "            07:30 PM               2\n",
       "3           01:00 PM               1\n",
       "            01:30 PM               1\n",
       "            04:00 PM               2\n",
       "            06:30 PM               1\n",
       "            07:00 PM              23\n",
       "            07:30 PM               1\n",
       "4           02:00 PM               2\n",
       "            03:00 PM               2\n",
       "            07:00 PM              32\n",
       "5           01:00 PM               8\n",
       "            01:30 PM               5\n",
       "            04:00 PM               8\n",
       "            05:30 PM               1\n",
       "            07:00 PM              20\n",
       "            08:00 PM               2\n",
       "            12:30 PM               1\n",
       "6           01:30 PM              31\n",
       "            07:00 PM               2\n",
       "            08:00 PM               7"
      ]
     },
     "execution_count": 94,
     "metadata": {},
     "output_type": "execute_result"
    }
   ],
   "source": [
    "# Group and aggregate by rounded time.\n",
    "games_by_datetime = sox_only.groupby(['day_of_week','game_time_rounded']).agg({'opponent':len})\n",
    "games_by_datetime.columns = ['games']\n",
    "# Sort and handle am/pm oddness.\n",
    "games_by_datetime.sort(inplace=True)\n",
    "games_by_datetime"
   ]
  },
  {
   "cell_type": "markdown",
   "metadata": {},
   "source": [
    "Primetime games are common throughout, except for Sunday. Instead, Sunday features a lot of early afternoon games. As expected, weekdays don't show many afternoon games, though Friday shows more than other weekdays (at various times). It looks like primetime games Monday-Saturday and Sunday afternoon games show the highest potential."
   ]
  }
 ],
 "metadata": {
  "kernelspec": {
   "display_name": "Python 2",
   "language": "python",
   "name": "python2"
  },
  "language_info": {
   "codemirror_mode": {
    "name": "ipython",
    "version": 2
   },
   "file_extension": ".py",
   "mimetype": "text/x-python",
   "name": "python",
   "nbconvert_exporter": "python",
   "pygments_lexer": "ipython2",
   "version": "2.7.6"
  }
 },
 "nbformat": 4,
 "nbformat_minor": 0
}
