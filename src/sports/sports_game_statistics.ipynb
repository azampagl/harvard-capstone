{
 "cells": [
  {
   "cell_type": "markdown",
   "metadata": {},
   "source": [
    "# Sports Game Statistics"
   ]
  },
  {
   "cell_type": "markdown",
   "metadata": {},
   "source": [
    "This file performs \"wrangling\" of sporting event data, combining farebox, gatecount, and game schedule data for all three teams. Later files may consume that data as needed."
   ]
  },
  {
   "cell_type": "markdown",
   "metadata": {},
   "source": [
    "## Setup"
   ]
  },
  {
   "cell_type": "code",
   "execution_count": 1,
   "metadata": {
    "collapsed": false
   },
   "outputs": [],
   "source": [
    "# Libraries.\n",
    "import datetime as dt\n",
    "import numpy as np\n",
    "import os\n",
    "import pandas as pd\n",
    "\n",
    "# Feature libraries.\n",
    "from features import date"
   ]
  },
  {
   "cell_type": "code",
   "execution_count": 2,
   "metadata": {
    "collapsed": false
   },
   "outputs": [],
   "source": [
    "# Other settings.\n",
    "\n",
    "# Stations near TD Garden for analysis. Just use names (not locationid) as a surrogate key for station.\n",
    "td_stations = ['North Station']\n",
    "\n",
    "# Stations near Fenway for analysis. Fenway station itself is not in the gatecount dataset.\n",
    "# Just use names (not locationid) as a surrogate key for station name.\n",
    "fenway_stations = ['Kenmore Square', 'Hynes']\n",
    "\n",
    "# Base units of timedeltas.\n",
    "timedelta_base = 3.6e12\n",
    "\n",
    "# List of holidays and other bad days to exclude from analysis.\n",
    "bad_dates = '2013-01-01,2013-01-02,2013-01-21,2013-02-10,2013-03-08,2013-09-01,2013-09-02,2013-10-14,2013-11-11,2013-11-27,2013-11-28,2013-11-29,2013-12-24,2013-12-25,2013-12-26,2013-12-27,2013-12-28,2013-12-31,2014-01-01,2014-01-02,2014-01-03,2014-01-20,2014-09-01,2014-10-13,2014-11-11,2014-11-27,2014-11-28,2014-12-23,2014-12-24,2014-12-25,2014-12-26,2014-12-27,2014-12-28,2014-12-29,2014-12-31,2015-01-01,2015-01-02,2015-01-03,2015-01-27,2015-02-10,2015-02-11'\n",
    "bad_dates = [dt.date(int(h[:4]),int(h[5:7]),int(h[-2:])) for h in bad_dates.split(',')]\n",
    "\n",
    "# Bruins/Celtics season information.\n",
    "bc_season_start_month = 10\n",
    "bc_season_end_month   = 6\n",
    "bc_season_months = np.array(range(bc_season_start_month,13)+range(1,bc_season_end_month+1))\n",
    "\n",
    "# Baseball season information.\n",
    "# There are little edge cases regarding the playoffs/WS and such. Just use April through October to make things easiest.\n",
    "sox_season_start_month = 4\n",
    "sox_season_end_month   = 10\n",
    "sox_season_months = np.arange(sox_season_start_month, sox_season_end_month+1)"
   ]
  },
  {
   "cell_type": "markdown",
   "metadata": {},
   "source": [
    "---\n",
    "## Game Data"
   ]
  },
  {
   "cell_type": "markdown",
   "metadata": {},
   "source": [
    "### Red Sox"
   ]
  },
  {
   "cell_type": "code",
   "execution_count": 3,
   "metadata": {
    "collapsed": false
   },
   "outputs": [],
   "source": [
    "# Load data.\n",
    "sox = pd.read_csv('../../../data/sox_master.csv')"
   ]
  },
  {
   "cell_type": "code",
   "execution_count": 4,
   "metadata": {
    "collapsed": false
   },
   "outputs": [],
   "source": [
    "# Split date.\n",
    "sox['date'] = sox.START_DATE.str.slice(0,10)\n",
    "# Make opponent lower case.\n",
    "sox.rename(columns={'OPPONENT':'opponent'}, inplace=True)\n",
    "# Add zero playoff, late columns.\n",
    "sox['playoff'] = 0\n",
    "sox['late'] = 0\n",
    "# Get day of week.\n",
    "sox['day_of_week'] = pd.DatetimeIndex(sox.date).weekday"
   ]
  },
  {
   "cell_type": "code",
   "execution_count": 5,
   "metadata": {
    "collapsed": false
   },
   "outputs": [],
   "source": [
    "# Handle times.\n",
    "\n",
    "# Hour.\n",
    "sox['hour'] = sox.START_TIME.str.slice(0,2).astype(np.int)\n",
    "# Minute.\n",
    "sox['minute'] = sox.START_TIME.str.slice(3,5).astype(np.int)\n",
    "\n",
    "# Add PM hours.\n",
    "sox.ix[sox.START_TIME.str.contains(' PM'),'hour'] += 12\n",
    "\n",
    "# Round minutes.\n",
    "sox.minute = (sox.minute / 15).astype(np.int) * 15\n",
    "\n",
    "# Re-derive time.\n",
    "sox['time'] = sox['hour'].astype(np.str).str.pad(2, fillchar='0') + ':' + sox['minute'].astype(np.str).str.pad(2, fillchar='0') + ':00'"
   ]
  },
  {
   "cell_type": "code",
   "execution_count": 6,
   "metadata": {
    "collapsed": false
   },
   "outputs": [],
   "source": [
    "# Clarify playoffs. Only needed for 2013.\n",
    "sox.ix[(pd.to_datetime(sox.date) >= dt.datetime(2013,10,4)) & (pd.to_datetime(sox.date) < dt.datetime(2014,1,1)),'playoff'] = 1"
   ]
  },
  {
   "cell_type": "code",
   "execution_count": 7,
   "metadata": {
    "collapsed": false
   },
   "outputs": [],
   "source": [
    "# Clarify late games.\n",
    "sox.loc[sox.hour >= 18,'late'] = 1"
   ]
  },
  {
   "cell_type": "code",
   "execution_count": 8,
   "metadata": {
    "collapsed": false
   },
   "outputs": [],
   "source": [
    "# Remove any games with bad dates that must be excluded.\n",
    "sox = sox[pd.to_datetime(sox.date).isin(bad_dates) == False]\n",
    "# Also get rid of 2012 games.\n",
    "sox = sox[pd.to_datetime(sox.date) >= dt.datetime(2013,1,1)]\n",
    "# Clean up index.\n",
    "sox.reset_index(drop=True, inplace=True)"
   ]
  },
  {
   "cell_type": "code",
   "execution_count": 9,
   "metadata": {
    "collapsed": false
   },
   "outputs": [],
   "source": [
    "# Create \"game ID\" based on index.\n",
    "sox.sort('date', ascending=True, inplace=True)\n",
    "sox.reset_index(drop=False, inplace=True)\n",
    "sox.rename(columns={'index':'game_id'}, inplace=True)"
   ]
  },
  {
   "cell_type": "code",
   "execution_count": 10,
   "metadata": {
    "collapsed": true
   },
   "outputs": [],
   "source": [
    "# Add season column.\n",
    "sox['season'] = pd.DatetimeIndex(sox.date).year"
   ]
  },
  {
   "cell_type": "code",
   "execution_count": 11,
   "metadata": {
    "collapsed": false
   },
   "outputs": [],
   "source": [
    "# Clean and reorder.\n",
    "# sox.drop(['Unnamed: 0','START_DATE','START_TIME'], axis=1, inplace=True)\n",
    "sox = sox[['game_id','season','date','day_of_week','time','hour','minute','late','opponent','playoff']]"
   ]
  },
  {
   "cell_type": "code",
   "execution_count": 12,
   "metadata": {
    "collapsed": false
   },
   "outputs": [
    {
     "data": {
      "text/html": [
       "<div style=\"max-height:1000px;max-width:1500px;overflow:auto;\">\n",
       "<table border=\"1\" class=\"dataframe\">\n",
       "  <thead>\n",
       "    <tr style=\"text-align: right;\">\n",
       "      <th></th>\n",
       "      <th>game_id</th>\n",
       "      <th>season</th>\n",
       "      <th>date</th>\n",
       "      <th>day_of_week</th>\n",
       "      <th>time</th>\n",
       "      <th>hour</th>\n",
       "      <th>minute</th>\n",
       "      <th>late</th>\n",
       "      <th>opponent</th>\n",
       "      <th>playoff</th>\n",
       "    </tr>\n",
       "  </thead>\n",
       "  <tbody>\n",
       "    <tr>\n",
       "      <th>0</th>\n",
       "      <td>0</td>\n",
       "      <td>2013</td>\n",
       "      <td>2013-04-08</td>\n",
       "      <td>0</td>\n",
       "      <td>14:00:00</td>\n",
       "      <td>14</td>\n",
       "      <td>0</td>\n",
       "      <td>0</td>\n",
       "      <td>Baltimore</td>\n",
       "      <td>0</td>\n",
       "    </tr>\n",
       "    <tr>\n",
       "      <th>1</th>\n",
       "      <td>1</td>\n",
       "      <td>2013</td>\n",
       "      <td>2013-04-10</td>\n",
       "      <td>2</td>\n",
       "      <td>19:00:00</td>\n",
       "      <td>19</td>\n",
       "      <td>0</td>\n",
       "      <td>1</td>\n",
       "      <td>Baltimore</td>\n",
       "      <td>0</td>\n",
       "    </tr>\n",
       "    <tr>\n",
       "      <th>2</th>\n",
       "      <td>2</td>\n",
       "      <td>2013</td>\n",
       "      <td>2013-04-11</td>\n",
       "      <td>3</td>\n",
       "      <td>19:00:00</td>\n",
       "      <td>19</td>\n",
       "      <td>0</td>\n",
       "      <td>1</td>\n",
       "      <td>Baltimore</td>\n",
       "      <td>0</td>\n",
       "    </tr>\n",
       "    <tr>\n",
       "      <th>3</th>\n",
       "      <td>3</td>\n",
       "      <td>2013</td>\n",
       "      <td>2013-04-13</td>\n",
       "      <td>5</td>\n",
       "      <td>13:00:00</td>\n",
       "      <td>13</td>\n",
       "      <td>0</td>\n",
       "      <td>0</td>\n",
       "      <td>Tampa Bay</td>\n",
       "      <td>0</td>\n",
       "    </tr>\n",
       "    <tr>\n",
       "      <th>4</th>\n",
       "      <td>4</td>\n",
       "      <td>2013</td>\n",
       "      <td>2013-04-14</td>\n",
       "      <td>6</td>\n",
       "      <td>13:30:00</td>\n",
       "      <td>13</td>\n",
       "      <td>30</td>\n",
       "      <td>0</td>\n",
       "      <td>Tampa Bay</td>\n",
       "      <td>0</td>\n",
       "    </tr>\n",
       "  </tbody>\n",
       "</table>\n",
       "</div>"
      ],
      "text/plain": [
       "   game_id  season        date  day_of_week      time  hour  minute  late  \\\n",
       "0        0    2013  2013-04-08            0  14:00:00    14       0     0   \n",
       "1        1    2013  2013-04-10            2  19:00:00    19       0     1   \n",
       "2        2    2013  2013-04-11            3  19:00:00    19       0     1   \n",
       "3        3    2013  2013-04-13            5  13:00:00    13       0     0   \n",
       "4        4    2013  2013-04-14            6  13:30:00    13      30     0   \n",
       "\n",
       "    opponent  playoff  \n",
       "0  Baltimore        0  \n",
       "1  Baltimore        0  \n",
       "2  Baltimore        0  \n",
       "3  Tampa Bay        0  \n",
       "4  Tampa Bay        0  "
      ]
     },
     "execution_count": 12,
     "metadata": {},
     "output_type": "execute_result"
    }
   ],
   "source": [
    "sox.head()"
   ]
  },
  {
   "cell_type": "markdown",
   "metadata": {},
   "source": [
    "### Bruins"
   ]
  },
  {
   "cell_type": "code",
   "execution_count": 13,
   "metadata": {
    "collapsed": true
   },
   "outputs": [],
   "source": [
    "# Load data.\n",
    "bruins = pd.read_csv('../../../data/bruins/home.csv')"
   ]
  },
  {
   "cell_type": "code",
   "execution_count": 14,
   "metadata": {
    "collapsed": true
   },
   "outputs": [],
   "source": [
    "# Lower case columns.\n",
    "bruins.rename(columns={'Playoff':'playoff','Opponent':'opponent'}, inplace=True)"
   ]
  },
  {
   "cell_type": "code",
   "execution_count": 15,
   "metadata": {
    "collapsed": false
   },
   "outputs": [],
   "source": [
    "# Handle dates.\n",
    "bruins['date'] = bruins.Datetime.str.slice(0,10)\n",
    "\n",
    "# Get day of week.\n",
    "bruins['day_of_week'] = pd.DatetimeIndex(bruins.date).weekday\n",
    "\n",
    "# Hours.\n",
    "bruins['hour'] = bruins.Datetime.str.slice(11,13).astype(np.int)\n",
    "\n",
    "# Minutes.\n",
    "bruins['minute'] = bruins.Datetime.str.slice(14,16).astype(np.int)\n",
    "\n",
    "# General time.\n",
    "bruins['time'] = bruins.Datetime.str.slice(11,16) + ':00'\n",
    "\n",
    "# Handle late games.\n",
    "bruins['late'] = 0\n",
    "bruins.ix[bruins.hour >= 19,'late'] = 1"
   ]
  },
  {
   "cell_type": "code",
   "execution_count": 16,
   "metadata": {
    "collapsed": true
   },
   "outputs": [],
   "source": [
    "# Remove any games with bad dates that must be excluded.\n",
    "bruins = bruins[pd.to_datetime(bruins.date).isin(bad_dates) == False]\n",
    "# Don't need to worry about 2012 games because of the lockout.\n",
    "# Remove anything after traffic time range.\n",
    "bruins = bruins[pd.to_datetime(bruins.date) <= dt.datetime(2015,2,11)]"
   ]
  },
  {
   "cell_type": "code",
   "execution_count": 17,
   "metadata": {
    "collapsed": true
   },
   "outputs": [],
   "source": [
    "# Add season.\n",
    "bruins['season'] = (pd.DatetimeIndex(bruins.date) - np.timedelta64(9,'M')).year"
   ]
  },
  {
   "cell_type": "code",
   "execution_count": 18,
   "metadata": {
    "collapsed": true
   },
   "outputs": [],
   "source": [
    "# Create \"game ID\" based on index.\n",
    "bruins.reset_index(drop=False, inplace=True)\n",
    "bruins.rename(columns={'index':'game_id'}, inplace=True)"
   ]
  },
  {
   "cell_type": "code",
   "execution_count": 19,
   "metadata": {
    "collapsed": false
   },
   "outputs": [],
   "source": [
    "# Clean and reorder.\n",
    "# bruins.drop(['Home'], axis=1, inplace=True)\n",
    "bruins = bruins[['game_id','season','date','day_of_week','time','hour','minute','late','opponent','playoff']]"
   ]
  },
  {
   "cell_type": "code",
   "execution_count": 20,
   "metadata": {
    "collapsed": false
   },
   "outputs": [
    {
     "data": {
      "text/html": [
       "<div style=\"max-height:1000px;max-width:1500px;overflow:auto;\">\n",
       "<table border=\"1\" class=\"dataframe\">\n",
       "  <thead>\n",
       "    <tr style=\"text-align: right;\">\n",
       "      <th></th>\n",
       "      <th>game_id</th>\n",
       "      <th>season</th>\n",
       "      <th>date</th>\n",
       "      <th>day_of_week</th>\n",
       "      <th>time</th>\n",
       "      <th>hour</th>\n",
       "      <th>minute</th>\n",
       "      <th>late</th>\n",
       "      <th>opponent</th>\n",
       "      <th>playoff</th>\n",
       "    </tr>\n",
       "  </thead>\n",
       "  <tbody>\n",
       "    <tr>\n",
       "      <th>0</th>\n",
       "      <td>0</td>\n",
       "      <td>2012</td>\n",
       "      <td>2013-01-19</td>\n",
       "      <td>5</td>\n",
       "      <td>19:00:00</td>\n",
       "      <td>19</td>\n",
       "      <td>0</td>\n",
       "      <td>1</td>\n",
       "      <td>New York Rangers</td>\n",
       "      <td>0</td>\n",
       "    </tr>\n",
       "    <tr>\n",
       "      <th>1</th>\n",
       "      <td>2</td>\n",
       "      <td>2012</td>\n",
       "      <td>2013-01-25</td>\n",
       "      <td>4</td>\n",
       "      <td>19:00:00</td>\n",
       "      <td>19</td>\n",
       "      <td>0</td>\n",
       "      <td>1</td>\n",
       "      <td>New York Islanders</td>\n",
       "      <td>0</td>\n",
       "    </tr>\n",
       "    <tr>\n",
       "      <th>2</th>\n",
       "      <td>3</td>\n",
       "      <td>2012</td>\n",
       "      <td>2013-01-29</td>\n",
       "      <td>1</td>\n",
       "      <td>19:00:00</td>\n",
       "      <td>19</td>\n",
       "      <td>0</td>\n",
       "      <td>1</td>\n",
       "      <td>New Jersey</td>\n",
       "      <td>0</td>\n",
       "    </tr>\n",
       "    <tr>\n",
       "      <th>3</th>\n",
       "      <td>4</td>\n",
       "      <td>2012</td>\n",
       "      <td>2013-01-31</td>\n",
       "      <td>3</td>\n",
       "      <td>19:00:00</td>\n",
       "      <td>19</td>\n",
       "      <td>0</td>\n",
       "      <td>1</td>\n",
       "      <td>Buffalo</td>\n",
       "      <td>0</td>\n",
       "    </tr>\n",
       "    <tr>\n",
       "      <th>4</th>\n",
       "      <td>5</td>\n",
       "      <td>2012</td>\n",
       "      <td>2013-02-12</td>\n",
       "      <td>1</td>\n",
       "      <td>19:30:00</td>\n",
       "      <td>19</td>\n",
       "      <td>30</td>\n",
       "      <td>1</td>\n",
       "      <td>New York Rangers</td>\n",
       "      <td>0</td>\n",
       "    </tr>\n",
       "  </tbody>\n",
       "</table>\n",
       "</div>"
      ],
      "text/plain": [
       "   game_id  season        date  day_of_week      time  hour  minute  late  \\\n",
       "0        0    2012  2013-01-19            5  19:00:00    19       0     1   \n",
       "1        2    2012  2013-01-25            4  19:00:00    19       0     1   \n",
       "2        3    2012  2013-01-29            1  19:00:00    19       0     1   \n",
       "3        4    2012  2013-01-31            3  19:00:00    19       0     1   \n",
       "4        5    2012  2013-02-12            1  19:30:00    19      30     1   \n",
       "\n",
       "             opponent  playoff  \n",
       "0    New York Rangers        0  \n",
       "1  New York Islanders        0  \n",
       "2          New Jersey        0  \n",
       "3             Buffalo        0  \n",
       "4    New York Rangers        0  "
      ]
     },
     "execution_count": 20,
     "metadata": {},
     "output_type": "execute_result"
    }
   ],
   "source": [
    "bruins.head()"
   ]
  },
  {
   "cell_type": "markdown",
   "metadata": {},
   "source": [
    "### Celtics"
   ]
  },
  {
   "cell_type": "code",
   "execution_count": 21,
   "metadata": {
    "collapsed": true
   },
   "outputs": [],
   "source": [
    "# Load data.\n",
    "celtics = pd.read_csv('../../../data/celtics/home.csv')"
   ]
  },
  {
   "cell_type": "code",
   "execution_count": 22,
   "metadata": {
    "collapsed": true
   },
   "outputs": [],
   "source": [
    "# Lower case columns.\n",
    "celtics.rename(columns={'Playoff':'playoff','Opponent':'opponent'}, inplace=True)"
   ]
  },
  {
   "cell_type": "code",
   "execution_count": 23,
   "metadata": {
    "collapsed": false
   },
   "outputs": [],
   "source": [
    "# Handle dates.\n",
    "celtics['date'] = celtics.Datetime.str.slice(0,10)\n",
    "\n",
    "# Add day of week.\n",
    "celtics['day_of_week'] = pd.DatetimeIndex(celtics.date).weekday\n",
    "\n",
    "# Hours.\n",
    "celtics['hour'] = celtics.Datetime.str.slice(11,13).astype(np.int)\n",
    "\n",
    "# Minutes.\n",
    "celtics['minute'] = celtics.Datetime.str.slice(14,16).astype(np.int)\n",
    "\n",
    "# General time.\n",
    "celtics['time'] = celtics.Datetime.str.slice(11,16) + ':00'\n",
    "\n",
    "# Handle late games.\n",
    "celtics['late'] = 0\n",
    "celtics.ix[celtics.hour >= 19,'late'] = 1"
   ]
  },
  {
   "cell_type": "code",
   "execution_count": 24,
   "metadata": {
    "collapsed": false
   },
   "outputs": [],
   "source": [
    "# Remove any games with bad dates that must be excluded.\n",
    "celtics = celtics[pd.to_datetime(celtics.date).isin(bad_dates) == False]\n",
    "# Also remove anything before 2013.\n",
    "celtics = celtics[pd.to_datetime(celtics.date) >= dt.datetime(2013,1,1)]\n",
    "# Remove anything after traffic time range.\n",
    "celtics = celtics[pd.to_datetime(celtics.date) <= dt.datetime(2015,2,11)]\n",
    "# Clean index.\n",
    "celtics.reset_index(drop=True, inplace=True)"
   ]
  },
  {
   "cell_type": "code",
   "execution_count": 25,
   "metadata": {
    "collapsed": false
   },
   "outputs": [],
   "source": [
    "# Add season.\n",
    "celtics['season'] = (pd.DatetimeIndex(celtics.date) - np.timedelta64(9,'M')).year"
   ]
  },
  {
   "cell_type": "code",
   "execution_count": 26,
   "metadata": {
    "collapsed": true
   },
   "outputs": [],
   "source": [
    "# Create \"game ID\" based on index.\n",
    "celtics.reset_index(drop=False, inplace=True)\n",
    "celtics.rename(columns={'index':'game_id'}, inplace=True)"
   ]
  },
  {
   "cell_type": "code",
   "execution_count": 27,
   "metadata": {
    "collapsed": false
   },
   "outputs": [],
   "source": [
    "# Clean and reorder.\n",
    "# celtics.drop(['Home'], axis=1, inplace=True)\n",
    "celtics = celtics[['game_id','season','date','day_of_week','time','hour','minute','late','opponent','playoff']]"
   ]
  },
  {
   "cell_type": "code",
   "execution_count": 28,
   "metadata": {
    "collapsed": false
   },
   "outputs": [
    {
     "data": {
      "text/html": [
       "<div style=\"max-height:1000px;max-width:1500px;overflow:auto;\">\n",
       "<table border=\"1\" class=\"dataframe\">\n",
       "  <thead>\n",
       "    <tr style=\"text-align: right;\">\n",
       "      <th></th>\n",
       "      <th>game_id</th>\n",
       "      <th>season</th>\n",
       "      <th>date</th>\n",
       "      <th>day_of_week</th>\n",
       "      <th>time</th>\n",
       "      <th>hour</th>\n",
       "      <th>minute</th>\n",
       "      <th>late</th>\n",
       "      <th>opponent</th>\n",
       "      <th>playoff</th>\n",
       "    </tr>\n",
       "  </thead>\n",
       "  <tbody>\n",
       "    <tr>\n",
       "      <th>0</th>\n",
       "      <td>0</td>\n",
       "      <td>2012</td>\n",
       "      <td>2013-01-04</td>\n",
       "      <td>4</td>\n",
       "      <td>20:00:00</td>\n",
       "      <td>20</td>\n",
       "      <td>0</td>\n",
       "      <td>1</td>\n",
       "      <td>Indiana</td>\n",
       "      <td>0</td>\n",
       "    </tr>\n",
       "    <tr>\n",
       "      <th>1</th>\n",
       "      <td>1</td>\n",
       "      <td>2012</td>\n",
       "      <td>2013-01-09</td>\n",
       "      <td>2</td>\n",
       "      <td>19:30:00</td>\n",
       "      <td>19</td>\n",
       "      <td>30</td>\n",
       "      <td>1</td>\n",
       "      <td>Phoenix</td>\n",
       "      <td>0</td>\n",
       "    </tr>\n",
       "    <tr>\n",
       "      <th>2</th>\n",
       "      <td>2</td>\n",
       "      <td>2012</td>\n",
       "      <td>2013-01-11</td>\n",
       "      <td>4</td>\n",
       "      <td>19:30:00</td>\n",
       "      <td>19</td>\n",
       "      <td>30</td>\n",
       "      <td>1</td>\n",
       "      <td>Houston</td>\n",
       "      <td>0</td>\n",
       "    </tr>\n",
       "    <tr>\n",
       "      <th>3</th>\n",
       "      <td>3</td>\n",
       "      <td>2012</td>\n",
       "      <td>2013-01-14</td>\n",
       "      <td>0</td>\n",
       "      <td>19:30:00</td>\n",
       "      <td>19</td>\n",
       "      <td>30</td>\n",
       "      <td>1</td>\n",
       "      <td>Charlotte</td>\n",
       "      <td>0</td>\n",
       "    </tr>\n",
       "    <tr>\n",
       "      <th>4</th>\n",
       "      <td>4</td>\n",
       "      <td>2012</td>\n",
       "      <td>2013-01-16</td>\n",
       "      <td>2</td>\n",
       "      <td>20:00:00</td>\n",
       "      <td>20</td>\n",
       "      <td>0</td>\n",
       "      <td>1</td>\n",
       "      <td>New Orleans</td>\n",
       "      <td>0</td>\n",
       "    </tr>\n",
       "  </tbody>\n",
       "</table>\n",
       "</div>"
      ],
      "text/plain": [
       "   game_id  season        date  day_of_week      time  hour  minute  late  \\\n",
       "0        0    2012  2013-01-04            4  20:00:00    20       0     1   \n",
       "1        1    2012  2013-01-09            2  19:30:00    19      30     1   \n",
       "2        2    2012  2013-01-11            4  19:30:00    19      30     1   \n",
       "3        3    2012  2013-01-14            0  19:30:00    19      30     1   \n",
       "4        4    2012  2013-01-16            2  20:00:00    20       0     1   \n",
       "\n",
       "      opponent  playoff  \n",
       "0      Indiana        0  \n",
       "1      Phoenix        0  \n",
       "2      Houston        0  \n",
       "3    Charlotte        0  \n",
       "4  New Orleans        0  "
      ]
     },
     "execution_count": 28,
     "metadata": {},
     "output_type": "execute_result"
    }
   ],
   "source": [
    "celtics.head()"
   ]
  },
  {
   "cell_type": "markdown",
   "metadata": {},
   "source": [
    "---\n",
    "## Gatecount & Farebox Data"
   ]
  },
  {
   "cell_type": "markdown",
   "metadata": {},
   "source": [
    "### Gatecount"
   ]
  },
  {
   "cell_type": "code",
   "execution_count": 29,
   "metadata": {
    "collapsed": false
   },
   "outputs": [],
   "source": [
    "# Import gatecount data.\n",
    "def get_data():\n",
    "    return pd.DataFrame.from_csv(\"../../../data/mbta.csv\").reset_index()\n",
    "gatecount_raw = date.init(get_data())"
   ]
  },
  {
   "cell_type": "code",
   "execution_count": 30,
   "metadata": {
    "collapsed": true
   },
   "outputs": [],
   "source": [
    "# Restrict to desired columns.\n",
    "gatecount = gatecount_raw[['locationid','name','line_1','line_2','service_day','service_datetime','entries']].copy()\n",
    "\n",
    "# Clean lines.\n",
    "gatecount.loc[gatecount.line_2.isnull() == True,'line_2'] = 'None'\n",
    "\n",
    "# Turn days/dates into datetimes.\n",
    "gatecount.service_day = pd.to_datetime(gatecount.service_day)\n",
    "gatecount.service_datetime = pd.to_datetime(gatecount.service_datetime)\n",
    "\n",
    "# Get time of day.\n",
    "gatecount['service_time'] = pd.DatetimeIndex(gatecount.service_datetime).time\n",
    "\n",
    "# Add day of week.\n",
    "gatecount = date.add_day_of_week(gatecount.copy())\n",
    "\n",
    "# Remove bad days.\n",
    "gatecount = gatecount[gatecount.service_day.isin(bad_dates) == False]"
   ]
  },
  {
   "cell_type": "code",
   "execution_count": 31,
   "metadata": {
    "collapsed": false
   },
   "outputs": [
    {
     "data": {
      "text/html": [
       "<div style=\"max-height:1000px;max-width:1500px;overflow:auto;\">\n",
       "<table border=\"1\" class=\"dataframe\">\n",
       "  <thead>\n",
       "    <tr style=\"text-align: right;\">\n",
       "      <th></th>\n",
       "      <th>locationid</th>\n",
       "      <th>name</th>\n",
       "      <th>line_1</th>\n",
       "      <th>line_2</th>\n",
       "      <th>service_day</th>\n",
       "      <th>service_datetime</th>\n",
       "      <th>entries</th>\n",
       "      <th>service_time</th>\n",
       "      <th>day_of_week</th>\n",
       "    </tr>\n",
       "  </thead>\n",
       "  <tbody>\n",
       "    <tr>\n",
       "      <th>10293</th>\n",
       "      <td>1002</td>\n",
       "      <td>Andrew Square</td>\n",
       "      <td>Red</td>\n",
       "      <td>None</td>\n",
       "      <td>2013-01-03</td>\n",
       "      <td>2013-01-03 05:00:00</td>\n",
       "      <td>6</td>\n",
       "      <td>05:00:00</td>\n",
       "      <td>3</td>\n",
       "    </tr>\n",
       "    <tr>\n",
       "      <th>10294</th>\n",
       "      <td>1002</td>\n",
       "      <td>Andrew Square</td>\n",
       "      <td>Red</td>\n",
       "      <td>None</td>\n",
       "      <td>2013-01-03</td>\n",
       "      <td>2013-01-03 05:15:00</td>\n",
       "      <td>49</td>\n",
       "      <td>05:15:00</td>\n",
       "      <td>3</td>\n",
       "    </tr>\n",
       "    <tr>\n",
       "      <th>10295</th>\n",
       "      <td>1002</td>\n",
       "      <td>Andrew Square</td>\n",
       "      <td>Red</td>\n",
       "      <td>None</td>\n",
       "      <td>2013-01-03</td>\n",
       "      <td>2013-01-03 05:30:00</td>\n",
       "      <td>58</td>\n",
       "      <td>05:30:00</td>\n",
       "      <td>3</td>\n",
       "    </tr>\n",
       "    <tr>\n",
       "      <th>10296</th>\n",
       "      <td>1002</td>\n",
       "      <td>Andrew Square</td>\n",
       "      <td>Red</td>\n",
       "      <td>None</td>\n",
       "      <td>2013-01-03</td>\n",
       "      <td>2013-01-03 05:45:00</td>\n",
       "      <td>46</td>\n",
       "      <td>05:45:00</td>\n",
       "      <td>3</td>\n",
       "    </tr>\n",
       "    <tr>\n",
       "      <th>10297</th>\n",
       "      <td>1002</td>\n",
       "      <td>Andrew Square</td>\n",
       "      <td>Red</td>\n",
       "      <td>None</td>\n",
       "      <td>2013-01-03</td>\n",
       "      <td>2013-01-03 06:00:00</td>\n",
       "      <td>88</td>\n",
       "      <td>06:00:00</td>\n",
       "      <td>3</td>\n",
       "    </tr>\n",
       "  </tbody>\n",
       "</table>\n",
       "</div>"
      ],
      "text/plain": [
       "       locationid           name line_1 line_2 service_day  \\\n",
       "10293        1002  Andrew Square    Red   None  2013-01-03   \n",
       "10294        1002  Andrew Square    Red   None  2013-01-03   \n",
       "10295        1002  Andrew Square    Red   None  2013-01-03   \n",
       "10296        1002  Andrew Square    Red   None  2013-01-03   \n",
       "10297        1002  Andrew Square    Red   None  2013-01-03   \n",
       "\n",
       "         service_datetime  entries service_time  day_of_week  \n",
       "10293 2013-01-03 05:00:00        6     05:00:00            3  \n",
       "10294 2013-01-03 05:15:00       49     05:15:00            3  \n",
       "10295 2013-01-03 05:30:00       58     05:30:00            3  \n",
       "10296 2013-01-03 05:45:00       46     05:45:00            3  \n",
       "10297 2013-01-03 06:00:00       88     06:00:00            3  "
      ]
     },
     "execution_count": 31,
     "metadata": {},
     "output_type": "execute_result"
    }
   ],
   "source": [
    "gatecount.head()"
   ]
  },
  {
   "cell_type": "code",
   "execution_count": 32,
   "metadata": {
    "collapsed": false
   },
   "outputs": [
    {
     "data": {
      "text/html": [
       "<div style=\"max-height:1000px;max-width:1500px;overflow:auto;\">\n",
       "<table border=\"1\" class=\"dataframe\">\n",
       "  <thead>\n",
       "    <tr style=\"text-align: right;\">\n",
       "      <th></th>\n",
       "      <th>station</th>\n",
       "      <th>pct_blue</th>\n",
       "      <th>pct_green</th>\n",
       "      <th>pct_orange</th>\n",
       "      <th>pct_red</th>\n",
       "      <th>pct_silver</th>\n",
       "    </tr>\n",
       "  </thead>\n",
       "  <tbody>\n",
       "    <tr>\n",
       "      <th>0</th>\n",
       "      <td>Park Street</td>\n",
       "      <td>0.00</td>\n",
       "      <td>0.58</td>\n",
       "      <td>0.00</td>\n",
       "      <td>0.42</td>\n",
       "      <td>0.00</td>\n",
       "    </tr>\n",
       "    <tr>\n",
       "      <th>1</th>\n",
       "      <td>Downtown Crossing</td>\n",
       "      <td>0.00</td>\n",
       "      <td>0.00</td>\n",
       "      <td>0.49</td>\n",
       "      <td>0.51</td>\n",
       "      <td>0.00</td>\n",
       "    </tr>\n",
       "    <tr>\n",
       "      <th>2</th>\n",
       "      <td>State Street</td>\n",
       "      <td>0.42</td>\n",
       "      <td>0.00</td>\n",
       "      <td>0.58</td>\n",
       "      <td>0.00</td>\n",
       "      <td>0.00</td>\n",
       "    </tr>\n",
       "    <tr>\n",
       "      <th>3</th>\n",
       "      <td>Government Center</td>\n",
       "      <td>0.10</td>\n",
       "      <td>0.90</td>\n",
       "      <td>0.00</td>\n",
       "      <td>0.00</td>\n",
       "      <td>0.00</td>\n",
       "    </tr>\n",
       "    <tr>\n",
       "      <th>4</th>\n",
       "      <td>Haymarket</td>\n",
       "      <td>0.00</td>\n",
       "      <td>0.49</td>\n",
       "      <td>0.51</td>\n",
       "      <td>0.00</td>\n",
       "      <td>0.00</td>\n",
       "    </tr>\n",
       "    <tr>\n",
       "      <th>5</th>\n",
       "      <td>North Station</td>\n",
       "      <td>0.00</td>\n",
       "      <td>0.34</td>\n",
       "      <td>0.66</td>\n",
       "      <td>0.00</td>\n",
       "      <td>0.00</td>\n",
       "    </tr>\n",
       "    <tr>\n",
       "      <th>6</th>\n",
       "      <td>South Station</td>\n",
       "      <td>0.00</td>\n",
       "      <td>0.00</td>\n",
       "      <td>0.00</td>\n",
       "      <td>0.89</td>\n",
       "      <td>0.11</td>\n",
       "    </tr>\n",
       "  </tbody>\n",
       "</table>\n",
       "</div>"
      ],
      "text/plain": [
       "             station  pct_blue  pct_green  pct_orange  pct_red  pct_silver\n",
       "0        Park Street      0.00       0.58        0.00     0.42        0.00\n",
       "1  Downtown Crossing      0.00       0.00        0.49     0.51        0.00\n",
       "2       State Street      0.42       0.00        0.58     0.00        0.00\n",
       "3  Government Center      0.10       0.90        0.00     0.00        0.00\n",
       "4          Haymarket      0.00       0.49        0.51     0.00        0.00\n",
       "5      North Station      0.00       0.34        0.66     0.00        0.00\n",
       "6      South Station      0.00       0.00        0.00     0.89        0.11"
      ]
     },
     "execution_count": 32,
     "metadata": {},
     "output_type": "execute_result"
    }
   ],
   "source": [
    "# Get station splits.\n",
    "station_splits = pd.read_csv('../../../data/StationSplits.csv')\n",
    "station_splits.fillna(0.0, inplace=True)\n",
    "station_splits"
   ]
  },
  {
   "cell_type": "markdown",
   "metadata": {},
   "source": [
    "### Farebox"
   ]
  },
  {
   "cell_type": "code",
   "execution_count": 33,
   "metadata": {
    "collapsed": true
   },
   "outputs": [],
   "source": [
    "# Path for routes.\n",
    "routes_file = '../../../data/SignCodesAndRoutes.csv'\n",
    "\n",
    "# Get routes.\n",
    "routes = pd.read_csv(routes_file)\n",
    "# Restrict to Green Line BCDE.\n",
    "gl_routes = routes[(routes['mode'] == 'G/Line') & routes.publicroute.isin(['Green Line '+l for l in 'BCDE'])]\n",
    "# Get signcodes.\n",
    "gl_signcodeids = set(gl_routes.signcodeid)\n",
    "\n",
    "# Get simplified version for merge.\n",
    "gl_sc_pr = gl_routes[['signcodeid','publicroute']]"
   ]
  },
  {
   "cell_type": "code",
   "execution_count": 34,
   "metadata": {
    "collapsed": false
   },
   "outputs": [],
   "source": [
    "# Farebox directories.\n",
    "farebox_root = '../../../data/farebox_all/'\n",
    "\n",
    "# Empty container for data.\n",
    "farebox_raw = None\n",
    "# Traverse each file and add to the main.\n",
    "for farebox_file in os.listdir(farebox_root):\n",
    "    farebox_month = pd.read_csv(farebox_root+farebox_file)\n",
    "    if farebox_raw is None:\n",
    "        farebox_raw = farebox_month\n",
    "    else:\n",
    "        farebox_raw = farebox_raw.append(farebox_month)"
   ]
  },
  {
   "cell_type": "code",
   "execution_count": 35,
   "metadata": {
    "collapsed": false
   },
   "outputs": [
    {
     "name": "stderr",
     "output_type": "stream",
     "text": [
      "/usr/local/Cellar/python/2.7.6/Frameworks/Python.framework/Versions/2.7/lib/python2.7/site-packages/pandas/core/generic.py:2005: SettingWithCopyWarning: \n",
      "A value is trying to be set on a copy of a slice from a DataFrame.\n",
      "Try using .loc[row_indexer,col_indexer] = value instead\n",
      "\n",
      "See the the caveats in the documentation: http://pandas.pydata.org/pandas-docs/stable/indexing.html#indexing-view-versus-copy\n",
      "  self[name] = value\n"
     ]
    }
   ],
   "source": [
    "# Restrict to green line. Discard old farebox data.\n",
    "farebox = farebox_raw[farebox_raw.signcodeid.isin(gl_signcodeids)].copy()\n",
    "\n",
    "# Calculate entries.\n",
    "farebox['entries'] = farebox.charlie + farebox.cash\n",
    "\n",
    "# Drop old columns.\n",
    "farebox.drop(['charlie','cash'], axis=1, inplace=True)\n",
    "\n",
    "# Rename some columns for consistency.\n",
    "farebox.rename(columns={'servicedate':'service_day', 'servicetime':'service_time'}, inplace=True)\n",
    "\n",
    "# Make service_day a string for now.\n",
    "farebox.service_day = farebox.service_day.astype(np.str)\n",
    "\n",
    "# Fix dates and times for post-midnight \n",
    "farebox_post_midnight = farebox[farebox.service_time >= 2400]\n",
    "# Fix times.\n",
    "farebox_post_midnight.service_time = farebox_post_midnight.service_time-2400\n",
    "# Fix dates.\n",
    "farebox_post_midnight.service_day = pd.to_datetime(farebox_post_midnight.service_day) + np.timedelta64(1,'D')\n",
    "farebox_post_midnight.service_day = pd.DatetimeIndex(farebox_post_midnight.service_day).format()\n",
    "# Get pre-midnight data.\n",
    "farebox_pre_midnight = farebox[farebox.service_time < 2400]\n",
    "# Recombine.\n",
    "farebox = farebox_pre_midnight.append(farebox_post_midnight)\n",
    "# Housekeeping.\n",
    "del farebox_pre_midnight, farebox_post_midnight\n",
    "\n",
    "# Zero-pad service times.\n",
    "farebox.service_time = farebox.service_time.map('{:04}'.format)\n",
    "\n",
    "# Derive datetime.\n",
    "farebox['service_datetime'] = pd.to_datetime(farebox.service_day + ' ' + farebox.service_time)\n",
    "\n",
    "# Re-derive service time.\n",
    "farebox.service_time = pd.DatetimeIndex(farebox['service_datetime']).time\n",
    "\n",
    "# Turn plain day into a datetime and get day of week.\n",
    "farebox.service_day = pd.to_datetime(farebox.service_day)\n",
    "farebox['day_of_week'] = pd.DatetimeIndex(farebox.service_day).weekday\n",
    "\n",
    "# Identify outbound/outbound routes.\n",
    "farebox['inbound'] = (farebox.signcodeid % 10).astype(np.bool)\n",
    "\n",
    "# Merge with publicroute information.\n",
    "farebox = farebox.merge(gl_sc_pr, on='signcodeid')\n",
    "\n",
    "# Aggregate by inbound/outbound, publicroute.\n",
    "farebox = farebox.groupby(['service_day','service_time','service_datetime','day_of_week','inbound','publicroute']).agg(np.sum).reset_index()\n",
    "\n",
    "# Perform final aggregation in case of multiple signcodeid entries.\n",
    "# gl_farebox_agg = gl_farebox.groupby(['service_day','service_time','service_datetime','day_of_week','inbound']).agg(np.sum).reset_index()\n",
    "farebox.drop(['signcodeid'], axis=1, inplace=True)\n",
    "\n",
    "# Remove bad dates.\n",
    "farebox = farebox[farebox.service_day.isin(bad_dates) == False]"
   ]
  },
  {
   "cell_type": "code",
   "execution_count": 36,
   "metadata": {
    "collapsed": false
   },
   "outputs": [
    {
     "data": {
      "text/html": [
       "<div style=\"max-height:1000px;max-width:1500px;overflow:auto;\">\n",
       "<table border=\"1\" class=\"dataframe\">\n",
       "  <thead>\n",
       "    <tr style=\"text-align: right;\">\n",
       "      <th></th>\n",
       "      <th>service_day</th>\n",
       "      <th>service_time</th>\n",
       "      <th>service_datetime</th>\n",
       "      <th>day_of_week</th>\n",
       "      <th>inbound</th>\n",
       "      <th>publicroute</th>\n",
       "      <th>entries</th>\n",
       "    </tr>\n",
       "  </thead>\n",
       "  <tbody>\n",
       "    <tr>\n",
       "      <th>1187</th>\n",
       "      <td>2013-01-03</td>\n",
       "      <td>00:00:00</td>\n",
       "      <td>2013-01-03</td>\n",
       "      <td>3</td>\n",
       "      <td>False</td>\n",
       "      <td>Green Line B</td>\n",
       "      <td>8</td>\n",
       "    </tr>\n",
       "    <tr>\n",
       "      <th>1188</th>\n",
       "      <td>2013-01-03</td>\n",
       "      <td>00:00:00</td>\n",
       "      <td>2013-01-03</td>\n",
       "      <td>3</td>\n",
       "      <td>False</td>\n",
       "      <td>Green Line C</td>\n",
       "      <td>6</td>\n",
       "    </tr>\n",
       "    <tr>\n",
       "      <th>1189</th>\n",
       "      <td>2013-01-03</td>\n",
       "      <td>00:00:00</td>\n",
       "      <td>2013-01-03</td>\n",
       "      <td>3</td>\n",
       "      <td>False</td>\n",
       "      <td>Green Line D</td>\n",
       "      <td>5</td>\n",
       "    </tr>\n",
       "    <tr>\n",
       "      <th>1190</th>\n",
       "      <td>2013-01-03</td>\n",
       "      <td>00:00:00</td>\n",
       "      <td>2013-01-03</td>\n",
       "      <td>3</td>\n",
       "      <td>True</td>\n",
       "      <td>Green Line B</td>\n",
       "      <td>8</td>\n",
       "    </tr>\n",
       "    <tr>\n",
       "      <th>1191</th>\n",
       "      <td>2013-01-03</td>\n",
       "      <td>00:00:00</td>\n",
       "      <td>2013-01-03</td>\n",
       "      <td>3</td>\n",
       "      <td>True</td>\n",
       "      <td>Green Line C</td>\n",
       "      <td>5</td>\n",
       "    </tr>\n",
       "  </tbody>\n",
       "</table>\n",
       "</div>"
      ],
      "text/plain": [
       "     service_day service_time service_datetime  day_of_week inbound  \\\n",
       "1187  2013-01-03     00:00:00       2013-01-03            3   False   \n",
       "1188  2013-01-03     00:00:00       2013-01-03            3   False   \n",
       "1189  2013-01-03     00:00:00       2013-01-03            3   False   \n",
       "1190  2013-01-03     00:00:00       2013-01-03            3    True   \n",
       "1191  2013-01-03     00:00:00       2013-01-03            3    True   \n",
       "\n",
       "       publicroute  entries  \n",
       "1187  Green Line B        8  \n",
       "1188  Green Line C        6  \n",
       "1189  Green Line D        5  \n",
       "1190  Green Line B        8  \n",
       "1191  Green Line C        5  "
      ]
     },
     "execution_count": 36,
     "metadata": {},
     "output_type": "execute_result"
    }
   ],
   "source": [
    "farebox.head()"
   ]
  },
  {
   "cell_type": "markdown",
   "metadata": {},
   "source": [
    "### Aggregate"
   ]
  },
  {
   "cell_type": "markdown",
   "metadata": {},
   "source": [
    "#### All Games"
   ]
  },
  {
   "cell_type": "markdown",
   "metadata": {},
   "source": [
    "It will be useful to have information about all games for purposes of calculating gameless days."
   ]
  },
  {
   "cell_type": "code",
   "execution_count": 37,
   "metadata": {
    "collapsed": true
   },
   "outputs": [],
   "source": [
    "# Get all games.\n",
    "all_games = bruins.append(celtics).append(sox)\n",
    "# Get set of all game dates.\n",
    "all_game_dates = all_games.date.unique()"
   ]
  },
  {
   "cell_type": "code",
   "execution_count": 38,
   "metadata": {
    "collapsed": false
   },
   "outputs": [
    {
     "data": {
      "text/plain": [
       "array(['2013-01-19', '2013-01-25', '2013-01-29', '2013-01-31',\n",
       "       '2013-02-12', '2013-02-28', '2013-03-02', '2013-03-03',\n",
       "       '2013-03-07', '2013-03-09'], dtype=object)"
      ]
     },
     "execution_count": 38,
     "metadata": {},
     "output_type": "execute_result"
    }
   ],
   "source": [
    "all_game_dates[:10]"
   ]
  },
  {
   "cell_type": "markdown",
   "metadata": {},
   "source": [
    "#### Gatecount Pregame"
   ]
  },
  {
   "cell_type": "markdown",
   "metadata": {},
   "source": [
    "We need to allocate traffic by day-time-station-line."
   ]
  },
  {
   "cell_type": "code",
   "execution_count": 39,
   "metadata": {
    "collapsed": false
   },
   "outputs": [],
   "source": [
    "# Copy gatecount.\n",
    "gatecount_station_line = gatecount.copy()\n",
    "# Remove NaNs.\n",
    "gatecount_station_line = gatecount_station_line[gatecount_station_line.name.isnull() == False]\n",
    "\n",
    "# Calculate entries by line. For the first pass, split evenly between lines for stations on 2 lines.\n",
    "line_cols = []\n",
    "for line in gatecount_station_line.line_1.unique():\n",
    "    # Derive columns.\n",
    "    line_col = 'entries_'+line.lower()\n",
    "    line_cols.append(line_col)\n",
    "    # Add entries.\n",
    "    gatecount_station_line.ix[gatecount_station_line.line_1 == line,line_col] = gatecount_station_line.ix[gatecount_station_line.line_1 == line,'entries']\n",
    "    gatecount_station_line.ix[gatecount_station_line.line_2 == line,line_col] = gatecount_station_line.ix[gatecount_station_line.line_2 == line,'entries']\n",
    "    # Handle splits.\n",
    "    gatecount_station_line.ix[gatecount_station_line.line_2 != 'None',line_col] = gatecount_station_line.ix[gatecount_station_line.line_2 != 'None',line_col]/2.\n",
    "    # Clean NAs.\n",
    "    gatecount_station_line.ix[gatecount_station_line[line_col].isnull() == True,line_col] = 0.\n",
    "\n",
    "# Drop columns we don't need.\n",
    "gatecount_station_line.drop(['locationid','line_1','line_2'], axis=1, inplace=True)"
   ]
  },
  {
   "cell_type": "code",
   "execution_count": 40,
   "metadata": {
    "collapsed": false
   },
   "outputs": [],
   "source": [
    "# Now handle splits where data is available.\n",
    "# Traverse stations.\n",
    "for i in xrange(len(station_splits)):\n",
    "    station = station_splits.ix[i,'station']\n",
    "    # Traverse cols.\n",
    "    for pct in station_splits.columns[1:]:\n",
    "        # Update entries.\n",
    "        gatecount_station_line.ix[gatecount_station_line.name == station,pct.replace('pct','entries')] = gatecount_station_line.ix[gatecount_station_line.name == station,'entries']*station_splits.ix[i,pct]"
   ]
  },
  {
   "cell_type": "code",
   "execution_count": 41,
   "metadata": {
    "collapsed": false
   },
   "outputs": [
    {
     "data": {
      "text/html": [
       "<div style=\"max-height:1000px;max-width:1500px;overflow:auto;\">\n",
       "<table border=\"1\" class=\"dataframe\">\n",
       "  <thead>\n",
       "    <tr style=\"text-align: right;\">\n",
       "      <th></th>\n",
       "      <th>name</th>\n",
       "      <th>service_day</th>\n",
       "      <th>service_datetime</th>\n",
       "      <th>entries</th>\n",
       "      <th>service_time</th>\n",
       "      <th>day_of_week</th>\n",
       "      <th>entries_red</th>\n",
       "      <th>entries_blue</th>\n",
       "      <th>entries_orange</th>\n",
       "      <th>entries_green</th>\n",
       "      <th>entries_silver</th>\n",
       "    </tr>\n",
       "  </thead>\n",
       "  <tbody>\n",
       "    <tr>\n",
       "      <th>10700</th>\n",
       "      <td>South Station</td>\n",
       "      <td>2013-01-03</td>\n",
       "      <td>2013-01-03 04:45:00</td>\n",
       "      <td>3</td>\n",
       "      <td>04:45:00</td>\n",
       "      <td>3</td>\n",
       "      <td>2.67</td>\n",
       "      <td>0</td>\n",
       "      <td>0</td>\n",
       "      <td>0</td>\n",
       "      <td>0.33</td>\n",
       "    </tr>\n",
       "    <tr>\n",
       "      <th>10701</th>\n",
       "      <td>South Station</td>\n",
       "      <td>2013-01-03</td>\n",
       "      <td>2013-01-03 05:00:00</td>\n",
       "      <td>5</td>\n",
       "      <td>05:00:00</td>\n",
       "      <td>3</td>\n",
       "      <td>4.45</td>\n",
       "      <td>0</td>\n",
       "      <td>0</td>\n",
       "      <td>0</td>\n",
       "      <td>0.55</td>\n",
       "    </tr>\n",
       "    <tr>\n",
       "      <th>10702</th>\n",
       "      <td>South Station</td>\n",
       "      <td>2013-01-03</td>\n",
       "      <td>2013-01-03 05:15:00</td>\n",
       "      <td>31</td>\n",
       "      <td>05:15:00</td>\n",
       "      <td>3</td>\n",
       "      <td>27.59</td>\n",
       "      <td>0</td>\n",
       "      <td>0</td>\n",
       "      <td>0</td>\n",
       "      <td>3.41</td>\n",
       "    </tr>\n",
       "    <tr>\n",
       "      <th>10703</th>\n",
       "      <td>South Station</td>\n",
       "      <td>2013-01-03</td>\n",
       "      <td>2013-01-03 05:30:00</td>\n",
       "      <td>33</td>\n",
       "      <td>05:30:00</td>\n",
       "      <td>3</td>\n",
       "      <td>29.37</td>\n",
       "      <td>0</td>\n",
       "      <td>0</td>\n",
       "      <td>0</td>\n",
       "      <td>3.63</td>\n",
       "    </tr>\n",
       "    <tr>\n",
       "      <th>10704</th>\n",
       "      <td>South Station</td>\n",
       "      <td>2013-01-03</td>\n",
       "      <td>2013-01-03 05:45:00</td>\n",
       "      <td>15</td>\n",
       "      <td>05:45:00</td>\n",
       "      <td>3</td>\n",
       "      <td>13.35</td>\n",
       "      <td>0</td>\n",
       "      <td>0</td>\n",
       "      <td>0</td>\n",
       "      <td>1.65</td>\n",
       "    </tr>\n",
       "  </tbody>\n",
       "</table>\n",
       "</div>"
      ],
      "text/plain": [
       "                name service_day    service_datetime  entries service_time  \\\n",
       "10700  South Station  2013-01-03 2013-01-03 04:45:00        3     04:45:00   \n",
       "10701  South Station  2013-01-03 2013-01-03 05:00:00        5     05:00:00   \n",
       "10702  South Station  2013-01-03 2013-01-03 05:15:00       31     05:15:00   \n",
       "10703  South Station  2013-01-03 2013-01-03 05:30:00       33     05:30:00   \n",
       "10704  South Station  2013-01-03 2013-01-03 05:45:00       15     05:45:00   \n",
       "\n",
       "       day_of_week  entries_red  entries_blue  entries_orange  entries_green  \\\n",
       "10700            3         2.67             0               0              0   \n",
       "10701            3         4.45             0               0              0   \n",
       "10702            3        27.59             0               0              0   \n",
       "10703            3        29.37             0               0              0   \n",
       "10704            3        13.35             0               0              0   \n",
       "\n",
       "       entries_silver  \n",
       "10700            0.33  \n",
       "10701            0.55  \n",
       "10702            3.41  \n",
       "10703            3.63  \n",
       "10704            1.65  "
      ]
     },
     "execution_count": 41,
     "metadata": {},
     "output_type": "execute_result"
    }
   ],
   "source": [
    "gatecount_station_line[gatecount_station_line.name == 'South Station'].head()"
   ]
  },
  {
   "cell_type": "code",
   "execution_count": 42,
   "metadata": {
    "collapsed": false
   },
   "outputs": [],
   "source": [
    "# Calculate gameless pregame ridership.\n",
    "gatecount_station_line_gameless = gatecount_station_line[gatecount_station_line.service_day.isin(all_game_dates) == False]"
   ]
  },
  {
   "cell_type": "markdown",
   "metadata": {},
   "source": [
    "#### Farebox Pregame"
   ]
  },
  {
   "cell_type": "markdown",
   "metadata": {},
   "source": [
    "Similar idea to above. Aggregate by letter and by green line generally."
   ]
  },
  {
   "cell_type": "code",
   "execution_count": 43,
   "metadata": {
    "collapsed": false
   },
   "outputs": [],
   "source": [
    "# Copy farebox.\n",
    "fb_all = farebox.copy()\n",
    "\n",
    "# Get aggregates by DOW, time.\n",
    "fb_day_time = fb_all.groupby(['service_day','day_of_week','service_time','service_datetime']).agg({'entries':np.sum}).reset_index()\n",
    "fb_day_time.rename(columns={'entries':'entries_green'}, inplace=True)\n",
    "\n",
    "# TODO: get by Green Line route as well. Not important now—the above is fine for general aggregations."
   ]
  },
  {
   "cell_type": "code",
   "execution_count": 44,
   "metadata": {
    "collapsed": false
   },
   "outputs": [
    {
     "data": {
      "text/html": [
       "<div style=\"max-height:1000px;max-width:1500px;overflow:auto;\">\n",
       "<table border=\"1\" class=\"dataframe\">\n",
       "  <thead>\n",
       "    <tr style=\"text-align: right;\">\n",
       "      <th></th>\n",
       "      <th>service_day</th>\n",
       "      <th>day_of_week</th>\n",
       "      <th>service_time</th>\n",
       "      <th>service_datetime</th>\n",
       "      <th>entries_green</th>\n",
       "    </tr>\n",
       "  </thead>\n",
       "  <tbody>\n",
       "    <tr>\n",
       "      <th>0</th>\n",
       "      <td>2013-01-03</td>\n",
       "      <td>3</td>\n",
       "      <td>00:00:00</td>\n",
       "      <td>2013-01-03 00:00:00</td>\n",
       "      <td>48</td>\n",
       "    </tr>\n",
       "    <tr>\n",
       "      <th>1</th>\n",
       "      <td>2013-01-03</td>\n",
       "      <td>3</td>\n",
       "      <td>00:15:00</td>\n",
       "      <td>2013-01-03 00:15:00</td>\n",
       "      <td>31</td>\n",
       "    </tr>\n",
       "    <tr>\n",
       "      <th>2</th>\n",
       "      <td>2013-01-03</td>\n",
       "      <td>3</td>\n",
       "      <td>00:30:00</td>\n",
       "      <td>2013-01-03 00:30:00</td>\n",
       "      <td>29</td>\n",
       "    </tr>\n",
       "    <tr>\n",
       "      <th>3</th>\n",
       "      <td>2013-01-03</td>\n",
       "      <td>3</td>\n",
       "      <td>00:45:00</td>\n",
       "      <td>2013-01-03 00:45:00</td>\n",
       "      <td>1</td>\n",
       "    </tr>\n",
       "    <tr>\n",
       "      <th>4</th>\n",
       "      <td>2013-01-03</td>\n",
       "      <td>3</td>\n",
       "      <td>01:15:00</td>\n",
       "      <td>2013-01-03 01:15:00</td>\n",
       "      <td>2</td>\n",
       "    </tr>\n",
       "  </tbody>\n",
       "</table>\n",
       "</div>"
      ],
      "text/plain": [
       "  service_day  day_of_week service_time    service_datetime  entries_green\n",
       "0  2013-01-03            3     00:00:00 2013-01-03 00:00:00             48\n",
       "1  2013-01-03            3     00:15:00 2013-01-03 00:15:00             31\n",
       "2  2013-01-03            3     00:30:00 2013-01-03 00:30:00             29\n",
       "3  2013-01-03            3     00:45:00 2013-01-03 00:45:00              1\n",
       "4  2013-01-03            3     01:15:00 2013-01-03 01:15:00              2"
      ]
     },
     "execution_count": 44,
     "metadata": {},
     "output_type": "execute_result"
    }
   ],
   "source": [
    "fb_day_time.head()"
   ]
  },
  {
   "cell_type": "code",
   "execution_count": 45,
   "metadata": {
    "collapsed": false
   },
   "outputs": [],
   "source": [
    "# Calculate gameless pregame ridership.\n",
    "fb_day_time_gameless = fb_day_time[fb_day_time.service_day.isin(all_game_dates) == False]"
   ]
  },
  {
   "cell_type": "markdown",
   "metadata": {},
   "source": [
    "#### Gatecount Postgame"
   ]
  },
  {
   "cell_type": "code",
   "execution_count": 46,
   "metadata": {
    "collapsed": false
   },
   "outputs": [],
   "source": [
    "# Get records specific to our stations of interest.\n",
    "gatecount_game_stations = gatecount[gatecount.name.isin(fenway_stations+td_stations)].copy()\n",
    "\n",
    "# Set up station group.\n",
    "gatecount_game_stations['team'] = 'sox'\n",
    "gatecount_game_stations.ix[gatecount_game_stations.name.isin(td_stations),'team'] = 'bc'\n",
    "\n",
    "# Restrict columns.\n",
    "gatecount_game_stations = gatecount_game_stations[['team','service_day','day_of_week','service_time','service_datetime','entries']]\n",
    "\n",
    "# Aggregate by team, day, time. Solves duplicate Hynes/Kenmore records.\n",
    "gatecount_game_stations = gatecount_game_stations.groupby(['team','service_day','day_of_week','service_time','service_datetime']).sum().reset_index(drop=False)"
   ]
  },
  {
   "cell_type": "code",
   "execution_count": 47,
   "metadata": {
    "collapsed": false
   },
   "outputs": [
    {
     "data": {
      "text/html": [
       "<div style=\"max-height:1000px;max-width:1500px;overflow:auto;\">\n",
       "<table border=\"1\" class=\"dataframe\">\n",
       "  <thead>\n",
       "    <tr style=\"text-align: right;\">\n",
       "      <th></th>\n",
       "      <th>team</th>\n",
       "      <th>service_day</th>\n",
       "      <th>day_of_week</th>\n",
       "      <th>service_time</th>\n",
       "      <th>service_datetime</th>\n",
       "      <th>entries</th>\n",
       "    </tr>\n",
       "  </thead>\n",
       "  <tbody>\n",
       "    <tr>\n",
       "      <th>0</th>\n",
       "      <td>bc</td>\n",
       "      <td>2013-01-03</td>\n",
       "      <td>3</td>\n",
       "      <td>00:00:00</td>\n",
       "      <td>2013-01-04 00:00:00</td>\n",
       "      <td>14</td>\n",
       "    </tr>\n",
       "    <tr>\n",
       "      <th>1</th>\n",
       "      <td>bc</td>\n",
       "      <td>2013-01-03</td>\n",
       "      <td>3</td>\n",
       "      <td>00:15:00</td>\n",
       "      <td>2013-01-04 00:15:00</td>\n",
       "      <td>7</td>\n",
       "    </tr>\n",
       "    <tr>\n",
       "      <th>2</th>\n",
       "      <td>bc</td>\n",
       "      <td>2013-01-03</td>\n",
       "      <td>3</td>\n",
       "      <td>00:30:00</td>\n",
       "      <td>2013-01-04 00:30:00</td>\n",
       "      <td>3</td>\n",
       "    </tr>\n",
       "    <tr>\n",
       "      <th>3</th>\n",
       "      <td>bc</td>\n",
       "      <td>2013-01-03</td>\n",
       "      <td>3</td>\n",
       "      <td>00:45:00</td>\n",
       "      <td>2013-01-04 00:45:00</td>\n",
       "      <td>2</td>\n",
       "    </tr>\n",
       "    <tr>\n",
       "      <th>4</th>\n",
       "      <td>bc</td>\n",
       "      <td>2013-01-03</td>\n",
       "      <td>3</td>\n",
       "      <td>01:00:00</td>\n",
       "      <td>2013-01-04 01:00:00</td>\n",
       "      <td>0</td>\n",
       "    </tr>\n",
       "  </tbody>\n",
       "</table>\n",
       "</div>"
      ],
      "text/plain": [
       "  team service_day  day_of_week service_time    service_datetime  entries\n",
       "0   bc  2013-01-03            3     00:00:00 2013-01-04 00:00:00       14\n",
       "1   bc  2013-01-03            3     00:15:00 2013-01-04 00:15:00        7\n",
       "2   bc  2013-01-03            3     00:30:00 2013-01-04 00:30:00        3\n",
       "3   bc  2013-01-03            3     00:45:00 2013-01-04 00:45:00        2\n",
       "4   bc  2013-01-03            3     01:00:00 2013-01-04 01:00:00        0"
      ]
     },
     "execution_count": 47,
     "metadata": {},
     "output_type": "execute_result"
    }
   ],
   "source": [
    "gatecount_game_stations.head()"
   ]
  },
  {
   "cell_type": "markdown",
   "metadata": {},
   "source": [
    "---\n",
    "## Join & Calculate Differences"
   ]
  },
  {
   "cell_type": "markdown",
   "metadata": {},
   "source": [
    "### Pregame"
   ]
  },
  {
   "cell_type": "code",
   "execution_count": 48,
   "metadata": {
    "collapsed": false
   },
   "outputs": [],
   "source": [
    "# Get information about months.\n",
    "gc_gameless_months = pd.DatetimeIndex(gatecount_station_line_gameless.service_day).month\n",
    "fb_gameless_months = pd.DatetimeIndex(fb_day_time_gameless.service_day).month\n",
    "\n",
    "# Traverse schedules.\n",
    "for games, team in zip([bruins,celtics,sox],['bruins','celtics','sox']):\n",
    "    games = games.copy()\n",
    "    # Column modifications.\n",
    "    games['game_time_obj'] = pd.to_datetime(games.date + ' ' + games.time)\n",
    "    games.date = pd.to_datetime(games.date)\n",
    "    games.rename(columns={'time':'game_time'}, inplace=True)\n",
    "    \n",
    "    ### Gatecount.\n",
    "    \n",
    "    # Get gameless data in this season and aggregate.\n",
    "    if team == 'sox':\n",
    "        season_pregame_gc_gameless = gatecount_station_line_gameless[\n",
    "            (gc_gameless_months <= sox_season_end_month) &\n",
    "            (gc_gameless_months >= sox_season_start_month)\n",
    "        ]\n",
    "    else:\n",
    "        season_pregame_gc_gameless = gatecount_station_line_gameless[\n",
    "            (gc_gameless_months <= bc_season_end_month) |\n",
    "            (gc_gameless_months >= bc_season_start_month)\n",
    "        ]\n",
    "    # Aggregate. Get means of all lines by day of week and time of day.\n",
    "    agg_cols = dict((c,np.mean) for c in season_pregame_gc_gameless.columns if c.startswith('entries_'))\n",
    "    season_pregame_gc_gameless = season_pregame_gc_gameless.groupby(['name','day_of_week','service_time']).agg(agg_cols).reset_index()\n",
    "    # Rename columns. Clarify mean entries.\n",
    "    col_renames = dict((c,c.replace('entries','mean_entries')) for c in season_pregame_gc_gameless.columns if c.startswith('entries_'))\n",
    "    season_pregame_gc_gameless.rename(columns=col_renames, inplace=True)\n",
    "    # We now have our mean entries reference for gameless days by station.\n",
    "\n",
    "    # Merge with game data.\n",
    "    game_gc = gatecount_station_line.merge(games, left_on=['service_day'], right_on=['date'])\n",
    "    # Calculate time delta and filter based on it.\n",
    "    game_gc['time_until_game_start'] = game_gc.game_time_obj - game_gc.service_datetime\n",
    "    game_gc['hours_until_game_start'] = game_gc.time_until_game_start.astype(np.int) / timedelta_base\n",
    "    game_gc = game_gc[(game_gc.time_until_game_start >= np.timedelta64(-30,'m')) & (game_gc.time_until_game_start <= np.timedelta64(6,'h'))]\n",
    "    # Prune columns.\n",
    "    entry_cols = [c for c in game_gc.columns if c.startswith('entries_')]\n",
    "    game_gc = game_gc[['name','day_of_week_x','service_time','game_id','hours_until_game_start'] + entry_cols]\n",
    "    game_gc.rename(columns={'day_of_week_x':'day_of_week'}, inplace=True)\n",
    "    # Join to gameless data.\n",
    "    game_gc_vs_gameless = game_gc.merge(season_pregame_gc_gameless, on=['name','day_of_week','service_time'])\n",
    "    # Calculate lift.\n",
    "    for c in entry_cols:\n",
    "        game_gc_vs_gameless['lift_'+c] = game_gc_vs_gameless[c]-game_gc_vs_gameless['mean_'+c]\n",
    "    # TODO: update lift for split stations.\n",
    "    # Sum up lift per game.\n",
    "    lift_cols = [c for c in game_gc_vs_gameless.columns if c.startswith('lift_entries_')]\n",
    "    agg_sum_cols = dict((c,np.sum) for c in lift_cols)\n",
    "    game_gc_vs_gameless = game_gc_vs_gameless.groupby(['game_id','day_of_week','hours_until_game_start']).agg(agg_sum_cols).reset_index().sort(['game_id','hours_until_game_start'])\n",
    "    # Now get hourly averages.\n",
    "    agg_mean_cols = dict((c,np.mean) for c in lift_cols)\n",
    "    game_gc_vs_gameless_mean = game_gc_vs_gameless.groupby('hours_until_game_start').agg(agg_mean_cols).reset_index()\n",
    "    # Drop silver.\n",
    "    game_gc_vs_gameless_mean.drop('lift_entries_silver', axis=1, inplace=True)\n",
    "    \n",
    "    ### Farebox.\n",
    "    \n",
    "    # Get gameless data in this season and aggregate.\n",
    "    if team == 'sox':\n",
    "        season_pregame_fb_gameless = fb_day_time_gameless[\n",
    "            (fb_gameless_months <= sox_season_end_month) &\n",
    "            (fb_gameless_months >= sox_season_start_month)\n",
    "        ]\n",
    "    else:\n",
    "        season_pregame_fb_gameless = fb_day_time_gameless[\n",
    "            (fb_gameless_months <= bc_season_end_month) |\n",
    "            (fb_gameless_months >= bc_season_start_month)\n",
    "        ]\n",
    "    # Aggregate. Get means by day of week and time of day.\n",
    "    season_pregame_fb_gameless = season_pregame_fb_gameless.groupby(['day_of_week','service_time']).agg({'entries_green':np.mean}).reset_index()\n",
    "    # Rename columns. Clarify mean entries.\n",
    "    season_pregame_fb_gameless.rename(columns={'entries_green':'mean_entries_green'}, inplace=True)\n",
    "    # We now have our mean entries reference for gameless days for Green Line Farebox data.\n",
    "\n",
    "    # Merge with game data.\n",
    "    game_fb = fb_day_time.merge(games, left_on=['service_day'], right_on=['date'])\n",
    "    # Calculate time delta and filter based on it.\n",
    "    game_fb['time_until_game_start'] = game_fb.game_time_obj - game_fb.service_datetime\n",
    "    game_fb['hours_until_game_start'] = game_fb.time_until_game_start.astype(np.int) / timedelta_base\n",
    "    game_fb = game_fb[(game_fb.time_until_game_start >= np.timedelta64(-30,'m')) & (game_fb.time_until_game_start <= np.timedelta64(6,'h'))]\n",
    "    # Prune columns.\n",
    "    entry_cols = [c for c in game_gc.columns if c.startswith('entries_')]\n",
    "    game_fb = game_fb[['day_of_week_x','service_time','game_id','hours_until_game_start','entries_green']]\n",
    "    game_fb.rename(columns={'day_of_week_x':'day_of_week'}, inplace=True)\n",
    "    # Join to gameless data.\n",
    "    game_fb_vs_gameless = game_fb.merge(season_pregame_fb_gameless, on=['day_of_week','service_time'])\n",
    "    # Calculate lift. This will give us gameday-time lift.\n",
    "    game_fb_vs_gameless['lift_entries_green'] = game_fb_vs_gameless['entries_green']-game_fb_vs_gameless['mean_entries_green']\n",
    "    # Drop columns we don't need.\n",
    "    game_fb_vs_gameless.drop(['mean_entries_green','entries_green','service_time'], axis=1, inplace=True)\n",
    "    # Now get hourly averages.\n",
    "    game_fb_vs_gameless_mean = game_fb_vs_gameless.groupby('hours_until_game_start').agg({'lift_entries_green':np.mean}).reset_index()\n",
    "    \n",
    "    ### Combined.\n",
    "\n",
    "    # Simply append and sum.\n",
    "    agg_lift = game_fb_vs_gameless.append(game_gc_vs_gameless).fillna(0)\n",
    "    agg_lift = agg_lift.groupby(['game_id','day_of_week','hours_until_game_start']).sum().reset_index()\n",
    "    \n",
    "    # Trim columns for 171 verison.\n",
    "    agg_lift_trunc = agg_lift.drop(['day_of_week','lift_entries_silver'],axis=1)\n",
    "    \n",
    "    # Assign variable depending on team.\n",
    "    if team == 'bruins':\n",
    "        bruins_pregame = agg_lift_trunc.copy()\n",
    "    if team == 'celtics':\n",
    "        celtics_pregame = agg_lift_trunc.copy()\n",
    "    if team == 'sox':\n",
    "        sox_pregame = agg_lift_trunc.copy()"
   ]
  },
  {
   "cell_type": "markdown",
   "metadata": {},
   "source": [
    "### Postgame"
   ]
  },
  {
   "cell_type": "code",
   "execution_count": 49,
   "metadata": {
    "collapsed": false
   },
   "outputs": [],
   "source": [
    "# Get information about months.\n",
    "gc_months = pd.DatetimeIndex(gatecount_game_stations.service_day).month\n",
    "\n",
    "# Traverse schedules.\n",
    "for games, team in zip([bruins,celtics,sox],['bruins','celtics','sox']):\n",
    "    games = games.copy()\n",
    "    # Column modifications.\n",
    "    games['game_time_obj'] = pd.to_datetime(games.date + ' ' + games.time)\n",
    "    games.date = pd.to_datetime(games.date)\n",
    "    games.rename(columns={'time':'game_time'}, inplace=True)\n",
    "    # Get appropriate postgame information.\n",
    "    # Restrict to particular stations based on team, and only include seasonal data.\n",
    "    if team == 'sox':\n",
    "        season_ridership = gatecount_game_stations[\n",
    "            (gatecount_game_stations.team == 'sox')   &\n",
    "            (gc_months <= sox_season_end_month)  &\n",
    "            (gc_months >= sox_season_start_month)\n",
    "        ]\n",
    "    else:\n",
    "        season_ridership = gatecount_game_stations[\n",
    "            (gatecount_game_stations.team == 'bc') &\n",
    "            ((gc_months <= bc_season_end_month) | (gc_months >= bc_season_start_month))\n",
    "        ]\n",
    "    \n",
    "    # Restrict to gameless days and aggregate.\n",
    "    gameless_ridership = season_ridership[season_ridership.service_day.isin(all_game_dates) == False]\n",
    "    gameless_ridership_agg = gameless_ridership.groupby(['day_of_week','service_time']).agg({'entries':np.mean}).reset_index()\n",
    "    gameless_ridership_agg.rename(columns={'entries':'mean_entries'}, inplace=True)\n",
    "    # Join ridership to games and restrict columns.\n",
    "    game_ridership = games.merge(season_ridership, left_on='date', right_on='service_day')\n",
    "    game_ridership = game_ridership[['game_id','day_of_week_x','service_time','service_datetime','game_time_obj','entries']]\n",
    "    game_ridership.rename(columns={'day_of_week_x':'day_of_week'}, inplace=True)\n",
    "    # Calculate time delta and filter based on it.\n",
    "    game_ridership['time_since_game_start'] = game_ridership.service_datetime - game_ridership.game_time_obj\n",
    "    game_ridership['hours_since_game_start'] = game_ridership.time_since_game_start.astype(np.int) / timedelta_base\n",
    "    game_ridership = game_ridership[(game_ridership.time_since_game_start >= np.timedelta64(-30,'m')) & (game_ridership.time_since_game_start <= np.timedelta64(6,'h'))]\n",
    "    # Join non-game means and calculate lift.\n",
    "    game_ridership_vs_gameless = game_ridership.merge(gameless_ridership_agg, on=['day_of_week','service_time'])\n",
    "    game_ridership_vs_gameless['entry_lift'] = game_ridership_vs_gameless.entries - game_ridership_vs_gameless.mean_entries\n",
    "    \n",
    "    # Trim columns and sort for 171 usage.\n",
    "    game_ridership_vs_gameless_trunc = game_ridership_vs_gameless[['game_id','hours_since_game_start','entry_lift']].copy()\n",
    "    game_ridership_vs_gameless_trunc.sort(['game_id','hours_since_game_start'], inplace=True)\n",
    "    \n",
    "    # Assign variable depending on team.\n",
    "    if team == 'bruins':\n",
    "        bruins_postgame = game_ridership_vs_gameless_trunc.copy()\n",
    "    if team == 'celtics':\n",
    "        celtics_postgame = game_ridership_vs_gameless_trunc.copy()\n",
    "    if team == 'sox':\n",
    "        sox_postgame = game_ridership_vs_gameless_trunc.copy()"
   ]
  },
  {
   "cell_type": "markdown",
   "metadata": {},
   "source": [
    "---\n",
    "## Output Data"
   ]
  },
  {
   "cell_type": "markdown",
   "metadata": {},
   "source": [
    "Output data for analysis. "
   ]
  },
  {
   "cell_type": "code",
   "execution_count": 53,
   "metadata": {
    "collapsed": false
   },
   "outputs": [],
   "source": [
    "# Write team schedules.\n",
    "sox.to_csv('../../../data/sports_analysis/sox.csv', index=False)\n",
    "bruins.to_csv('../../../data/sports_analysis/bruins.csv', index=False)\n",
    "celtics.to_csv('../../../data/sports_analysis/celtics.csv', index=False)"
   ]
  },
  {
   "cell_type": "code",
   "execution_count": 54,
   "metadata": {
    "collapsed": false
   },
   "outputs": [],
   "source": [
    "# Save all pregame data.\n",
    "bruins_pregame.to_csv('../../../data/sports_analysis/bruins_pregame.csv',   index=False)\n",
    "celtics_pregame.to_csv('../../../data/sports_analysis/celtics_pregame.csv', index=False)\n",
    "sox_pregame.to_csv('../../../data/sports_analysis/sox_pregame.csv',         index=False)"
   ]
  },
  {
   "cell_type": "code",
   "execution_count": 55,
   "metadata": {
    "collapsed": false
   },
   "outputs": [],
   "source": [
    "# Save all postgame data.\n",
    "bruins_postgame.to_csv('../../../data/sports_analysis/bruins_postgame.csv',   index=False)\n",
    "celtics_postgame.to_csv('../../../data/sports_analysis/celtics_postgame.csv', index=False)\n",
    "sox_postgame.to_csv('../../../data/sports_analysis/sox_postgame.csv',         index=False)"
   ]
  },
  {
   "cell_type": "markdown",
   "metadata": {},
   "source": [
    "---\n",
    "## CS 171 Final Project Data"
   ]
  },
  {
   "cell_type": "markdown",
   "metadata": {},
   "source": [
    "This data is also used in our CS 171 project. The following code simply saves data that has already been created above in a convenient local location."
   ]
  },
  {
   "cell_type": "code",
   "execution_count": 359,
   "metadata": {
    "collapsed": false
   },
   "outputs": [],
   "source": [
    "# Write team schedules.\n",
    "sox.to_csv('../../../../../CS 171/cs171-gameday/data/sox.csv', index=False)\n",
    "bruins.to_csv('../../../../../CS 171/cs171-gameday/data/bruins.csv', index=False)\n",
    "celtics.to_csv('../../../../../CS 171/cs171-gameday/data/celtics.csv', index=False)"
   ]
  },
  {
   "cell_type": "code",
   "execution_count": 493,
   "metadata": {
    "collapsed": false
   },
   "outputs": [],
   "source": [
    "# Save all pregame data.\n",
    "bruins_pregame.to_csv('../../../../../CS 171/cs171-gameday/data/bruins_pregame.csv',   index=False)\n",
    "celtics_pregame.to_csv('../../../../../CS 171/cs171-gameday/data/celtics_pregame.csv', index=False)\n",
    "sox_pregame.to_csv('../../../../../CS 171/cs171-gameday/data/sox_pregame.csv',         index=False)"
   ]
  },
  {
   "cell_type": "code",
   "execution_count": 495,
   "metadata": {
    "collapsed": false
   },
   "outputs": [],
   "source": [
    "# Save all postgame data.\n",
    "bruins_postgame.to_csv('../../../../../CS 171/cs171-gameday/data/bruins_postgame.csv',   index=False)\n",
    "celtics_postgame.to_csv('../../../../../CS 171/cs171-gameday/data/celtics_postgame.csv', index=False)\n",
    "sox_postgame.to_csv('../../../../../CS 171/cs171-gameday/data/sox_postgame.csv',         index=False)"
   ]
  }
 ],
 "metadata": {
  "kernelspec": {
   "display_name": "Python 2",
   "language": "python",
   "name": "python2"
  },
  "language_info": {
   "codemirror_mode": {
    "name": "ipython",
    "version": 2
   },
   "file_extension": ".py",
   "mimetype": "text/x-python",
   "name": "python",
   "nbconvert_exporter": "python",
   "pygments_lexer": "ipython2",
   "version": "2.7.6"
  }
 },
 "nbformat": 4,
 "nbformat_minor": 0
}
