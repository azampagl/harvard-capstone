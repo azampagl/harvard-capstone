{
 "cells": [
  {
   "cell_type": "markdown",
   "metadata": {},
   "source": [
    "# Bruins & Celtics Pregame Analysis"
   ]
  },
  {
   "cell_type": "markdown",
   "metadata": {},
   "source": [
    "This notebook explores T ridership before Bruins and Celtics games."
   ]
  },
  {
   "cell_type": "markdown",
   "metadata": {},
   "source": [
    "## Setup"
   ]
  },
  {
   "cell_type": "code",
   "execution_count": 1,
   "metadata": {
    "collapsed": true
   },
   "outputs": [],
   "source": [
    "# Libraries.\n",
    "import datetime as dt\n",
    "import math\n",
    "import matplotlib, matplotlib.pyplot as plt\n",
    "import numpy as np\n",
    "import os\n",
    "import pandas as pd\n",
    "import seaborn as sns\n",
    "\n",
    "# Feature libraries.\n",
    "from features import date"
   ]
  },
  {
   "cell_type": "code",
   "execution_count": 2,
   "metadata": {
    "collapsed": true
   },
   "outputs": [],
   "source": [
    "# Package settings.\n",
    "\n",
    "# Matplotlib.\n",
    "%matplotlib inline\n",
    "\n",
    "# Seaborn.\n",
    "sns.set_style('darkgrid')"
   ]
  },
  {
   "cell_type": "code",
   "execution_count": 3,
   "metadata": {
    "collapsed": true
   },
   "outputs": [],
   "source": [
    "# Other settings.\n",
    "\n",
    "# Default figure size.\n",
    "default_figsize = (12,8)\n",
    "default_figsize_slides = (12,6)\n",
    "\n",
    "# Base units of timedeltas.\n",
    "timedelta_base = 3.6e12\n",
    "\n",
    "# Game lengths in hours for coloring.\n",
    "game_lengths = {\n",
    "    'Celtics': 2.25,\n",
    "    'Bruins':  2.3333\n",
    "}\n",
    "\n",
    "# Team colors.\n",
    "team_colors = {\n",
    "    'Bruins': '#FDB930',\n",
    "    'Celtics': '#008348'\n",
    "}\n",
    "\n",
    "# Season information.\n",
    "season_start_month = 10\n",
    "season_end_month   = 6\n",
    "season_months = np.array(range(season_start_month,13)+range(1,season_end_month+1))\n",
    "\n",
    "# Pregame time range information.\n",
    "pregame_hours_back = 6\n",
    "pregame_hours_after_start = .5\n",
    "\n",
    "# List of holidays and other bad days to exclude from analysis.\n",
    "holidays = '2013-01-21,2013-02-10,2013-03-08,2013-10-14,2013-11-11,2013-11-27,2013-11-29,2013-12-26,2013-12-27,2013-12-31,2014-01-02,2014-01-03,2014-01-20,2014-10-13,2014-11-28,2014-12-23,2014-12-26,2014-12-29,2014-12-31,2015-01-02,2015-01-03,2015-02-10'\n",
    "bad_dates = [dt.date(int(h[:4]),int(h[5:7]),int(h[-2:])) for h in holidays.split(',')]"
   ]
  },
  {
   "cell_type": "markdown",
   "metadata": {},
   "source": [
    "## Read Data"
   ]
  },
  {
   "cell_type": "markdown",
   "metadata": {},
   "source": [
    "### Bruins"
   ]
  },
  {
   "cell_type": "code",
   "execution_count": 4,
   "metadata": {
    "collapsed": true
   },
   "outputs": [],
   "source": [
    "# Read Bruins home games.\n",
    "bruins = pd.DataFrame.from_csv(\"../../../data/bruins/home.csv\").reset_index(drop=False)\n",
    "\n",
    "# Drop home/playoff columns.\n",
    "bruins.drop(['Home','Playoff'], axis=1, inplace=True)\n",
    "\n",
    "# Rename other columns to make joining easy.\n",
    "bruins.rename(columns={'Datetime':'game_datetime', 'Opponent':'opponent'}, inplace=True)\n",
    "\n",
    "# Get standalone game date.\n",
    "bruins['game_date'] = pd.to_datetime(pd.DatetimeIndex(bruins.game_datetime).date)\n",
    "\n",
    "# Turn game date/time into an appropriate object.\n",
    "# bruins.game_datetime = pd.to_datetime(bruins.game_datetime)\n",
    "\n",
    "# Add game time column.\n",
    "bruins['game_time'] = pd.DatetimeIndex(bruins.game_datetime).time\n",
    "\n",
    "# Remove bad dates.\n",
    "bruins = bruins[bruins.game_date.isin(bad_dates) == False]\n",
    "\n",
    "# Add sport column for later merging.\n",
    "bruins['team'] = 'Bruins'"
   ]
  },
  {
   "cell_type": "code",
   "execution_count": 5,
   "metadata": {
    "collapsed": false
   },
   "outputs": [
    {
     "data": {
      "text/html": [
       "<div style=\"max-height:1000px;max-width:1500px;overflow:auto;\">\n",
       "<table border=\"1\" class=\"dataframe\">\n",
       "  <thead>\n",
       "    <tr style=\"text-align: right;\">\n",
       "      <th></th>\n",
       "      <th>game_datetime</th>\n",
       "      <th>opponent</th>\n",
       "      <th>game_date</th>\n",
       "      <th>game_time</th>\n",
       "      <th>team</th>\n",
       "    </tr>\n",
       "  </thead>\n",
       "  <tbody>\n",
       "    <tr>\n",
       "      <th>0</th>\n",
       "      <td>2013-01-19 19:00:00</td>\n",
       "      <td>NY Rangers</td>\n",
       "      <td>2013-01-19</td>\n",
       "      <td>19:00:00</td>\n",
       "      <td>Bruins</td>\n",
       "    </tr>\n",
       "    <tr>\n",
       "      <th>2</th>\n",
       "      <td>2013-01-25 19:00:00</td>\n",
       "      <td>NY Islanders</td>\n",
       "      <td>2013-01-25</td>\n",
       "      <td>19:00:00</td>\n",
       "      <td>Bruins</td>\n",
       "    </tr>\n",
       "    <tr>\n",
       "      <th>3</th>\n",
       "      <td>2013-01-29 19:00:00</td>\n",
       "      <td>New Jersey</td>\n",
       "      <td>2013-01-29</td>\n",
       "      <td>19:00:00</td>\n",
       "      <td>Bruins</td>\n",
       "    </tr>\n",
       "    <tr>\n",
       "      <th>4</th>\n",
       "      <td>2013-01-31 19:00:00</td>\n",
       "      <td>Buffalo</td>\n",
       "      <td>2013-01-31</td>\n",
       "      <td>19:00:00</td>\n",
       "      <td>Bruins</td>\n",
       "    </tr>\n",
       "    <tr>\n",
       "      <th>5</th>\n",
       "      <td>2013-02-12 19:30:00</td>\n",
       "      <td>NY Rangers</td>\n",
       "      <td>2013-02-12</td>\n",
       "      <td>19:30:00</td>\n",
       "      <td>Bruins</td>\n",
       "    </tr>\n",
       "  </tbody>\n",
       "</table>\n",
       "</div>"
      ],
      "text/plain": [
       "        game_datetime      opponent  game_date game_time    team\n",
       "0 2013-01-19 19:00:00    NY Rangers 2013-01-19  19:00:00  Bruins\n",
       "2 2013-01-25 19:00:00  NY Islanders 2013-01-25  19:00:00  Bruins\n",
       "3 2013-01-29 19:00:00    New Jersey 2013-01-29  19:00:00  Bruins\n",
       "4 2013-01-31 19:00:00       Buffalo 2013-01-31  19:00:00  Bruins\n",
       "5 2013-02-12 19:30:00    NY Rangers 2013-02-12  19:30:00  Bruins"
      ]
     },
     "execution_count": 5,
     "metadata": {},
     "output_type": "execute_result"
    }
   ],
   "source": [
    "bruins.head()"
   ]
  },
  {
   "cell_type": "markdown",
   "metadata": {},
   "source": [
    "### Celtics"
   ]
  },
  {
   "cell_type": "code",
   "execution_count": 6,
   "metadata": {
    "collapsed": true
   },
   "outputs": [],
   "source": [
    "# Read Celtics home games.\n",
    "celtics = pd.DataFrame.from_csv(\"../../../data/celtics/home.csv\").reset_index(drop=False)\n",
    "\n",
    "# Drop home/playoff columns.\n",
    "celtics.drop(['Home','Playoff'], axis=1, inplace=True)\n",
    "\n",
    "# Rename other columns to make joining easy.\n",
    "celtics.rename(columns={'Datetime':'game_datetime', 'Opponent':'opponent'}, inplace=True)\n",
    "\n",
    "# Get standalone game date. There must be a better way, but this works for now.\n",
    "celtics['game_date'] = pd.to_datetime(pd.DatetimeIndex(celtics.game_datetime).date)\n",
    "\n",
    "# Turn game date/time into an appropriate object.\n",
    "# celtics.game_datetime = pd.to_datetime(celtics.game_datetime)\n",
    "\n",
    "# Add game time column.\n",
    "celtics['game_time'] = pd.DatetimeIndex(celtics.game_datetime).time\n",
    "\n",
    "# Remove bad dates.\n",
    "celtics = celtics[celtics.game_date.isin(bad_dates) == False]\n",
    "\n",
    "# Add sport column for later merging.\n",
    "celtics['team'] = 'Celtics'"
   ]
  },
  {
   "cell_type": "code",
   "execution_count": 7,
   "metadata": {
    "collapsed": false
   },
   "outputs": [
    {
     "data": {
      "text/html": [
       "<div style=\"max-height:1000px;max-width:1500px;overflow:auto;\">\n",
       "<table border=\"1\" class=\"dataframe\">\n",
       "  <thead>\n",
       "    <tr style=\"text-align: right;\">\n",
       "      <th></th>\n",
       "      <th>game_datetime</th>\n",
       "      <th>opponent</th>\n",
       "      <th>game_date</th>\n",
       "      <th>game_time</th>\n",
       "      <th>team</th>\n",
       "    </tr>\n",
       "  </thead>\n",
       "  <tbody>\n",
       "    <tr>\n",
       "      <th>0</th>\n",
       "      <td>2012-11-02 19:30:00</td>\n",
       "      <td>Milwaukee</td>\n",
       "      <td>2012-11-02</td>\n",
       "      <td>19:30:00</td>\n",
       "      <td>Celtics</td>\n",
       "    </tr>\n",
       "    <tr>\n",
       "      <th>1</th>\n",
       "      <td>2012-11-07 19:30:00</td>\n",
       "      <td>Washington</td>\n",
       "      <td>2012-11-07</td>\n",
       "      <td>19:30:00</td>\n",
       "      <td>Celtics</td>\n",
       "    </tr>\n",
       "    <tr>\n",
       "      <th>2</th>\n",
       "      <td>2012-11-09 19:30:00</td>\n",
       "      <td>Philadelphia</td>\n",
       "      <td>2012-11-09</td>\n",
       "      <td>19:30:00</td>\n",
       "      <td>Celtics</td>\n",
       "    </tr>\n",
       "    <tr>\n",
       "      <th>3</th>\n",
       "      <td>2012-11-14 19:30:00</td>\n",
       "      <td>Utah</td>\n",
       "      <td>2012-11-14</td>\n",
       "      <td>19:30:00</td>\n",
       "      <td>Celtics</td>\n",
       "    </tr>\n",
       "    <tr>\n",
       "      <th>4</th>\n",
       "      <td>2012-11-17 12:30:00</td>\n",
       "      <td>Toronto</td>\n",
       "      <td>2012-11-17</td>\n",
       "      <td>12:30:00</td>\n",
       "      <td>Celtics</td>\n",
       "    </tr>\n",
       "  </tbody>\n",
       "</table>\n",
       "</div>"
      ],
      "text/plain": [
       "        game_datetime      opponent  game_date game_time     team\n",
       "0 2012-11-02 19:30:00     Milwaukee 2012-11-02  19:30:00  Celtics\n",
       "1 2012-11-07 19:30:00    Washington 2012-11-07  19:30:00  Celtics\n",
       "2 2012-11-09 19:30:00  Philadelphia 2012-11-09  19:30:00  Celtics\n",
       "3 2012-11-14 19:30:00          Utah 2012-11-14  19:30:00  Celtics\n",
       "4 2012-11-17 12:30:00       Toronto 2012-11-17  12:30:00  Celtics"
      ]
     },
     "execution_count": 7,
     "metadata": {},
     "output_type": "execute_result"
    }
   ],
   "source": [
    "celtics.head()"
   ]
  },
  {
   "cell_type": "markdown",
   "metadata": {},
   "source": [
    "### Gatecount"
   ]
  },
  {
   "cell_type": "code",
   "execution_count": 8,
   "metadata": {
    "collapsed": true
   },
   "outputs": [],
   "source": [
    "# Import gatecount data.\n",
    "def get_data():\n",
    "    return pd.DataFrame.from_csv(\"../../../data/mbta.csv\").reset_index()\n",
    "gatecount = date.init(get_data())\n",
    "\n",
    "# Restrict to columns that we need.\n",
    "gatecount = gatecount.ix[:,['locationid','name','line_1','line_2','service_day','service_datetime','entries']].reset_index(drop=True)\n",
    "\n",
    "# Turn days/dates into datetimes.\n",
    "gatecount.service_day = pd.to_datetime(gatecount.service_day)\n",
    "gatecount.service_datetime = pd.to_datetime(gatecount.service_datetime)\n",
    "\n",
    "# Get time of day.\n",
    "gatecount['service_time'] = pd.DatetimeIndex(gatecount.service_datetime).time\n",
    "\n",
    "# Clean line 2.\n",
    "gatecount.ix[gatecount.line_2.isnull() == True,'line_2'] = 'None'\n",
    "\n",
    "# Calculate entries per line.\n",
    "gatecount.ix[gatecount.line_2 == 'None','entries_per_line'] = gatecount.ix[gatecount.line_2 == 'None','entries']\n",
    "gatecount.ix[gatecount.line_2 != 'None','entries_per_line'] = gatecount.ix[gatecount.line_2 != 'None','entries'] / 2\n",
    "\n",
    "# Add day of week.\n",
    "gatecount = date.add_day_of_week(gatecount.copy())\n",
    "\n",
    "# Remove bad dates.\n",
    "gatecount = gatecount[gatecount.service_day.isin(bad_dates) == False]"
   ]
  },
  {
   "cell_type": "markdown",
   "metadata": {},
   "source": [
    "### Farebox"
   ]
  },
  {
   "cell_type": "code",
   "execution_count": 9,
   "metadata": {
    "collapsed": true
   },
   "outputs": [],
   "source": [
    "# Path for routes.\n",
    "routes_file = '../../../data/SignCodesAndRoutes.csv'\n",
    "\n",
    "# Get routes.\n",
    "routes = pd.read_csv(routes_file)\n",
    "# Restrict to Green Line D.\n",
    "gl_routes = routes[(routes['mode'] == 'G/Line') & routes.publicroute.isin(['Green Line '+l for l in 'BCDE'])]\n",
    "# Get signcodes.\n",
    "gl_signcodeids = set(gl_routes.signcodeid)\n",
    "\n",
    "# Get simplified version for merge.\n",
    "gl_sc_pr = gl_routes[['signcodeid','publicroute']]"
   ]
  },
  {
   "cell_type": "code",
   "execution_count": 10,
   "metadata": {
    "collapsed": false
   },
   "outputs": [
    {
     "name": "stderr",
     "output_type": "stream",
     "text": [
      "/usr/local/Cellar/python/2.7.6/Frameworks/Python.framework/Versions/2.7/lib/python2.7/site-packages/pandas/core/generic.py:2005: SettingWithCopyWarning: \n",
      "A value is trying to be set on a copy of a slice from a DataFrame.\n",
      "Try using .loc[row_indexer,col_indexer] = value instead\n",
      "\n",
      "See the the caveats in the documentation: http://pandas.pydata.org/pandas-docs/stable/indexing.html#indexing-view-versus-copy\n",
      "  self[name] = value\n"
     ]
    }
   ],
   "source": [
    "# Farebox directories.\n",
    "farebox_root = '../../../data/farebox_all/'\n",
    "\n",
    "# Empty container for data.\n",
    "farebox = None\n",
    "# Traverse each file and add to the main.\n",
    "for farebox_file in os.listdir(farebox_root):\n",
    "    farebox_month = pd.read_csv(farebox_root+farebox_file)\n",
    "    if farebox is None:\n",
    "        farebox = farebox_month\n",
    "    else:\n",
    "        farebox = farebox.append(farebox_month)\n",
    "\n",
    "# Restrict to green line D. Discard old farebox data.\n",
    "gl_farebox = farebox[farebox.signcodeid.isin(gl_signcodeids)].copy()\n",
    "del farebox\n",
    "\n",
    "# Calculate entries.\n",
    "gl_farebox['entries'] = gl_farebox.charlie + gl_farebox.cash\n",
    "\n",
    "# Drop old columns.\n",
    "gl_farebox.drop(['charlie','cash'], axis=1, inplace=True)\n",
    "\n",
    "# Rename some columns for consistency.\n",
    "gl_farebox.rename(columns={'servicedate':'service_day', 'servicetime':'service_time'}, inplace=True)\n",
    "\n",
    "# Make service_day a string for now.\n",
    "gl_farebox.service_day = gl_farebox.service_day.astype(np.str)\n",
    "\n",
    "# Fix dates and times for post-midnight \n",
    "gl_farebox_post_midnight = gl_farebox[gl_farebox.service_time >= 2400]\n",
    "# Fix times.\n",
    "gl_farebox_post_midnight.service_time = gl_farebox_post_midnight.service_time-2400\n",
    "# Fix dates.\n",
    "gl_farebox_post_midnight.service_day = pd.to_datetime(gl_farebox_post_midnight.service_day) + np.timedelta64(1,'D')\n",
    "gl_farebox_post_midnight.service_day = pd.DatetimeIndex(gl_farebox_post_midnight.service_day).format()\n",
    "# Get pre-midnight data.\n",
    "gl_farebox_pre_midnight = gl_farebox[gl_farebox.service_time < 2400]\n",
    "# Recombine.\n",
    "gl_farebox = gl_farebox_pre_midnight.append(gl_farebox_post_midnight)\n",
    "# Housekeeping.\n",
    "del gl_farebox_pre_midnight, gl_farebox_post_midnight\n",
    "\n",
    "# Zero-pad service times.\n",
    "gl_farebox.service_time = gl_farebox.service_time.map('{:04}'.format)\n",
    "\n",
    "# Derive datetime.\n",
    "gl_farebox['service_datetime'] = pd.to_datetime(gl_farebox.service_day + ' ' + gl_farebox.service_time)\n",
    "\n",
    "# Re-derive service time.\n",
    "gl_farebox.service_time = pd.DatetimeIndex(gl_farebox['service_datetime']).time\n",
    "\n",
    "# Turn plain day into a datetime and get day of week.\n",
    "gl_farebox.service_day = pd.to_datetime(gl_farebox.service_day)\n",
    "gl_farebox['day_of_week'] = pd.DatetimeIndex(gl_farebox.service_day).weekday\n",
    "\n",
    "# Identify outbound/outbound routes.\n",
    "gl_farebox['inbound'] = (gl_farebox.signcodeid % 10).astype(np.bool)\n",
    "\n",
    "# Merge with publicroute information.\n",
    "gl_farebox = gl_farebox.merge(gl_sc_pr, on='signcodeid')\n",
    "\n",
    "# Aggregate by inbound/outbound, publicroute.\n",
    "gl_farebox = gl_farebox.groupby(['service_day','service_time','service_datetime','day_of_week','inbound','publicroute']).agg(np.sum).reset_index()\n",
    "\n",
    "# Perform final aggregation in case of multiple signcodeid entries.\n",
    "# gl_farebox_agg = gl_farebox.groupby(['service_day','service_time','service_datetime','day_of_week','inbound']).agg(np.sum).reset_index()\n",
    "gl_farebox.drop(['signcodeid'], axis=1, inplace=True)\n",
    "\n",
    "# Remove bad dates.\n",
    "gl_farebox = gl_farebox[gl_farebox.service_day.isin(bad_dates) == False]"
   ]
  },
  {
   "cell_type": "markdown",
   "metadata": {},
   "source": [
    "## Merge Data"
   ]
  },
  {
   "cell_type": "markdown",
   "metadata": {},
   "source": [
    "### Combine All Games"
   ]
  },
  {
   "cell_type": "code",
   "execution_count": 11,
   "metadata": {
    "collapsed": true
   },
   "outputs": [],
   "source": [
    "# Merge all games.\n",
    "games = bruins.append(celtics)\n",
    "\n",
    "# Get teams set for later traversal.\n",
    "teams = set(games.team)"
   ]
  },
  {
   "cell_type": "markdown",
   "metadata": {},
   "source": [
    "### Combine with Gatecount/Farebox"
   ]
  },
  {
   "cell_type": "code",
   "execution_count": 12,
   "metadata": {
    "collapsed": true
   },
   "outputs": [],
   "source": [
    "# Merge with Gatecount.\n",
    "bc_gc = gatecount.merge(games, left_on='service_day', right_on='game_date', how='left')\n",
    "\n",
    "# Flag days with games.\n",
    "bc_gc['game_played'] = bc_gc.team.isnull() == False\n",
    "\n",
    "# Calculate delta from game start to entries record time.\n",
    "bc_gc['time_until_game_start'] = bc_gc.game_datetime - bc_gc.service_datetime"
   ]
  },
  {
   "cell_type": "code",
   "execution_count": 13,
   "metadata": {
    "collapsed": false
   },
   "outputs": [
    {
     "data": {
      "text/html": [
       "<div style=\"max-height:1000px;max-width:1500px;overflow:auto;\">\n",
       "<table border=\"1\" class=\"dataframe\">\n",
       "  <thead>\n",
       "    <tr style=\"text-align: right;\">\n",
       "      <th></th>\n",
       "      <th>locationid</th>\n",
       "      <th>name</th>\n",
       "      <th>line_1</th>\n",
       "      <th>line_2</th>\n",
       "      <th>service_day</th>\n",
       "      <th>service_datetime</th>\n",
       "      <th>entries</th>\n",
       "      <th>service_time</th>\n",
       "      <th>entries_per_line</th>\n",
       "      <th>day_of_week</th>\n",
       "      <th>game_datetime</th>\n",
       "      <th>opponent</th>\n",
       "      <th>game_date</th>\n",
       "      <th>game_time</th>\n",
       "      <th>team</th>\n",
       "      <th>game_played</th>\n",
       "      <th>time_until_game_start</th>\n",
       "    </tr>\n",
       "  </thead>\n",
       "  <tbody>\n",
       "    <tr>\n",
       "      <th>5050</th>\n",
       "      <td>1002</td>\n",
       "      <td>Andrew Square</td>\n",
       "      <td>Red</td>\n",
       "      <td>None</td>\n",
       "      <td>2013-01-02</td>\n",
       "      <td>2013-01-02 04:45:00</td>\n",
       "      <td>2</td>\n",
       "      <td>04:45:00</td>\n",
       "      <td>2</td>\n",
       "      <td>2</td>\n",
       "      <td>2013-01-02 19:30:00</td>\n",
       "      <td>Memphis</td>\n",
       "      <td>2013-01-02</td>\n",
       "      <td>19:30:00</td>\n",
       "      <td>Celtics</td>\n",
       "      <td>True</td>\n",
       "      <td>14:45:00</td>\n",
       "    </tr>\n",
       "    <tr>\n",
       "      <th>5051</th>\n",
       "      <td>1002</td>\n",
       "      <td>Andrew Square</td>\n",
       "      <td>Red</td>\n",
       "      <td>None</td>\n",
       "      <td>2013-01-02</td>\n",
       "      <td>2013-01-02 05:00:00</td>\n",
       "      <td>5</td>\n",
       "      <td>05:00:00</td>\n",
       "      <td>5</td>\n",
       "      <td>2</td>\n",
       "      <td>2013-01-02 19:30:00</td>\n",
       "      <td>Memphis</td>\n",
       "      <td>2013-01-02</td>\n",
       "      <td>19:30:00</td>\n",
       "      <td>Celtics</td>\n",
       "      <td>True</td>\n",
       "      <td>14:30:00</td>\n",
       "    </tr>\n",
       "    <tr>\n",
       "      <th>5052</th>\n",
       "      <td>1002</td>\n",
       "      <td>Andrew Square</td>\n",
       "      <td>Red</td>\n",
       "      <td>None</td>\n",
       "      <td>2013-01-02</td>\n",
       "      <td>2013-01-02 05:15:00</td>\n",
       "      <td>60</td>\n",
       "      <td>05:15:00</td>\n",
       "      <td>60</td>\n",
       "      <td>2</td>\n",
       "      <td>2013-01-02 19:30:00</td>\n",
       "      <td>Memphis</td>\n",
       "      <td>2013-01-02</td>\n",
       "      <td>19:30:00</td>\n",
       "      <td>Celtics</td>\n",
       "      <td>True</td>\n",
       "      <td>14:15:00</td>\n",
       "    </tr>\n",
       "    <tr>\n",
       "      <th>5053</th>\n",
       "      <td>1002</td>\n",
       "      <td>Andrew Square</td>\n",
       "      <td>Red</td>\n",
       "      <td>None</td>\n",
       "      <td>2013-01-02</td>\n",
       "      <td>2013-01-02 05:30:00</td>\n",
       "      <td>54</td>\n",
       "      <td>05:30:00</td>\n",
       "      <td>54</td>\n",
       "      <td>2</td>\n",
       "      <td>2013-01-02 19:30:00</td>\n",
       "      <td>Memphis</td>\n",
       "      <td>2013-01-02</td>\n",
       "      <td>19:30:00</td>\n",
       "      <td>Celtics</td>\n",
       "      <td>True</td>\n",
       "      <td>14:00:00</td>\n",
       "    </tr>\n",
       "    <tr>\n",
       "      <th>5054</th>\n",
       "      <td>1002</td>\n",
       "      <td>Andrew Square</td>\n",
       "      <td>Red</td>\n",
       "      <td>None</td>\n",
       "      <td>2013-01-02</td>\n",
       "      <td>2013-01-02 05:45:00</td>\n",
       "      <td>51</td>\n",
       "      <td>05:45:00</td>\n",
       "      <td>51</td>\n",
       "      <td>2</td>\n",
       "      <td>2013-01-02 19:30:00</td>\n",
       "      <td>Memphis</td>\n",
       "      <td>2013-01-02</td>\n",
       "      <td>19:30:00</td>\n",
       "      <td>Celtics</td>\n",
       "      <td>True</td>\n",
       "      <td>13:45:00</td>\n",
       "    </tr>\n",
       "  </tbody>\n",
       "</table>\n",
       "</div>"
      ],
      "text/plain": [
       "      locationid           name line_1 line_2 service_day    service_datetime  \\\n",
       "5050        1002  Andrew Square    Red   None  2013-01-02 2013-01-02 04:45:00   \n",
       "5051        1002  Andrew Square    Red   None  2013-01-02 2013-01-02 05:00:00   \n",
       "5052        1002  Andrew Square    Red   None  2013-01-02 2013-01-02 05:15:00   \n",
       "5053        1002  Andrew Square    Red   None  2013-01-02 2013-01-02 05:30:00   \n",
       "5054        1002  Andrew Square    Red   None  2013-01-02 2013-01-02 05:45:00   \n",
       "\n",
       "      entries service_time  entries_per_line  day_of_week       game_datetime  \\\n",
       "5050        2     04:45:00                 2            2 2013-01-02 19:30:00   \n",
       "5051        5     05:00:00                 5            2 2013-01-02 19:30:00   \n",
       "5052       60     05:15:00                60            2 2013-01-02 19:30:00   \n",
       "5053       54     05:30:00                54            2 2013-01-02 19:30:00   \n",
       "5054       51     05:45:00                51            2 2013-01-02 19:30:00   \n",
       "\n",
       "     opponent  game_date game_time     team game_played  time_until_game_start  \n",
       "5050  Memphis 2013-01-02  19:30:00  Celtics        True               14:45:00  \n",
       "5051  Memphis 2013-01-02  19:30:00  Celtics        True               14:30:00  \n",
       "5052  Memphis 2013-01-02  19:30:00  Celtics        True               14:15:00  \n",
       "5053  Memphis 2013-01-02  19:30:00  Celtics        True               14:00:00  \n",
       "5054  Memphis 2013-01-02  19:30:00  Celtics        True               13:45:00  "
      ]
     },
     "execution_count": 13,
     "metadata": {},
     "output_type": "execute_result"
    }
   ],
   "source": [
    "bc_gc[bc_gc.game_played == True].head()"
   ]
  },
  {
   "cell_type": "code",
   "execution_count": 14,
   "metadata": {
    "collapsed": false
   },
   "outputs": [],
   "source": [
    "# Merge with Farebox.\n",
    "bc_fb = gl_farebox.merge(games, left_on='service_day', right_on='game_date', how='left')\n",
    "\n",
    "# Flag days with games.\n",
    "bc_fb['game_played'] = (bc_fb.opponent.isnull() == False)\n",
    "\n",
    "# Calculate delta from game start to entries record time.\n",
    "bc_fb['time_until_game_start'] = bc_fb.game_datetime - bc_fb.service_datetime"
   ]
  },
  {
   "cell_type": "code",
   "execution_count": 15,
   "metadata": {
    "collapsed": false,
    "scrolled": true
   },
   "outputs": [
    {
     "data": {
      "text/html": [
       "<div style=\"max-height:1000px;max-width:1500px;overflow:auto;\">\n",
       "<table border=\"1\" class=\"dataframe\">\n",
       "  <thead>\n",
       "    <tr style=\"text-align: right;\">\n",
       "      <th></th>\n",
       "      <th>service_day</th>\n",
       "      <th>service_time</th>\n",
       "      <th>service_datetime</th>\n",
       "      <th>day_of_week</th>\n",
       "      <th>inbound</th>\n",
       "      <th>publicroute</th>\n",
       "      <th>entries</th>\n",
       "      <th>game_datetime</th>\n",
       "      <th>opponent</th>\n",
       "      <th>game_date</th>\n",
       "      <th>game_time</th>\n",
       "      <th>team</th>\n",
       "      <th>game_played</th>\n",
       "      <th>time_until_game_start</th>\n",
       "    </tr>\n",
       "  </thead>\n",
       "  <tbody>\n",
       "    <tr>\n",
       "      <th>554</th>\n",
       "      <td>2013-01-02</td>\n",
       "      <td>00:00:00</td>\n",
       "      <td>2013-01-02</td>\n",
       "      <td>2</td>\n",
       "      <td>False</td>\n",
       "      <td>Green Line D</td>\n",
       "      <td>6</td>\n",
       "      <td>2013-01-02 19:30:00</td>\n",
       "      <td>Memphis</td>\n",
       "      <td>2013-01-02</td>\n",
       "      <td>19:30:00</td>\n",
       "      <td>Celtics</td>\n",
       "      <td>True</td>\n",
       "      <td>19:30:00</td>\n",
       "    </tr>\n",
       "    <tr>\n",
       "      <th>555</th>\n",
       "      <td>2013-01-02</td>\n",
       "      <td>00:00:00</td>\n",
       "      <td>2013-01-02</td>\n",
       "      <td>2</td>\n",
       "      <td>False</td>\n",
       "      <td>Green Line E</td>\n",
       "      <td>2</td>\n",
       "      <td>2013-01-02 19:30:00</td>\n",
       "      <td>Memphis</td>\n",
       "      <td>2013-01-02</td>\n",
       "      <td>19:30:00</td>\n",
       "      <td>Celtics</td>\n",
       "      <td>True</td>\n",
       "      <td>19:30:00</td>\n",
       "    </tr>\n",
       "    <tr>\n",
       "      <th>556</th>\n",
       "      <td>2013-01-02</td>\n",
       "      <td>00:00:00</td>\n",
       "      <td>2013-01-02</td>\n",
       "      <td>2</td>\n",
       "      <td>True</td>\n",
       "      <td>Green Line B</td>\n",
       "      <td>5</td>\n",
       "      <td>2013-01-02 19:30:00</td>\n",
       "      <td>Memphis</td>\n",
       "      <td>2013-01-02</td>\n",
       "      <td>19:30:00</td>\n",
       "      <td>Celtics</td>\n",
       "      <td>True</td>\n",
       "      <td>19:30:00</td>\n",
       "    </tr>\n",
       "    <tr>\n",
       "      <th>557</th>\n",
       "      <td>2013-01-02</td>\n",
       "      <td>00:00:00</td>\n",
       "      <td>2013-01-02</td>\n",
       "      <td>2</td>\n",
       "      <td>True</td>\n",
       "      <td>Green Line C</td>\n",
       "      <td>7</td>\n",
       "      <td>2013-01-02 19:30:00</td>\n",
       "      <td>Memphis</td>\n",
       "      <td>2013-01-02</td>\n",
       "      <td>19:30:00</td>\n",
       "      <td>Celtics</td>\n",
       "      <td>True</td>\n",
       "      <td>19:30:00</td>\n",
       "    </tr>\n",
       "    <tr>\n",
       "      <th>558</th>\n",
       "      <td>2013-01-02</td>\n",
       "      <td>00:00:00</td>\n",
       "      <td>2013-01-02</td>\n",
       "      <td>2</td>\n",
       "      <td>True</td>\n",
       "      <td>Green Line E</td>\n",
       "      <td>0</td>\n",
       "      <td>2013-01-02 19:30:00</td>\n",
       "      <td>Memphis</td>\n",
       "      <td>2013-01-02</td>\n",
       "      <td>19:30:00</td>\n",
       "      <td>Celtics</td>\n",
       "      <td>True</td>\n",
       "      <td>19:30:00</td>\n",
       "    </tr>\n",
       "  </tbody>\n",
       "</table>\n",
       "</div>"
      ],
      "text/plain": [
       "    service_day service_time service_datetime  day_of_week inbound  \\\n",
       "554  2013-01-02     00:00:00       2013-01-02            2   False   \n",
       "555  2013-01-02     00:00:00       2013-01-02            2   False   \n",
       "556  2013-01-02     00:00:00       2013-01-02            2    True   \n",
       "557  2013-01-02     00:00:00       2013-01-02            2    True   \n",
       "558  2013-01-02     00:00:00       2013-01-02            2    True   \n",
       "\n",
       "      publicroute  entries       game_datetime opponent  game_date game_time  \\\n",
       "554  Green Line D        6 2013-01-02 19:30:00  Memphis 2013-01-02  19:30:00   \n",
       "555  Green Line E        2 2013-01-02 19:30:00  Memphis 2013-01-02  19:30:00   \n",
       "556  Green Line B        5 2013-01-02 19:30:00  Memphis 2013-01-02  19:30:00   \n",
       "557  Green Line C        7 2013-01-02 19:30:00  Memphis 2013-01-02  19:30:00   \n",
       "558  Green Line E        0 2013-01-02 19:30:00  Memphis 2013-01-02  19:30:00   \n",
       "\n",
       "        team game_played  time_until_game_start  \n",
       "554  Celtics        True               19:30:00  \n",
       "555  Celtics        True               19:30:00  \n",
       "556  Celtics        True               19:30:00  \n",
       "557  Celtics        True               19:30:00  \n",
       "558  Celtics        True               19:30:00  "
      ]
     },
     "execution_count": 15,
     "metadata": {},
     "output_type": "execute_result"
    }
   ],
   "source": [
    "bc_fb[bc_fb.game_played == True].head()"
   ]
  },
  {
   "cell_type": "markdown",
   "metadata": {},
   "source": [
    "### Game Entries"
   ]
  },
  {
   "cell_type": "markdown",
   "metadata": {},
   "source": [
    "Restrict GC/FB data to gamedays."
   ]
  },
  {
   "cell_type": "code",
   "execution_count": 16,
   "metadata": {
    "collapsed": false
   },
   "outputs": [],
   "source": [
    "# Initial filter and pruning.\n",
    "bc_gc_game = bc_gc[bc_gc.game_played == True].copy()\n",
    "# Convert time to game to int.\n",
    "bc_gc_game['hours_until_game_start'] = bc_gc_game.time_until_game_start.astype(np.int) / timedelta_base\n",
    "# Prune columns.\n",
    "bc_gc_game = bc_gc_game[['team','game_date','name','line_1','line_2','service_time','hours_until_game_start','day_of_week','entries','entries_per_line']]\n",
    "# Filter on hours until start.\n",
    "bc_gc_game = bc_gc_game[(bc_gc_game.hours_until_game_start <= pregame_hours_back) & (bc_gc_game.hours_until_game_start >= -pregame_hours_after_start)]"
   ]
  },
  {
   "cell_type": "code",
   "execution_count": 17,
   "metadata": {
    "collapsed": false,
    "scrolled": true
   },
   "outputs": [
    {
     "data": {
      "text/html": [
       "<div style=\"max-height:1000px;max-width:1500px;overflow:auto;\">\n",
       "<table border=\"1\" class=\"dataframe\">\n",
       "  <thead>\n",
       "    <tr style=\"text-align: right;\">\n",
       "      <th></th>\n",
       "      <th>team</th>\n",
       "      <th>game_date</th>\n",
       "      <th>name</th>\n",
       "      <th>line_1</th>\n",
       "      <th>line_2</th>\n",
       "      <th>service_time</th>\n",
       "      <th>hours_until_game_start</th>\n",
       "      <th>day_of_week</th>\n",
       "      <th>entries</th>\n",
       "      <th>entries_per_line</th>\n",
       "    </tr>\n",
       "  </thead>\n",
       "  <tbody>\n",
       "    <tr>\n",
       "      <th>5085</th>\n",
       "      <td>Celtics</td>\n",
       "      <td>2013-01-02</td>\n",
       "      <td>Andrew Square</td>\n",
       "      <td>Red</td>\n",
       "      <td>None</td>\n",
       "      <td>13:30:00</td>\n",
       "      <td>6.00</td>\n",
       "      <td>2</td>\n",
       "      <td>64</td>\n",
       "      <td>64</td>\n",
       "    </tr>\n",
       "    <tr>\n",
       "      <th>5086</th>\n",
       "      <td>Celtics</td>\n",
       "      <td>2013-01-02</td>\n",
       "      <td>Andrew Square</td>\n",
       "      <td>Red</td>\n",
       "      <td>None</td>\n",
       "      <td>13:45:00</td>\n",
       "      <td>5.75</td>\n",
       "      <td>2</td>\n",
       "      <td>47</td>\n",
       "      <td>47</td>\n",
       "    </tr>\n",
       "    <tr>\n",
       "      <th>5087</th>\n",
       "      <td>Celtics</td>\n",
       "      <td>2013-01-02</td>\n",
       "      <td>Andrew Square</td>\n",
       "      <td>Red</td>\n",
       "      <td>None</td>\n",
       "      <td>14:00:00</td>\n",
       "      <td>5.50</td>\n",
       "      <td>2</td>\n",
       "      <td>63</td>\n",
       "      <td>63</td>\n",
       "    </tr>\n",
       "    <tr>\n",
       "      <th>5088</th>\n",
       "      <td>Celtics</td>\n",
       "      <td>2013-01-02</td>\n",
       "      <td>Andrew Square</td>\n",
       "      <td>Red</td>\n",
       "      <td>None</td>\n",
       "      <td>14:15:00</td>\n",
       "      <td>5.25</td>\n",
       "      <td>2</td>\n",
       "      <td>73</td>\n",
       "      <td>73</td>\n",
       "    </tr>\n",
       "    <tr>\n",
       "      <th>5089</th>\n",
       "      <td>Celtics</td>\n",
       "      <td>2013-01-02</td>\n",
       "      <td>Andrew Square</td>\n",
       "      <td>Red</td>\n",
       "      <td>None</td>\n",
       "      <td>14:30:00</td>\n",
       "      <td>5.00</td>\n",
       "      <td>2</td>\n",
       "      <td>75</td>\n",
       "      <td>75</td>\n",
       "    </tr>\n",
       "  </tbody>\n",
       "</table>\n",
       "</div>"
      ],
      "text/plain": [
       "         team  game_date           name line_1 line_2 service_time  \\\n",
       "5085  Celtics 2013-01-02  Andrew Square    Red   None     13:30:00   \n",
       "5086  Celtics 2013-01-02  Andrew Square    Red   None     13:45:00   \n",
       "5087  Celtics 2013-01-02  Andrew Square    Red   None     14:00:00   \n",
       "5088  Celtics 2013-01-02  Andrew Square    Red   None     14:15:00   \n",
       "5089  Celtics 2013-01-02  Andrew Square    Red   None     14:30:00   \n",
       "\n",
       "      hours_until_game_start  day_of_week  entries  entries_per_line  \n",
       "5085                    6.00            2       64                64  \n",
       "5086                    5.75            2       47                47  \n",
       "5087                    5.50            2       63                63  \n",
       "5088                    5.25            2       73                73  \n",
       "5089                    5.00            2       75                75  "
      ]
     },
     "execution_count": 17,
     "metadata": {},
     "output_type": "execute_result"
    }
   ],
   "source": [
    "bc_gc_game.head()"
   ]
  },
  {
   "cell_type": "code",
   "execution_count": 18,
   "metadata": {
    "collapsed": true
   },
   "outputs": [],
   "source": [
    "# Initial filter and pruning.\n",
    "bc_fb_game = bc_fb[bc_fb.game_played == True].copy()\n",
    "# Convert time to game to int.\n",
    "bc_fb_game['hours_until_game_start'] = bc_fb_game.time_until_game_start.astype(np.int) / timedelta_base\n",
    "# Prune columns.\n",
    "bc_fb_game = bc_fb_game[['team','game_date','publicroute','service_time','hours_until_game_start','day_of_week','entries']]\n",
    "# Filter on hours until start.\n",
    "bc_fb_game = bc_fb_game[(bc_fb_game.hours_until_game_start <= pregame_hours_back) & (bc_fb_game.hours_until_game_start >= -pregame_hours_after_start)]"
   ]
  },
  {
   "cell_type": "code",
   "execution_count": 19,
   "metadata": {
    "collapsed": false,
    "scrolled": true
   },
   "outputs": [
    {
     "data": {
      "text/html": [
       "<div style=\"max-height:1000px;max-width:1500px;overflow:auto;\">\n",
       "<table border=\"1\" class=\"dataframe\">\n",
       "  <thead>\n",
       "    <tr style=\"text-align: right;\">\n",
       "      <th></th>\n",
       "      <th>team</th>\n",
       "      <th>game_date</th>\n",
       "      <th>publicroute</th>\n",
       "      <th>service_time</th>\n",
       "      <th>hours_until_game_start</th>\n",
       "      <th>day_of_week</th>\n",
       "      <th>entries</th>\n",
       "    </tr>\n",
       "  </thead>\n",
       "  <tbody>\n",
       "    <tr>\n",
       "      <th>853</th>\n",
       "      <td>Celtics</td>\n",
       "      <td>2013-01-02</td>\n",
       "      <td>Green Line B</td>\n",
       "      <td>13:30:00</td>\n",
       "      <td>6</td>\n",
       "      <td>2</td>\n",
       "      <td>78</td>\n",
       "    </tr>\n",
       "    <tr>\n",
       "      <th>854</th>\n",
       "      <td>Celtics</td>\n",
       "      <td>2013-01-02</td>\n",
       "      <td>Green Line C</td>\n",
       "      <td>13:30:00</td>\n",
       "      <td>6</td>\n",
       "      <td>2</td>\n",
       "      <td>18</td>\n",
       "    </tr>\n",
       "    <tr>\n",
       "      <th>855</th>\n",
       "      <td>Celtics</td>\n",
       "      <td>2013-01-02</td>\n",
       "      <td>Green Line D</td>\n",
       "      <td>13:30:00</td>\n",
       "      <td>6</td>\n",
       "      <td>2</td>\n",
       "      <td>37</td>\n",
       "    </tr>\n",
       "    <tr>\n",
       "      <th>856</th>\n",
       "      <td>Celtics</td>\n",
       "      <td>2013-01-02</td>\n",
       "      <td>Green Line E</td>\n",
       "      <td>13:30:00</td>\n",
       "      <td>6</td>\n",
       "      <td>2</td>\n",
       "      <td>37</td>\n",
       "    </tr>\n",
       "    <tr>\n",
       "      <th>857</th>\n",
       "      <td>Celtics</td>\n",
       "      <td>2013-01-02</td>\n",
       "      <td>Green Line B</td>\n",
       "      <td>13:30:00</td>\n",
       "      <td>6</td>\n",
       "      <td>2</td>\n",
       "      <td>96</td>\n",
       "    </tr>\n",
       "  </tbody>\n",
       "</table>\n",
       "</div>"
      ],
      "text/plain": [
       "        team  game_date   publicroute service_time  hours_until_game_start  \\\n",
       "853  Celtics 2013-01-02  Green Line B     13:30:00                       6   \n",
       "854  Celtics 2013-01-02  Green Line C     13:30:00                       6   \n",
       "855  Celtics 2013-01-02  Green Line D     13:30:00                       6   \n",
       "856  Celtics 2013-01-02  Green Line E     13:30:00                       6   \n",
       "857  Celtics 2013-01-02  Green Line B     13:30:00                       6   \n",
       "\n",
       "     day_of_week  entries  \n",
       "853            2       78  \n",
       "854            2       18  \n",
       "855            2       37  \n",
       "856            2       37  \n",
       "857            2       96  "
      ]
     },
     "execution_count": 19,
     "metadata": {},
     "output_type": "execute_result"
    }
   ],
   "source": [
    "bc_fb_game.head()"
   ]
  },
  {
   "cell_type": "markdown",
   "metadata": {},
   "source": [
    "## Aggregations"
   ]
  },
  {
   "cell_type": "markdown",
   "metadata": {},
   "source": [
    "Generate aggregations here for easy consumption later."
   ]
  },
  {
   "cell_type": "markdown",
   "metadata": {},
   "source": [
    "### Gatecount Data"
   ]
  },
  {
   "cell_type": "markdown",
   "metadata": {},
   "source": [
    "Aggregate gameless entries."
   ]
  },
  {
   "cell_type": "code",
   "execution_count": 20,
   "metadata": {
    "collapsed": false
   },
   "outputs": [],
   "source": [
    "# Restrict to season.\n",
    "record_months = pd.DatetimeIndex(bc_gc.service_day).month\n",
    "bc_gc_gameless = bc_gc.ix[(record_months >= season_start_month) | (record_months <= season_end_month),:]\n",
    "\n",
    "# Perform grouping.\n",
    "bc_gc_gameless = bc_gc_gameless[bc_gc_gameless.game_played == False].groupby(['name','line_1','line_2','day_of_week','service_time']).agg({'entries':np.mean,'entries_per_line':np.mean}).reset_index()\n",
    "bc_gc_gameless.rename(columns={'entries':'mean_entries', 'entries_per_line':'mean_entries_per_line'}, inplace=True)"
   ]
  },
  {
   "cell_type": "code",
   "execution_count": 21,
   "metadata": {
    "collapsed": false
   },
   "outputs": [
    {
     "ename": "AttributeError",
     "evalue": "'DataFrame' object has no attribute 'mean_entries_Per_line'",
     "output_type": "error",
     "traceback": [
      "\u001b[0;31m---------------------------------------------------------------------------\u001b[0m",
      "\u001b[0;31mAttributeError\u001b[0m                            Traceback (most recent call last)",
      "\u001b[0;32m<ipython-input-21-6e12b2393fdd>\u001b[0m in \u001b[0;36m<module>\u001b[0;34m()\u001b[0m\n\u001b[0;32m----> 1\u001b[0;31m \u001b[0mbc_gc_gameless\u001b[0m\u001b[0;34m[\u001b[0m\u001b[0mbc_gc_gameless\u001b[0m\u001b[0;34m.\u001b[0m\u001b[0mmean_entries_Per_line\u001b[0m \u001b[0;34m<\u001b[0m \u001b[0mbc_gc_gameless\u001b[0m\u001b[0;34m.\u001b[0m\u001b[0mmean_entries\u001b[0m\u001b[0;34m]\u001b[0m\u001b[0;34m.\u001b[0m\u001b[0mhead\u001b[0m\u001b[0;34m(\u001b[0m\u001b[0;34m)\u001b[0m\u001b[0;34m\u001b[0m\u001b[0m\n\u001b[0m",
      "\u001b[0;32m/usr/local/Cellar/python/2.7.6/Frameworks/Python.framework/Versions/2.7/lib/python2.7/site-packages/pandas/core/generic.pyc\u001b[0m in \u001b[0;36m__getattr__\u001b[0;34m(self, name)\u001b[0m\n\u001b[1;32m   1976\u001b[0m                 \u001b[0;32mreturn\u001b[0m \u001b[0mself\u001b[0m\u001b[0;34m[\u001b[0m\u001b[0mname\u001b[0m\u001b[0;34m]\u001b[0m\u001b[0;34m\u001b[0m\u001b[0m\n\u001b[1;32m   1977\u001b[0m             raise AttributeError(\"'%s' object has no attribute '%s'\" %\n\u001b[0;32m-> 1978\u001b[0;31m                                  (type(self).__name__, name))\n\u001b[0m\u001b[1;32m   1979\u001b[0m \u001b[0;34m\u001b[0m\u001b[0m\n\u001b[1;32m   1980\u001b[0m     \u001b[0;32mdef\u001b[0m \u001b[0m__setattr__\u001b[0m\u001b[0;34m(\u001b[0m\u001b[0mself\u001b[0m\u001b[0;34m,\u001b[0m \u001b[0mname\u001b[0m\u001b[0;34m,\u001b[0m \u001b[0mvalue\u001b[0m\u001b[0;34m)\u001b[0m\u001b[0;34m:\u001b[0m\u001b[0;34m\u001b[0m\u001b[0m\n",
      "\u001b[0;31mAttributeError\u001b[0m: 'DataFrame' object has no attribute 'mean_entries_Per_line'"
     ]
    }
   ],
   "source": [
    "bc_gc_gameless[bc_gc_gameless.mean_entries_Per_line < bc_gc_gameless.mean_entries].head()"
   ]
  },
  {
   "cell_type": "markdown",
   "metadata": {},
   "source": [
    "### Farebox Data"
   ]
  },
  {
   "cell_type": "code",
   "execution_count": null,
   "metadata": {
    "collapsed": false
   },
   "outputs": [],
   "source": [
    "# Restrict to season.\n",
    "record_months = pd.DatetimeIndex(bc_fb.service_day).month\n",
    "bc_fb_gameless = bc_fb.ix[(record_months >= season_start_month) | (record_months <= season_end_month),:]\n",
    "\n",
    "# Perform grouping.\n",
    "bc_fb_gameless = bc_fb_gameless[bc_fb_gameless.game_played == False].groupby(['publicroute','day_of_week','service_time']).agg({'entries':np.mean}).reset_index()\n",
    "bc_fb_gameless.rename(columns={'entries':'mean_entries'}, inplace=True)"
   ]
  },
  {
   "cell_type": "code",
   "execution_count": null,
   "metadata": {
    "collapsed": false
   },
   "outputs": [],
   "source": [
    "bc_fb_gameless.head()"
   ]
  },
  {
   "cell_type": "markdown",
   "metadata": {},
   "source": [
    "## Amalgamations"
   ]
  },
  {
   "cell_type": "markdown",
   "metadata": {},
   "source": [
    "### Core Comparisons"
   ]
  },
  {
   "cell_type": "markdown",
   "metadata": {},
   "source": [
    "For aggregate comparisons we need to bring everything back together. Do Gatecount and Farebox here."
   ]
  },
  {
   "cell_type": "code",
   "execution_count": null,
   "metadata": {
    "collapsed": true
   },
   "outputs": [],
   "source": [
    "# Perform join.\n",
    "bc_gc_game_comp = bc_gc_game.merge(bc_gc_gameless, on=['name','line_1','line_2','day_of_week','service_time'])\n",
    "\n",
    "# Calculate differences.\n",
    "bc_gc_game_comp['entries_vs_mean']          = bc_gc_game_comp.entries - bc_gc_game_comp.mean_entries\n",
    "bc_gc_game_comp['entries_per_line_vs_mean'] = bc_gc_game_comp.entries_per_line - bc_gc_game_comp.mean_entries_per_line"
   ]
  },
  {
   "cell_type": "code",
   "execution_count": null,
   "metadata": {
    "collapsed": false,
    "scrolled": true
   },
   "outputs": [],
   "source": [
    "bc_gc_game_comp.head()"
   ]
  },
  {
   "cell_type": "code",
   "execution_count": null,
   "metadata": {
    "collapsed": false
   },
   "outputs": [],
   "source": [
    "# Perform join.\n",
    "bc_fb_game_comp = bc_fb_game.merge(bc_fb_gameless, on=['publicroute','day_of_week','service_time'])\n",
    "\n",
    "# Calculate differences.\n",
    "bc_fb_game_comp['entries_vs_mean'] = bc_fb_game_comp.entries - bc_fb_game_comp.mean_entries"
   ]
  },
  {
   "cell_type": "code",
   "execution_count": null,
   "metadata": {
    "collapsed": false
   },
   "outputs": [],
   "source": [
    "bc_fb_game_comp.head()"
   ]
  },
  {
   "cell_type": "markdown",
   "metadata": {},
   "source": [
    "### Station Means"
   ]
  },
  {
   "cell_type": "markdown",
   "metadata": {},
   "source": [
    "Use the DFs above to get mean lifts for stations."
   ]
  },
  {
   "cell_type": "code",
   "execution_count": null,
   "metadata": {
    "collapsed": false
   },
   "outputs": [],
   "source": [
    "# Aggregate by game-station and sum lift.\n",
    "bc_gc_game_name_entries = bc_gc_game_comp.groupby(['team','game_date','name','line_1','line_2']).agg({'mean_entries':np.sum,'entries_vs_mean':np.sum}).reset_index()\n",
    "# Now get mean by station.\n",
    "bc_gc_name_entries = bc_gc_game_name_entries.groupby(['name','line_1','line_2']).agg({'mean_entries':np.mean,'entries_vs_mean':np.mean}).reset_index()\n",
    "# Add proportional measure.\n",
    "bc_gc_name_entries['entries_vs_mean_proportional'] = 100 * bc_gc_name_entries.entries_vs_mean / bc_gc_name_entries.mean_entries\n",
    "# Sort.\n",
    "bc_gc_name_entries.sort('entries_vs_mean', ascending=False, inplace=True)"
   ]
  },
  {
   "cell_type": "code",
   "execution_count": null,
   "metadata": {
    "collapsed": false
   },
   "outputs": [],
   "source": [
    "bc_gc_name_entries.head()"
   ]
  },
  {
   "cell_type": "markdown",
   "metadata": {},
   "source": [
    "### Gatecount/Farebox Join"
   ]
  },
  {
   "cell_type": "markdown",
   "metadata": {},
   "source": [
    "Wrangle Gatecount and Farebox data together. We will have to (1) ensure similar columns, (2) concatenate, and (3) sum by game."
   ]
  },
  {
   "cell_type": "code",
   "execution_count": null,
   "metadata": {
    "collapsed": false
   },
   "outputs": [],
   "source": [
    "# Rearrange GC data.\n",
    "bc_gc_game_comp_amalg = bc_gc_game_comp[['team','game_date','line_1','line_2','hours_until_game_start','entries_vs_mean','entries_per_line_vs_mean']]\n",
    "\n",
    "# Rearrange FB data.\n",
    "bc_fb_game_comp_amalg = bc_fb_game_comp[['team','game_date','hours_until_game_start','entries_vs_mean']].copy()\n",
    "bc_fb_game_comp_amalg['entries_per_line_vs_mean'] = bc_fb_game_comp_amalg.entries_vs_mean\n",
    "bc_fb_game_comp_amalg['line_1'] = 'Green'\n",
    "bc_fb_game_comp_amalg['line_2'] = 'None'\n",
    "\n",
    "# Concatenate\n",
    "bc_gcfb_game_comp_amalg = bc_gc_game_comp_amalg.append(bc_fb_game_comp_amalg)\n",
    "\n",
    "# Aggregate.\n",
    "bc_gcfb_game_comp = bc_gcfb_game_comp_amalg.groupby(['team','line_1','line_2','game_date','hours_until_game_start']).sum().reset_index()\n",
    "\n",
    "# Get rid of bad days.\n",
    "bc_gcfb_game_comp = bc_gcfb_game_comp[bc_gcfb_game_comp.game_date.isin(bad_dates) == False]"
   ]
  },
  {
   "cell_type": "code",
   "execution_count": null,
   "metadata": {
    "collapsed": false
   },
   "outputs": [],
   "source": [
    "bc_gcfb_game_comp.head()"
   ]
  },
  {
   "cell_type": "markdown",
   "metadata": {},
   "source": [
    "The result of this is aggregate differences from mean for each game, along each line and time before/after start. The next few calculations group things in different ways."
   ]
  },
  {
   "cell_type": "code",
   "execution_count": null,
   "metadata": {
    "collapsed": false
   },
   "outputs": [],
   "source": [
    "# Get sum by hours until game start for each game. Then aggregate by team.\n",
    "game_hourly_agg_comp = bc_gcfb_game_comp.groupby(['team','game_date','hours_until_game_start']).agg({'entries_vs_mean':np.sum}).reset_index()\n",
    "hourly_agg_comp = game_hourly_agg_comp.groupby(['team','hours_until_game_start']).agg({'entries_vs_mean':np.mean}).reset_index()"
   ]
  },
  {
   "cell_type": "code",
   "execution_count": null,
   "metadata": {
    "collapsed": false
   },
   "outputs": [],
   "source": [
    "# Container for data.\n",
    "line_entries_hourly_comp = None\n",
    "# Traverse lines.\n",
    "for l in bc_gcfb_game_comp.line_1.unique():\n",
    "    line_comp = bc_gcfb_game_comp[(bc_gcfb_game_comp.line_1 == l) | (bc_gcfb_game_comp.line_2 == l)].copy()\n",
    "    line_comp = line_comp.groupby(['team','game_date','hours_until_game_start']).agg({'entries_per_line_vs_mean':np.sum}).reset_index()\n",
    "    # Now we have data by game-hours for both teams. Simply take hourly average and append to main DF above.\n",
    "    line_comp = line_comp.groupby('hours_until_game_start').agg({'entries_per_line_vs_mean':np.mean}).reset_index()\n",
    "    line_comp.rename(columns={'entries_per_line_vs_mean':'mean_entries_per_line_vs_mean'}, inplace=True)\n",
    "    line_comp['line'] = l\n",
    "    if line_entries_hourly_comp is None:\n",
    "        line_entries_hourly_comp = line_comp.copy()\n",
    "    else:\n",
    "        line_entries_hourly_comp = line_entries_hourly_comp.append(line_comp)"
   ]
  },
  {
   "cell_type": "markdown",
   "metadata": {},
   "source": [
    "Calculate sums by team, line."
   ]
  },
  {
   "cell_type": "code",
   "execution_count": null,
   "metadata": {
    "collapsed": false
   },
   "outputs": [],
   "source": [
    "# Group and sum by team.\n",
    "team_agg_comp = hourly_agg_comp.groupby('team').agg({'entries_vs_mean':np.sum}).reset_index()\n",
    "team_agg_comp"
   ]
  },
  {
   "cell_type": "code",
   "execution_count": null,
   "metadata": {
    "collapsed": false
   },
   "outputs": [],
   "source": [
    "# Group and sum by line.\n",
    "line_agg_comp = line_entries_hourly_comp.groupby('line').agg({'mean_entries_per_line_vs_mean':np.sum}).reset_index()\n",
    "line_agg_comp = line_agg_comp[line_agg_comp.line != 'Silver']\n",
    "line_agg_comp.sort('mean_entries_per_line_vs_mean', ascending=False, inplace=True)\n",
    "line_agg_comp"
   ]
  },
  {
   "cell_type": "markdown",
   "metadata": {},
   "source": [
    "---"
   ]
  },
  {
   "cell_type": "markdown",
   "metadata": {},
   "source": [
    "## Aggregate Analysis"
   ]
  },
  {
   "cell_type": "markdown",
   "metadata": {},
   "source": [
    "### Main Analysis"
   ]
  },
  {
   "cell_type": "code",
   "execution_count": null,
   "metadata": {
    "collapsed": false
   },
   "outputs": [],
   "source": [
    "# Plot mean diffs per hour for both teams.\n",
    "# Start plot.\n",
    "plt.figure(figsize=default_figsize_slides)\n",
    "# Plot each team.\n",
    "for team in teams:\n",
    "    team_agg_comp = hourly_agg_comp[hourly_agg_comp.team == team].copy()\n",
    "    plt.plot(team_agg_comp.hours_until_game_start, team_agg_comp.entries_vs_mean, color=team_colors[team], label=team)\n",
    "\n",
    "# Limits.\n",
    "ylim = plt.ylim(); xlim = plt.xlim((team_agg_comp.hours_until_game_start.min(), team_agg_comp.hours_until_game_start.max()))\n",
    "\n",
    "# Lines and labels.\n",
    "plt.axvline(0, *ylim, color='gray', lw=1)\n",
    "plt.axhline(0, *xlim, color='gray', lw=1)\n",
    "plt.annotate('Game Start', (.05,ylim[1]*0.95), rotation='vertical', ha='right', color='steelblue', fontsize='large')\n",
    "\n",
    "# Fix limits and axes.\n",
    "plt.gca().invert_xaxis()\n",
    "\n",
    "# Text.\n",
    "plt.title('Mean Pregame Lift by Team', fontsize='xx-large')\n",
    "plt.legend(fontsize='x-large', loc=2)\n",
    "plt.xticks(fontsize='large'); plt.yticks(fontsize='large')\n",
    "plt.xlabel('Hours Until Game Start', fontsize='x-large')\n",
    "plt.ylabel('Entry Lift', fontsize='x-large')\n",
    "             \n",
    "# Show.\n",
    "plt.show()"
   ]
  },
  {
   "cell_type": "markdown",
   "metadata": {},
   "source": [
    "### Range"
   ]
  },
  {
   "cell_type": "markdown",
   "metadata": {},
   "source": [
    "TODO"
   ]
  },
  {
   "cell_type": "markdown",
   "metadata": {},
   "source": [
    "## Station Analysis"
   ]
  },
  {
   "cell_type": "markdown",
   "metadata": {},
   "source": [
    "### Histogram"
   ]
  },
  {
   "cell_type": "code",
   "execution_count": null,
   "metadata": {
    "collapsed": false,
    "scrolled": true
   },
   "outputs": [],
   "source": [
    "# Start plot.\n",
    "plt.figure(figsize=default_figsize_slides)\n",
    "\n",
    "# Plot \n",
    "plt.hist(bc_gc_name_entries.entries_vs_mean, bins=20)\n",
    "\n",
    "# Text.\n",
    "plt.title('Pregame Lift by Station, Both Sports', fontsize='xx-large')\n",
    "plt.xticks(fontsize='large'); plt.yticks(fontsize='large')\n",
    "plt.xlabel('Entry Lift', fontsize='x-large')\n",
    "plt.ylabel('# Stations', fontsize='x-large')\n",
    "\n",
    "# Adjust limits.\n",
    "plt.ylim(0,plt.ylim()[1]+1)\n",
    "\n",
    "# Show.\n",
    "plt.show()"
   ]
  },
  {
   "cell_type": "markdown",
   "metadata": {},
   "source": [
    "### Top Stations"
   ]
  },
  {
   "cell_type": "code",
   "execution_count": null,
   "metadata": {
    "collapsed": false
   },
   "outputs": [],
   "source": [
    "bc_gc_name_entries.head(n=30)"
   ]
  },
  {
   "cell_type": "markdown",
   "metadata": {},
   "source": [
    "## Line Analysis"
   ]
  },
  {
   "cell_type": "markdown",
   "metadata": {},
   "source": [
    "### Trends"
   ]
  },
  {
   "cell_type": "code",
   "execution_count": null,
   "metadata": {
    "collapsed": false
   },
   "outputs": [],
   "source": [
    "# Start plot.\n",
    "plt.figure(figsize=default_figsize_slides)\n",
    "\n",
    "# Traverse lines and plot each:\n",
    "for l in line_entries_hourly_comp.line.unique():\n",
    "    if l != 'Silver':\n",
    "        l_entries = line_entries_hourly_comp[line_entries_hourly_comp.line == l]\n",
    "        plt.plot(l_entries.hours_until_game_start, l_entries.mean_entries_per_line_vs_mean, c=l, label=l)\n",
    "\n",
    "# Limits.\n",
    "ylim = plt.ylim(); xlim = plt.xlim((line_entries_hourly_comp.hours_until_game_start.min(), line_entries_hourly_comp.hours_until_game_start.max()))\n",
    "\n",
    "# Lines and labels.\n",
    "plt.axvline(0, *ylim, color='gray', lw=1)\n",
    "plt.axhline(0, *xlim, color='gray', lw=1)\n",
    "plt.annotate('Game Start', (.05,ylim[1]*0.95), rotation='vertical', ha='right', color='steelblue', fontsize='large')\n",
    "\n",
    "# Fix limits and axes.\n",
    "plt.gca().invert_xaxis()\n",
    "\n",
    "# Text.\n",
    "plt.title('Average Pregame Lift by Line, Both Sports', fontsize='xx-large')\n",
    "plt.legend(fontsize='x-large', loc=2)\n",
    "plt.xticks(fontsize='large'); plt.yticks(fontsize='large')\n",
    "plt.xlabel('Hours Until Game Start', fontsize='x-large')\n",
    "plt.ylabel('Lift per 15 Minutes', fontsize='x-large')\n",
    "             \n",
    "# Show.\n",
    "plt.show()"
   ]
  },
  {
   "cell_type": "markdown",
   "metadata": {},
   "source": [
    "### Bar Chart"
   ]
  },
  {
   "cell_type": "code",
   "execution_count": null,
   "metadata": {
    "collapsed": false
   },
   "outputs": [],
   "source": [
    "# Bar plot.\n",
    "plt.figure(figsize=(default_figsize_slides[0]*.75,default_figsize_slides[1]))\n",
    "\n",
    "# Bar settings.\n",
    "bar_width = .6\n",
    "\n",
    "# Plot.\n",
    "bars = plt.bar(range(len(line_agg_comp)), line_agg_comp.mean_entries_per_line_vs_mean, width=bar_width)\n",
    "\n",
    "# Color bars.\n",
    "for bar,line in zip(bars,line_agg_comp.line):\n",
    "    bar.set_color('dark'+line)\n",
    "\n",
    "# Prettify.\n",
    "plt.title('Average Pregame Lift by Line, Both Sports', fontsize='xx-large')\n",
    "plt.ylabel('Entry Lift', fontsize='x-large')\n",
    "plt.xlim(-(1-bar_width),plt.xlim()[1])\n",
    "plt.xticks(np.arange(len(line_agg_comp))+bar_width/2,list(line_agg_comp.line),fontsize='x-large')\n",
    "plt.yticks(fontsize='large')\n",
    "\n",
    "# Show.\n",
    "plt.show()"
   ]
  }
 ],
 "metadata": {
  "kernelspec": {
   "display_name": "Python 2",
   "language": "python",
   "name": "python2"
  },
  "language_info": {
   "codemirror_mode": {
    "name": "ipython",
    "version": 2
   },
   "file_extension": ".py",
   "mimetype": "text/x-python",
   "name": "python",
   "nbconvert_exporter": "python",
   "pygments_lexer": "ipython2",
   "version": "2.7.6"
  }
 },
 "nbformat": 4,
 "nbformat_minor": 0
}
