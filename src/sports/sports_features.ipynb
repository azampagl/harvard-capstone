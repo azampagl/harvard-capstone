{
 "cells": [
  {
   "cell_type": "markdown",
   "metadata": {},
   "source": [
    "# Sports Features"
   ]
  },
  {
   "cell_type": "markdown",
   "metadata": {},
   "source": [
    "This notebook reads Red Sox, Celtics, and Bruins home game information and engineers features from them."
   ]
  },
  {
   "cell_type": "markdown",
   "metadata": {},
   "source": [
    "## Setup"
   ]
  },
  {
   "cell_type": "code",
   "execution_count": 1,
   "metadata": {
    "collapsed": true
   },
   "outputs": [],
   "source": [
    "# Libraries.\n",
    "import datetime as dt\n",
    "import numpy as np\n",
    "import pandas as pd"
   ]
  },
  {
   "cell_type": "code",
   "execution_count": 2,
   "metadata": {
    "collapsed": true
   },
   "outputs": [],
   "source": [
    "# Library settings.\n",
    "\n",
    "# Pandas.\n",
    "pd.set_option('display.max_columns', 1000)"
   ]
  },
  {
   "cell_type": "code",
   "execution_count": 3,
   "metadata": {
    "collapsed": true
   },
   "outputs": [],
   "source": [
    "# Other miscellanea.\n",
    "\n",
    "# Abbreviations for teams.\n",
    "teams = ['bruins','celtics','sox']\n",
    "\n",
    "# Approximate game lengths based on a cursory web search of typical MLB/NBA/NHL lengths.\n",
    "game_lengths = {\n",
    "    'bruins':  2.3333,\n",
    "    'celtics': 2.25,\n",
    "    'sox': 3+8./60.\n",
    "}\n",
    "\n",
    "# Weekday abbreviations.\n",
    "weekday_abbreviations = 'mon,tue,wed,thu,fri,sat,sun'.split(',')\n",
    "\n",
    "# Cutoff for early/late game times.\n",
    "late_game_start = dt.time(18)"
   ]
  },
  {
   "cell_type": "markdown",
   "metadata": {},
   "source": [
    "## Data"
   ]
  },
  {
   "cell_type": "code",
   "execution_count": 24,
   "metadata": {
    "collapsed": false
   },
   "outputs": [],
   "source": [
    "# Read Bruins home games.\n",
    "bruins = pd.DataFrame.from_csv(\"../../../data/bruins/home.csv\").reset_index(drop=False)\n",
    "\n",
    "# Drop home column.\n",
    "bruins.drop(['Home'], axis=1, inplace=True)\n",
    "\n",
    "# Rename other columns to make joining easy.\n",
    "bruins.rename(columns={'Datetime':'bruins_datetime', 'Opponent':'bruins_opponent', 'Playoff': 'bruins_playoff'}, inplace=True)\n",
    "\n",
    "# Get standalone game date, time.\n",
    "bruins['date'] = pd.DatetimeIndex(bruins.bruins_datetime).date\n",
    "bruins['bruins_time'] = pd.DatetimeIndex(bruins.bruins_datetime).time\n",
    "\n",
    "# Drop datetime.\n",
    "bruins.drop(['bruins_datetime'], axis=1, inplace=True)"
   ]
  },
  {
   "cell_type": "code",
   "execution_count": null,
   "metadata": {
    "collapsed": true
   },
   "outputs": [],
   "source": [
    "bruins.head()"
   ]
  },
  {
   "cell_type": "code",
   "execution_count": 26,
   "metadata": {
    "collapsed": false
   },
   "outputs": [],
   "source": [
    "# Read Celtics home games.\n",
    "celtics = pd.DataFrame.from_csv(\"../../../data/celtics/home.csv\").reset_index(drop=False)\n",
    "\n",
    "# Drop home/playoff columns.\n",
    "celtics.drop(['Home'], axis=1, inplace=True)\n",
    "\n",
    "# Rename other columns to make joining easy.\n",
    "celtics.rename(columns={'Datetime':'celtics_datetime', 'Opponent':'celtics_opponent', 'Playoff': 'celtics_playoff'}, inplace=True)\n",
    "\n",
    "# Get standalone game date, time.\n",
    "celtics['date'] = pd.DatetimeIndex(celtics.celtics_datetime).date\n",
    "celtics['celtics_time'] = pd.DatetimeIndex(celtics.celtics_datetime).time\n",
    "\n",
    "# Drop datetime.\n",
    "celtics.drop(['celtics_datetime'], axis=1, inplace=True)"
   ]
  },
  {
   "cell_type": "code",
   "execution_count": null,
   "metadata": {
    "collapsed": true
   },
   "outputs": [],
   "source": [
    "celtics.head()"
   ]
  },
  {
   "cell_type": "code",
   "execution_count": 32,
   "metadata": {
    "collapsed": false
   },
   "outputs": [],
   "source": [
    "# Read Red Sox home games.\n",
    "sox = pd.DataFrame.from_csv(\"../../../data/sox_master.csv\").reset_index(drop=True)\n",
    "\n",
    "# Rename other columns to make joining easy.\n",
    "sox.rename(columns={'START_DATE':'date', 'START_TIME':'sox_time', 'OPPONENT':'sox_opponent'}, inplace=True)\n",
    "\n",
    "# Drop 0s from start date.\n",
    "sox.date = sox.date.str.extract('(\\d+-\\d+-\\d+)')\n",
    "# Column for start datetime.\n",
    "sox['sox_datetime'] = pd.to_datetime(sox.date + ' ' + sox.sox_time)\n",
    "\n",
    "# Add a \"rounded\" game time to make grouping easier.\n",
    "sox['sox_time_rounded'] = sox.sox_time.str.replace(':[012][05] ',':00 ').str.replace(':[345][05] ',':30 ')\n",
    "sox['sox_datetime_rounded'] = pd.to_datetime(sox.date + ' ' + sox.sox_time_rounded)\n",
    "\n",
    "# Turn start date into a date.\n",
    "sox.date = pd.DatetimeIndex(sox.date).date\n",
    "\n",
    "# Convert time fields to times.\n",
    "sox.sox_time = pd.DatetimeIndex(sox.sox_datetime).time\n",
    "sox.sox_time_rounded = pd.DatetimeIndex(sox.sox_datetime_rounded).time\n",
    "\n",
    "# Drop datetime.\n",
    "sox.drop(['sox_datetime','sox_datetime_rounded'], axis=1, inplace=True)"
   ]
  },
  {
   "cell_type": "code",
   "execution_count": null,
   "metadata": {
    "collapsed": true
   },
   "outputs": [],
   "source": [
    "sox.head()"
   ]
  },
  {
   "cell_type": "markdown",
   "metadata": {},
   "source": [
    "## Merge"
   ]
  },
  {
   "cell_type": "code",
   "execution_count": 35,
   "metadata": {
    "collapsed": false
   },
   "outputs": [],
   "source": [
    "# Get game dates.\n",
    "game_dates = sorted(list(set(bruins.date.append(celtics.date).append(sox.date))))\n",
    "\n",
    "# Start DF.\n",
    "games = pd.DataFrame({'date':game_dates})\n",
    "\n",
    "# Basic weekday column.\n",
    "games['weekday'] = pd.DatetimeIndex(games.date).weekday\n",
    "\n",
    "# Merge to each team.\n",
    "games = (\n",
    "    games.merge(bruins,  on='date', how='left')\n",
    "         .merge(celtics, on='date', how='left')\n",
    "         .merge(sox,     on='date', how='left')\n",
    ")\n",
    "\n",
    "# Pre-feature-engineering column count.\n",
    "pre_feature_engineering_d = games.shape[1]"
   ]
  },
  {
   "cell_type": "code",
   "execution_count": null,
   "metadata": {
    "collapsed": true
   },
   "outputs": [],
   "source": [
    "games.head()"
   ]
  },
  {
   "cell_type": "markdown",
   "metadata": {},
   "source": [
    "## Features"
   ]
  },
  {
   "cell_type": "markdown",
   "metadata": {},
   "source": [
    "Derive binary features here. Keep as booleans for now; will turn into 0/1 ints later."
   ]
  },
  {
   "cell_type": "code",
   "execution_count": 37,
   "metadata": {
    "collapsed": false
   },
   "outputs": [],
   "source": [
    "# Simple team game features.\n",
    "for team in teams:\n",
    "    games[team+'_game'] = games[team+'_opponent'].isnull() == False"
   ]
  },
  {
   "cell_type": "code",
   "execution_count": 38,
   "metadata": {
    "collapsed": false
   },
   "outputs": [],
   "source": [
    "# Day of week features.\n",
    "# These include one-hot weekday columns and special groupings: M-Th, M-F, F-Sa.\n",
    "for team in teams:\n",
    "    for d in xrange(7):\n",
    "        games[team+'_day_'+weekday_abbreviations[d]] = games[team+'_game'] & (games.weekday == d)\n",
    "    games[team+'_day_mon_thu'] = games[team+'_game'] & (games.weekday <= 3)\n",
    "    games[team+'_day_mon_fri'] = games[team+'_game'] & (games.weekday <= 4)\n",
    "    games[team+'_day_fri_sat'] = games[team+'_game'] & (games.weekday.isin([4,5]))"
   ]
  },
  {
   "cell_type": "code",
   "execution_count": 39,
   "metadata": {
    "collapsed": false
   },
   "outputs": [],
   "source": [
    "# Early/late features.\n",
    "for team in teams:\n",
    "    games[team+'_time_early'] = games[team+'_time'] <  late_game_start\n",
    "    games[team+'_time_late']  = games[team+'_time'] >= late_game_start"
   ]
  },
  {
   "cell_type": "code",
   "execution_count": 40,
   "metadata": {
    "collapsed": false
   },
   "outputs": [],
   "source": [
    "# Game day-time intersection features.\n",
    "\n",
    "# Suffixes for game day group features.\n",
    "game_day_group_suffixes  = ['fri', 'sat', 'sun', 'mon_thu', 'mon_fri', 'fri_sat']\n",
    "game_time_group_suffixes = ['early','late']\n",
    "\n",
    "# Container for useful game feature columns.\n",
    "game_cols = []\n",
    "\n",
    "# One set per team.\n",
    "for team in teams:\n",
    "    day_group_cols  = [team+'_'+s for s in game_day_group_suffixes]\n",
    "    time_group_cols = [team+'_game_'+s for s in game_time_group_suffixes]\n",
    "    for day_suffix in game_day_group_suffixes:\n",
    "        for time_suffix in game_time_group_suffixes:\n",
    "            # Calculate each column.\n",
    "            col_name = team+'_'+day_suffix+'_'+time_suffix\n",
    "            games[col_name] = games[team+'_day_'+day_suffix] & games[team+'_time_'+time_suffix]\n",
    "            # Save these columns too. We're interseted in using them as final features.\n",
    "            game_cols.append(col_name)"
   ]
  },
  {
   "cell_type": "code",
   "execution_count": 41,
   "metadata": {
    "collapsed": false
   },
   "outputs": [],
   "source": [
    "# Prune game columns to remove overlaps.\n",
    "game_cols = [col for col in game_cols if ('_fri_early' not in col and '_fri_late' not in col)]"
   ]
  },
  {
   "cell_type": "markdown",
   "metadata": {},
   "source": [
    "All features are derived at this point. Make 0/1 binary."
   ]
  },
  {
   "cell_type": "code",
   "execution_count": 42,
   "metadata": {
    "collapsed": false
   },
   "outputs": [],
   "source": [
    "for col in games.columns[pre_feature_engineering_d:]:\n",
    "    games[col] = games[col].astype(np.int)"
   ]
  },
  {
   "cell_type": "code",
   "execution_count": null,
   "metadata": {
    "collapsed": true
   },
   "outputs": [],
   "source": [
    "games"
   ]
  },
  {
   "cell_type": "markdown",
   "metadata": {},
   "source": [
    "## Export"
   ]
  },
  {
   "cell_type": "code",
   "execution_count": 46,
   "metadata": {
    "collapsed": true
   },
   "outputs": [],
   "source": [
    "games.to_csv('../../../data/game_days.csv', index=False)"
   ]
  },
  {
   "cell_type": "markdown",
   "metadata": {},
   "source": [
    "## Exploration"
   ]
  },
  {
   "cell_type": "markdown",
   "metadata": {},
   "source": [
    "Verify viability of specific features."
   ]
  },
  {
   "cell_type": "code",
   "execution_count": 20,
   "metadata": {
    "collapsed": true
   },
   "outputs": [],
   "source": [
    "# TODO"
   ]
  }
 ],
 "metadata": {
  "kernelspec": {
   "display_name": "Python 2",
   "language": "python",
   "name": "python2"
  },
  "language_info": {
   "codemirror_mode": {
    "name": "ipython",
    "version": 2
   },
   "file_extension": ".py",
   "mimetype": "text/x-python",
   "name": "python",
   "nbconvert_exporter": "python",
   "pygments_lexer": "ipython2",
   "version": "2.7.6"
  }
 },
 "nbformat": 4,
 "nbformat_minor": 0
}
