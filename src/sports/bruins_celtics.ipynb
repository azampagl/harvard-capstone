{
 "cells": [
  {
   "cell_type": "markdown",
   "metadata": {},
   "source": [
    "# Bruins/Celtics Game Analysis"
   ]
  },
  {
   "cell_type": "markdown",
   "metadata": {},
   "source": [
    "This file examines post-game entries at North Station station in comparison to expectations."
   ]
  },
  {
   "cell_type": "markdown",
   "metadata": {},
   "source": [
    "## Setup"
   ]
  },
  {
   "cell_type": "code",
   "execution_count": 2,
   "metadata": {
    "collapsed": true
   },
   "outputs": [],
   "source": [
    "# Libraries.\n",
    "import datetime as dt\n",
    "import matplotlib, matplotlib.pyplot as plt\n",
    "import numpy as np\n",
    "import pandas as pd\n",
    "import seaborn as snsb\n",
    "\n",
    "# Feature libraries.\n",
    "from features import date"
   ]
  },
  {
   "cell_type": "code",
   "execution_count": 3,
   "metadata": {
    "collapsed": true
   },
   "outputs": [],
   "source": [
    "# Package settings.\n",
    "\n",
    "# Matplotlib.\n",
    "%matplotlib inline\n",
    "\n",
    "# Seaborn.\n",
    "sns.set_style('darkgrid')"
   ]
  },
  {
   "cell_type": "code",
   "execution_count": 4,
   "metadata": {
    "collapsed": true
   },
   "outputs": [],
   "source": [
    "# Other settings.\n",
    "\n",
    "# Stations near TD Garden for analysis. Just use names (not locationid) as a surrogate key for station.\n",
    "td_stations = ['North Station']\n",
    "\n",
    "# Base units of timedeltas.\n",
    "timedelta_base = 3.6e12\n",
    "\n",
    "# Default figure size.\n",
    "default_figsize = (12,8)\n",
    "\n",
    "# Day of week mapping.\n",
    "days_of_week = ['Mon','Tue','Wed','Thu','Fri','Sat','Sun']"
   ]
  },
  {
   "cell_type": "markdown",
   "metadata": {},
   "source": [
    "## Data"
   ]
  },
  {
   "cell_type": "markdown",
   "metadata": {},
   "source": [
    "### Read Bruins"
   ]
  },
  {
   "cell_type": "code",
   "execution_count": 107,
   "metadata": {
    "collapsed": false
   },
   "outputs": [],
   "source": [
    "# Read Red Sox home games.\n",
    "bruins = pd.DataFrame.from_csv(\"../../../data/bruins/home.csv\").reset_index(drop=False)\n",
    "\n",
    "# Drop home/playoff columns.\n",
    "bruins.drop(['Home','Playoff'], axis=1, inplace=True)\n",
    "\n",
    "# Rename other columns to make joining easy.\n",
    "bruins.rename(columns={'Datetime':'game_datetime', 'Opponent':'opponent'}, inplace=True)\n",
    "\n",
    "# Get standalone game date.\n",
    "bruins['game_date'] = pd.to_datetime(pd.DatetimeIndex(bruins.game_datetime).date)\n",
    "\n",
    "# Turn game date/time into an appropriate object.\n",
    "# bruins.game_datetime = pd.to_datetime(bruins.game_datetime)\n",
    "\n",
    "# Add game time column.\n",
    "bruins['game_time'] = pd.DatetimeIndex(bruins.game_datetime).time\n",
    "\n",
    "# Add sport column for later merging.\n",
    "bruins['team'] = 'Bruins'"
   ]
  },
  {
   "cell_type": "code",
   "execution_count": null,
   "metadata": {
    "collapsed": true
   },
   "outputs": [],
   "source": [
    "bruins.head()"
   ]
  },
  {
   "cell_type": "markdown",
   "metadata": {},
   "source": [
    "### Read Celtics"
   ]
  },
  {
   "cell_type": "code",
   "execution_count": 105,
   "metadata": {
    "collapsed": false
   },
   "outputs": [],
   "source": [
    "# Read Red Sox home games.\n",
    "celtics = pd.DataFrame.from_csv(\"../../../data/celtics/home.csv\").reset_index(drop=False)\n",
    "\n",
    "# Drop home/playoff columns.\n",
    "celtics.drop(['Home','Playoff'], axis=1, inplace=True)\n",
    "\n",
    "# Rename other columns to make joining easy.\n",
    "celtics.rename(columns={'Datetime':'game_datetime', 'Opponent':'opponent'}, inplace=True)\n",
    "\n",
    "# Get standalone game date. There must be a better way, but this works for now.\n",
    "celtics['game_date'] = pd.to_datetime(pd.DatetimeIndex(celtics.game_datetime).date)\n",
    "\n",
    "# Turn game date/time into an appropriate object.\n",
    "# celtics.game_datetime = pd.to_datetime(celtics.game_datetime)\n",
    "\n",
    "# Add game time column.\n",
    "celtics['game_time'] = pd.DatetimeIndex(celtics.game_datetime).time\n",
    "\n",
    "# Add sport column for later merging.\n",
    "celtics['team'] = 'Celtics'"
   ]
  },
  {
   "cell_type": "markdown",
   "metadata": {},
   "source": [
    "celtics.head()"
   ]
  },
  {
   "cell_type": "markdown",
   "metadata": {},
   "source": [
    "### Read Entries"
   ]
  },
  {
   "cell_type": "code",
   "execution_count": 6,
   "metadata": {
    "collapsed": true
   },
   "outputs": [],
   "source": [
    "# Import gatecount data.\n",
    "def get_data():\n",
    "    return pd.DataFrame.from_csv(\"../../../data/mbta.csv\").reset_index()\n",
    "gatecount = date.init(get_data())\n",
    "\n",
    "# Restrict to desired stations and the columns that we need.\n",
    "td_gatecount = gatecount.ix[gatecount.name.isin(td_stations),['locationid','name','service_day','service_datetime','entries']].reset_index(drop=True)\n",
    "\n",
    "# Turn days/dates into datetimes.\n",
    "td_gatecount.service_day = pd.to_datetime(td_gatecount.service_day)\n",
    "td_gatecount.service_datetime = pd.to_datetime(td_gatecount.service_datetime)\n",
    "\n",
    "# Get time of day.\n",
    "td_gatecount['service_time'] = pd.DatetimeIndex(td_gatecount.service_datetime).time\n",
    "\n",
    "# Add day of week.\n",
    "td_gatecount = date.add_day_of_week(td_gatecount.copy())"
   ]
  },
  {
   "cell_type": "markdown",
   "metadata": {},
   "source": [
    "### Merge"
   ]
  },
  {
   "cell_type": "code",
   "execution_count": 116,
   "metadata": {
    "collapsed": false
   },
   "outputs": [],
   "source": [
    "# Merge all games.\n",
    "games = bruins.append(celtics)\n",
    "\n",
    "# Get teams set for later traversal.\n",
    "teams = set(games.team)"
   ]
  },
  {
   "cell_type": "code",
   "execution_count": 112,
   "metadata": {
    "collapsed": true
   },
   "outputs": [],
   "source": [
    "# Perform merge.\n",
    "td_games = td_gatecount.merge(games, left_on='service_day', right_on='game_date', how='left')\n",
    "\n",
    "# Flag days with games.\n",
    "td_games['game_played'] = td_games.team.isnull() == False\n",
    "\n",
    "# Calculate delta from game start to entries record time.\n",
    "td_games['time_since_game_start'] = td_games.service_datetime - td_games.game_datetime"
   ]
  },
  {
   "cell_type": "code",
   "execution_count": null,
   "metadata": {
    "collapsed": true
   },
   "outputs": [],
   "source": [
    "td_games[td_games.game_played].head()"
   ]
  },
  {
   "cell_type": "markdown",
   "metadata": {},
   "source": [
    "## Game Exploration"
   ]
  },
  {
   "cell_type": "markdown",
   "metadata": {},
   "source": [
    "Let's figure out when games happen."
   ]
  },
  {
   "cell_type": "code",
   "execution_count": 117,
   "metadata": {
    "collapsed": true
   },
   "outputs": [],
   "source": [
    "# Copy DF for this analysis.\n",
    "games_only = games.copy()\n",
    "# Add weekday.\n",
    "games_only['day_of_week'] = pd.DatetimeIndex(games_only.game_date).weekday"
   ]
  },
  {
   "cell_type": "markdown",
   "metadata": {},
   "source": [
    "When do games occur during the week? We might expect a consistent pattern as the teams share an arena and their seasons largely overlap. **Monday is 0.**"
   ]
  },
  {
   "cell_type": "code",
   "execution_count": 118,
   "metadata": {
    "collapsed": false
   },
   "outputs": [
    {
     "data": {
      "text/html": [
       "<div style=\"max-height:1000px;max-width:1500px;overflow:auto;\">\n",
       "<table border=\"1\" class=\"dataframe\">\n",
       "  <thead>\n",
       "    <tr style=\"text-align: right;\">\n",
       "      <th></th>\n",
       "      <th></th>\n",
       "      <th>games</th>\n",
       "    </tr>\n",
       "    <tr>\n",
       "      <th>team</th>\n",
       "      <th>day_of_week</th>\n",
       "      <th></th>\n",
       "    </tr>\n",
       "  </thead>\n",
       "  <tbody>\n",
       "    <tr>\n",
       "      <th rowspan=\"7\" valign=\"top\">Bruins</th>\n",
       "      <th>0</th>\n",
       "      <td> 17</td>\n",
       "    </tr>\n",
       "    <tr>\n",
       "      <th>1</th>\n",
       "      <td> 20</td>\n",
       "    </tr>\n",
       "    <tr>\n",
       "      <th>2</th>\n",
       "      <td>  8</td>\n",
       "    </tr>\n",
       "    <tr>\n",
       "      <th>3</th>\n",
       "      <td> 29</td>\n",
       "    </tr>\n",
       "    <tr>\n",
       "      <th>4</th>\n",
       "      <td>  8</td>\n",
       "    </tr>\n",
       "    <tr>\n",
       "      <th>5</th>\n",
       "      <td> 38</td>\n",
       "    </tr>\n",
       "    <tr>\n",
       "      <th>6</th>\n",
       "      <td>  8</td>\n",
       "    </tr>\n",
       "    <tr>\n",
       "      <th rowspan=\"7\" valign=\"top\">Celtics</th>\n",
       "      <th>0</th>\n",
       "      <td>  9</td>\n",
       "    </tr>\n",
       "    <tr>\n",
       "      <th>1</th>\n",
       "      <td>  4</td>\n",
       "    </tr>\n",
       "    <tr>\n",
       "      <th>2</th>\n",
       "      <td> 43</td>\n",
       "    </tr>\n",
       "    <tr>\n",
       "      <th>3</th>\n",
       "      <td>  2</td>\n",
       "    </tr>\n",
       "    <tr>\n",
       "      <th>4</th>\n",
       "      <td> 41</td>\n",
       "    </tr>\n",
       "    <tr>\n",
       "      <th>5</th>\n",
       "      <td>  6</td>\n",
       "    </tr>\n",
       "    <tr>\n",
       "      <th>6</th>\n",
       "      <td> 17</td>\n",
       "    </tr>\n",
       "  </tbody>\n",
       "</table>\n",
       "</div>"
      ],
      "text/plain": [
       "                     games\n",
       "team    day_of_week       \n",
       "Bruins  0               17\n",
       "        1               20\n",
       "        2                8\n",
       "        3               29\n",
       "        4                8\n",
       "        5               38\n",
       "        6                8\n",
       "Celtics 0                9\n",
       "        1                4\n",
       "        2               43\n",
       "        3                2\n",
       "        4               41\n",
       "        5                6\n",
       "        6               17"
      ]
     },
     "execution_count": 118,
     "metadata": {},
     "output_type": "execute_result"
    }
   ],
   "source": [
    "# Summarize by team-DoW.\n",
    "games_by_team_dow = games_only.groupby(['team','day_of_week']).agg({'game_time':len})\n",
    "games_by_team_dow.columns = ['games']\n",
    "games_by_team_dow"
   ]
  },
  {
   "cell_type": "markdown",
   "metadata": {},
   "source": [
    "Aha! Hockey mostly takes Tuesday/Thursday/Saturday; Basketball takes Wednesday/Friday/Sunday. Looks like the Bruins have a slight edge on Monday too."
   ]
  },
  {
   "cell_type": "markdown",
   "metadata": {},
   "source": [
    "What about during the day?"
   ]
  },
  {
   "cell_type": "code",
   "execution_count": 121,
   "metadata": {
    "collapsed": false
   },
   "outputs": [
    {
     "data": {
      "text/html": [
       "<div style=\"max-height:1000px;max-width:1500px;overflow:auto;\">\n",
       "<table border=\"1\" class=\"dataframe\">\n",
       "  <thead>\n",
       "    <tr style=\"text-align: right;\">\n",
       "      <th></th>\n",
       "      <th></th>\n",
       "      <th>games</th>\n",
       "    </tr>\n",
       "    <tr>\n",
       "      <th>team</th>\n",
       "      <th>game_time</th>\n",
       "      <th></th>\n",
       "    </tr>\n",
       "  </thead>\n",
       "  <tbody>\n",
       "    <tr>\n",
       "      <th rowspan=\"7\" valign=\"top\">Bruins</th>\n",
       "      <th>12:30:00</th>\n",
       "      <td>  5</td>\n",
       "    </tr>\n",
       "    <tr>\n",
       "      <th>13:00:00</th>\n",
       "      <td> 19</td>\n",
       "    </tr>\n",
       "    <tr>\n",
       "      <th>15:00:00</th>\n",
       "      <td>  5</td>\n",
       "    </tr>\n",
       "    <tr>\n",
       "      <th>17:30:00</th>\n",
       "      <td>  2</td>\n",
       "    </tr>\n",
       "    <tr>\n",
       "      <th>19:00:00</th>\n",
       "      <td> 79</td>\n",
       "    </tr>\n",
       "    <tr>\n",
       "      <th>19:30:00</th>\n",
       "      <td> 13</td>\n",
       "    </tr>\n",
       "    <tr>\n",
       "      <th>20:00:00</th>\n",
       "      <td>  5</td>\n",
       "    </tr>\n",
       "    <tr>\n",
       "      <th rowspan=\"8\" valign=\"top\">Celtics</th>\n",
       "      <th>12:30:00</th>\n",
       "      <td>  1</td>\n",
       "    </tr>\n",
       "    <tr>\n",
       "      <th>13:00:00</th>\n",
       "      <td> 12</td>\n",
       "    </tr>\n",
       "    <tr>\n",
       "      <th>15:00:00</th>\n",
       "      <td>  1</td>\n",
       "    </tr>\n",
       "    <tr>\n",
       "      <th>18:00:00</th>\n",
       "      <td>  8</td>\n",
       "    </tr>\n",
       "    <tr>\n",
       "      <th>18:30:00</th>\n",
       "      <td>  1</td>\n",
       "    </tr>\n",
       "    <tr>\n",
       "      <th>19:00:00</th>\n",
       "      <td>  3</td>\n",
       "    </tr>\n",
       "    <tr>\n",
       "      <th>19:30:00</th>\n",
       "      <td> 85</td>\n",
       "    </tr>\n",
       "    <tr>\n",
       "      <th>20:00:00</th>\n",
       "      <td> 11</td>\n",
       "    </tr>\n",
       "  </tbody>\n",
       "</table>\n",
       "</div>"
      ],
      "text/plain": [
       "                   games\n",
       "team    game_time       \n",
       "Bruins  12:30:00       5\n",
       "        13:00:00      19\n",
       "        15:00:00       5\n",
       "        17:30:00       2\n",
       "        19:00:00      79\n",
       "        19:30:00      13\n",
       "        20:00:00       5\n",
       "Celtics 12:30:00       1\n",
       "        13:00:00      12\n",
       "        15:00:00       1\n",
       "        18:00:00       8\n",
       "        18:30:00       1\n",
       "        19:00:00       3\n",
       "        19:30:00      85\n",
       "        20:00:00      11"
      ]
     },
     "execution_count": 121,
     "metadata": {},
     "output_type": "execute_result"
    }
   ],
   "source": [
    "# Group and aggregate by time.\n",
    "games_by_time = games_only.groupby(['team','game_time']).agg({'opponent':len})\n",
    "games_by_time.columns = ['games']\n",
    "games_by_time"
   ]
  },
  {
   "cell_type": "markdown",
   "metadata": {},
   "source": [
    "Now combine the above."
   ]
  },
  {
   "cell_type": "code",
   "execution_count": 128,
   "metadata": {
    "collapsed": false
   },
   "outputs": [
    {
     "data": {
      "text/html": [
       "<div style=\"max-height:1000px;max-width:1500px;overflow:auto;\">\n",
       "<table border=\"1\" class=\"dataframe\">\n",
       "  <thead>\n",
       "    <tr style=\"text-align: right;\">\n",
       "      <th></th>\n",
       "      <th></th>\n",
       "      <th></th>\n",
       "      <th>games</th>\n",
       "    </tr>\n",
       "    <tr>\n",
       "      <th>team</th>\n",
       "      <th>day_of_week</th>\n",
       "      <th>game_time</th>\n",
       "      <th></th>\n",
       "    </tr>\n",
       "  </thead>\n",
       "  <tbody>\n",
       "    <tr>\n",
       "      <th rowspan=\"25\" valign=\"top\">Bruins</th>\n",
       "      <th rowspan=\"5\" valign=\"top\">0</th>\n",
       "      <th>13:00:00</th>\n",
       "      <td>  4</td>\n",
       "    </tr>\n",
       "    <tr>\n",
       "      <th>15:00:00</th>\n",
       "      <td>  1</td>\n",
       "    </tr>\n",
       "    <tr>\n",
       "      <th>19:00:00</th>\n",
       "      <td>  8</td>\n",
       "    </tr>\n",
       "    <tr>\n",
       "      <th>19:30:00</th>\n",
       "      <td>  2</td>\n",
       "    </tr>\n",
       "    <tr>\n",
       "      <th>20:00:00</th>\n",
       "      <td>  2</td>\n",
       "    </tr>\n",
       "    <tr>\n",
       "      <th rowspan=\"2\" valign=\"top\">1</th>\n",
       "      <th>19:00:00</th>\n",
       "      <td> 18</td>\n",
       "    </tr>\n",
       "    <tr>\n",
       "      <th>19:30:00</th>\n",
       "      <td>  2</td>\n",
       "    </tr>\n",
       "    <tr>\n",
       "      <th rowspan=\"3\" valign=\"top\">2</th>\n",
       "      <th>19:00:00</th>\n",
       "      <td>  3</td>\n",
       "    </tr>\n",
       "    <tr>\n",
       "      <th>19:30:00</th>\n",
       "      <td>  3</td>\n",
       "    </tr>\n",
       "    <tr>\n",
       "      <th>20:00:00</th>\n",
       "      <td>  2</td>\n",
       "    </tr>\n",
       "    <tr>\n",
       "      <th rowspan=\"2\" valign=\"top\">3</th>\n",
       "      <th>19:00:00</th>\n",
       "      <td> 26</td>\n",
       "    </tr>\n",
       "    <tr>\n",
       "      <th>19:30:00</th>\n",
       "      <td>  3</td>\n",
       "    </tr>\n",
       "    <tr>\n",
       "      <th rowspan=\"4\" valign=\"top\">4</th>\n",
       "      <th>13:00:00</th>\n",
       "      <td>  1</td>\n",
       "    </tr>\n",
       "    <tr>\n",
       "      <th>19:00:00</th>\n",
       "      <td>  5</td>\n",
       "    </tr>\n",
       "    <tr>\n",
       "      <th>19:30:00</th>\n",
       "      <td>  1</td>\n",
       "    </tr>\n",
       "    <tr>\n",
       "      <th>20:00:00</th>\n",
       "      <td>  1</td>\n",
       "    </tr>\n",
       "    <tr>\n",
       "      <th rowspan=\"5\" valign=\"top\">5</th>\n",
       "      <th>12:30:00</th>\n",
       "      <td>  3</td>\n",
       "    </tr>\n",
       "    <tr>\n",
       "      <th>13:00:00</th>\n",
       "      <td> 14</td>\n",
       "    </tr>\n",
       "    <tr>\n",
       "      <th>15:00:00</th>\n",
       "      <td>  2</td>\n",
       "    </tr>\n",
       "    <tr>\n",
       "      <th>17:30:00</th>\n",
       "      <td>  2</td>\n",
       "    </tr>\n",
       "    <tr>\n",
       "      <th>19:00:00</th>\n",
       "      <td> 17</td>\n",
       "    </tr>\n",
       "    <tr>\n",
       "      <th rowspan=\"4\" valign=\"top\">6</th>\n",
       "      <th>12:30:00</th>\n",
       "      <td>  2</td>\n",
       "    </tr>\n",
       "    <tr>\n",
       "      <th>15:00:00</th>\n",
       "      <td>  2</td>\n",
       "    </tr>\n",
       "    <tr>\n",
       "      <th>19:00:00</th>\n",
       "      <td>  2</td>\n",
       "    </tr>\n",
       "    <tr>\n",
       "      <th>19:30:00</th>\n",
       "      <td>  2</td>\n",
       "    </tr>\n",
       "    <tr>\n",
       "      <th rowspan=\"22\" valign=\"top\">Celtics</th>\n",
       "      <th rowspan=\"2\" valign=\"top\">0</th>\n",
       "      <th>19:30:00</th>\n",
       "      <td>  8</td>\n",
       "    </tr>\n",
       "    <tr>\n",
       "      <th>20:00:00</th>\n",
       "      <td>  1</td>\n",
       "    </tr>\n",
       "    <tr>\n",
       "      <th rowspan=\"3\" valign=\"top\">1</th>\n",
       "      <th>13:00:00</th>\n",
       "      <td>  1</td>\n",
       "    </tr>\n",
       "    <tr>\n",
       "      <th>19:00:00</th>\n",
       "      <td>  1</td>\n",
       "    </tr>\n",
       "    <tr>\n",
       "      <th>19:30:00</th>\n",
       "      <td>  2</td>\n",
       "    </tr>\n",
       "    <tr>\n",
       "      <th rowspan=\"3\" valign=\"top\">2</th>\n",
       "      <th>13:00:00</th>\n",
       "      <td>  1</td>\n",
       "    </tr>\n",
       "    <tr>\n",
       "      <th>19:30:00</th>\n",
       "      <td> 37</td>\n",
       "    </tr>\n",
       "    <tr>\n",
       "      <th>20:00:00</th>\n",
       "      <td>  5</td>\n",
       "    </tr>\n",
       "    <tr>\n",
       "      <th>3</th>\n",
       "      <th>20:00:00</th>\n",
       "      <td>  2</td>\n",
       "    </tr>\n",
       "    <tr>\n",
       "      <th rowspan=\"4\" valign=\"top\">4</th>\n",
       "      <th>13:00:00</th>\n",
       "      <td>  2</td>\n",
       "    </tr>\n",
       "    <tr>\n",
       "      <th>19:00:00</th>\n",
       "      <td>  1</td>\n",
       "    </tr>\n",
       "    <tr>\n",
       "      <th>19:30:00</th>\n",
       "      <td> 36</td>\n",
       "    </tr>\n",
       "    <tr>\n",
       "      <th>20:00:00</th>\n",
       "      <td>  2</td>\n",
       "    </tr>\n",
       "    <tr>\n",
       "      <th rowspan=\"4\" valign=\"top\">5</th>\n",
       "      <th>12:30:00</th>\n",
       "      <td>  1</td>\n",
       "    </tr>\n",
       "    <tr>\n",
       "      <th>13:00:00</th>\n",
       "      <td>  2</td>\n",
       "    </tr>\n",
       "    <tr>\n",
       "      <th>19:30:00</th>\n",
       "      <td>  2</td>\n",
       "    </tr>\n",
       "    <tr>\n",
       "      <th>20:00:00</th>\n",
       "      <td>  1</td>\n",
       "    </tr>\n",
       "    <tr>\n",
       "      <th rowspan=\"5\" valign=\"top\">6</th>\n",
       "      <th>13:00:00</th>\n",
       "      <td>  6</td>\n",
       "    </tr>\n",
       "    <tr>\n",
       "      <th>15:00:00</th>\n",
       "      <td>  1</td>\n",
       "    </tr>\n",
       "    <tr>\n",
       "      <th>18:00:00</th>\n",
       "      <td>  8</td>\n",
       "    </tr>\n",
       "    <tr>\n",
       "      <th>18:30:00</th>\n",
       "      <td>  1</td>\n",
       "    </tr>\n",
       "    <tr>\n",
       "      <th>19:00:00</th>\n",
       "      <td>  1</td>\n",
       "    </tr>\n",
       "  </tbody>\n",
       "</table>\n",
       "</div>"
      ],
      "text/plain": [
       "                               games\n",
       "team    day_of_week game_time       \n",
       "Bruins  0           13:00:00       4\n",
       "                    15:00:00       1\n",
       "                    19:00:00       8\n",
       "                    19:30:00       2\n",
       "                    20:00:00       2\n",
       "        1           19:00:00      18\n",
       "                    19:30:00       2\n",
       "        2           19:00:00       3\n",
       "                    19:30:00       3\n",
       "                    20:00:00       2\n",
       "        3           19:00:00      26\n",
       "                    19:30:00       3\n",
       "        4           13:00:00       1\n",
       "                    19:00:00       5\n",
       "                    19:30:00       1\n",
       "                    20:00:00       1\n",
       "        5           12:30:00       3\n",
       "                    13:00:00      14\n",
       "                    15:00:00       2\n",
       "                    17:30:00       2\n",
       "                    19:00:00      17\n",
       "        6           12:30:00       2\n",
       "                    15:00:00       2\n",
       "                    19:00:00       2\n",
       "                    19:30:00       2\n",
       "Celtics 0           19:30:00       8\n",
       "                    20:00:00       1\n",
       "        1           13:00:00       1\n",
       "                    19:00:00       1\n",
       "                    19:30:00       2\n",
       "        2           13:00:00       1\n",
       "                    19:30:00      37\n",
       "                    20:00:00       5\n",
       "        3           20:00:00       2\n",
       "        4           13:00:00       2\n",
       "                    19:00:00       1\n",
       "                    19:30:00      36\n",
       "                    20:00:00       2\n",
       "        5           12:30:00       1\n",
       "                    13:00:00       2\n",
       "                    19:30:00       2\n",
       "                    20:00:00       1\n",
       "        6           13:00:00       6\n",
       "                    15:00:00       1\n",
       "                    18:00:00       8\n",
       "                    18:30:00       1\n",
       "                    19:00:00       1"
      ]
     },
     "execution_count": 128,
     "metadata": {},
     "output_type": "execute_result"
    }
   ],
   "source": [
    "# Group and aggregate by rounded time.\n",
    "games_by_datetime = games_only.groupby(['team','day_of_week','game_time']).agg({'opponent':len})\n",
    "games_by_datetime.columns = ['games']\n",
    "games_by_datetime"
   ]
  },
  {
   "cell_type": "markdown",
   "metadata": {},
   "source": [
    "Overall, things look *pretty* consistent. For modeling, we'll have to find a way to handle some of the very uncommon cases (e.g., a Celtics game on a Tuesday)."
   ]
  },
  {
   "cell_type": "markdown",
   "metadata": {},
   "source": [
    "## Game/Entries Exploration"
   ]
  },
  {
   "cell_type": "markdown",
   "metadata": {},
   "source": [
    "TODO"
   ]
  }
 ],
 "metadata": {
  "kernelspec": {
   "display_name": "Python 2",
   "language": "python",
   "name": "python2"
  },
  "language_info": {
   "codemirror_mode": {
    "name": "ipython",
    "version": 2
   },
   "file_extension": ".py",
   "mimetype": "text/x-python",
   "name": "python",
   "nbconvert_exporter": "python",
   "pygments_lexer": "ipython2",
   "version": "2.7.6"
  }
 },
 "nbformat": 4,
 "nbformat_minor": 0
}
